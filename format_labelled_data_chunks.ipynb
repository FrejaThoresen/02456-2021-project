{
 "cells": [
  {
   "cell_type": "markdown",
   "source": [
    "# Import"
   ],
   "metadata": {
    "collapsed": false,
    "pycharm": {
     "name": "#%% md\n"
    }
   }
  },
  {
   "cell_type": "code",
   "execution_count": null,
   "outputs": [],
   "source": [
    "import fpmodules as fp\n",
    "import pandas as pd\n",
    "from evex_scout import *\n",
    "from fpmodules.tools.constants import EVENTS_CACHE_PATH\n",
    "from fpmodules.fpio.raw_data import load_data_from_files\n",
    "from fpmodules.tools.dbtools import to_pdatime\n",
    "from fpmodules import BlobManager\n",
    "import matplotlib.pyplot as plt\n",
    "import fpmodules.tools as tools"
   ],
   "metadata": {
    "collapsed": false,
    "pycharm": {
     "name": "#%%\n"
    }
   }
  },
  {
   "cell_type": "markdown",
   "source": [
    "# Constants"
   ],
   "metadata": {
    "collapsed": false,
    "pycharm": {
     "name": "#%% md\n"
    }
   }
  },
  {
   "cell_type": "code",
   "execution_count": null,
   "outputs": [],
   "source": [
    "RAWDATA_CACHE_PATH = os.path.join(EVENTS_CACHE_PATH, 'RawData')\n",
    "\n",
    "SNR = 10\n",
    "window_res = 10\n",
    "step_interval = 1\n",
    "window_size = 2\n",
    "erosion_mask_length = 10\n",
    "expand_dist = 600\n",
    "hard_threshold = 5\n",
    "saturation_threshold = 30000\n",
    "\n",
    "# {1: \"C\", 2: \"B\", 3: \"A\", 4: \"D\"}\n",
    "channels = [1, 1, 2, 2, 3, 3, 4, 4]\n",
    "colors = tools.get_instrument_info()['Scout']['cmap']\n",
    "tools.get_instrument_info()"
   ],
   "metadata": {
    "collapsed": false,
    "pycharm": {
     "name": "#%%\n"
    }
   }
  },
  {
   "cell_type": "markdown",
   "source": [
    "# Get data"
   ],
   "metadata": {
    "collapsed": false,
    "pycharm": {
     "name": "#%% md\n"
    }
   }
  },
  {
   "cell_type": "code",
   "execution_count": null,
   "outputs": [],
   "source": [
    "fp.get_session(sessionid=686)"
   ],
   "metadata": {
    "collapsed": false,
    "pycharm": {
     "name": "#%%\n"
    }
   }
  },
  {
   "cell_type": "code",
   "execution_count": null,
   "outputs": [],
   "source": [
    "fp.get_session(labelled=True)"
   ],
   "metadata": {
    "collapsed": false,
    "pycharm": {
     "name": "#%%\n"
    }
   }
  },
  {
   "cell_type": "code",
   "execution_count": null,
   "outputs": [],
   "source": [
    "measurements = fp.dbquery('select * from measurement where sessionid=686')\n",
    "measurements = measurements.sort_values('TimeId')\n",
    "measurements = to_pdatime(measurements, delete=False)\n",
    "measurements.head()"
   ],
   "metadata": {
    "collapsed": false,
    "pycharm": {
     "name": "#%%\n"
    }
   }
  },
  {
   "cell_type": "code",
   "execution_count": null,
   "outputs": [],
   "source": [
    "insects = fp.get_insects(sessionid=686, all_segments=True)\n",
    "insects.head()"
   ],
   "metadata": {
    "collapsed": false,
    "pycharm": {
     "name": "#%%\n"
    }
   }
  },
  {
   "cell_type": "markdown",
   "source": [],
   "metadata": {
    "collapsed": false,
    "pycharm": {
     "name": "#%% md\n"
    }
   }
  },
  {
   "cell_type": "markdown",
   "source": [
    "# Define functions"
   ],
   "metadata": {
    "collapsed": false,
    "pycharm": {
     "name": "#%% md\n"
    }
   }
  },
  {
   "cell_type": "code",
   "execution_count": null,
   "outputs": [],
   "source": [
    "def get_start_and_stop(data, times):\n",
    "    fss = get_samplerates(times)\n",
    "    fs = int(np.median(fss))\n",
    "    data_matrix = data.copy() # transpose\n",
    "    data_matrix, medians, stds, interp = remove_rolling_mean(data_matrix.astype(int), fs, window_res=window_res, step_interval=step_interval, window_size=window_size)\n",
    "    event_mask_master = threshold(data_matrix, stds, interp, SNR=SNR, erosion_mask=np.ones(erosion_mask_length), expand_dist=expand_dist, hard_threshold=hard_threshold)\n",
    "    start_inds, stop_inds = label_events(event_mask_master)\n",
    "\n",
    "    return start_inds, stop_inds\n",
    "\n",
    "def get_seconds(event):\n",
    "    dt = event.info['Datetime']\n",
    "    seconds = int(dt.strftime('%s'))\n",
    "    return seconds"
   ],
   "metadata": {
    "collapsed": false,
    "pycharm": {
     "name": "#%%\n"
    }
   }
  },
  {
   "cell_type": "code",
   "execution_count": null,
   "outputs": [],
   "source": [
    "def create_labelled_data(blob):\n",
    "    file_list = blob_mgr.download_blobs([blob], RAWDATA_CACHE_PATH, container='scouts')\n",
    "    data, times = load_data_from_files(file_list, path, ds=1)\n",
    "    if len(data) == 0:\n",
    "        return\n",
    "\n",
    "    raw_start = pd.Timestamp(datetime.datetime.utcfromtimestamp(int(times[0])))\n",
    "    raw_end = pd.Timestamp(datetime.datetime.utcfromtimestamp(int(times[-1])))\n",
    "    print('raw_start:', raw_start)\n",
    "    print('raw_end:', raw_end)\n",
    "\n",
    "    in_range = (measurements['Datetime'] >= raw_start) & (measurements['Datetime'] <= raw_end)\n",
    "    _meas = measurements[in_range]\n",
    "\n",
    "    if len(_meas) == 0:\n",
    "        # no measurements found in time range\n",
    "        print('Found no measurements in range, continuing...')\n",
    "        return\n",
    "    print(f'Found {len(_meas)} measurements')\n",
    "\n",
    "    print('Running event extraction')\n",
    "    start_inds, stop_inds = get_start_and_stop(data, times)\n",
    "    labels = np.zeros_like(data)\n",
    "\n",
    "    if (len(start_inds) == 0) & (len(stop_inds) == 0):\n",
    "        return\n",
    "    print('len(_meas)', len(_meas))\n",
    "    for i, m_id in enumerate(_meas['Id'].tolist()):\n",
    "        if start_inds[i] > stop_inds[i]:\n",
    "            print('start lower than stop, continueing...')\n",
    "            continue\n",
    "        length =  stop_inds[i] - start_inds[i]\n",
    "\n",
    "\n",
    "        filename = blob.replace('/', '_').split('.')[0] + '_ds_5'\n",
    "        event_path = os.path.join(EVENTS_CACHE_PATH, 'RawLabelledData')\n",
    "\n",
    "        # Find insects\n",
    "        if m_id in insects['MeasurementId'].tolist():\n",
    "            _insects = insects[insects['MeasurementId'] == m_id]\n",
    "            labels = np.zeros_like(data[start_inds[i]:stop_inds[i],:])\n",
    "\n",
    "            for c in range(0,8):\n",
    "                if channels[c] in _insects['SegmentId'].tolist():\n",
    "                    labels[:,c] = 1\n",
    "            # save insect\n",
    "            with open(event_path + '/insects/' + filename +str(m_id)+ '_data.npy', 'wb') as f:\n",
    "                np.save(f, data[start_inds[i]:stop_inds[i],:])\n",
    "            with open(event_path + '/insects/' + filename + str(m_id)+'_labels.npy', 'wb') as f:\n",
    "                np.save(f, labels)\n",
    "        # save noise\n",
    "        else:\n",
    "            labels = np.zeros_like(data[start_inds[i]:stop_inds[i],:])\n",
    "            with open(event_path + '/noise/' + filename + str(m_id)+'_data.npy', 'wb') as f:\n",
    "                np.save(f, data[start_inds[i]:stop_inds[i],:])\n",
    "            with open(event_path + '/noise/' + filename + str(m_id)+'_labels.npy', 'wb') as f:\n",
    "                np.save(f, labels)\n",
    "\n",
    "        if ((i < len(_meas)-1) and (stop_inds[i] + length < len(data[:,0]))):\n",
    "            if stop_inds[i] + length < start_inds[i+1]:\n",
    "                zero_data = data[stop_inds[i]:stop_inds[i]+length,:]\n",
    "                zero_labels = np.zeros_like(zero_data)\n",
    "                with open(event_path + '/zeros/' + filename + str(m_id)+'_data.npy', 'wb') as f:\n",
    "                    np.save(f, zero_data)\n",
    "                with open(event_path + '/zeros/' + filename + str(m_id)+'_labels.npy', 'wb') as f:\n",
    "                    np.save(f, zero_labels)\n",
    "                # save labels\n",
    "\n",
    "    return data, times, labels, start_inds, stop_inds, _meas"
   ],
   "metadata": {
    "collapsed": false,
    "pycharm": {
     "name": "#%%\n"
    }
   }
  },
  {
   "cell_type": "code",
   "execution_count": null,
   "outputs": [],
   "source": [
    "path = os.path.join(EVENTS_CACHE_PATH, 'RawLabelledData/zeros')\n",
    "files = os.listdir(os.path.join(EVENTS_CACHE_PATH, 'RawLabelledData/zeros'))\n",
    "for file in files[0:6]:\n",
    "    if file.split('_')[-1] == 'data.npy':\n",
    "        data = np.load(os.path.join(path,file))\n",
    "        plt.plot(data)\n",
    "        plt.show()"
   ],
   "metadata": {
    "collapsed": false,
    "pycharm": {
     "name": "#%%\n"
    }
   }
  },
  {
   "cell_type": "markdown",
   "source": [
    "# Find blobs"
   ],
   "metadata": {
    "collapsed": false,
    "pycharm": {
     "name": "#%% md\n"
    }
   }
  },
  {
   "cell_type": "code",
   "execution_count": null,
   "outputs": [],
   "source": [
    "mac = 'dca6327d8fa8'\n",
    "path=RAWDATA_CACHE_PATH\n",
    "blob_mgr = BlobManager(configuration='rclone')"
   ],
   "metadata": {
    "collapsed": false,
    "pycharm": {
     "name": "#%%\n"
    }
   }
  },
  {
   "cell_type": "code",
   "execution_count": null,
   "outputs": [],
   "source": [
    "date = 20210330\n",
    "blob_list = blob_mgr.list_blobs(container='scouts', subdir=f\"{mac}/{str(date)}/raw/\")\n",
    "blob_list = [b for b in blob_list if b.endswith(\".raw.gz\")]\n",
    "print('Number of raw data files:', len(blob_list))"
   ],
   "metadata": {
    "collapsed": false,
    "pycharm": {
     "name": "#%%\n"
    }
   }
  },
  {
   "cell_type": "markdown",
   "source": [
    "# Test and visualize"
   ],
   "metadata": {
    "collapsed": false,
    "pycharm": {
     "name": "#%% md\n"
    }
   }
  },
  {
   "cell_type": "code",
   "execution_count": null,
   "outputs": [],
   "source": [
    "date = 20210330\n",
    "\n",
    "blob_list = blob_mgr.list_blobs(container='scouts', subdir=f\"{mac}/{str(date)}/raw/\")\n",
    "blob_list = [b for b in blob_list if b.endswith(\".raw.gz\")]\n",
    "print('Number of raw data files:', len(blob_list))"
   ],
   "metadata": {
    "collapsed": false,
    "pycharm": {
     "name": "#%%\n"
    }
   }
  },
  {
   "cell_type": "code",
   "execution_count": null,
   "outputs": [],
   "source": [
    "for blob in blob_list[75:76]:\n",
    "    data, times, labels, start_inds, stop_inds, _meas = create_labelled_data(blob)"
   ],
   "metadata": {
    "collapsed": false,
    "pycharm": {
     "name": "#%%\n"
    }
   }
  },
  {
   "cell_type": "code",
   "execution_count": null,
   "outputs": [],
   "source": [
    "for c in range(0,8):\n",
    "    plt.plot(data[start_inds[0]:stop_inds[0],c], label=str(channels[c]), color=colors[c])\n",
    "plt.legend()"
   ],
   "metadata": {
    "collapsed": false,
    "pycharm": {
     "name": "#%%\n"
    }
   }
  },
  {
   "cell_type": "code",
   "execution_count": null,
   "outputs": [],
   "source": [
    "start_inds[0]"
   ],
   "metadata": {
    "collapsed": false,
    "pycharm": {
     "name": "#%%\n"
    }
   }
  },
  {
   "cell_type": "code",
   "execution_count": null,
   "outputs": [],
   "source": [
    "stop_inds[0]"
   ],
   "metadata": {
    "collapsed": false,
    "pycharm": {
     "name": "#%%\n"
    }
   }
  },
  {
   "cell_type": "code",
   "execution_count": null,
   "outputs": [],
   "source": [
    "plt.figure(figsize=(25,5))\n",
    "for c in range(0,1):\n",
    "    plt.plot(data[1451375:1800000,c], label=str(channels[c]), color=colors[c])\n",
    "plt.legend()\n"
   ],
   "metadata": {
    "collapsed": false,
    "pycharm": {
     "name": "#%%\n"
    }
   }
  },
  {
   "cell_type": "code",
   "execution_count": null,
   "outputs": [],
   "source": [
    "fig, ax1 = plt.subplots()\n",
    "fig.set_figwidth(25)\n",
    "color = 'tab:blue'\n",
    "ax1.set_ylabel('data', color=color)\n",
    "ax1.plot(data[1451375:1453502,4], color=color)\n",
    "ax1.tick_params(axis='y', color=color)\n",
    "ax2 = ax1.twinx()\n",
    "color = 'tab:red'\n",
    "ax2.set_ylabel('labelled', color=color)\n",
    "ax2.plot(labels[1451375:1453502,4], color=color)\n",
    "ax2.tick_params(axis='y', color=color)\n",
    "plt.show()"
   ],
   "metadata": {
    "collapsed": false,
    "pycharm": {
     "name": "#%%\n"
    }
   }
  },
  {
   "cell_type": "code",
   "execution_count": null,
   "outputs": [],
   "source": [
    "start_inds[1]"
   ],
   "metadata": {
    "collapsed": false,
    "pycharm": {
     "name": "#%%\n"
    }
   }
  },
  {
   "cell_type": "code",
   "execution_count": null,
   "outputs": [],
   "source": [],
   "metadata": {
    "collapsed": false,
    "pycharm": {
     "name": "#%%\n"
    }
   }
  },
  {
   "cell_type": "code",
   "execution_count": null,
   "outputs": [],
   "source": [
    "start_inds[2]\n"
   ],
   "metadata": {
    "collapsed": false,
    "pycharm": {
     "name": "#%%\n"
    }
   }
  },
  {
   "cell_type": "code",
   "execution_count": null,
   "outputs": [],
   "source": [
    "stop_inds[1]\n"
   ],
   "metadata": {
    "collapsed": false,
    "pycharm": {
     "name": "#%%\n"
    }
   }
  },
  {
   "cell_type": "code",
   "execution_count": null,
   "outputs": [],
   "source": [
    "stop_inds[2]\n"
   ],
   "metadata": {
    "collapsed": false,
    "pycharm": {
     "name": "#%%\n"
    }
   }
  },
  {
   "cell_type": "code",
   "execution_count": null,
   "outputs": [],
   "source": [
    "fig, ax1 = plt.subplots()\n",
    "fig.set_figwidth(25)\n",
    "color = 'tab:blue'\n",
    "ax1.set_ylabel('data', color=color)\n",
    "ax1.plot(data[1462000:1484000,0], color=color)\n",
    "ax1.tick_params(axis='y', color=color)\n",
    "ax2 = ax1.twinx()\n",
    "color = 'tab:red'\n",
    "ax2.set_ylabel('labelled', color=color)\n",
    "ax2.plot(labels[1462000:1484000,0], color=color)\n",
    "ax2.tick_params(axis='y', color=color)\n",
    "plt.show()"
   ],
   "metadata": {
    "collapsed": false,
    "pycharm": {
     "name": "#%%\n"
    }
   }
  },
  {
   "cell_type": "code",
   "execution_count": null,
   "outputs": [],
   "source": [
    "plt.figure(figsize=(25,5))\n",
    "plt.plot(labels[1451375:1800000,c], label=str(channels[c]), color=colors[c])\n"
   ],
   "metadata": {
    "collapsed": false,
    "pycharm": {
     "name": "#%%\n"
    }
   }
  },
  {
   "cell_type": "code",
   "execution_count": null,
   "outputs": [],
   "source": [
    "plt.figure(figsize=(25,5))\n",
    "plt.plot(data[1451375:1800000,c], label=str(channels[c]), color=colors[c])\n"
   ],
   "metadata": {
    "collapsed": false,
    "pycharm": {
     "name": "#%%\n"
    }
   }
  },
  {
   "cell_type": "code",
   "execution_count": null,
   "outputs": [],
   "source": [
    "ax = [None]*8\n",
    "fig, ((ax[0], ax[1], ax[2], ax[3]), (ax[4], ax[5], ax[6], ax[7])) = plt.subplots(nrows=2, ncols=4, sharey=True)\n",
    "fig.set_figwidth(25)\n",
    "for c in range(0,8):\n",
    "    ax[c].plot(labels[1451375:1800000,c], label=str(channels[c]), color=colors[c])\n",
    "    ax[c].legend()\n",
    "plt.show()"
   ],
   "metadata": {
    "collapsed": false,
    "pycharm": {
     "name": "#%%\n"
    }
   }
  },
  {
   "cell_type": "code",
   "execution_count": null,
   "outputs": [],
   "source": [
    "for m_id in _meas['Id'].tolist()[0:1]:\n",
    "    event = fp.Event(m_id).fill()\n",
    "    event.plot()\n",
    "    plt.show()"
   ],
   "metadata": {
    "collapsed": false,
    "pycharm": {
     "name": "#%%\n"
    }
   }
  },
  {
   "cell_type": "markdown",
   "source": [
    "# Run for all - THIS WILL TAKE A WHILE"
   ],
   "metadata": {
    "collapsed": false,
    "pycharm": {
     "name": "#%% md\n"
    }
   }
  },
  {
   "cell_type": "code",
   "execution_count": null,
   "outputs": [],
   "source": [
    "if False:\n",
    "    for blob in blob_list:\n",
    "        create_labelled_data(blob)"
   ],
   "metadata": {
    "collapsed": false,
    "pycharm": {
     "name": "#%%\n"
    }
   }
  },
  {
   "cell_type": "markdown",
   "source": [
    "# Run for all dates - THIS WILL TAKE FOREVER"
   ],
   "metadata": {
    "collapsed": false,
    "pycharm": {
     "name": "#%% md\n"
    }
   }
  },
  {
   "cell_type": "code",
   "execution_count": null,
   "outputs": [],
   "source": [
    "if True:\n",
    "    dates = measurements['DateId'].sort_values().unique().tolist()\n",
    "    for date in dates[0:7]:\n",
    "        print(date)\n",
    "        path=RAWDATA_CACHE_PATH\n",
    "        blob_mgr = BlobManager(configuration='rclone')\n",
    "        blob_list = blob_mgr.list_blobs(container='scouts', subdir=f\"{mac}/{str(date)}/raw/\")\n",
    "        blob_list = [b for b in blob_list if b.endswith(\".raw.gz\")]\n",
    "        print('Number of raw data files:', len(blob_list))\n",
    "\n",
    "        for blob in blob_list:\n",
    "            create_labelled_data(blob)"
   ],
   "metadata": {
    "collapsed": false,
    "pycharm": {
     "name": "#%%\n"
    }
   }
  }
 ],
 "metadata": {
  "kernelspec": {
   "name": "python385jvsc74a57bd04082b4c0ff6287cfc869426458e61daf0f96e72318d7dae093de8e29c11fa2fe",
   "language": "python",
   "display_name": "Python 3.8.5 64-bit ('fp_env': conda)"
  },
  "language_info": {
   "codemirror_mode": {
    "name": "ipython",
    "version": 2
   },
   "file_extension": ".py",
   "mimetype": "text/x-python",
   "name": "python",
   "nbconvert_exporter": "python",
   "pygments_lexer": "ipython2",
   "version": "2.7.6"
  }
 },
 "nbformat": 4,
 "nbformat_minor": 0
}