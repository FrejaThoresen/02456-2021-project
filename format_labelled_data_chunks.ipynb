{
 "cells": [
  {
   "cell_type": "markdown",
   "source": [
    "# Import"
   ],
   "metadata": {
    "collapsed": false,
    "pycharm": {
     "name": "#%% md\n"
    }
   }
  },
  {
   "cell_type": "code",
   "execution_count": 1,
   "outputs": [
    {
     "name": "stdout",
     "output_type": "stream",
     "text": [
      "*** FP-modules version 2.10.13 ***\n"
     ]
    }
   ],
   "source": [
    "import fpmodules as fp\n",
    "import pandas as pd\n",
    "from evex_scout import *\n",
    "from fpmodules.tools.constants import EVENTS_CACHE_PATH\n",
    "from fpmodules.fpio.raw_data import load_data_from_files\n",
    "from fpmodules.tools.dbtools import to_pdatime\n",
    "from fpmodules import BlobManager\n",
    "import matplotlib.pyplot as plt\n",
    "import fpmodules.tools as tools"
   ],
   "metadata": {
    "collapsed": false,
    "pycharm": {
     "name": "#%%\n"
    }
   }
  },
  {
   "cell_type": "markdown",
   "source": [
    "# Constants"
   ],
   "metadata": {
    "collapsed": false,
    "pycharm": {
     "name": "#%% md\n"
    }
   }
  },
  {
   "cell_type": "code",
   "execution_count": 3,
   "outputs": [
    {
     "data": {
      "text/plain": "{'SRS': {'channels': [808, 975]},\n 'Scout': {'channels': ['970C',\n   '810C',\n   '970B',\n   '810B',\n   '970A',\n   '810A',\n   '970D',\n   '810D'],\n  'cmap': ['#0000F1',\n   '#1E90FF',\n   '#008040',\n   '#20D100',\n   '#F40000',\n   '#F78528',\n   '#481F01',\n   '#957439'],\n  'legend_img_path': 'SCOUT colour scheme skew.png'}}"
     },
     "execution_count": 3,
     "metadata": {},
     "output_type": "execute_result"
    }
   ],
   "source": [
    "RAWDATA_CACHE_PATH = os.path.join(EVENTS_CACHE_PATH, 'RawData')\n",
    "\n",
    "SNR = 10\n",
    "window_res = 10\n",
    "step_interval = 1\n",
    "window_size = 2\n",
    "erosion_mask_length = 10\n",
    "expand_dist = 600\n",
    "hard_threshold = 5\n",
    "saturation_threshold = 30000\n",
    "\n",
    "# {1: \"C\", 2: \"B\", 3: \"A\", 4: \"D\"}\n",
    "channels = [1, 1, 2, 2, 3, 3, 4, 4]\n",
    "colors = tools.get_instrument_info()['Scout']['cmap']\n",
    "tools.get_instrument_info()"
   ],
   "metadata": {
    "collapsed": false,
    "pycharm": {
     "name": "#%%\n"
    }
   }
  },
  {
   "cell_type": "markdown",
   "source": [
    "# Get data"
   ],
   "metadata": {
    "collapsed": false,
    "pycharm": {
     "name": "#%% md\n"
    }
   }
  },
  {
   "cell_type": "code",
   "execution_count": 4,
   "outputs": [
    {
     "data": {
      "text/plain": "   SessionId  StartTimeId  StartDateId  EndTimeId  EndDateId  UnitId  \\\n0        686       151747     20210330      92009   20210419      18   \n\n   SubjectCompositionId                                          Name  \\\n0                   149  Apis mellifera - Labelled - Taastrup transp.   \n\n   SubscriptionId    MacAddress Volito  \n0              15  dca6327d8fa8     20  ",
      "text/html": "<div>\n<style scoped>\n    .dataframe tbody tr th:only-of-type {\n        vertical-align: middle;\n    }\n\n    .dataframe tbody tr th {\n        vertical-align: top;\n    }\n\n    .dataframe thead th {\n        text-align: right;\n    }\n</style>\n<table border=\"1\" class=\"dataframe\">\n  <thead>\n    <tr style=\"text-align: right;\">\n      <th></th>\n      <th>SessionId</th>\n      <th>StartTimeId</th>\n      <th>StartDateId</th>\n      <th>EndTimeId</th>\n      <th>EndDateId</th>\n      <th>UnitId</th>\n      <th>SubjectCompositionId</th>\n      <th>Name</th>\n      <th>SubscriptionId</th>\n      <th>MacAddress</th>\n      <th>Volito</th>\n    </tr>\n  </thead>\n  <tbody>\n    <tr>\n      <th>0</th>\n      <td>686</td>\n      <td>151747</td>\n      <td>20210330</td>\n      <td>92009</td>\n      <td>20210419</td>\n      <td>18</td>\n      <td>149</td>\n      <td>Apis mellifera - Labelled - Taastrup transp.</td>\n      <td>15</td>\n      <td>dca6327d8fa8</td>\n      <td>20</td>\n    </tr>\n  </tbody>\n</table>\n</div>"
     },
     "execution_count": 4,
     "metadata": {},
     "output_type": "execute_result"
    }
   ],
   "source": [
    "fp.get_session(sessionid=686)"
   ],
   "metadata": {
    "collapsed": false,
    "pycharm": {
     "name": "#%%\n"
    }
   }
  },
  {
   "cell_type": "code",
   "execution_count": 5,
   "outputs": [
    {
     "data": {
      "text/plain": "     SessionId  StartTimeId  StartDateId  EndTimeId  EndDateId  UnitId  \\\n0           23       151400     20200407      84200   20200421      14   \n1           28       130000     20200522      80000   20200525      12   \n2           30       111000     20200425     110000   20200428      14   \n3           32        84600     20200508      85200   20200515      24   \n4           37       104600     20200609     100000   20200630      24   \n..         ...          ...          ...        ...        ...     ...   \n391       1381       111702     20211126       <NA>       <NA>     158   \n392       1382       113112     20211126       <NA>       <NA>      74   \n393       1384        85625     20211129       <NA>       <NA>     153   \n394       1385        85739     20211129       <NA>       <NA>      78   \n395       1387       125322     20211129       <NA>       <NA>      75   \n\n     SubjectCompositionId                                   Name  \\\n0                      24                         Pollen Beetles   \n1                      20                  Fruitfly melanogaster   \n2                      25                    Cabbage stem weevil   \n3                      26                    Cabbage seed weevil   \n4                      31                              Pod Midge   \n..                    ...                                    ...   \n391                   125      Lucilia sp. - Labelled - Taastrup   \n392                   356  Sitobion avenae - Labelled - Taastrup   \n393                   125    1 Lucilia fly - Labelled - Taastrup   \n394                   230                         In-between 50%   \n395                   230                             In-between   \n\n     SubscriptionId    MacAddress Volito  \n0                15  dca6327d908f     12  \n1                 8  dca6327d7bf8     18  \n2                15  dca6327d908f     12  \n3                15  dca6327d8fa2     23  \n4                15  dca6327d8fa2     23  \n..              ...           ...    ...  \n391              15  dca632da494a    140  \n392              15  dca6323b4edf     67  \n393              15  dca632da48e6    135  \n394              15  e45f011d5b64     71  \n395              15  dca632da48d4     68  \n\n[396 rows x 11 columns]",
      "text/html": "<div>\n<style scoped>\n    .dataframe tbody tr th:only-of-type {\n        vertical-align: middle;\n    }\n\n    .dataframe tbody tr th {\n        vertical-align: top;\n    }\n\n    .dataframe thead th {\n        text-align: right;\n    }\n</style>\n<table border=\"1\" class=\"dataframe\">\n  <thead>\n    <tr style=\"text-align: right;\">\n      <th></th>\n      <th>SessionId</th>\n      <th>StartTimeId</th>\n      <th>StartDateId</th>\n      <th>EndTimeId</th>\n      <th>EndDateId</th>\n      <th>UnitId</th>\n      <th>SubjectCompositionId</th>\n      <th>Name</th>\n      <th>SubscriptionId</th>\n      <th>MacAddress</th>\n      <th>Volito</th>\n    </tr>\n  </thead>\n  <tbody>\n    <tr>\n      <th>0</th>\n      <td>23</td>\n      <td>151400</td>\n      <td>20200407</td>\n      <td>84200</td>\n      <td>20200421</td>\n      <td>14</td>\n      <td>24</td>\n      <td>Pollen Beetles</td>\n      <td>15</td>\n      <td>dca6327d908f</td>\n      <td>12</td>\n    </tr>\n    <tr>\n      <th>1</th>\n      <td>28</td>\n      <td>130000</td>\n      <td>20200522</td>\n      <td>80000</td>\n      <td>20200525</td>\n      <td>12</td>\n      <td>20</td>\n      <td>Fruitfly melanogaster</td>\n      <td>8</td>\n      <td>dca6327d7bf8</td>\n      <td>18</td>\n    </tr>\n    <tr>\n      <th>2</th>\n      <td>30</td>\n      <td>111000</td>\n      <td>20200425</td>\n      <td>110000</td>\n      <td>20200428</td>\n      <td>14</td>\n      <td>25</td>\n      <td>Cabbage stem weevil</td>\n      <td>15</td>\n      <td>dca6327d908f</td>\n      <td>12</td>\n    </tr>\n    <tr>\n      <th>3</th>\n      <td>32</td>\n      <td>84600</td>\n      <td>20200508</td>\n      <td>85200</td>\n      <td>20200515</td>\n      <td>24</td>\n      <td>26</td>\n      <td>Cabbage seed weevil</td>\n      <td>15</td>\n      <td>dca6327d8fa2</td>\n      <td>23</td>\n    </tr>\n    <tr>\n      <th>4</th>\n      <td>37</td>\n      <td>104600</td>\n      <td>20200609</td>\n      <td>100000</td>\n      <td>20200630</td>\n      <td>24</td>\n      <td>31</td>\n      <td>Pod Midge</td>\n      <td>15</td>\n      <td>dca6327d8fa2</td>\n      <td>23</td>\n    </tr>\n    <tr>\n      <th>...</th>\n      <td>...</td>\n      <td>...</td>\n      <td>...</td>\n      <td>...</td>\n      <td>...</td>\n      <td>...</td>\n      <td>...</td>\n      <td>...</td>\n      <td>...</td>\n      <td>...</td>\n      <td>...</td>\n    </tr>\n    <tr>\n      <th>391</th>\n      <td>1381</td>\n      <td>111702</td>\n      <td>20211126</td>\n      <td>&lt;NA&gt;</td>\n      <td>&lt;NA&gt;</td>\n      <td>158</td>\n      <td>125</td>\n      <td>Lucilia sp. - Labelled - Taastrup</td>\n      <td>15</td>\n      <td>dca632da494a</td>\n      <td>140</td>\n    </tr>\n    <tr>\n      <th>392</th>\n      <td>1382</td>\n      <td>113112</td>\n      <td>20211126</td>\n      <td>&lt;NA&gt;</td>\n      <td>&lt;NA&gt;</td>\n      <td>74</td>\n      <td>356</td>\n      <td>Sitobion avenae - Labelled - Taastrup</td>\n      <td>15</td>\n      <td>dca6323b4edf</td>\n      <td>67</td>\n    </tr>\n    <tr>\n      <th>393</th>\n      <td>1384</td>\n      <td>85625</td>\n      <td>20211129</td>\n      <td>&lt;NA&gt;</td>\n      <td>&lt;NA&gt;</td>\n      <td>153</td>\n      <td>125</td>\n      <td>1 Lucilia fly - Labelled - Taastrup</td>\n      <td>15</td>\n      <td>dca632da48e6</td>\n      <td>135</td>\n    </tr>\n    <tr>\n      <th>394</th>\n      <td>1385</td>\n      <td>85739</td>\n      <td>20211129</td>\n      <td>&lt;NA&gt;</td>\n      <td>&lt;NA&gt;</td>\n      <td>78</td>\n      <td>230</td>\n      <td>In-between 50%</td>\n      <td>15</td>\n      <td>e45f011d5b64</td>\n      <td>71</td>\n    </tr>\n    <tr>\n      <th>395</th>\n      <td>1387</td>\n      <td>125322</td>\n      <td>20211129</td>\n      <td>&lt;NA&gt;</td>\n      <td>&lt;NA&gt;</td>\n      <td>75</td>\n      <td>230</td>\n      <td>In-between</td>\n      <td>15</td>\n      <td>dca632da48d4</td>\n      <td>68</td>\n    </tr>\n  </tbody>\n</table>\n<p>396 rows × 11 columns</p>\n</div>"
     },
     "execution_count": 5,
     "metadata": {},
     "output_type": "execute_result"
    }
   ],
   "source": [
    "fp.get_session(labelled=True)"
   ],
   "metadata": {
    "collapsed": false,
    "pycharm": {
     "name": "#%%\n"
    }
   }
  },
  {
   "cell_type": "code",
   "execution_count": 6,
   "outputs": [
    {
     "data": {
      "text/plain": "             Id  TimeId    DateId   MeasurementCode  UnitId  SessionId  \\\n22628  37084806      37  20210407  338cc921621f7c00      18        686   \n21552  37084824     557  20210407  6810ed6acf8ac800      18        686   \n21553  37084825     558  20210407  77da2bf1d1dd7800      18        686   \n4535   35434703     738  20210331  337f99c1e6771200      18        686   \n25819  37993474     743  20210409  1d9514966ede0700      18        686   \n\n                 Datetime  \n22628 2021-04-07 00:00:37  \n21552 2021-04-07 00:05:57  \n21553 2021-04-07 00:05:58  \n4535  2021-03-31 00:07:38  \n25819 2021-04-09 00:07:43  ",
      "text/html": "<div>\n<style scoped>\n    .dataframe tbody tr th:only-of-type {\n        vertical-align: middle;\n    }\n\n    .dataframe tbody tr th {\n        vertical-align: top;\n    }\n\n    .dataframe thead th {\n        text-align: right;\n    }\n</style>\n<table border=\"1\" class=\"dataframe\">\n  <thead>\n    <tr style=\"text-align: right;\">\n      <th></th>\n      <th>Id</th>\n      <th>TimeId</th>\n      <th>DateId</th>\n      <th>MeasurementCode</th>\n      <th>UnitId</th>\n      <th>SessionId</th>\n      <th>Datetime</th>\n    </tr>\n  </thead>\n  <tbody>\n    <tr>\n      <th>22628</th>\n      <td>37084806</td>\n      <td>37</td>\n      <td>20210407</td>\n      <td>338cc921621f7c00</td>\n      <td>18</td>\n      <td>686</td>\n      <td>2021-04-07 00:00:37</td>\n    </tr>\n    <tr>\n      <th>21552</th>\n      <td>37084824</td>\n      <td>557</td>\n      <td>20210407</td>\n      <td>6810ed6acf8ac800</td>\n      <td>18</td>\n      <td>686</td>\n      <td>2021-04-07 00:05:57</td>\n    </tr>\n    <tr>\n      <th>21553</th>\n      <td>37084825</td>\n      <td>558</td>\n      <td>20210407</td>\n      <td>77da2bf1d1dd7800</td>\n      <td>18</td>\n      <td>686</td>\n      <td>2021-04-07 00:05:58</td>\n    </tr>\n    <tr>\n      <th>4535</th>\n      <td>35434703</td>\n      <td>738</td>\n      <td>20210331</td>\n      <td>337f99c1e6771200</td>\n      <td>18</td>\n      <td>686</td>\n      <td>2021-03-31 00:07:38</td>\n    </tr>\n    <tr>\n      <th>25819</th>\n      <td>37993474</td>\n      <td>743</td>\n      <td>20210409</td>\n      <td>1d9514966ede0700</td>\n      <td>18</td>\n      <td>686</td>\n      <td>2021-04-09 00:07:43</td>\n    </tr>\n  </tbody>\n</table>\n</div>"
     },
     "execution_count": 6,
     "metadata": {},
     "output_type": "execute_result"
    }
   ],
   "source": [
    "measurements = fp.dbquery('select * from measurement where sessionid=686')\n",
    "measurements = measurements.sort_values('TimeId')\n",
    "measurements = to_pdatime(measurements, delete=False)\n",
    "measurements.head()"
   ],
   "metadata": {
    "collapsed": false,
    "pycharm": {
     "name": "#%%\n"
    }
   }
  },
  {
   "cell_type": "code",
   "execution_count": 7,
   "outputs": [
    {
     "data": {
      "text/plain": "   Classification  SegmentId  ClassifierId  MeasurementId   MeasurementCode  \\\n0             1.0          2            31       35421615  2405079e1e82fe00   \n1             1.0          4            31       35421616  64c9fd183fbf1c00   \n2             1.0          2            31       35421616  64c9fd183fbf1c00   \n3             1.0          3            31       35421616  64c9fd183fbf1c00   \n4             1.0          1            31       35421616  64c9fd183fbf1c00   \n\n   SessionId  UnitId            Datetime  \n0        686      18 2021-03-30 16:03:15  \n1        686      18 2021-03-30 16:03:20  \n2        686      18 2021-03-30 16:03:20  \n3        686      18 2021-03-30 16:03:20  \n4        686      18 2021-03-30 16:03:20  ",
      "text/html": "<div>\n<style scoped>\n    .dataframe tbody tr th:only-of-type {\n        vertical-align: middle;\n    }\n\n    .dataframe tbody tr th {\n        vertical-align: top;\n    }\n\n    .dataframe thead th {\n        text-align: right;\n    }\n</style>\n<table border=\"1\" class=\"dataframe\">\n  <thead>\n    <tr style=\"text-align: right;\">\n      <th></th>\n      <th>Classification</th>\n      <th>SegmentId</th>\n      <th>ClassifierId</th>\n      <th>MeasurementId</th>\n      <th>MeasurementCode</th>\n      <th>SessionId</th>\n      <th>UnitId</th>\n      <th>Datetime</th>\n    </tr>\n  </thead>\n  <tbody>\n    <tr>\n      <th>0</th>\n      <td>1.0</td>\n      <td>2</td>\n      <td>31</td>\n      <td>35421615</td>\n      <td>2405079e1e82fe00</td>\n      <td>686</td>\n      <td>18</td>\n      <td>2021-03-30 16:03:15</td>\n    </tr>\n    <tr>\n      <th>1</th>\n      <td>1.0</td>\n      <td>4</td>\n      <td>31</td>\n      <td>35421616</td>\n      <td>64c9fd183fbf1c00</td>\n      <td>686</td>\n      <td>18</td>\n      <td>2021-03-30 16:03:20</td>\n    </tr>\n    <tr>\n      <th>2</th>\n      <td>1.0</td>\n      <td>2</td>\n      <td>31</td>\n      <td>35421616</td>\n      <td>64c9fd183fbf1c00</td>\n      <td>686</td>\n      <td>18</td>\n      <td>2021-03-30 16:03:20</td>\n    </tr>\n    <tr>\n      <th>3</th>\n      <td>1.0</td>\n      <td>3</td>\n      <td>31</td>\n      <td>35421616</td>\n      <td>64c9fd183fbf1c00</td>\n      <td>686</td>\n      <td>18</td>\n      <td>2021-03-30 16:03:20</td>\n    </tr>\n    <tr>\n      <th>4</th>\n      <td>1.0</td>\n      <td>1</td>\n      <td>31</td>\n      <td>35421616</td>\n      <td>64c9fd183fbf1c00</td>\n      <td>686</td>\n      <td>18</td>\n      <td>2021-03-30 16:03:20</td>\n    </tr>\n  </tbody>\n</table>\n</div>"
     },
     "execution_count": 7,
     "metadata": {},
     "output_type": "execute_result"
    }
   ],
   "source": [
    "insects = fp.get_insects(sessionid=686, all_segments=True)\n",
    "insects.head()"
   ],
   "metadata": {
    "collapsed": false,
    "pycharm": {
     "name": "#%%\n"
    }
   }
  },
  {
   "cell_type": "markdown",
   "source": [],
   "metadata": {
    "collapsed": false,
    "pycharm": {
     "name": "#%% md\n"
    }
   }
  },
  {
   "cell_type": "markdown",
   "source": [
    "# Define functions"
   ],
   "metadata": {
    "collapsed": false,
    "pycharm": {
     "name": "#%% md\n"
    }
   }
  },
  {
   "cell_type": "code",
   "execution_count": 8,
   "outputs": [],
   "source": [
    "def get_start_and_stop(data, times):\n",
    "    fss = get_samplerates(times)\n",
    "    fs = int(np.median(fss))\n",
    "    data_matrix = data.copy() # transpose\n",
    "    data_matrix, medians, stds, interp = remove_rolling_mean(data_matrix.astype(int), fs, window_res=window_res, step_interval=step_interval, window_size=window_size)\n",
    "    event_mask_master = threshold(data_matrix, stds, interp, SNR=SNR, erosion_mask=np.ones(erosion_mask_length), expand_dist=expand_dist, hard_threshold=hard_threshold)\n",
    "    start_inds, stop_inds = label_events(event_mask_master)\n",
    "\n",
    "    return start_inds, stop_inds\n",
    "\n",
    "def get_seconds(event):\n",
    "    dt = event.info['Datetime']\n",
    "    seconds = int(dt.strftime('%s'))\n",
    "    return seconds"
   ],
   "metadata": {
    "collapsed": false,
    "pycharm": {
     "name": "#%%\n"
    }
   }
  },
  {
   "cell_type": "code",
   "execution_count": 9,
   "outputs": [],
   "source": [
    "def create_labelled_data(blob):\n",
    "    file_list = blob_mgr.download_blobs([blob], RAWDATA_CACHE_PATH, container='scouts')\n",
    "    data, times = load_data_from_files(file_list, path, ds=1)\n",
    "    if len(data) == 0:\n",
    "        return\n",
    "\n",
    "    raw_start = pd.Timestamp(datetime.datetime.utcfromtimestamp(int(times[0])))\n",
    "    raw_end = pd.Timestamp(datetime.datetime.utcfromtimestamp(int(times[-1])))\n",
    "    print('raw_start:', raw_start)\n",
    "    print('raw_end:', raw_end)\n",
    "\n",
    "    in_range = (measurements['Datetime'] >= raw_start) & (measurements['Datetime'] <= raw_end)\n",
    "    _meas = measurements[in_range]\n",
    "\n",
    "    if len(_meas) == 0:\n",
    "        # no measurements found in time range\n",
    "        print('Found no measurements in range, continuing...')\n",
    "        return\n",
    "    print(f'Found {len(_meas)} measurements')\n",
    "\n",
    "    print('Running event extraction')\n",
    "    start_inds, stop_inds = get_start_and_stop(data, times)\n",
    "    labels = np.zeros_like(data)\n",
    "\n",
    "    if (len(start_inds) == 0) & (len(stop_inds) == 0):\n",
    "        return\n",
    "    print('len(_meas)', len(_meas))\n",
    "    for i, m_id in enumerate(_meas['Id'].tolist()):\n",
    "        if start_inds[i] > stop_inds[i]:\n",
    "            print('start lower than stop, continueing...')\n",
    "            continue\n",
    "        length =  stop_inds[i] - start_inds[i]\n",
    "\n",
    "\n",
    "        filename = blob.replace('/', '_').split('.')[0] + '_ds_5'\n",
    "        event_path = os.path.join(EVENTS_CACHE_PATH, 'RawLabelledData')\n",
    "\n",
    "        # Find insects\n",
    "        if m_id in insects['MeasurementId'].tolist():\n",
    "            _insects = insects[insects['MeasurementId'] == m_id]\n",
    "            labels = np.zeros_like(data[start_inds[i]:stop_inds[i],:])\n",
    "\n",
    "            for c in range(0,8):\n",
    "                if channels[c] in _insects['SegmentId'].tolist():\n",
    "                    labels[:,c] = 1\n",
    "            # save insect\n",
    "            with open(event_path + '/insects/' + filename +str(m_id)+ '_data.npy', 'wb') as f:\n",
    "                np.save(f, data[start_inds[i]:stop_inds[i],:])\n",
    "            with open(event_path + '/insects/' + filename + str(m_id)+'_labels.npy', 'wb') as f:\n",
    "                np.save(f, labels)\n",
    "        # save noise\n",
    "        else:\n",
    "            labels = np.zeros_like(data[start_inds[i]:stop_inds[i],:])\n",
    "            with open(event_path + '/noise/' + filename + str(m_id)+'_data.npy', 'wb') as f:\n",
    "                np.save(f, data[start_inds[i]:stop_inds[i],:])\n",
    "            with open(event_path + '/noise/' + filename + str(m_id)+'_labels.npy', 'wb') as f:\n",
    "                np.save(f, labels)\n",
    "\n",
    "        if ((i < len(_meas)-1) and (stop_inds[i] + length < len(data[:,0]))):\n",
    "            if stop_inds[i] + length < start_inds[i+1]:\n",
    "                zero_data = data[stop_inds[i]:stop_inds[i]+length,:]\n",
    "                zero_labels = np.zeros_like(zero_data)\n",
    "                with open(event_path + '/zeros/' + filename + str(m_id)+'_data.npy', 'wb') as f:\n",
    "                    np.save(f, zero_data)\n",
    "                with open(event_path + '/zeros/' + filename + str(m_id)+'_labels.npy', 'wb') as f:\n",
    "                    np.save(f, zero_labels)\n",
    "                # save labels\n",
    "\n",
    "    return data, times, labels, start_inds, stop_inds, _meas"
   ],
   "metadata": {
    "collapsed": false,
    "pycharm": {
     "name": "#%%\n"
    }
   }
  },
  {
   "cell_type": "code",
   "execution_count": 3,
   "outputs": [
    {
     "ename": "ValueError",
     "evalue": "Dataframe is empty, and can not be formatted.",
     "output_type": "error",
     "traceback": [
      "\u001B[0;31m---------------------------------------------------------------------------\u001B[0m",
      "\u001B[0;31mValueError\u001B[0m                                Traceback (most recent call last)",
      "\u001B[0;32m<ipython-input-3-16d5da356293>\u001B[0m in \u001B[0;36m<module>\u001B[0;34m\u001B[0m\n\u001B[0;32m----> 1\u001B[0;31m \u001B[0mfp\u001B[0m\u001B[0;34m.\u001B[0m\u001B[0mget_peripheral\u001B[0m\u001B[0;34m(\u001B[0m\u001B[0msessionid\u001B[0m\u001B[0;34m=\u001B[0m\u001B[0;36m1233\u001B[0m\u001B[0;34m,\u001B[0m \u001B[0mper_id\u001B[0m\u001B[0;34m=\u001B[0m\u001B[0;36m46\u001B[0m\u001B[0;34m)\u001B[0m\u001B[0;34m\u001B[0m\u001B[0;34m\u001B[0m\u001B[0m\n\u001B[0m",
      "\u001B[0;32m~/anaconda3/envs/fp_env/lib/python3.8/site-packages/fpmodules/fpio/peripherals.py\u001B[0m in \u001B[0;36mget_peripheral\u001B[0;34m(per_id, formatting, verbose, **filters)\u001B[0m\n\u001B[1;32m    109\u001B[0m \u001B[0;34m\u001B[0m\u001B[0m\n\u001B[1;32m    110\u001B[0m     \u001B[0;32mif\u001B[0m \u001B[0mlen\u001B[0m\u001B[0;34m(\u001B[0m\u001B[0mdf\u001B[0m\u001B[0;34m)\u001B[0m \u001B[0;34m==\u001B[0m \u001B[0;36m0\u001B[0m \u001B[0;32mand\u001B[0m \u001B[0mformatting\u001B[0m\u001B[0;34m:\u001B[0m\u001B[0;34m\u001B[0m\u001B[0;34m\u001B[0m\u001B[0m\n\u001B[0;32m--> 111\u001B[0;31m         \u001B[0;32mraise\u001B[0m \u001B[0mValueError\u001B[0m\u001B[0;34m(\u001B[0m\u001B[0;34m'Dataframe is empty, and can not be formatted.'\u001B[0m\u001B[0;34m)\u001B[0m\u001B[0;34m\u001B[0m\u001B[0;34m\u001B[0m\u001B[0m\n\u001B[0m\u001B[1;32m    112\u001B[0m \u001B[0;34m\u001B[0m\u001B[0m\n\u001B[1;32m    113\u001B[0m     \u001B[0;32mif\u001B[0m \u001B[0mformatting\u001B[0m\u001B[0;34m:\u001B[0m\u001B[0;34m\u001B[0m\u001B[0;34m\u001B[0m\u001B[0m\n",
      "\u001B[0;31mValueError\u001B[0m: Dataframe is empty, and can not be formatted."
     ]
    }
   ],
   "source": [
    "fp.get_peripheral(sessionid=1233, per_id=46)"
   ],
   "metadata": {
    "collapsed": false,
    "pycharm": {
     "name": "#%%\n"
    }
   }
  },
  {
   "cell_type": "code",
   "execution_count": 17,
   "outputs": [
    {
     "data": {
      "text/plain": "<Figure size 432x288 with 1 Axes>",
      "image/png": "[encoded data removed]"
     },
     "metadata": {
      "needs_background": "light"
     },
     "output_type": "display_data"
    },
    {
     "data": {
      "text/plain": "<Figure size 432x288 with 1 Axes>",
      "image/png": "[encoded data removed]"
     },
     "metadata": {
      "needs_background": "light"
     },
     "output_type": "display_data"
    }
   ],
   "source": [
    "path = os.path.join(EVENTS_CACHE_PATH, 'RawLabelledData/noise')\n",
    "files = os.listdir(os.path.join(EVENTS_CACHE_PATH, 'RawLabelledData/noise'))\n",
    "for file in files[0:6]:\n",
    "    if file.split('_')[-1] == 'data.npy':\n",
    "        data = np.load(os.path.join(path,file))\n",
    "        plt.plot(data)\n",
    "        plt.show()"
   ],
   "metadata": {
    "collapsed": false,
    "pycharm": {
     "name": "#%%\n"
    }
   }
  },
  {
   "cell_type": "markdown",
   "source": [
    "# Find blobs"
   ],
   "metadata": {
    "collapsed": false,
    "pycharm": {
     "name": "#%% md\n"
    }
   }
  },
  {
   "cell_type": "code",
   "execution_count": 10,
   "outputs": [],
   "source": [
    "mac = 'dca6327d8fa8'\n",
    "path=RAWDATA_CACHE_PATH\n",
    "blob_mgr = BlobManager(configuration='rclone')"
   ],
   "metadata": {
    "collapsed": false,
    "pycharm": {
     "name": "#%%\n"
    }
   }
  },
  {
   "cell_type": "code",
   "execution_count": 11,
   "outputs": [
    {
     "name": "stdout",
     "output_type": "stream",
     "text": [
      "Number of raw data files: 115\n"
     ]
    }
   ],
   "source": [
    "date = 20210330\n",
    "blob_list = blob_mgr.list_blobs(container='scouts', subdir=f\"{mac}/{str(date)}/raw/\")\n",
    "blob_list = [b for b in blob_list if b.endswith(\".raw.gz\")]\n",
    "print('Number of raw data files:', len(blob_list))"
   ],
   "metadata": {
    "collapsed": false,
    "pycharm": {
     "name": "#%%\n"
    }
   }
  },
  {
   "cell_type": "markdown",
   "source": [
    "# Test and visualize"
   ],
   "metadata": {
    "collapsed": false,
    "pycharm": {
     "name": "#%% md\n"
    }
   }
  },
  {
   "cell_type": "code",
   "execution_count": 12,
   "outputs": [
    {
     "name": "stdout",
     "output_type": "stream",
     "text": [
      "Number of raw data files: 115\n"
     ]
    }
   ],
   "source": [
    "date = 20210330\n",
    "\n",
    "blob_list = blob_mgr.list_blobs(container='scouts', subdir=f\"{mac}/{str(date)}/raw/\")\n",
    "blob_list = [b for b in blob_list if b.endswith(\".raw.gz\")]\n",
    "print('Number of raw data files:', len(blob_list))"
   ],
   "metadata": {
    "collapsed": false,
    "pycharm": {
     "name": "#%%\n"
    }
   }
  },
  {
   "cell_type": "code",
   "execution_count": 13,
   "outputs": [
    {
     "name": "stdout",
     "output_type": "stream",
     "text": [
      "Some files exist, not downloading again.\n",
      "100% complete      [==================================================]\n",
      "\n",
      "Reading dca6327d8fa8_20210330_raw_20210330T152242Z.raw.gz 1 of 1\n",
      "raw_start: 2021-03-30 15:23:08\n",
      "raw_end: 2021-03-30 15:33:03\n",
      "Found 65 measurements\n",
      "Running event extraction\n",
      "len(_meas) 65\n"
     ]
    }
   ],
   "source": [
    "for blob in blob_list[75:76]:\n",
    "    data, times, labels, start_inds, stop_inds, _meas = create_labelled_data(blob)"
   ],
   "metadata": {
    "collapsed": false,
    "pycharm": {
     "name": "#%%\n"
    }
   }
  },
  {
   "cell_type": "code",
   "execution_count": null,
   "outputs": [],
   "source": [
    "for c in range(0,8):\n",
    "    plt.plot(data[start_inds[0]:stop_inds[0],c], label=str(channels[c]), color=colors[c])\n",
    "plt.legend()"
   ],
   "metadata": {
    "collapsed": false,
    "pycharm": {
     "name": "#%%\n"
    }
   }
  },
  {
   "cell_type": "code",
   "execution_count": null,
   "outputs": [],
   "source": [
    "start_inds[0]"
   ],
   "metadata": {
    "collapsed": false,
    "pycharm": {
     "name": "#%%\n"
    }
   }
  },
  {
   "cell_type": "code",
   "execution_count": null,
   "outputs": [],
   "source": [
    "stop_inds[0]"
   ],
   "metadata": {
    "collapsed": false,
    "pycharm": {
     "name": "#%%\n"
    }
   }
  },
  {
   "cell_type": "code",
   "execution_count": null,
   "outputs": [],
   "source": [
    "plt.figure(figsize=(25,5))\n",
    "for c in range(0,1):\n",
    "    plt.plot(data[1451375:1800000,c], label=str(channels[c]), color=colors[c])\n",
    "plt.legend()\n"
   ],
   "metadata": {
    "collapsed": false,
    "pycharm": {
     "name": "#%%\n"
    }
   }
  },
  {
   "cell_type": "code",
   "execution_count": null,
   "outputs": [],
   "source": [
    "fig, ax1 = plt.subplots()\n",
    "fig.set_figwidth(25)\n",
    "color = 'tab:blue'\n",
    "ax1.set_ylabel('data', color=color)\n",
    "ax1.plot(data[1451375:1453502,4], color=color)\n",
    "ax1.tick_params(axis='y', color=color)\n",
    "ax2 = ax1.twinx()\n",
    "color = 'tab:red'\n",
    "ax2.set_ylabel('labelled', color=color)\n",
    "ax2.plot(labels[1451375:1453502,4], color=color)\n",
    "ax2.tick_params(axis='y', color=color)\n",
    "plt.show()"
   ],
   "metadata": {
    "collapsed": false,
    "pycharm": {
     "name": "#%%\n"
    }
   }
  },
  {
   "cell_type": "code",
   "execution_count": null,
   "outputs": [],
   "source": [
    "start_inds[1]"
   ],
   "metadata": {
    "collapsed": false,
    "pycharm": {
     "name": "#%%\n"
    }
   }
  },
  {
   "cell_type": "code",
   "execution_count": null,
   "outputs": [],
   "source": [],
   "metadata": {
    "collapsed": false,
    "pycharm": {
     "name": "#%%\n"
    }
   }
  },
  {
   "cell_type": "code",
   "execution_count": null,
   "outputs": [],
   "source": [
    "start_inds[2]\n"
   ],
   "metadata": {
    "collapsed": false,
    "pycharm": {
     "name": "#%%\n"
    }
   }
  },
  {
   "cell_type": "code",
   "execution_count": null,
   "outputs": [],
   "source": [
    "stop_inds[1]\n"
   ],
   "metadata": {
    "collapsed": false,
    "pycharm": {
     "name": "#%%\n"
    }
   }
  },
  {
   "cell_type": "code",
   "execution_count": null,
   "outputs": [],
   "source": [
    "stop_inds[2]\n"
   ],
   "metadata": {
    "collapsed": false,
    "pycharm": {
     "name": "#%%\n"
    }
   }
  },
  {
   "cell_type": "code",
   "execution_count": null,
   "outputs": [],
   "source": [
    "fig, ax1 = plt.subplots()\n",
    "fig.set_figwidth(25)\n",
    "color = 'tab:blue'\n",
    "ax1.set_ylabel('data', color=color)\n",
    "ax1.plot(data[1462000:1484000,0], color=color)\n",
    "ax1.tick_params(axis='y', color=color)\n",
    "ax2 = ax1.twinx()\n",
    "color = 'tab:red'\n",
    "ax2.set_ylabel('labelled', color=color)\n",
    "ax2.plot(labels[1462000:1484000,0], color=color)\n",
    "ax2.tick_params(axis='y', color=color)\n",
    "plt.show()"
   ],
   "metadata": {
    "collapsed": false,
    "pycharm": {
     "name": "#%%\n"
    }
   }
  },
  {
   "cell_type": "code",
   "execution_count": null,
   "outputs": [],
   "source": [
    "plt.figure(figsize=(25,5))\n",
    "plt.plot(labels[1451375:1800000,c], label=str(channels[c]), color=colors[c])\n"
   ],
   "metadata": {
    "collapsed": false,
    "pycharm": {
     "name": "#%%\n"
    }
   }
  },
  {
   "cell_type": "code",
   "execution_count": null,
   "outputs": [],
   "source": [
    "plt.figure(figsize=(25,5))\n",
    "plt.plot(data[1451375:1800000,c], label=str(channels[c]), color=colors[c])\n"
   ],
   "metadata": {
    "collapsed": false,
    "pycharm": {
     "name": "#%%\n"
    }
   }
  },
  {
   "cell_type": "code",
   "execution_count": null,
   "outputs": [],
   "source": [
    "ax = [None]*8\n",
    "fig, ((ax[0], ax[1], ax[2], ax[3]), (ax[4], ax[5], ax[6], ax[7])) = plt.subplots(nrows=2, ncols=4, sharey=True)\n",
    "fig.set_figwidth(25)\n",
    "for c in range(0,8):\n",
    "    ax[c].plot(labels[1451375:1800000,c], label=str(channels[c]), color=colors[c])\n",
    "    ax[c].legend()\n",
    "plt.show()"
   ],
   "metadata": {
    "collapsed": false,
    "pycharm": {
     "name": "#%%\n"
    }
   }
  },
  {
   "cell_type": "code",
   "execution_count": null,
   "outputs": [],
   "source": [
    "for m_id in _meas['Id'].tolist()[0:1]:\n",
    "    event = fp.Event(m_id).fill()\n",
    "    event.plot()\n",
    "    plt.show()"
   ],
   "metadata": {
    "collapsed": false,
    "pycharm": {
     "name": "#%%\n"
    }
   }
  },
  {
   "cell_type": "markdown",
   "source": [
    "# Run for all - THIS WILL TAKE A WHILE"
   ],
   "metadata": {
    "collapsed": false,
    "pycharm": {
     "name": "#%% md\n"
    }
   }
  },
  {
   "cell_type": "code",
   "execution_count": null,
   "outputs": [],
   "source": [
    "if False:\n",
    "    for blob in blob_list:\n",
    "        create_labelled_data(blob)"
   ],
   "metadata": {
    "collapsed": false,
    "pycharm": {
     "name": "#%%\n"
    }
   }
  },
  {
   "cell_type": "markdown",
   "source": [
    "# Run for all dates - THIS WILL TAKE FOREVER"
   ],
   "metadata": {
    "collapsed": false,
    "pycharm": {
     "name": "#%% md\n"
    }
   }
  },
  {
   "cell_type": "code",
   "execution_count": null,
   "outputs": [],
   "source": [
    "if True:\n",
    "    dates = measurements['DateId'].sort_values().unique().tolist()\n",
    "    for date in dates[0:7]:\n",
    "        print(date)\n",
    "        path=RAWDATA_CACHE_PATH\n",
    "        blob_mgr = BlobManager(configuration='rclone')\n",
    "        blob_list = blob_mgr.list_blobs(container='scouts', subdir=f\"{mac}/{str(date)}/raw/\")\n",
    "        blob_list = [b for b in blob_list if b.endswith(\".raw.gz\")]\n",
    "        print('Number of raw data files:', len(blob_list))\n",
    "\n",
    "        for blob in blob_list:\n",
    "            create_labelled_data(blob)"
   ],
   "metadata": {
    "collapsed": false,
    "pycharm": {
     "name": "#%%\n"
    }
   }
  }
 ],
 "metadata": {
  "kernelspec": {
   "name": "python385jvsc74a57bd04082b4c0ff6287cfc869426458e61daf0f96e72318d7dae093de8e29c11fa2fe",
   "language": "python",
   "display_name": "Python 3.8.5 64-bit ('fp_env': conda)"
  },
  "language_info": {
   "codemirror_mode": {
    "name": "ipython",
    "version": 2
   },
   "file_extension": ".py",
   "mimetype": "text/x-python",
   "name": "python",
   "nbconvert_exporter": "python",
   "pygments_lexer": "ipython2",
   "version": "2.7.6"
  }
 },
 "nbformat": 4,
 "nbformat_minor": 0
}