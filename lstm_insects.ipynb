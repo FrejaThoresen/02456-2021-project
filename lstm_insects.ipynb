{
 "cells": [
  {
   "cell_type": "markdown",
   "id": "e17b0a6d-76f3-4e3d-aa0b-92c2d65b0fee",
   "metadata": {
    "tags": []
   },
   "source": [
    "# How to apply LSTM using PyTorch\n",
    "https://cnvrg.io/pytorch-lstm/"
   ]
  },
  {
   "cell_type": "markdown",
   "id": "d011c513-97d6-4fcf-a197-66afdf9a2081",
   "metadata": {
    "jp-MarkdownHeadingCollapsed": true,
    "tags": []
   },
   "source": [
    "Import"
   ]
  },
  {
   "cell_type": "code",
   "execution_count": 1,
   "id": "afd7da1e-110d-41ce-824a-db83e46c5a13",
   "metadata": {},
   "outputs": [],
   "source": [
    "import numpy as np\n",
    "import pandas as pd\n",
    "import matplotlib.pyplot as plt"
   ]
  },
  {
   "cell_type": "markdown",
   "id": "e522b47c-4d54-4804-aca9-975fde0dcc5b",
   "metadata": {},
   "source": [
    "Load data"
   ]
  },
  {
   "cell_type": "code",
   "execution_count": 2,
   "id": "b2a0283d-1c2a-4b44-8c39-5ee72408a0b7",
   "metadata": {},
   "outputs": [
    {
     "data": {
      "text/html": [
       "<div>\n",
       "<style scoped>\n",
       "    .dataframe tbody tr th:only-of-type {\n",
       "        vertical-align: middle;\n",
       "    }\n",
       "\n",
       "    .dataframe tbody tr th {\n",
       "        vertical-align: top;\n",
       "    }\n",
       "\n",
       "    .dataframe thead th {\n",
       "        text-align: right;\n",
       "    }\n",
       "</style>\n",
       "<table border=\"1\" class=\"dataframe\">\n",
       "  <thead>\n",
       "    <tr style=\"text-align: right;\">\n",
       "      <th></th>\n",
       "      <th># Sensor</th>\n",
       "      <th>Insect</th>\n",
       "    </tr>\n",
       "  </thead>\n",
       "  <tbody>\n",
       "    <tr>\n",
       "      <th>0</th>\n",
       "      <td>1443</td>\n",
       "      <td>0</td>\n",
       "    </tr>\n",
       "    <tr>\n",
       "      <th>1</th>\n",
       "      <td>1443</td>\n",
       "      <td>0</td>\n",
       "    </tr>\n",
       "    <tr>\n",
       "      <th>2</th>\n",
       "      <td>1443</td>\n",
       "      <td>0</td>\n",
       "    </tr>\n",
       "    <tr>\n",
       "      <th>3</th>\n",
       "      <td>1442</td>\n",
       "      <td>0</td>\n",
       "    </tr>\n",
       "    <tr>\n",
       "      <th>4</th>\n",
       "      <td>1443</td>\n",
       "      <td>0</td>\n",
       "    </tr>\n",
       "  </tbody>\n",
       "</table>\n",
       "</div>"
      ],
      "text/plain": [
       "   # Sensor  Insect\n",
       "0      1443       0\n",
       "1      1443       0\n",
       "2      1443       0\n",
       "3      1442       0\n",
       "4      1443       0"
      ]
     },
     "execution_count": 2,
     "metadata": {},
     "output_type": "execute_result"
    }
   ],
   "source": [
    "df = pd.read_csv('insect_data.csv')\n",
    "df.head(5)"
   ]
  },
  {
   "cell_type": "code",
   "execution_count": 3,
   "id": "d06932f0-8a94-4b34-be9d-df300100476f",
   "metadata": {},
   "outputs": [
    {
     "data": {
      "text/plain": [
       "array([<AxesSubplot:>], dtype=object)"
      ]
     },
     "execution_count": 3,
     "metadata": {},
     "output_type": "execute_result"
    },
    {
     "data": {
      "image/png": "[encoded data removed]",
      "text/plain": [
       "<Figure size 432x288 with 2 Axes>"
      ]
     },
     "metadata": {},
     "output_type": "display_data"
    }
   ],
   "source": [
    "plt.style.use('ggplot')\n",
    "fig, axes = plt.subplots(nrows=2, ncols=1)\n",
    "#plt.figure\n",
    "#plt.subplot()\n",
    "df['# Sensor'].plot(ax=axes[0], subplots=True, title='Sensor')\n",
    "#plt.subplot()\n",
    "df['Insect'].plot(subplots=True, title='Insect')"
   ]
  },
  {
   "cell_type": "markdown",
   "id": "a7e08d06-85df-42e2-90f7-62c43f7dfd09",
   "metadata": {},
   "source": [
    "Data-preprocessing. Get the data and the labels separate from a single dataframe."
   ]
  },
  {
   "cell_type": "code",
   "execution_count": 4,
   "id": "a335cce7-5ab7-45cd-af13-80814e0756f6",
   "metadata": {},
   "outputs": [],
   "source": [
    "X = df.iloc[:, :-1]\n",
    "y = df.iloc[:, 1:2]"
   ]
  },
  {
   "cell_type": "code",
   "execution_count": 5,
   "id": "837a12cc-0d65-468e-b162-83b164bce579",
   "metadata": {},
   "outputs": [
    {
     "data": {
      "text/html": [
       "<div>\n",
       "<style scoped>\n",
       "    .dataframe tbody tr th:only-of-type {\n",
       "        vertical-align: middle;\n",
       "    }\n",
       "\n",
       "    .dataframe tbody tr th {\n",
       "        vertical-align: top;\n",
       "    }\n",
       "\n",
       "    .dataframe thead th {\n",
       "        text-align: right;\n",
       "    }\n",
       "</style>\n",
       "<table border=\"1\" class=\"dataframe\">\n",
       "  <thead>\n",
       "    <tr style=\"text-align: right;\">\n",
       "      <th></th>\n",
       "      <th># Sensor</th>\n",
       "    </tr>\n",
       "  </thead>\n",
       "  <tbody>\n",
       "    <tr>\n",
       "      <th>0</th>\n",
       "      <td>1443</td>\n",
       "    </tr>\n",
       "    <tr>\n",
       "      <th>1</th>\n",
       "      <td>1443</td>\n",
       "    </tr>\n",
       "    <tr>\n",
       "      <th>2</th>\n",
       "      <td>1443</td>\n",
       "    </tr>\n",
       "    <tr>\n",
       "      <th>3</th>\n",
       "      <td>1442</td>\n",
       "    </tr>\n",
       "    <tr>\n",
       "      <th>4</th>\n",
       "      <td>1443</td>\n",
       "    </tr>\n",
       "  </tbody>\n",
       "</table>\n",
       "</div>"
      ],
      "text/plain": [
       "   # Sensor\n",
       "0      1443\n",
       "1      1443\n",
       "2      1443\n",
       "3      1442\n",
       "4      1443"
      ]
     },
     "execution_count": 5,
     "metadata": {},
     "output_type": "execute_result"
    }
   ],
   "source": [
    "X.head(5)"
   ]
  },
  {
   "cell_type": "code",
   "execution_count": 6,
   "id": "79e71fbe-36f1-4c73-90d0-fc0da13db6c5",
   "metadata": {},
   "outputs": [
    {
     "data": {
      "text/html": [
       "<div>\n",
       "<style scoped>\n",
       "    .dataframe tbody tr th:only-of-type {\n",
       "        vertical-align: middle;\n",
       "    }\n",
       "\n",
       "    .dataframe tbody tr th {\n",
       "        vertical-align: top;\n",
       "    }\n",
       "\n",
       "    .dataframe thead th {\n",
       "        text-align: right;\n",
       "    }\n",
       "</style>\n",
       "<table border=\"1\" class=\"dataframe\">\n",
       "  <thead>\n",
       "    <tr style=\"text-align: right;\">\n",
       "      <th></th>\n",
       "      <th>Insect</th>\n",
       "    </tr>\n",
       "  </thead>\n",
       "  <tbody>\n",
       "    <tr>\n",
       "      <th>0</th>\n",
       "      <td>0</td>\n",
       "    </tr>\n",
       "    <tr>\n",
       "      <th>1</th>\n",
       "      <td>0</td>\n",
       "    </tr>\n",
       "    <tr>\n",
       "      <th>2</th>\n",
       "      <td>0</td>\n",
       "    </tr>\n",
       "    <tr>\n",
       "      <th>3</th>\n",
       "      <td>0</td>\n",
       "    </tr>\n",
       "    <tr>\n",
       "      <th>4</th>\n",
       "      <td>0</td>\n",
       "    </tr>\n",
       "  </tbody>\n",
       "</table>\n",
       "</div>"
      ],
      "text/plain": [
       "   Insect\n",
       "0       0\n",
       "1       0\n",
       "2       0\n",
       "3       0\n",
       "4       0"
      ]
     },
     "execution_count": 6,
     "metadata": {},
     "output_type": "execute_result"
    }
   ],
   "source": [
    "y.head(5)"
   ]
  },
  {
   "cell_type": "markdown",
   "id": "5a543f24-acfd-455e-bda8-2ba050248b8d",
   "metadata": {},
   "source": [
    "Transform and scale output"
   ]
  },
  {
   "cell_type": "code",
   "execution_count": 7,
   "id": "ef4c094b-01c8-4b7d-a007-f1a3511ba97d",
   "metadata": {},
   "outputs": [],
   "source": [
    "from sklearn.preprocessing import StandardScaler, MinMaxScaler\n",
    "mm = MinMaxScaler()\n",
    "ss = StandardScaler()\n",
    "\n",
    "X_ss = ss.fit_transform(X)\n",
    "y_mm = mm.fit_transform(y)"
   ]
  },
  {
   "cell_type": "markdown",
   "id": "1a76b3fe-de85-425e-a5f0-edd82f80d1a3",
   "metadata": {},
   "source": [
    "Define training and test data"
   ]
  },
  {
   "cell_type": "code",
   "execution_count": 8,
   "id": "a9728e5b-fa90-4c9b-9816-3c08bf7ce2c9",
   "metadata": {},
   "outputs": [],
   "source": [
    "#first 200 for training\n",
    "n_train = 55000\n",
    "\n",
    "X_train = X_ss[:n_train, :]\n",
    "X_test = X_ss[n_train:, :]\n",
    "\n",
    "y_train = y_mm[:n_train, :]\n",
    "y_test = y_mm[n_train:, :] "
   ]
  },
  {
   "cell_type": "code",
   "execution_count": 9,
   "id": "65fccdd6-41bb-43df-bd61-486fbf82e039",
   "metadata": {},
   "outputs": [
    {
     "name": "stdout",
     "output_type": "stream",
     "text": [
      "Training Shape (55000, 1) (55000, 1)\n",
      "Testing Shape (28000, 1) (28000, 1)\n"
     ]
    }
   ],
   "source": [
    "print(\"Training Shape\", X_train.shape, y_train.shape)\n",
    "print(\"Testing Shape\", X_test.shape, y_test.shape) "
   ]
  },
  {
   "cell_type": "markdown",
   "id": "3a7654aa-71bf-48a7-a726-ac6fb03a0d73",
   "metadata": {},
   "source": [
    "Import pytorch"
   ]
  },
  {
   "cell_type": "code",
   "execution_count": 10,
   "id": "561a5713-2572-4d9b-b786-478a054a2009",
   "metadata": {},
   "outputs": [],
   "source": [
    "import torch #pytorch\n",
    "import torch.nn as nn\n",
    "from torch.autograd import Variable"
   ]
  },
  {
   "cell_type": "markdown",
   "id": "cf79c269-825f-4ea9-9585-ccfcbf9a07d3",
   "metadata": {},
   "source": [
    "Convert numpy arrays to tensors and variables"
   ]
  },
  {
   "cell_type": "code",
   "execution_count": 11,
   "id": "1058abec-16b0-4258-84c7-89335051e795",
   "metadata": {},
   "outputs": [],
   "source": [
    "X_train_tensors = Variable(torch.Tensor(X_train))\n",
    "X_test_tensors = Variable(torch.Tensor(X_test))\n",
    "\n",
    "y_train_tensors = Variable(torch.Tensor(y_train))\n",
    "y_test_tensors = Variable(torch.Tensor(y_test))"
   ]
  },
  {
   "cell_type": "markdown",
   "id": "109a3ce7-9014-48ad-b61d-b5814f026089",
   "metadata": {},
   "source": [
    "Prepare input for LSTM"
   ]
  },
  {
   "cell_type": "code",
   "execution_count": 12,
   "id": "3c8a2c16-98a2-4570-be9f-5ff3aab7c04d",
   "metadata": {},
   "outputs": [],
   "source": [
    "#reshaping to rows, timestamps, features\n",
    "\n",
    "X_train_tensors_final = torch.reshape(X_train_tensors,   (X_train_tensors.shape[0], 1, X_train_tensors.shape[1]))\n",
    "X_test_tensors_final = torch.reshape(X_test_tensors,  (X_test_tensors.shape[0], 1, X_test_tensors.shape[1])) "
   ]
  },
  {
   "cell_type": "code",
   "execution_count": 13,
   "id": "bd697ed9-f224-4e78-a8bc-9da88c90bae3",
   "metadata": {},
   "outputs": [
    {
     "name": "stdout",
     "output_type": "stream",
     "text": [
      "Training Shape torch.Size([55000, 1, 1]) torch.Size([55000, 1])\n",
      "Testing Shape torch.Size([28000, 1, 1]) torch.Size([28000, 1])\n"
     ]
    }
   ],
   "source": [
    "print(\"Training Shape\", X_train_tensors_final.shape, y_train_tensors.shape)\n",
    "print(\"Testing Shape\", X_test_tensors_final.shape, y_test_tensors.shape)"
   ]
  },
  {
   "cell_type": "markdown",
   "id": "db0ec1d0-7d18-49c4-b535-1cf5bd710ab3",
   "metadata": {},
   "source": [
    "# Define model"
   ]
  },
  {
   "cell_type": "code",
   "execution_count": 14,
   "id": "8305b386-a235-4030-9b49-cd36959768cc",
   "metadata": {},
   "outputs": [],
   "source": [
    "class LSTM1(nn.Module):\n",
    "    def __init__(self, num_classes, input_size, hidden_size, num_layers, seq_length):\n",
    "        super(LSTM1, self).__init__()\n",
    "        self.num_classes = num_classes #number of classes\n",
    "        self.num_layers = num_layers #number of layers\n",
    "        self.input_size = input_size #input size\n",
    "        self.hidden_size = hidden_size #hidden state\n",
    "        self.seq_length = seq_length #sequence length\n",
    "\n",
    "        self.lstm = nn.LSTM(input_size=input_size, hidden_size=hidden_size,\n",
    "                          num_layers=num_layers, batch_first=True) #lstm\n",
    "        self.fc_1 =  nn.Linear(hidden_size, 128) #fully connected 1\n",
    "        self.fc = nn.Linear(128, num_classes) #fully connected last layer\n",
    "\n",
    "        self.relu = nn.ReLU()\n",
    "    \n",
    "    def forward(self,x):\n",
    "        h_0 = Variable(torch.zeros(self.num_layers, x.size(0), self.hidden_size)) #hidden state\n",
    "        c_0 = Variable(torch.zeros(self.num_layers, x.size(0), self.hidden_size)) #internal state\n",
    "        # Propagate input through LSTM\n",
    "        output, (hn, cn) = self.lstm(x, (h_0, c_0)) #lstm with input, hidden, and internal state\n",
    "        hn = hn.view(-1, self.hidden_size) #reshaping the data for Dense layer next\n",
    "        out = self.relu(hn)\n",
    "        out = self.fc_1(out) #first Dense\n",
    "        out = self.relu(out) #relu\n",
    "        out = self.fc(out) #Final Output\n",
    "        return out"
   ]
  },
  {
   "cell_type": "markdown",
   "id": "a9acabf4-99dc-4b4c-a65b-834f9ae9e4f7",
   "metadata": {},
   "source": [
    "Hyper parameters"
   ]
  },
  {
   "cell_type": "code",
   "execution_count": 15,
   "id": "a45ec70d-622a-46b6-8252-99c60249d309",
   "metadata": {},
   "outputs": [],
   "source": [
    "num_epochs = 500 #1000 epochs\n",
    "learning_rate = 0.001 #0.001 lr\n",
    "\n",
    "input_size = 1 #number of features\n",
    "hidden_size = 40 #number of features in hidden state\n",
    "num_layers = 1 #number of stacked lstm layers\n",
    "\n",
    "num_classes = 1 #number of output classes"
   ]
  },
  {
   "cell_type": "markdown",
   "id": "97753243-616e-4c55-be2d-ef0586931a85",
   "metadata": {},
   "source": [
    " Instantiate the class LSTM1 object"
   ]
  },
  {
   "cell_type": "code",
   "execution_count": 16,
   "id": "ae8f9f2d-388d-4cf9-91a7-bd20c0577926",
   "metadata": {},
   "outputs": [],
   "source": [
    "lstm1 = LSTM1(num_classes, input_size, hidden_size, num_layers, X_train_tensors_final.shape[1]) #our lstm class "
   ]
  },
  {
   "cell_type": "code",
   "execution_count": 17,
   "id": "5a7b9a89-02b7-4aba-9a57-e2c45a23e3f6",
   "metadata": {},
   "outputs": [
    {
     "name": "stdout",
     "output_type": "stream",
     "text": [
      "LSTM1(\n",
      "  (lstm): LSTM(1, 40, batch_first=True)\n",
      "  (fc_1): Linear(in_features=40, out_features=128, bias=True)\n",
      "  (fc): Linear(in_features=128, out_features=1, bias=True)\n",
      "  (relu): ReLU()\n",
      ")\n"
     ]
    }
   ],
   "source": [
    "print(lstm1)"
   ]
  },
  {
   "cell_type": "markdown",
   "id": "38b1105e-b80e-4d22-8f84-52082347205b",
   "metadata": {},
   "source": [
    "Loss function and optimizer"
   ]
  },
  {
   "cell_type": "code",
   "execution_count": 18,
   "id": "64a8e622-4d88-49b3-ae37-2e231d8b32fa",
   "metadata": {},
   "outputs": [],
   "source": [
    "criterion = torch.nn.MSELoss()    # mean-squared error for regression\n",
    "optimizer = torch.optim.Adam(lstm1.parameters(), lr=learning_rate)"
   ]
  },
  {
   "cell_type": "markdown",
   "id": "60b2df0a-ea50-47e3-9f11-4a9ddeb35953",
   "metadata": {},
   "source": [
    "# Train the model"
   ]
  },
  {
   "cell_type": "code",
   "execution_count": 19,
   "id": "6ab454a5-1235-4504-92f0-04632aaae55c",
   "metadata": {},
   "outputs": [
    {
     "name": "stdout",
     "output_type": "stream",
     "text": [
      "Epoch: 0, loss: 0.01793\n",
      "Epoch: 100, loss: 0.00699\n",
      "Epoch: 200, loss: 0.00688\n",
      "Epoch: 300, loss: 0.00670\n",
      "Epoch: 400, loss: 0.00630\n"
     ]
    }
   ],
   "source": [
    "for epoch in range(num_epochs):\n",
    "  outputs = lstm1.forward(X_train_tensors_final) #forward pass\n",
    "  optimizer.zero_grad() #caluclate the gradient, manually setting to 0\n",
    " \n",
    "  # obtain the loss function\n",
    "  loss = criterion(outputs, y_train_tensors)\n",
    " \n",
    "  loss.backward() #calculates the loss of the loss function\n",
    " \n",
    "  optimizer.step() #improve from loss, i.e backprop\n",
    "  if epoch % 100 == 0:\n",
    "    print(\"Epoch: %d, loss: %1.5f\" % (epoch, loss.item()))"
   ]
  },
  {
   "cell_type": "markdown",
   "id": "197123a2-9898-448a-9f63-798481c0a298",
   "metadata": {},
   "source": [
    "# Run the model"
   ]
  },
  {
   "cell_type": "markdown",
   "id": "0fc7e160-fd51-44bd-a320-fd401a28397a",
   "metadata": {},
   "source": [
    "Convert data"
   ]
  },
  {
   "cell_type": "code",
   "execution_count": 20,
   "id": "b2432156-454b-4916-919f-7e13abadc22c",
   "metadata": {},
   "outputs": [],
   "source": [
    "df_X_ss = ss.transform(df.iloc[:, :-1]) #old transformers\n",
    "df_y_mm = mm.transform(df.iloc[:, -1:]) #old transformers\n",
    "\n",
    "df_X_ss = Variable(torch.Tensor(df_X_ss)) #converting to Tensors\n",
    "df_y_mm = Variable(torch.Tensor(df_y_mm))\n",
    "#reshaping the dataset\n",
    "df_X_ss = torch.reshape(df_X_ss, (df_X_ss.shape[0], 1, df_X_ss.shape[1]))"
   ]
  },
  {
   "cell_type": "markdown",
   "id": "20529b73-6472-4748-a35c-66cc4d3a0a3d",
   "metadata": {},
   "source": [
    "Show predictions"
   ]
  },
  {
   "cell_type": "code",
   "execution_count": 21,
   "id": "09449e88-217c-491c-965d-a785019172e7",
   "metadata": {},
   "outputs": [
    {
     "data": {
      "image/png": "[encoded data removed]",
      "text/plain": [
       "<Figure size 720x432 with 1 Axes>"
      ]
     },
     "metadata": {},
     "output_type": "display_data"
    }
   ],
   "source": [
    "train_predict = lstm1(df_X_ss)#forward pass\n",
    "data_predict = train_predict.data.numpy() #numpy conversion\n",
    "dataY_plot = df_y_mm.data.numpy()\n",
    "\n",
    "data_predict = mm.inverse_transform(data_predict) #reverse transformation\n",
    "dataY_plot = mm.inverse_transform(dataY_plot)\n",
    "plt.figure(figsize=(10,6)) #plotting\n",
    "plt.axvline(x=n_train, c='r', linestyle='--') #size of the training set\n",
    "\n",
    "plt.plot(dataY_plot, label='Actual Data') #actual plot\n",
    "plt.plot(data_predict, label='Predicted Data') #predicted plot\n",
    "plt.title('Time-Series Prediction')\n",
    "plt.legend()\n",
    "plt.show()"
   ]
  },
  {
   "cell_type": "markdown",
   "id": "65072ec0-b420-44a2-811a-91cdcd8ec208",
   "metadata": {},
   "source": [
    "Real event test"
   ]
  },
  {
   "cell_type": "code",
   "execution_count": 22,
   "id": "918364ac-d70d-4482-b6a9-a3b0d5c3d0b0",
   "metadata": {},
   "outputs": [
    {
     "data": {
      "image/png": "[encoded data removed]",
      "text/plain": [
       "<Figure size 720x432 with 1 Axes>"
      ]
     },
     "metadata": {},
     "output_type": "display_data"
    }
   ],
   "source": [
    "x_start=59000\n",
    "x_end=60500\n",
    "plt.figure(figsize=(10,6)) #plotting\n",
    "plt.plot(X_ss[x_start:x_end], label='Sensor') #actual plot\n",
    "plt.plot(dataY_plot[x_start:x_end], label='Labelled Data') #actual plot\n",
    "plt.plot(data_predict[x_start:x_end], label='Predicted Data') #predicted plot\n",
    "plt.title('Time-Series Prediction')\n",
    "plt.legend()\n",
    "plt.show()"
   ]
  },
  {
   "cell_type": "markdown",
   "id": "79b53911-6563-4044-9749-1b0be4eeb553",
   "metadata": {},
   "source": [
    "Fake event test"
   ]
  },
  {
   "cell_type": "code",
   "execution_count": 23,
   "id": "64a05cef-5406-49d4-ad21-a1cf58e68189",
   "metadata": {},
   "outputs": [
    {
     "data": {
      "image/png": "[encoded data removed]",
      "text/plain": [
       "<Figure size 720x432 with 1 Axes>"
      ]
     },
     "metadata": {},
     "output_type": "display_data"
    }
   ],
   "source": [
    "x_start=71000\n",
    "x_end=72500\n",
    "plt.figure(figsize=(10,6)) #plotting\n",
    "plt.plot(X_ss[x_start:x_end], label='Sensor') #actual plot\n",
    "plt.plot(dataY_plot[x_start:x_end], label='Labelled Data') #actual plot\n",
    "plt.plot(data_predict[x_start:x_end], label='Predicted Data') #predicted plot\n",
    "plt.title('Time-Series Prediction')\n",
    "plt.legend()\n",
    "plt.show()"
   ]
  },
  {
   "cell_type": "code",
   "execution_count": null,
   "id": "3e4efb52-42cd-43a4-aced-54d912160bc0",
   "metadata": {},
   "outputs": [],
   "source": []
  }
 ],
 "metadata": {
  "kernelspec": {
   "display_name": "Python 3 (ipykernel)",
   "language": "python",
   "name": "python3"
  },
  "language_info": {
   "codemirror_mode": {
    "name": "ipython",
    "version": 3
   },
   "file_extension": ".py",
   "mimetype": "text/x-python",
   "name": "python",
   "nbconvert_exporter": "python",
   "pygments_lexer": "ipython3",
   "version": "3.9.7"
  }
 },
 "nbformat": 4,
 "nbformat_minor": 5
}
