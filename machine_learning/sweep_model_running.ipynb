{
 "cells": [
  {
   "cell_type": "code",
   "execution_count": null,
   "metadata": {
    "collapsed": true,
    "pycharm": {
     "is_executing": true
    }
   },
   "outputs": [
    {
     "name": "stderr",
     "output_type": "stream",
     "text": [
      "\u001B[34m\u001B[1mwandb\u001B[0m: Currently logged in as: \u001B[33mfreja-thoresen\u001B[0m (use `wandb login --relogin` to force relogin)\n"
     ]
    },
    {
     "data": {
      "text/plain": "<IPython.core.display.HTML object>",
      "text/html": "\n                    Syncing run <strong><a href=\"https://wandb.ai/freja-thoresen/dtu-course/runs/38qxz9v5\" target=\"_blank\">major-sun-257</a></strong> to <a href=\"https://wandb.ai/freja-thoresen/dtu-course\" target=\"_blank\">Weights & Biases</a> (<a href=\"https://docs.wandb.com/integrations/jupyter.html\" target=\"_blank\">docs</a>).<br/>\n\n                "
     },
     "metadata": {},
     "output_type": "display_data"
    },
    {
     "name": "stderr",
     "output_type": "stream",
     "text": [
      "\u001B[34m\u001B[1mwandb\u001B[0m: \u001B[33mWARNING\u001B[0m Calling wandb.login() after wandb.init() has no effect.\n",
      "\u001B[34m\u001B[1mwandb\u001B[0m: \u001B[33mWARNING\u001B[0m Calling wandb.login() after wandb.init() has no effect.\n"
     ]
    },
    {
     "name": "stdout",
     "output_type": "stream",
     "text": [
      "Create sweep with ID: o1kyjfhc\n",
      "Sweep URL: https://wandb.ai/freja-thoresen/dtu-course/sweeps/o1kyjfhc\n"
     ]
    },
    {
     "name": "stderr",
     "output_type": "stream",
     "text": [
      "\u001B[34m\u001B[1mwandb\u001B[0m: Agent Starting Run: vjy1rn6q with config:\n",
      "\u001B[34m\u001B[1mwandb\u001B[0m: \tepochs: 40\n",
      "\u001B[34m\u001B[1mwandb\u001B[0m: \tinput_size: 1\n",
      "\u001B[34m\u001B[1mwandb\u001B[0m: \tlearning_rate: 0.0002\n",
      "\u001B[34m\u001B[1mwandb\u001B[0m: \tlinear_dropout: 0.2\n",
      "\u001B[34m\u001B[1mwandb\u001B[0m: \tlinear_hidden_size: 20\n",
      "\u001B[34m\u001B[1mwandb\u001B[0m: \tlstm_dropbout: 0.2\n",
      "\u001B[34m\u001B[1mwandb\u001B[0m: \tlstm_hidden_size: 20\n",
      "\u001B[34m\u001B[1mwandb\u001B[0m: \tno_batches: 100\n",
      "\u001B[34m\u001B[1mwandb\u001B[0m: \tno_files: 100\n",
      "\u001B[34m\u001B[1mwandb\u001B[0m: \tnum_classes: 1\n",
      "\u001B[34m\u001B[1mwandb\u001B[0m: \tnum_layers: 2\n",
      "\u001B[34m\u001B[1mwandb\u001B[0m: \tsequence_length: 10\n"
     ]
    },
    {
     "data": {
      "text/plain": "<IPython.core.display.HTML object>",
      "text/html": "\n                    Syncing run <strong><a href=\"https://wandb.ai/freja-thoresen/dtu-course/runs/vjy1rn6q\" target=\"_blank\">bright-sweep-1</a></strong> to <a href=\"https://wandb.ai/freja-thoresen/dtu-course\" target=\"_blank\">Weights & Biases</a> (<a href=\"https://docs.wandb.com/integrations/jupyter.html\" target=\"_blank\">docs</a>).<br/>\nSweep page: <a href=\"https://wandb.ai/freja-thoresen/dtu-course/sweeps/o1kyjfhc\" target=\"_blank\">https://wandb.ai/freja-thoresen/dtu-course/sweeps/o1kyjfhc</a><br/>\n\n                "
     },
     "metadata": {},
     "output_type": "display_data"
    },
    {
     "name": "stdout",
     "output_type": "stream",
     "text": [
      "training files 80\n",
      "validation files 10\n",
      "test files 10\n"
     ]
    },
    {
     "data": {
      "text/plain": "<IPython.core.display.HTML object>",
      "text/html": "<br/>Waiting for W&B process to finish, PID 19271... <strong style=\"color:green\">(success).</strong>"
     },
     "metadata": {},
     "output_type": "display_data"
    },
    {
     "data": {
      "text/plain": "VBox(children=(Label(value=' 0.00MB of 0.00MB uploaded (0.00MB deduped)\\r'), FloatProgress(value=1.0, max=1.0)…",
      "application/vnd.jupyter.widget-view+json": {
       "version_major": 2,
       "version_minor": 0,
       "model_id": "4eec26660e794c24b006dca2d410cf38"
      }
     },
     "metadata": {},
     "output_type": "display_data"
    },
    {
     "data": {
      "text/plain": "<IPython.core.display.HTML object>",
      "text/html": "<style>\n    table.wandb td:nth-child(1) { padding: 0 10px; text-align: right }\n    .wandb-row { display: flex; flex-direction: row; flex-wrap: wrap; width: 100% }\n    .wandb-col { display: flex; flex-direction: column; flex-basis: 100%; flex: 1; padding: 10px; }\n    </style>\n<div class=\"wandb-row\"><div class=\"wandb-col\">\n<h3>Run history:</h3><br/><table class=\"wandb\"><tr><td>epoch</td><td>▁▁▁▂▂▂▂▂▂▃▃▃▃▃▄▄▄▄▄▄▅▅▅▅▅▅▆▆▆▆▆▇▇▇▇▇▇███</td></tr><tr><td>training_acc</td><td>▁▂▅▅▆▆▆▆▆▇▇▇▇▇▇▇▇▇▇▇▇▇██████████████████</td></tr><tr><td>training_loss</td><td>█▆▄▄▄▃▃▃▃▃▃▃▂▂▂▂▂▂▂▂▂▂▂▂▂▁▁▁▁▁▁▁▁▁▁▁▁▁▁▁</td></tr><tr><td>validation_acc</td><td>▁▇██████████████████████████████████████</td></tr><tr><td>validation_loss</td><td>█▃▂▂▂▁▁▁▁▁▂▁▁▁▁▁▁▂▂▂▂▂▂▂▂▁▁▁▁▁▁▁▁▁▁▁▁▁▁▁</td></tr></table><br/></div><div class=\"wandb-col\">\n<h3>Run summary:</h3><br/><table class=\"wandb\"><tr><td>epoch</td><td>39</td></tr><tr><td>training_acc</td><td>0.95262</td></tr><tr><td>training_loss</td><td>0.15738</td></tr><tr><td>validation_acc</td><td>0.91838</td></tr><tr><td>validation_loss</td><td>0.37024</td></tr></table>\n</div></div>\nSynced 6 W&B file(s), 0 media file(s), 0 artifact file(s) and 0 other file(s)\n<br/>Synced <strong style=\"color:#cdcd00\">bright-sweep-1</strong>: <a href=\"https://wandb.ai/freja-thoresen/dtu-course/runs/vjy1rn6q\" target=\"_blank\">https://wandb.ai/freja-thoresen/dtu-course/runs/vjy1rn6q</a><br/>\nFind logs at: <code>./wandb/run-20211226_192851-vjy1rn6q/logs</code><br/>\n"
     },
     "metadata": {},
     "output_type": "display_data"
    },
    {
     "name": "stderr",
     "output_type": "stream",
     "text": [
      "\u001B[34m\u001B[1mwandb\u001B[0m: Agent Starting Run: gbxa1syj with config:\n",
      "\u001B[34m\u001B[1mwandb\u001B[0m: \tepochs: 40\n",
      "\u001B[34m\u001B[1mwandb\u001B[0m: \tinput_size: 1\n",
      "\u001B[34m\u001B[1mwandb\u001B[0m: \tlearning_rate: 0.0002\n",
      "\u001B[34m\u001B[1mwandb\u001B[0m: \tlinear_dropout: 0.2\n",
      "\u001B[34m\u001B[1mwandb\u001B[0m: \tlinear_hidden_size: 20\n",
      "\u001B[34m\u001B[1mwandb\u001B[0m: \tlstm_dropbout: 0.2\n",
      "\u001B[34m\u001B[1mwandb\u001B[0m: \tlstm_hidden_size: 20\n",
      "\u001B[34m\u001B[1mwandb\u001B[0m: \tno_batches: 100\n",
      "\u001B[34m\u001B[1mwandb\u001B[0m: \tno_files: 100\n",
      "\u001B[34m\u001B[1mwandb\u001B[0m: \tnum_classes: 1\n",
      "\u001B[34m\u001B[1mwandb\u001B[0m: \tnum_layers: 3\n",
      "\u001B[34m\u001B[1mwandb\u001B[0m: \tsequence_length: 10\n"
     ]
    },
    {
     "data": {
      "text/plain": "<IPython.core.display.HTML object>",
      "text/html": "\n                    Syncing run <strong><a href=\"https://wandb.ai/freja-thoresen/dtu-course/runs/gbxa1syj\" target=\"_blank\">azure-sweep-2</a></strong> to <a href=\"https://wandb.ai/freja-thoresen/dtu-course\" target=\"_blank\">Weights & Biases</a> (<a href=\"https://docs.wandb.com/integrations/jupyter.html\" target=\"_blank\">docs</a>).<br/>\nSweep page: <a href=\"https://wandb.ai/freja-thoresen/dtu-course/sweeps/o1kyjfhc\" target=\"_blank\">https://wandb.ai/freja-thoresen/dtu-course/sweeps/o1kyjfhc</a><br/>\n\n                "
     },
     "metadata": {},
     "output_type": "display_data"
    },
    {
     "name": "stdout",
     "output_type": "stream",
     "text": [
      "training files 80\n",
      "validation files 10\n",
      "test files 10\n"
     ]
    },
    {
     "data": {
      "text/plain": "<IPython.core.display.HTML object>",
      "text/html": "<br/>Waiting for W&B process to finish, PID 19786... <strong style=\"color:green\">(success).</strong>"
     },
     "metadata": {},
     "output_type": "display_data"
    },
    {
     "data": {
      "text/plain": "VBox(children=(Label(value=' 0.00MB of 0.00MB uploaded (0.00MB deduped)\\r'), FloatProgress(value=1.0, max=1.0)…",
      "application/vnd.jupyter.widget-view+json": {
       "version_major": 2,
       "version_minor": 0,
       "model_id": "099d43572815483a9a17a42de970f6db"
      }
     },
     "metadata": {},
     "output_type": "display_data"
    },
    {
     "data": {
      "text/plain": "<IPython.core.display.HTML object>",
      "text/html": "<style>\n    table.wandb td:nth-child(1) { padding: 0 10px; text-align: right }\n    .wandb-row { display: flex; flex-direction: row; flex-wrap: wrap; width: 100% }\n    .wandb-col { display: flex; flex-direction: column; flex-basis: 100%; flex: 1; padding: 10px; }\n    </style>\n<div class=\"wandb-row\"><div class=\"wandb-col\">\n<h3>Run history:</h3><br/><table class=\"wandb\"><tr><td>epoch</td><td>▁▁▁▂▂▂▂▂▂▃▃▃▃▃▄▄▄▄▄▄▅▅▅▅▅▅▆▆▆▆▆▇▇▇▇▇▇███</td></tr><tr><td>training_acc</td><td>▁▂▃▅▅▅▆▆▆▆▇▇▇▇▇▇▇███████████████████████</td></tr><tr><td>training_loss</td><td>█▇▆▄▄▄▃▃▃▃▃▂▂▂▂▂▂▂▂▂▂▂▁▁▁▁▁▁▁▁▁▁▁▁▁▁▁▁▁▁</td></tr><tr><td>validation_acc</td><td>▁▇▇▇████████████████████████████████████</td></tr><tr><td>validation_loss</td><td>█▅▄▃▃▂▂▁▁▂▁▁▁▂▁▁▁▁▁▁▁▁▁▁▁▁▁▁▁▁▁▁▁▁▁▁▁▁▁▁</td></tr></table><br/></div><div class=\"wandb-col\">\n<h3>Run summary:</h3><br/><table class=\"wandb\"><tr><td>epoch</td><td>39</td></tr><tr><td>training_acc</td><td>0.9432</td></tr><tr><td>training_loss</td><td>0.18434</td></tr><tr><td>validation_acc</td><td>0.93405</td></tr><tr><td>validation_loss</td><td>0.25797</td></tr></table>\n</div></div>\nSynced 6 W&B file(s), 0 media file(s), 0 artifact file(s) and 0 other file(s)\n<br/>Synced <strong style=\"color:#cdcd00\">azure-sweep-2</strong>: <a href=\"https://wandb.ai/freja-thoresen/dtu-course/runs/gbxa1syj\" target=\"_blank\">https://wandb.ai/freja-thoresen/dtu-course/runs/gbxa1syj</a><br/>\nFind logs at: <code>./wandb/run-20211226_201001-gbxa1syj/logs</code><br/>\n"
     },
     "metadata": {},
     "output_type": "display_data"
    },
    {
     "name": "stderr",
     "output_type": "stream",
     "text": [
      "\u001B[34m\u001B[1mwandb\u001B[0m: Agent Starting Run: 34qkomwg with config:\n",
      "\u001B[34m\u001B[1mwandb\u001B[0m: \tepochs: 40\n",
      "\u001B[34m\u001B[1mwandb\u001B[0m: \tinput_size: 1\n",
      "\u001B[34m\u001B[1mwandb\u001B[0m: \tlearning_rate: 0.0002\n",
      "\u001B[34m\u001B[1mwandb\u001B[0m: \tlinear_dropout: 0.2\n",
      "\u001B[34m\u001B[1mwandb\u001B[0m: \tlinear_hidden_size: 20\n",
      "\u001B[34m\u001B[1mwandb\u001B[0m: \tlstm_dropbout: 0.2\n",
      "\u001B[34m\u001B[1mwandb\u001B[0m: \tlstm_hidden_size: 40\n",
      "\u001B[34m\u001B[1mwandb\u001B[0m: \tno_batches: 100\n",
      "\u001B[34m\u001B[1mwandb\u001B[0m: \tno_files: 100\n",
      "\u001B[34m\u001B[1mwandb\u001B[0m: \tnum_classes: 1\n",
      "\u001B[34m\u001B[1mwandb\u001B[0m: \tnum_layers: 2\n",
      "\u001B[34m\u001B[1mwandb\u001B[0m: \tsequence_length: 10\n"
     ]
    },
    {
     "data": {
      "text/plain": "<IPython.core.display.HTML object>",
      "text/html": "\n                    Syncing run <strong><a href=\"https://wandb.ai/freja-thoresen/dtu-course/runs/34qkomwg\" target=\"_blank\">zany-sweep-3</a></strong> to <a href=\"https://wandb.ai/freja-thoresen/dtu-course\" target=\"_blank\">Weights & Biases</a> (<a href=\"https://docs.wandb.com/integrations/jupyter.html\" target=\"_blank\">docs</a>).<br/>\nSweep page: <a href=\"https://wandb.ai/freja-thoresen/dtu-course/sweeps/o1kyjfhc\" target=\"_blank\">https://wandb.ai/freja-thoresen/dtu-course/sweeps/o1kyjfhc</a><br/>\n\n                "
     },
     "metadata": {},
     "output_type": "display_data"
    },
    {
     "name": "stdout",
     "output_type": "stream",
     "text": [
      "training files 80\n",
      "validation files 10\n",
      "test files 10\n"
     ]
    },
    {
     "data": {
      "text/plain": "<IPython.core.display.HTML object>",
      "text/html": "<br/>Waiting for W&B process to finish, PID 20401... <strong style=\"color:green\">(success).</strong>"
     },
     "metadata": {},
     "output_type": "display_data"
    },
    {
     "data": {
      "text/plain": "VBox(children=(Label(value=' 0.00MB of 0.00MB uploaded (0.00MB deduped)\\r'), FloatProgress(value=1.0, max=1.0)…",
      "application/vnd.jupyter.widget-view+json": {
       "version_major": 2,
       "version_minor": 0,
       "model_id": "be4d6e1fe88e4417b55d00af015cdb6b"
      }
     },
     "metadata": {},
     "output_type": "display_data"
    },
    {
     "data": {
      "text/plain": "<IPython.core.display.HTML object>",
      "text/html": "<style>\n    table.wandb td:nth-child(1) { padding: 0 10px; text-align: right }\n    .wandb-row { display: flex; flex-direction: row; flex-wrap: wrap; width: 100% }\n    .wandb-col { display: flex; flex-direction: column; flex-basis: 100%; flex: 1; padding: 10px; }\n    </style>\n<div class=\"wandb-row\"><div class=\"wandb-col\">\n<h3>Run history:</h3><br/><table class=\"wandb\"><tr><td>epoch</td><td>▁▁▁▂▂▂▂▂▂▃▃▃▃▃▄▄▄▄▄▄▅▅▅▅▅▅▆▆▆▆▆▇▇▇▇▇▇███</td></tr><tr><td>training_acc</td><td>▁▄▅▆▆▆▇▇▇▇▇▇▇▇▇▇▇███████████████████████</td></tr><tr><td>training_loss</td><td>█▅▄▄▃▃▃▂▃▂▂▂▂▂▂▂▂▂▂▂▂▂▁▁▁▁▁▁▁▁▁▁▁▁▁▁▁▁▁▁</td></tr><tr><td>validation_acc</td><td>▁▇███████▆███▇█▇█████▇████▇█▆▇██▆▇▇▇▇▇▇▇</td></tr><tr><td>validation_loss</td><td>█▄▃▂▂▂▂▂▂▄▁▂▁▄▂▃▂▂▁▁▃▄▁▁▂▃▄▂▄▃▃▂▄▄▄▃▄▄▃▃</td></tr></table><br/></div><div class=\"wandb-col\">\n<h3>Run summary:</h3><br/><table class=\"wandb\"><tr><td>epoch</td><td>39</td></tr><tr><td>training_acc</td><td>0.94607</td></tr><tr><td>training_loss</td><td>0.17685</td></tr><tr><td>validation_acc</td><td>0.83516</td></tr><tr><td>validation_loss</td><td>0.37238</td></tr></table>\n</div></div>\nSynced 6 W&B file(s), 0 media file(s), 0 artifact file(s) and 0 other file(s)\n<br/>Synced <strong style=\"color:#cdcd00\">zany-sweep-3</strong>: <a href=\"https://wandb.ai/freja-thoresen/dtu-course/runs/34qkomwg\" target=\"_blank\">https://wandb.ai/freja-thoresen/dtu-course/runs/34qkomwg</a><br/>\nFind logs at: <code>./wandb/run-20211226_210033-34qkomwg/logs</code><br/>\n"
     },
     "metadata": {},
     "output_type": "display_data"
    },
    {
     "name": "stderr",
     "output_type": "stream",
     "text": [
      "\u001B[34m\u001B[1mwandb\u001B[0m: Agent Starting Run: ptjp0eln with config:\n",
      "\u001B[34m\u001B[1mwandb\u001B[0m: \tepochs: 40\n",
      "\u001B[34m\u001B[1mwandb\u001B[0m: \tinput_size: 1\n",
      "\u001B[34m\u001B[1mwandb\u001B[0m: \tlearning_rate: 0.0002\n",
      "\u001B[34m\u001B[1mwandb\u001B[0m: \tlinear_dropout: 0.2\n",
      "\u001B[34m\u001B[1mwandb\u001B[0m: \tlinear_hidden_size: 20\n",
      "\u001B[34m\u001B[1mwandb\u001B[0m: \tlstm_dropbout: 0.2\n",
      "\u001B[34m\u001B[1mwandb\u001B[0m: \tlstm_hidden_size: 40\n",
      "\u001B[34m\u001B[1mwandb\u001B[0m: \tno_batches: 100\n",
      "\u001B[34m\u001B[1mwandb\u001B[0m: \tno_files: 100\n",
      "\u001B[34m\u001B[1mwandb\u001B[0m: \tnum_classes: 1\n",
      "\u001B[34m\u001B[1mwandb\u001B[0m: \tnum_layers: 3\n",
      "\u001B[34m\u001B[1mwandb\u001B[0m: \tsequence_length: 10\n"
     ]
    },
    {
     "data": {
      "text/plain": "<IPython.core.display.HTML object>",
      "text/html": "\n                    Syncing run <strong><a href=\"https://wandb.ai/freja-thoresen/dtu-course/runs/ptjp0eln\" target=\"_blank\">dutiful-sweep-4</a></strong> to <a href=\"https://wandb.ai/freja-thoresen/dtu-course\" target=\"_blank\">Weights & Biases</a> (<a href=\"https://docs.wandb.com/integrations/jupyter.html\" target=\"_blank\">docs</a>).<br/>\nSweep page: <a href=\"https://wandb.ai/freja-thoresen/dtu-course/sweeps/o1kyjfhc\" target=\"_blank\">https://wandb.ai/freja-thoresen/dtu-course/sweeps/o1kyjfhc</a><br/>\n\n                "
     },
     "metadata": {},
     "output_type": "display_data"
    },
    {
     "name": "stdout",
     "output_type": "stream",
     "text": [
      "training files 80\n",
      "validation files 10\n",
      "test files 10\n"
     ]
    },
    {
     "name": "stderr",
     "output_type": "stream",
     "text": [
      "\u001B[34m\u001B[1mwandb\u001B[0m: Network error (ConnectionError), entering retry loop.\n"
     ]
    },
    {
     "data": {
      "text/plain": "<IPython.core.display.HTML object>",
      "text/html": "<br/>Waiting for W&B process to finish, PID 21068... <strong style=\"color:green\">(success).</strong>"
     },
     "metadata": {},
     "output_type": "display_data"
    },
    {
     "data": {
      "text/plain": "VBox(children=(Label(value=' 0.00MB of 0.00MB uploaded (0.00MB deduped)\\r'), FloatProgress(value=1.0, max=1.0)…",
      "application/vnd.jupyter.widget-view+json": {
       "version_major": 2,
       "version_minor": 0,
       "model_id": "65ce150702ac432893e534fdd15874b3"
      }
     },
     "metadata": {},
     "output_type": "display_data"
    },
    {
     "data": {
      "text/plain": "<IPython.core.display.HTML object>",
      "text/html": "<style>\n    table.wandb td:nth-child(1) { padding: 0 10px; text-align: right }\n    .wandb-row { display: flex; flex-direction: row; flex-wrap: wrap; width: 100% }\n    .wandb-col { display: flex; flex-direction: column; flex-basis: 100%; flex: 1; padding: 10px; }\n    </style>\n<div class=\"wandb-row\"><div class=\"wandb-col\">\n<h3>Run history:</h3><br/><table class=\"wandb\"><tr><td>epoch</td><td>▁▁▁▂▂▂▂▂▂▃▃▃▃▃▄▄▄▄▄▄▅▅▅▅▅▅▆▆▆▆▆▇▇▇▇▇▇███</td></tr><tr><td>training_acc</td><td>▁▂▅▆▆▆▇▇▇▇▇▇▇▇▇▇▇▇▇▇▇▇▇▇▇▇██████████████</td></tr><tr><td>training_loss</td><td>█▇▄▄▃▃▃▃▃▂▂▂▂▂▂▂▂▂▂▂▂▂▂▂▂▂▂▂▂▂▁▁▁▁▁▁▁▁▁▁</td></tr><tr><td>validation_acc</td><td>▁▁▅▅▅▆▇▇▇▇▇▇▇▇▇▇▇▇▇▇▇▇▇▇▇▇▇▅▇▇██████████</td></tr><tr><td>validation_loss</td><td>█▅▃▃▃▂▂▂▂▂▂▂▂▂▂▂▂▁▂▂▂▂▁▁▂▁▁▃▂▁▁▁▁▁▁▁▁▁▁▁</td></tr></table><br/></div><div class=\"wandb-col\">\n<h3>Run summary:</h3><br/><table class=\"wandb\"><tr><td>epoch</td><td>39</td></tr><tr><td>training_acc</td><td>0.94768</td></tr><tr><td>training_loss</td><td>0.17623</td></tr><tr><td>validation_acc</td><td>0.95156</td></tr><tr><td>validation_loss</td><td>0.17259</td></tr></table>\n</div></div>\nSynced 6 W&B file(s), 0 media file(s), 0 artifact file(s) and 0 other file(s)\n<br/>Synced <strong style=\"color:#cdcd00\">dutiful-sweep-4</strong>: <a href=\"https://wandb.ai/freja-thoresen/dtu-course/runs/ptjp0eln\" target=\"_blank\">https://wandb.ai/freja-thoresen/dtu-course/runs/ptjp0eln</a><br/>\nFind logs at: <code>./wandb/run-20211226_215509-ptjp0eln/logs</code><br/>\n"
     },
     "metadata": {},
     "output_type": "display_data"
    },
    {
     "name": "stderr",
     "output_type": "stream",
     "text": [
      "\u001B[34m\u001B[1mwandb\u001B[0m: Agent Starting Run: n0y77xez with config:\n",
      "\u001B[34m\u001B[1mwandb\u001B[0m: \tepochs: 40\n",
      "\u001B[34m\u001B[1mwandb\u001B[0m: \tinput_size: 1\n",
      "\u001B[34m\u001B[1mwandb\u001B[0m: \tlearning_rate: 0.0002\n",
      "\u001B[34m\u001B[1mwandb\u001B[0m: \tlinear_dropout: 0.2\n",
      "\u001B[34m\u001B[1mwandb\u001B[0m: \tlinear_hidden_size: 20\n",
      "\u001B[34m\u001B[1mwandb\u001B[0m: \tlstm_dropbout: 0.2\n",
      "\u001B[34m\u001B[1mwandb\u001B[0m: \tlstm_hidden_size: 60\n",
      "\u001B[34m\u001B[1mwandb\u001B[0m: \tno_batches: 100\n",
      "\u001B[34m\u001B[1mwandb\u001B[0m: \tno_files: 100\n",
      "\u001B[34m\u001B[1mwandb\u001B[0m: \tnum_classes: 1\n",
      "\u001B[34m\u001B[1mwandb\u001B[0m: \tnum_layers: 2\n",
      "\u001B[34m\u001B[1mwandb\u001B[0m: \tsequence_length: 10\n"
     ]
    },
    {
     "data": {
      "text/plain": "<IPython.core.display.HTML object>",
      "text/html": "\n                    Syncing run <strong><a href=\"https://wandb.ai/freja-thoresen/dtu-course/runs/n0y77xez\" target=\"_blank\">honest-sweep-5</a></strong> to <a href=\"https://wandb.ai/freja-thoresen/dtu-course\" target=\"_blank\">Weights & Biases</a> (<a href=\"https://docs.wandb.com/integrations/jupyter.html\" target=\"_blank\">docs</a>).<br/>\nSweep page: <a href=\"https://wandb.ai/freja-thoresen/dtu-course/sweeps/o1kyjfhc\" target=\"_blank\">https://wandb.ai/freja-thoresen/dtu-course/sweeps/o1kyjfhc</a><br/>\n\n                "
     },
     "metadata": {},
     "output_type": "display_data"
    },
    {
     "name": "stdout",
     "output_type": "stream",
     "text": [
      "training files 80\n",
      "validation files 10\n",
      "test files 10\n"
     ]
    },
    {
     "data": {
      "text/plain": "<IPython.core.display.HTML object>",
      "text/html": "<br/>Waiting for W&B process to finish, PID 22092... <strong style=\"color:green\">(success).</strong>"
     },
     "metadata": {},
     "output_type": "display_data"
    },
    {
     "data": {
      "text/plain": "VBox(children=(Label(value=' 0.00MB of 0.00MB uploaded (0.00MB deduped)\\r'), FloatProgress(value=1.0, max=1.0)…",
      "application/vnd.jupyter.widget-view+json": {
       "version_major": 2,
       "version_minor": 0,
       "model_id": "a3c28675e9d1448fadbe306d7b3f1680"
      }
     },
     "metadata": {},
     "output_type": "display_data"
    },
    {
     "data": {
      "text/plain": "<IPython.core.display.HTML object>",
      "text/html": "<style>\n    table.wandb td:nth-child(1) { padding: 0 10px; text-align: right }\n    .wandb-row { display: flex; flex-direction: row; flex-wrap: wrap; width: 100% }\n    .wandb-col { display: flex; flex-direction: column; flex-basis: 100%; flex: 1; padding: 10px; }\n    </style>\n<div class=\"wandb-row\"><div class=\"wandb-col\">\n<h3>Run history:</h3><br/><table class=\"wandb\"><tr><td>epoch</td><td>▁▁▁▂▂▂▂▂▂▃▃▃▃▃▄▄▄▄▄▄▅▅▅▅▅▅▆▆▆▆▆▇▇▇▇▇▇███</td></tr><tr><td>training_acc</td><td>▁▄▅▅▆▇▇▇▇▇██████████████████████████████</td></tr><tr><td>training_loss</td><td>█▅▄▄▄▃▃▃▂▂▂▂▂▂▂▂▂▂▂▁▁▁▁▁▁▁▁▁▁▁▁▁▁▁▁▁▁▁▁▁</td></tr><tr><td>validation_acc</td><td>▁███████▇███████████████████████████████</td></tr><tr><td>validation_loss</td><td>█▂▂▂▁▁▁▂▂▁▂▂▂▂▂▂▂▁▁▁▁▁▁▁▁▁▁▁▁▁▁▁▁▁▁▁▁▁▁▁</td></tr></table><br/></div><div class=\"wandb-col\">\n<h3>Run summary:</h3><br/><table class=\"wandb\"><tr><td>epoch</td><td>39</td></tr><tr><td>training_acc</td><td>0.94715</td></tr><tr><td>training_loss</td><td>0.16944</td></tr><tr><td>validation_acc</td><td>0.94617</td></tr><tr><td>validation_loss</td><td>0.21508</td></tr></table>\n</div></div>\nSynced 6 W&B file(s), 0 media file(s), 0 artifact file(s) and 0 other file(s)\n<br/>Synced <strong style=\"color:#cdcd00\">honest-sweep-5</strong>: <a href=\"https://wandb.ai/freja-thoresen/dtu-course/runs/n0y77xez\" target=\"_blank\">https://wandb.ai/freja-thoresen/dtu-course/runs/n0y77xez</a><br/>\nFind logs at: <code>./wandb/run-20211226_231331-n0y77xez/logs</code><br/>\n"
     },
     "metadata": {},
     "output_type": "display_data"
    },
    {
     "name": "stderr",
     "output_type": "stream",
     "text": [
      "\u001B[34m\u001B[1mwandb\u001B[0m: Agent Starting Run: 5njlluo2 with config:\n",
      "\u001B[34m\u001B[1mwandb\u001B[0m: \tepochs: 40\n",
      "\u001B[34m\u001B[1mwandb\u001B[0m: \tinput_size: 1\n",
      "\u001B[34m\u001B[1mwandb\u001B[0m: \tlearning_rate: 0.0002\n",
      "\u001B[34m\u001B[1mwandb\u001B[0m: \tlinear_dropout: 0.2\n",
      "\u001B[34m\u001B[1mwandb\u001B[0m: \tlinear_hidden_size: 20\n",
      "\u001B[34m\u001B[1mwandb\u001B[0m: \tlstm_dropbout: 0.2\n",
      "\u001B[34m\u001B[1mwandb\u001B[0m: \tlstm_hidden_size: 60\n",
      "\u001B[34m\u001B[1mwandb\u001B[0m: \tno_batches: 100\n",
      "\u001B[34m\u001B[1mwandb\u001B[0m: \tno_files: 100\n",
      "\u001B[34m\u001B[1mwandb\u001B[0m: \tnum_classes: 1\n",
      "\u001B[34m\u001B[1mwandb\u001B[0m: \tnum_layers: 3\n",
      "\u001B[34m\u001B[1mwandb\u001B[0m: \tsequence_length: 10\n"
     ]
    },
    {
     "data": {
      "text/plain": "<IPython.core.display.HTML object>",
      "text/html": "\n                    Syncing run <strong><a href=\"https://wandb.ai/freja-thoresen/dtu-course/runs/5njlluo2\" target=\"_blank\">cerulean-sweep-6</a></strong> to <a href=\"https://wandb.ai/freja-thoresen/dtu-course\" target=\"_blank\">Weights & Biases</a> (<a href=\"https://docs.wandb.com/integrations/jupyter.html\" target=\"_blank\">docs</a>).<br/>\nSweep page: <a href=\"https://wandb.ai/freja-thoresen/dtu-course/sweeps/o1kyjfhc\" target=\"_blank\">https://wandb.ai/freja-thoresen/dtu-course/sweeps/o1kyjfhc</a><br/>\n\n                "
     },
     "metadata": {},
     "output_type": "display_data"
    },
    {
     "name": "stdout",
     "output_type": "stream",
     "text": [
      "training files 80\n",
      "validation files 10\n",
      "test files 10\n"
     ]
    },
    {
     "data": {
      "text/plain": "<IPython.core.display.HTML object>",
      "text/html": "<br/>Waiting for W&B process to finish, PID 23079... <strong style=\"color:green\">(success).</strong>"
     },
     "metadata": {},
     "output_type": "display_data"
    },
    {
     "data": {
      "text/plain": "VBox(children=(Label(value=' 0.00MB of 0.00MB uploaded (0.00MB deduped)\\r'), FloatProgress(value=1.0, max=1.0)…",
      "application/vnd.jupyter.widget-view+json": {
       "version_major": 2,
       "version_minor": 0,
       "model_id": "2b168790ee404889ae88e33b544a49fc"
      }
     },
     "metadata": {},
     "output_type": "display_data"
    },
    {
     "data": {
      "text/plain": "<IPython.core.display.HTML object>",
      "text/html": "<style>\n    table.wandb td:nth-child(1) { padding: 0 10px; text-align: right }\n    .wandb-row { display: flex; flex-direction: row; flex-wrap: wrap; width: 100% }\n    .wandb-col { display: flex; flex-direction: column; flex-basis: 100%; flex: 1; padding: 10px; }\n    </style>\n<div class=\"wandb-row\"><div class=\"wandb-col\">\n<h3>Run history:</h3><br/><table class=\"wandb\"><tr><td>epoch</td><td>▁▁▁▂▂▂▂▂▂▃▃▃▃▃▄▄▄▄▄▄▅▅▅▅▅▅▆▆▆▆▆▇▇▇▇▇▇███</td></tr><tr><td>training_acc</td><td>▁▄▅▆▆▆▆▆▇▇▇▇▇▇▇▇▇▇▇▇▇█▇█████████████████</td></tr><tr><td>training_loss</td><td>█▅▄▄▄▃▃▃▃▃▃▃▂▂▂▂▂▂▂▂▂▂▂▂▁▁▁▁▁▁▁▁▁▁▁▁▁▁▁▁</td></tr><tr><td>validation_acc</td><td>▁▇██████████████████████████████████████</td></tr><tr><td>validation_loss</td><td>█▃▃▂▂▂▂▂▂▂▂▂▂▂▂▂▂▂▂▂▂▁▂▂▂▂▁▁▂▁▁▁▁▁▁▁▁▁▁▁</td></tr></table><br/></div><div class=\"wandb-col\">\n<h3>Run summary:</h3><br/><table class=\"wandb\"><tr><td>epoch</td><td>39</td></tr><tr><td>training_acc</td><td>0.95322</td></tr><tr><td>training_loss</td><td>0.1593</td></tr><tr><td>validation_acc</td><td>0.94859</td></tr><tr><td>validation_loss</td><td>0.18831</td></tr></table>\n</div></div>\nSynced 6 W&B file(s), 0 media file(s), 0 artifact file(s) and 0 other file(s)\n<br/>Synced <strong style=\"color:#cdcd00\">cerulean-sweep-6</strong>: <a href=\"https://wandb.ai/freja-thoresen/dtu-course/runs/5njlluo2\" target=\"_blank\">https://wandb.ai/freja-thoresen/dtu-course/runs/5njlluo2</a><br/>\nFind logs at: <code>./wandb/run-20211227_002913-5njlluo2/logs</code><br/>\n"
     },
     "metadata": {},
     "output_type": "display_data"
    },
    {
     "name": "stderr",
     "output_type": "stream",
     "text": [
      "\u001B[34m\u001B[1mwandb\u001B[0m: Agent Starting Run: pl5ezrr8 with config:\n",
      "\u001B[34m\u001B[1mwandb\u001B[0m: \tepochs: 40\n",
      "\u001B[34m\u001B[1mwandb\u001B[0m: \tinput_size: 1\n",
      "\u001B[34m\u001B[1mwandb\u001B[0m: \tlearning_rate: 0.0002\n",
      "\u001B[34m\u001B[1mwandb\u001B[0m: \tlinear_dropout: 0.2\n",
      "\u001B[34m\u001B[1mwandb\u001B[0m: \tlinear_hidden_size: 20\n",
      "\u001B[34m\u001B[1mwandb\u001B[0m: \tlstm_dropbout: 0.4\n",
      "\u001B[34m\u001B[1mwandb\u001B[0m: \tlstm_hidden_size: 20\n",
      "\u001B[34m\u001B[1mwandb\u001B[0m: \tno_batches: 100\n",
      "\u001B[34m\u001B[1mwandb\u001B[0m: \tno_files: 100\n",
      "\u001B[34m\u001B[1mwandb\u001B[0m: \tnum_classes: 1\n",
      "\u001B[34m\u001B[1mwandb\u001B[0m: \tnum_layers: 2\n",
      "\u001B[34m\u001B[1mwandb\u001B[0m: \tsequence_length: 10\n"
     ]
    },
    {
     "data": {
      "text/plain": "<IPython.core.display.HTML object>",
      "text/html": "\n                    Syncing run <strong><a href=\"https://wandb.ai/freja-thoresen/dtu-course/runs/pl5ezrr8\" target=\"_blank\">sleek-sweep-7</a></strong> to <a href=\"https://wandb.ai/freja-thoresen/dtu-course\" target=\"_blank\">Weights & Biases</a> (<a href=\"https://docs.wandb.com/integrations/jupyter.html\" target=\"_blank\">docs</a>).<br/>\nSweep page: <a href=\"https://wandb.ai/freja-thoresen/dtu-course/sweeps/o1kyjfhc\" target=\"_blank\">https://wandb.ai/freja-thoresen/dtu-course/sweeps/o1kyjfhc</a><br/>\n\n                "
     },
     "metadata": {},
     "output_type": "display_data"
    },
    {
     "name": "stdout",
     "output_type": "stream",
     "text": [
      "training files 80\n",
      "validation files 10\n",
      "test files 10\n"
     ]
    },
    {
     "data": {
      "text/plain": "<IPython.core.display.HTML object>",
      "text/html": "<br/>Waiting for W&B process to finish, PID 24017... <strong style=\"color:green\">(success).</strong>"
     },
     "metadata": {},
     "output_type": "display_data"
    },
    {
     "data": {
      "text/plain": "VBox(children=(Label(value=' 0.00MB of 0.00MB uploaded (0.00MB deduped)\\r'), FloatProgress(value=1.0, max=1.0)…",
      "application/vnd.jupyter.widget-view+json": {
       "version_major": 2,
       "version_minor": 0,
       "model_id": "d171d93f5c2c469ea2929969e1c7981f"
      }
     },
     "metadata": {},
     "output_type": "display_data"
    },
    {
     "data": {
      "text/plain": "<IPython.core.display.HTML object>",
      "text/html": "<style>\n    table.wandb td:nth-child(1) { padding: 0 10px; text-align: right }\n    .wandb-row { display: flex; flex-direction: row; flex-wrap: wrap; width: 100% }\n    .wandb-col { display: flex; flex-direction: column; flex-basis: 100%; flex: 1; padding: 10px; }\n    </style>\n<div class=\"wandb-row\"><div class=\"wandb-col\">\n<h3>Run history:</h3><br/><table class=\"wandb\"><tr><td>epoch</td><td>▁▁▁▂▂▂▂▂▂▃▃▃▃▃▄▄▄▄▄▄▅▅▅▅▅▅▆▆▆▆▆▇▇▇▇▇▇███</td></tr><tr><td>training_acc</td><td>▁▃▅▆▆▆▆▇▇▇▇▇▇▇▇▇▇▇▇▇████████████████████</td></tr><tr><td>training_loss</td><td>█▅▄▄▃▃▃▃▂▂▂▂▂▂▂▂▂▂▂▂▂▂▂▂▁▁▁▁▁▁▁▁▁▁▁▁▁▁▁▁</td></tr><tr><td>validation_acc</td><td>▁▁▅▆▆▆▆▇▇▇▇▇▇▇▇▇▇▇▇▇▇███████████████████</td></tr><tr><td>validation_loss</td><td>█▄▂▂▂▂▂▁▁▁▁▁▁▁▁▁▁▁▁▁▁▁▁▁▁▁▁▁▁▁▁▁▁▁▁▁▁▁▁▁</td></tr></table><br/></div><div class=\"wandb-col\">\n<h3>Run summary:</h3><br/><table class=\"wandb\"><tr><td>epoch</td><td>39</td></tr><tr><td>training_acc</td><td>0.94423</td></tr><tr><td>training_loss</td><td>0.17824</td></tr><tr><td>validation_acc</td><td>0.95288</td></tr><tr><td>validation_loss</td><td>0.16944</td></tr></table>\n</div></div>\nSynced 6 W&B file(s), 0 media file(s), 0 artifact file(s) and 0 other file(s)\n<br/>Synced <strong style=\"color:#cdcd00\">sleek-sweep-7</strong>: <a href=\"https://wandb.ai/freja-thoresen/dtu-course/runs/pl5ezrr8\" target=\"_blank\">https://wandb.ai/freja-thoresen/dtu-course/runs/pl5ezrr8</a><br/>\nFind logs at: <code>./wandb/run-20211227_021133-pl5ezrr8/logs</code><br/>\n"
     },
     "metadata": {},
     "output_type": "display_data"
    },
    {
     "name": "stderr",
     "output_type": "stream",
     "text": [
      "\u001B[34m\u001B[1mwandb\u001B[0m: Agent Starting Run: tp6sgx7w with config:\n",
      "\u001B[34m\u001B[1mwandb\u001B[0m: \tepochs: 40\n",
      "\u001B[34m\u001B[1mwandb\u001B[0m: \tinput_size: 1\n",
      "\u001B[34m\u001B[1mwandb\u001B[0m: \tlearning_rate: 0.0002\n",
      "\u001B[34m\u001B[1mwandb\u001B[0m: \tlinear_dropout: 0.2\n",
      "\u001B[34m\u001B[1mwandb\u001B[0m: \tlinear_hidden_size: 20\n",
      "\u001B[34m\u001B[1mwandb\u001B[0m: \tlstm_dropbout: 0.4\n",
      "\u001B[34m\u001B[1mwandb\u001B[0m: \tlstm_hidden_size: 20\n",
      "\u001B[34m\u001B[1mwandb\u001B[0m: \tno_batches: 100\n",
      "\u001B[34m\u001B[1mwandb\u001B[0m: \tno_files: 100\n",
      "\u001B[34m\u001B[1mwandb\u001B[0m: \tnum_classes: 1\n",
      "\u001B[34m\u001B[1mwandb\u001B[0m: \tnum_layers: 3\n",
      "\u001B[34m\u001B[1mwandb\u001B[0m: \tsequence_length: 10\n"
     ]
    },
    {
     "data": {
      "text/plain": "<IPython.core.display.HTML object>",
      "text/html": "\n                    Syncing run <strong><a href=\"https://wandb.ai/freja-thoresen/dtu-course/runs/tp6sgx7w\" target=\"_blank\">resilient-sweep-8</a></strong> to <a href=\"https://wandb.ai/freja-thoresen/dtu-course\" target=\"_blank\">Weights & Biases</a> (<a href=\"https://docs.wandb.com/integrations/jupyter.html\" target=\"_blank\">docs</a>).<br/>\nSweep page: <a href=\"https://wandb.ai/freja-thoresen/dtu-course/sweeps/o1kyjfhc\" target=\"_blank\">https://wandb.ai/freja-thoresen/dtu-course/sweeps/o1kyjfhc</a><br/>\n\n                "
     },
     "metadata": {},
     "output_type": "display_data"
    },
    {
     "name": "stdout",
     "output_type": "stream",
     "text": [
      "training files 80\n",
      "validation files 10\n",
      "test files 10\n"
     ]
    },
    {
     "data": {
      "text/plain": "<IPython.core.display.HTML object>",
      "text/html": "<br/>Waiting for W&B process to finish, PID 24566... <strong style=\"color:green\">(success).</strong>"
     },
     "metadata": {},
     "output_type": "display_data"
    },
    {
     "data": {
      "text/plain": "VBox(children=(Label(value=' 0.00MB of 0.00MB uploaded (0.00MB deduped)\\r'), FloatProgress(value=1.0, max=1.0)…",
      "application/vnd.jupyter.widget-view+json": {
       "version_major": 2,
       "version_minor": 0,
       "model_id": "ee9fa0725e194dbfad140f2b3a0e7725"
      }
     },
     "metadata": {},
     "output_type": "display_data"
    },
    {
     "data": {
      "text/plain": "<IPython.core.display.HTML object>",
      "text/html": "<style>\n    table.wandb td:nth-child(1) { padding: 0 10px; text-align: right }\n    .wandb-row { display: flex; flex-direction: row; flex-wrap: wrap; width: 100% }\n    .wandb-col { display: flex; flex-direction: column; flex-basis: 100%; flex: 1; padding: 10px; }\n    </style>\n<div class=\"wandb-row\"><div class=\"wandb-col\">\n<h3>Run history:</h3><br/><table class=\"wandb\"><tr><td>epoch</td><td>▁▁▁▂▂▂▂▂▂▃▃▃▃▃▄▄▄▄▄▄▅▅▅▅▅▅▆▆▆▆▆▇▇▇▇▇▇███</td></tr><tr><td>training_acc</td><td>▁▁▅▆▆▆▇▇▇▇▇▇▇███████████████████████████</td></tr><tr><td>training_loss</td><td>█▇▅▃▃▃▃▃▂▂▂▂▂▂▁▂▁▁▁▁▁▁▁▁▁▁▁▁▁▁▁▁▁▁▁▁▁▁▁▁</td></tr><tr><td>validation_acc</td><td>▁▇▇█████████████████████████████████████</td></tr><tr><td>validation_loss</td><td>█▄▃▂▂▂▂▂▁▂▁▁▁▁▁▁▁▁▁▁▁▁▁▁▁▁▁▁▁▁▁▁▁▁▁▁▁▁▁▁</td></tr></table><br/></div><div class=\"wandb-col\">\n<h3>Run summary:</h3><br/><table class=\"wandb\"><tr><td>epoch</td><td>39</td></tr><tr><td>training_acc</td><td>0.94193</td></tr><tr><td>training_loss</td><td>0.19066</td></tr><tr><td>validation_acc</td><td>0.95028</td></tr><tr><td>validation_loss</td><td>0.17489</td></tr></table>\n</div></div>\nSynced 6 W&B file(s), 0 media file(s), 0 artifact file(s) and 0 other file(s)\n<br/>Synced <strong style=\"color:#cdcd00\">resilient-sweep-8</strong>: <a href=\"https://wandb.ai/freja-thoresen/dtu-course/runs/tp6sgx7w\" target=\"_blank\">https://wandb.ai/freja-thoresen/dtu-course/runs/tp6sgx7w</a><br/>\nFind logs at: <code>./wandb/run-20211227_025505-tp6sgx7w/logs</code><br/>\n"
     },
     "metadata": {},
     "output_type": "display_data"
    },
    {
     "name": "stderr",
     "output_type": "stream",
     "text": [
      "\u001B[34m\u001B[1mwandb\u001B[0m: Agent Starting Run: pig692za with config:\n",
      "\u001B[34m\u001B[1mwandb\u001B[0m: \tepochs: 40\n",
      "\u001B[34m\u001B[1mwandb\u001B[0m: \tinput_size: 1\n",
      "\u001B[34m\u001B[1mwandb\u001B[0m: \tlearning_rate: 0.0002\n",
      "\u001B[34m\u001B[1mwandb\u001B[0m: \tlinear_dropout: 0.2\n",
      "\u001B[34m\u001B[1mwandb\u001B[0m: \tlinear_hidden_size: 20\n",
      "\u001B[34m\u001B[1mwandb\u001B[0m: \tlstm_dropbout: 0.4\n",
      "\u001B[34m\u001B[1mwandb\u001B[0m: \tlstm_hidden_size: 40\n",
      "\u001B[34m\u001B[1mwandb\u001B[0m: \tno_batches: 100\n",
      "\u001B[34m\u001B[1mwandb\u001B[0m: \tno_files: 100\n",
      "\u001B[34m\u001B[1mwandb\u001B[0m: \tnum_classes: 1\n",
      "\u001B[34m\u001B[1mwandb\u001B[0m: \tnum_layers: 2\n",
      "\u001B[34m\u001B[1mwandb\u001B[0m: \tsequence_length: 10\n"
     ]
    },
    {
     "data": {
      "text/plain": "<IPython.core.display.HTML object>",
      "text/html": "\n                    Syncing run <strong><a href=\"https://wandb.ai/freja-thoresen/dtu-course/runs/pig692za\" target=\"_blank\">ethereal-sweep-9</a></strong> to <a href=\"https://wandb.ai/freja-thoresen/dtu-course\" target=\"_blank\">Weights & Biases</a> (<a href=\"https://docs.wandb.com/integrations/jupyter.html\" target=\"_blank\">docs</a>).<br/>\nSweep page: <a href=\"https://wandb.ai/freja-thoresen/dtu-course/sweeps/o1kyjfhc\" target=\"_blank\">https://wandb.ai/freja-thoresen/dtu-course/sweeps/o1kyjfhc</a><br/>\n\n                "
     },
     "metadata": {},
     "output_type": "display_data"
    },
    {
     "name": "stdout",
     "output_type": "stream",
     "text": [
      "training files 80\n",
      "validation files 10\n",
      "test files 10\n"
     ]
    },
    {
     "data": {
      "text/plain": "<IPython.core.display.HTML object>",
      "text/html": "<br/>Waiting for W&B process to finish, PID 25210... <strong style=\"color:green\">(success).</strong>"
     },
     "metadata": {},
     "output_type": "display_data"
    },
    {
     "data": {
      "text/plain": "VBox(children=(Label(value=' 0.00MB of 0.00MB uploaded (0.00MB deduped)\\r'), FloatProgress(value=1.0, max=1.0)…",
      "application/vnd.jupyter.widget-view+json": {
       "version_major": 2,
       "version_minor": 0,
       "model_id": "bd55381f0b374ab2811dc54e89ae2d94"
      }
     },
     "metadata": {},
     "output_type": "display_data"
    },
    {
     "data": {
      "text/plain": "<IPython.core.display.HTML object>",
      "text/html": "<style>\n    table.wandb td:nth-child(1) { padding: 0 10px; text-align: right }\n    .wandb-row { display: flex; flex-direction: row; flex-wrap: wrap; width: 100% }\n    .wandb-col { display: flex; flex-direction: column; flex-basis: 100%; flex: 1; padding: 10px; }\n    </style>\n<div class=\"wandb-row\"><div class=\"wandb-col\">\n<h3>Run history:</h3><br/><table class=\"wandb\"><tr><td>epoch</td><td>▁▁▁▂▂▂▂▂▂▃▃▃▃▃▄▄▄▄▄▄▅▅▅▅▅▅▆▆▆▆▆▇▇▇▇▇▇███</td></tr><tr><td>training_acc</td><td>▁▃▅▆▆▆▆▆▇▇▇▇▇▇▇▇▇▇▇▇▇▇▇▇█▇██████████████</td></tr><tr><td>training_loss</td><td>█▆▄▄▄▄▃▃▃▃▂▂▂▂▂▂▂▂▂▂▂▂▂▂▂▂▁▁▁▁▁▁▁▁▁▁▁▁▁▁</td></tr><tr><td>validation_acc</td><td>▁▇██████████████████████████████████████</td></tr><tr><td>validation_loss</td><td>█▄▃▂▂▂▂▂▂▂▂▂▂▂▁▁▁▁▁▁▁▁▁▁▁▁▁▁▁▁▁▁▁▁▁▁▁▁▁▁</td></tr></table><br/></div><div class=\"wandb-col\">\n<h3>Run summary:</h3><br/><table class=\"wandb\"><tr><td>epoch</td><td>39</td></tr><tr><td>training_acc</td><td>0.94638</td></tr><tr><td>training_loss</td><td>0.17927</td></tr><tr><td>validation_acc</td><td>0.95855</td></tr><tr><td>validation_loss</td><td>0.14713</td></tr></table>\n</div></div>\nSynced 6 W&B file(s), 0 media file(s), 0 artifact file(s) and 0 other file(s)\n<br/>Synced <strong style=\"color:#cdcd00\">ethereal-sweep-9</strong>: <a href=\"https://wandb.ai/freja-thoresen/dtu-course/runs/pig692za\" target=\"_blank\">https://wandb.ai/freja-thoresen/dtu-course/runs/pig692za</a><br/>\nFind logs at: <code>./wandb/run-20211227_035210-pig692za/logs</code><br/>\n"
     },
     "metadata": {},
     "output_type": "display_data"
    },
    {
     "name": "stderr",
     "output_type": "stream",
     "text": [
      "\u001B[34m\u001B[1mwandb\u001B[0m: Agent Starting Run: 7sk8j440 with config:\n",
      "\u001B[34m\u001B[1mwandb\u001B[0m: \tepochs: 40\n",
      "\u001B[34m\u001B[1mwandb\u001B[0m: \tinput_size: 1\n",
      "\u001B[34m\u001B[1mwandb\u001B[0m: \tlearning_rate: 0.0002\n",
      "\u001B[34m\u001B[1mwandb\u001B[0m: \tlinear_dropout: 0.2\n",
      "\u001B[34m\u001B[1mwandb\u001B[0m: \tlinear_hidden_size: 20\n",
      "\u001B[34m\u001B[1mwandb\u001B[0m: \tlstm_dropbout: 0.4\n",
      "\u001B[34m\u001B[1mwandb\u001B[0m: \tlstm_hidden_size: 40\n",
      "\u001B[34m\u001B[1mwandb\u001B[0m: \tno_batches: 100\n",
      "\u001B[34m\u001B[1mwandb\u001B[0m: \tno_files: 100\n",
      "\u001B[34m\u001B[1mwandb\u001B[0m: \tnum_classes: 1\n",
      "\u001B[34m\u001B[1mwandb\u001B[0m: \tnum_layers: 3\n",
      "\u001B[34m\u001B[1mwandb\u001B[0m: \tsequence_length: 10\n"
     ]
    },
    {
     "data": {
      "text/plain": "<IPython.core.display.HTML object>",
      "text/html": "\n                    Syncing run <strong><a href=\"https://wandb.ai/freja-thoresen/dtu-course/runs/7sk8j440\" target=\"_blank\">trim-sweep-10</a></strong> to <a href=\"https://wandb.ai/freja-thoresen/dtu-course\" target=\"_blank\">Weights & Biases</a> (<a href=\"https://docs.wandb.com/integrations/jupyter.html\" target=\"_blank\">docs</a>).<br/>\nSweep page: <a href=\"https://wandb.ai/freja-thoresen/dtu-course/sweeps/o1kyjfhc\" target=\"_blank\">https://wandb.ai/freja-thoresen/dtu-course/sweeps/o1kyjfhc</a><br/>\n\n                "
     },
     "metadata": {},
     "output_type": "display_data"
    },
    {
     "name": "stdout",
     "output_type": "stream",
     "text": [
      "training files 80\n",
      "validation files 10\n",
      "test files 10\n"
     ]
    },
    {
     "data": {
      "text/plain": "<IPython.core.display.HTML object>",
      "text/html": "<br/>Waiting for W&B process to finish, PID 25698... <strong style=\"color:green\">(success).</strong>"
     },
     "metadata": {},
     "output_type": "display_data"
    },
    {
     "data": {
      "text/plain": "VBox(children=(Label(value=' 0.00MB of 0.00MB uploaded (0.00MB deduped)\\r'), FloatProgress(value=1.0, max=1.0)…",
      "application/vnd.jupyter.widget-view+json": {
       "version_major": 2,
       "version_minor": 0,
       "model_id": "f4612c758d6942ddade4b06a0626fb76"
      }
     },
     "metadata": {},
     "output_type": "display_data"
    },
    {
     "data": {
      "text/plain": "<IPython.core.display.HTML object>",
      "text/html": "<style>\n    table.wandb td:nth-child(1) { padding: 0 10px; text-align: right }\n    .wandb-row { display: flex; flex-direction: row; flex-wrap: wrap; width: 100% }\n    .wandb-col { display: flex; flex-direction: column; flex-basis: 100%; flex: 1; padding: 10px; }\n    </style>\n<div class=\"wandb-row\"><div class=\"wandb-col\">\n<h3>Run history:</h3><br/><table class=\"wandb\"><tr><td>epoch</td><td>▁▁▁▂▂▂▂▂▂▃▃▃▃▃▄▄▄▄▄▄▅▅▅▅▅▅▆▆▆▆▆▇▇▇▇▇▇███</td></tr><tr><td>training_acc</td><td>▁▁▅▅▅▆▆▇▇▇▇▇▇▇▇▇▇▇▇▇▇▇▇▇▇▇▇▇▇█▇█████████</td></tr><tr><td>training_loss</td><td>█▇▅▄▄▃▃▃▃▂▂▂▂▂▂▂▂▂▂▂▂▂▂▂▂▂▂▂▂▂▂▂▁▁▁▁▁▁▁▁</td></tr><tr><td>validation_acc</td><td>▁▁▄▄▄▄▅▅▅█▅▅▆▇▅▅▆▆▆▆▆▆▆▆▆▆▆▆▆▇▇▇▇▇▇▇▇▇▇▇</td></tr><tr><td>validation_loss</td><td>█▂▂▂▂▂▂▂▂▁▁▂▂▁▂▂▁▁▁▂▁▁▁▁▁▁▁▁▁▁▁▁▁▁▁▁▁▁▁▁</td></tr></table><br/></div><div class=\"wandb-col\">\n<h3>Run summary:</h3><br/><table class=\"wandb\"><tr><td>epoch</td><td>39</td></tr><tr><td>training_acc</td><td>0.94993</td></tr><tr><td>training_loss</td><td>0.16349</td></tr><tr><td>validation_acc</td><td>0.92673</td></tr><tr><td>validation_loss</td><td>0.27699</td></tr></table>\n</div></div>\nSynced 6 W&B file(s), 0 media file(s), 0 artifact file(s) and 0 other file(s)\n<br/>Synced <strong style=\"color:#cdcd00\">trim-sweep-10</strong>: <a href=\"https://wandb.ai/freja-thoresen/dtu-course/runs/7sk8j440\" target=\"_blank\">https://wandb.ai/freja-thoresen/dtu-course/runs/7sk8j440</a><br/>\nFind logs at: <code>./wandb/run-20211227_044103-7sk8j440/logs</code><br/>\n"
     },
     "metadata": {},
     "output_type": "display_data"
    },
    {
     "name": "stderr",
     "output_type": "stream",
     "text": [
      "\u001B[34m\u001B[1mwandb\u001B[0m: Sweep Agent: Waiting for job.\n",
      "\u001B[34m\u001B[1mwandb\u001B[0m: Job received.\n",
      "\u001B[34m\u001B[1mwandb\u001B[0m: Agent Starting Run: q7sk2z1r with config:\n",
      "\u001B[34m\u001B[1mwandb\u001B[0m: \tepochs: 40\n",
      "\u001B[34m\u001B[1mwandb\u001B[0m: \tinput_size: 1\n",
      "\u001B[34m\u001B[1mwandb\u001B[0m: \tlearning_rate: 0.0002\n",
      "\u001B[34m\u001B[1mwandb\u001B[0m: \tlinear_dropout: 0.2\n",
      "\u001B[34m\u001B[1mwandb\u001B[0m: \tlinear_hidden_size: 20\n",
      "\u001B[34m\u001B[1mwandb\u001B[0m: \tlstm_dropbout: 0.4\n",
      "\u001B[34m\u001B[1mwandb\u001B[0m: \tlstm_hidden_size: 60\n",
      "\u001B[34m\u001B[1mwandb\u001B[0m: \tno_batches: 100\n",
      "\u001B[34m\u001B[1mwandb\u001B[0m: \tno_files: 100\n",
      "\u001B[34m\u001B[1mwandb\u001B[0m: \tnum_classes: 1\n",
      "\u001B[34m\u001B[1mwandb\u001B[0m: \tnum_layers: 2\n",
      "\u001B[34m\u001B[1mwandb\u001B[0m: \tsequence_length: 10\n"
     ]
    },
    {
     "data": {
      "text/plain": "<IPython.core.display.HTML object>",
      "text/html": "\n                    Syncing run <strong><a href=\"https://wandb.ai/freja-thoresen/dtu-course/runs/q7sk2z1r\" target=\"_blank\">exalted-sweep-11</a></strong> to <a href=\"https://wandb.ai/freja-thoresen/dtu-course\" target=\"_blank\">Weights & Biases</a> (<a href=\"https://docs.wandb.com/integrations/jupyter.html\" target=\"_blank\">docs</a>).<br/>\nSweep page: <a href=\"https://wandb.ai/freja-thoresen/dtu-course/sweeps/o1kyjfhc\" target=\"_blank\">https://wandb.ai/freja-thoresen/dtu-course/sweeps/o1kyjfhc</a><br/>\n\n                "
     },
     "metadata": {},
     "output_type": "display_data"
    },
    {
     "name": "stdout",
     "output_type": "stream",
     "text": [
      "training files 80\n",
      "validation files 10\n",
      "test files 10\n"
     ]
    },
    {
     "data": {
      "text/plain": "<IPython.core.display.HTML object>",
      "text/html": "<br/>Waiting for W&B process to finish, PID 26666... <strong style=\"color:green\">(success).</strong>"
     },
     "metadata": {},
     "output_type": "display_data"
    },
    {
     "data": {
      "text/plain": "VBox(children=(Label(value=' 0.00MB of 0.00MB uploaded (0.00MB deduped)\\r'), FloatProgress(value=1.0, max=1.0)…",
      "application/vnd.jupyter.widget-view+json": {
       "version_major": 2,
       "version_minor": 0,
       "model_id": "48b3cd933e754cbcbc66f076c6c146a3"
      }
     },
     "metadata": {},
     "output_type": "display_data"
    },
    {
     "data": {
      "text/plain": "<IPython.core.display.HTML object>",
      "text/html": "<style>\n    table.wandb td:nth-child(1) { padding: 0 10px; text-align: right }\n    .wandb-row { display: flex; flex-direction: row; flex-wrap: wrap; width: 100% }\n    .wandb-col { display: flex; flex-direction: column; flex-basis: 100%; flex: 1; padding: 10px; }\n    </style>\n<div class=\"wandb-row\"><div class=\"wandb-col\">\n<h3>Run history:</h3><br/><table class=\"wandb\"><tr><td>epoch</td><td>▁▁▁▂▂▂▂▂▂▃▃▃▃▃▄▄▄▄▄▄▅▅▅▅▅▅▆▆▆▆▆▇▇▇▇▇▇███</td></tr><tr><td>training_acc</td><td>▁▄▅▆▆▆▆▇▇▇▇▇▇▇▇▇▇▇▇▇▇▇██████████████████</td></tr><tr><td>training_loss</td><td>█▅▄▄▄▃▃▃▃▃▃▃▂▂▂▂▂▂▂▂▂▂▂▂▂▁▁▁▁▁▁▁▁▁▁▁▁▁▁▁</td></tr><tr><td>validation_acc</td><td>▁▇██████████████████████████████████████</td></tr><tr><td>validation_loss</td><td>█▃▂▃▂▂▂▂▂▂▂▁▁▁▁▁▁▁▁▁▁▁▁▁▁▁▁▁▁▁▁▂▂▂▂▂▂▂▂▂</td></tr></table><br/></div><div class=\"wandb-col\">\n<h3>Run summary:</h3><br/><table class=\"wandb\"><tr><td>epoch</td><td>39</td></tr><tr><td>training_acc</td><td>0.95158</td></tr><tr><td>training_loss</td><td>0.16356</td></tr><tr><td>validation_acc</td><td>0.96655</td></tr><tr><td>validation_loss</td><td>0.17207</td></tr></table>\n</div></div>\nSynced 6 W&B file(s), 0 media file(s), 0 artifact file(s) and 0 other file(s)\n<br/>Synced <strong style=\"color:#cdcd00\">exalted-sweep-11</strong>: <a href=\"https://wandb.ai/freja-thoresen/dtu-course/runs/q7sk2z1r\" target=\"_blank\">https://wandb.ai/freja-thoresen/dtu-course/runs/q7sk2z1r</a><br/>\nFind logs at: <code>./wandb/run-20211227_055738-q7sk2z1r/logs</code><br/>\n"
     },
     "metadata": {},
     "output_type": "display_data"
    },
    {
     "name": "stderr",
     "output_type": "stream",
     "text": [
      "\u001B[34m\u001B[1mwandb\u001B[0m: Agent Starting Run: po9hnk8z with config:\n",
      "\u001B[34m\u001B[1mwandb\u001B[0m: \tepochs: 40\n",
      "\u001B[34m\u001B[1mwandb\u001B[0m: \tinput_size: 1\n",
      "\u001B[34m\u001B[1mwandb\u001B[0m: \tlearning_rate: 0.0002\n",
      "\u001B[34m\u001B[1mwandb\u001B[0m: \tlinear_dropout: 0.2\n",
      "\u001B[34m\u001B[1mwandb\u001B[0m: \tlinear_hidden_size: 20\n",
      "\u001B[34m\u001B[1mwandb\u001B[0m: \tlstm_dropbout: 0.4\n",
      "\u001B[34m\u001B[1mwandb\u001B[0m: \tlstm_hidden_size: 60\n",
      "\u001B[34m\u001B[1mwandb\u001B[0m: \tno_batches: 100\n",
      "\u001B[34m\u001B[1mwandb\u001B[0m: \tno_files: 100\n",
      "\u001B[34m\u001B[1mwandb\u001B[0m: \tnum_classes: 1\n",
      "\u001B[34m\u001B[1mwandb\u001B[0m: \tnum_layers: 3\n",
      "\u001B[34m\u001B[1mwandb\u001B[0m: \tsequence_length: 10\n"
     ]
    },
    {
     "data": {
      "text/plain": "<IPython.core.display.HTML object>",
      "text/html": "\n                    Syncing run <strong><a href=\"https://wandb.ai/freja-thoresen/dtu-course/runs/po9hnk8z\" target=\"_blank\">effortless-sweep-12</a></strong> to <a href=\"https://wandb.ai/freja-thoresen/dtu-course\" target=\"_blank\">Weights & Biases</a> (<a href=\"https://docs.wandb.com/integrations/jupyter.html\" target=\"_blank\">docs</a>).<br/>\nSweep page: <a href=\"https://wandb.ai/freja-thoresen/dtu-course/sweeps/o1kyjfhc\" target=\"_blank\">https://wandb.ai/freja-thoresen/dtu-course/sweeps/o1kyjfhc</a><br/>\n\n                "
     },
     "metadata": {},
     "output_type": "display_data"
    },
    {
     "name": "stdout",
     "output_type": "stream",
     "text": [
      "training files 80\n",
      "validation files 10\n",
      "test files 10\n"
     ]
    },
    {
     "data": {
      "text/plain": "<IPython.core.display.HTML object>",
      "text/html": "<br/>Waiting for W&B process to finish, PID 28147... <strong style=\"color:green\">(success).</strong>"
     },
     "metadata": {},
     "output_type": "display_data"
    },
    {
     "data": {
      "text/plain": "VBox(children=(Label(value=' 0.00MB of 0.00MB uploaded (0.00MB deduped)\\r'), FloatProgress(value=1.0, max=1.0)…",
      "application/vnd.jupyter.widget-view+json": {
       "version_major": 2,
       "version_minor": 0,
       "model_id": "c9d65b25948e46df9f5ab1775414ec6c"
      }
     },
     "metadata": {},
     "output_type": "display_data"
    },
    {
     "data": {
      "text/plain": "<IPython.core.display.HTML object>",
      "text/html": "<style>\n    table.wandb td:nth-child(1) { padding: 0 10px; text-align: right }\n    .wandb-row { display: flex; flex-direction: row; flex-wrap: wrap; width: 100% }\n    .wandb-col { display: flex; flex-direction: column; flex-basis: 100%; flex: 1; padding: 10px; }\n    </style>\n<div class=\"wandb-row\"><div class=\"wandb-col\">\n<h3>Run history:</h3><br/><table class=\"wandb\"><tr><td>epoch</td><td>▁▁▁▂▂▂▂▂▂▃▃▃▃▃▄▄▄▄▄▄▅▅▅▅▅▅▆▆▆▆▆▇▇▇▇▇▇███</td></tr><tr><td>training_acc</td><td>▁▁▁▁▁▂▄▅▅▅▆▇▇▇▇▆▇▆▇▇▇█▇████▇████████████</td></tr><tr><td>training_loss</td><td>██▇▆▅▅▅▄▄▄▃▃▃▂▃▃▂▃▂▂▂▂▂▂▂▂▂▂▁▁▁▁▁▁▁▁▁▁▁▁</td></tr><tr><td>validation_acc</td><td>▁▇▇▇▇▇██████████████████████████████████</td></tr><tr><td>validation_loss</td><td>█▃▃▃▂▂▂▂▁▂▁▂▂▃▃▂▂▃▁▂▂▂▂▂▂▂▂▂▁▁▂▁▁▂▂▂▁▁▁▁</td></tr></table><br/></div><div class=\"wandb-col\">\n<h3>Run summary:</h3><br/><table class=\"wandb\"><tr><td>epoch</td><td>39</td></tr><tr><td>training_acc</td><td>0.94395</td></tr><tr><td>training_loss</td><td>0.18961</td></tr><tr><td>validation_acc</td><td>0.933</td></tr><tr><td>validation_loss</td><td>0.22748</td></tr></table>\n</div></div>\nSynced 6 W&B file(s), 0 media file(s), 0 artifact file(s) and 0 other file(s)\n<br/>Synced <strong style=\"color:#cdcd00\">effortless-sweep-12</strong>: <a href=\"https://wandb.ai/freja-thoresen/dtu-course/runs/po9hnk8z\" target=\"_blank\">https://wandb.ai/freja-thoresen/dtu-course/runs/po9hnk8z</a><br/>\nFind logs at: <code>./wandb/run-20211227_071146-po9hnk8z/logs</code><br/>\n"
     },
     "metadata": {},
     "output_type": "display_data"
    },
    {
     "name": "stderr",
     "output_type": "stream",
     "text": [
      "\u001B[34m\u001B[1mwandb\u001B[0m: Agent Starting Run: 34j2gaqy with config:\n",
      "\u001B[34m\u001B[1mwandb\u001B[0m: \tepochs: 40\n",
      "\u001B[34m\u001B[1mwandb\u001B[0m: \tinput_size: 1\n",
      "\u001B[34m\u001B[1mwandb\u001B[0m: \tlearning_rate: 0.0002\n",
      "\u001B[34m\u001B[1mwandb\u001B[0m: \tlinear_dropout: 0.2\n",
      "\u001B[34m\u001B[1mwandb\u001B[0m: \tlinear_hidden_size: 40\n",
      "\u001B[34m\u001B[1mwandb\u001B[0m: \tlstm_dropbout: 0.2\n",
      "\u001B[34m\u001B[1mwandb\u001B[0m: \tlstm_hidden_size: 20\n",
      "\u001B[34m\u001B[1mwandb\u001B[0m: \tno_batches: 100\n",
      "\u001B[34m\u001B[1mwandb\u001B[0m: \tno_files: 100\n",
      "\u001B[34m\u001B[1mwandb\u001B[0m: \tnum_classes: 1\n",
      "\u001B[34m\u001B[1mwandb\u001B[0m: \tnum_layers: 2\n",
      "\u001B[34m\u001B[1mwandb\u001B[0m: \tsequence_length: 10\n"
     ]
    },
    {
     "data": {
      "text/plain": "<IPython.core.display.HTML object>",
      "text/html": "\n                    Syncing run <strong><a href=\"https://wandb.ai/freja-thoresen/dtu-course/runs/34j2gaqy\" target=\"_blank\">laced-sweep-13</a></strong> to <a href=\"https://wandb.ai/freja-thoresen/dtu-course\" target=\"_blank\">Weights & Biases</a> (<a href=\"https://docs.wandb.com/integrations/jupyter.html\" target=\"_blank\">docs</a>).<br/>\nSweep page: <a href=\"https://wandb.ai/freja-thoresen/dtu-course/sweeps/o1kyjfhc\" target=\"_blank\">https://wandb.ai/freja-thoresen/dtu-course/sweeps/o1kyjfhc</a><br/>\n\n                "
     },
     "metadata": {},
     "output_type": "display_data"
    },
    {
     "name": "stdout",
     "output_type": "stream",
     "text": [
      "training files 80\n",
      "validation files 10\n",
      "test files 10\n"
     ]
    },
    {
     "data": {
      "text/plain": "<IPython.core.display.HTML object>",
      "text/html": "<br/>Waiting for W&B process to finish, PID 29379... <strong style=\"color:green\">(success).</strong>"
     },
     "metadata": {},
     "output_type": "display_data"
    },
    {
     "data": {
      "text/plain": "VBox(children=(Label(value=' 0.00MB of 0.00MB uploaded (0.00MB deduped)\\r'), FloatProgress(value=1.0, max=1.0)…",
      "application/vnd.jupyter.widget-view+json": {
       "version_major": 2,
       "version_minor": 0,
       "model_id": "ae6f78f2ed984e6fbc656a786b63da2d"
      }
     },
     "metadata": {},
     "output_type": "display_data"
    },
    {
     "data": {
      "text/plain": "<IPython.core.display.HTML object>",
      "text/html": "<style>\n    table.wandb td:nth-child(1) { padding: 0 10px; text-align: right }\n    .wandb-row { display: flex; flex-direction: row; flex-wrap: wrap; width: 100% }\n    .wandb-col { display: flex; flex-direction: column; flex-basis: 100%; flex: 1; padding: 10px; }\n    </style>\n<div class=\"wandb-row\"><div class=\"wandb-col\">\n<h3>Run history:</h3><br/><table class=\"wandb\"><tr><td>epoch</td><td>▁▁▁▂▂▂▂▂▂▃▃▃▃▃▄▄▄▄▄▄▅▅▅▅▅▅▆▆▆▆▆▇▇▇▇▇▇███</td></tr><tr><td>training_acc</td><td>▁▂▅▆▆▆▆▆▆▆▇▇▇▇▇▇▇▇▇▇▇█████████▇▇▇▇███▇█▇</td></tr><tr><td>training_loss</td><td>█▆▄▄▄▃▃▃▃▃▂▂▂▂▂▂▂▂▂▂▂▁▁▁▁▁▁▁▁▁▂▂▂▂▁▁▁▂▁▁</td></tr><tr><td>validation_acc</td><td>▁▇▇██▇▇██▇█▇▇█▇███████▇████████████████▇</td></tr><tr><td>validation_loss</td><td>█▅▃▂▂▄▅▂▂▄▁▃▃▁▄▁▁▂▂▂▂▂▃▁▂▂▁▂▂▂▁▁▁▁▁▂▁▁▁▂</td></tr></table><br/></div><div class=\"wandb-col\">\n<h3>Run summary:</h3><br/><table class=\"wandb\"><tr><td>epoch</td><td>39</td></tr><tr><td>training_acc</td><td>0.93897</td></tr><tr><td>training_loss</td><td>0.18818</td></tr><tr><td>validation_acc</td><td>0.89791</td></tr><tr><td>validation_loss</td><td>0.25445</td></tr></table>\n</div></div>\nSynced 6 W&B file(s), 0 media file(s), 0 artifact file(s) and 0 other file(s)\n<br/>Synced <strong style=\"color:#cdcd00\">laced-sweep-13</strong>: <a href=\"https://wandb.ai/freja-thoresen/dtu-course/runs/34j2gaqy\" target=\"_blank\">https://wandb.ai/freja-thoresen/dtu-course/runs/34j2gaqy</a><br/>\nFind logs at: <code>./wandb/run-20211227_084542-34j2gaqy/logs</code><br/>\n"
     },
     "metadata": {},
     "output_type": "display_data"
    },
    {
     "name": "stderr",
     "output_type": "stream",
     "text": [
      "\u001B[34m\u001B[1mwandb\u001B[0m: Agent Starting Run: veso5yqg with config:\n",
      "\u001B[34m\u001B[1mwandb\u001B[0m: \tepochs: 40\n",
      "\u001B[34m\u001B[1mwandb\u001B[0m: \tinput_size: 1\n",
      "\u001B[34m\u001B[1mwandb\u001B[0m: \tlearning_rate: 0.0002\n",
      "\u001B[34m\u001B[1mwandb\u001B[0m: \tlinear_dropout: 0.2\n",
      "\u001B[34m\u001B[1mwandb\u001B[0m: \tlinear_hidden_size: 40\n",
      "\u001B[34m\u001B[1mwandb\u001B[0m: \tlstm_dropbout: 0.2\n",
      "\u001B[34m\u001B[1mwandb\u001B[0m: \tlstm_hidden_size: 20\n",
      "\u001B[34m\u001B[1mwandb\u001B[0m: \tno_batches: 100\n",
      "\u001B[34m\u001B[1mwandb\u001B[0m: \tno_files: 100\n",
      "\u001B[34m\u001B[1mwandb\u001B[0m: \tnum_classes: 1\n",
      "\u001B[34m\u001B[1mwandb\u001B[0m: \tnum_layers: 3\n",
      "\u001B[34m\u001B[1mwandb\u001B[0m: \tsequence_length: 10\n"
     ]
    },
    {
     "data": {
      "text/plain": "<IPython.core.display.HTML object>",
      "text/html": "\n                    Syncing run <strong><a href=\"https://wandb.ai/freja-thoresen/dtu-course/runs/veso5yqg\" target=\"_blank\">lively-sweep-14</a></strong> to <a href=\"https://wandb.ai/freja-thoresen/dtu-course\" target=\"_blank\">Weights & Biases</a> (<a href=\"https://docs.wandb.com/integrations/jupyter.html\" target=\"_blank\">docs</a>).<br/>\nSweep page: <a href=\"https://wandb.ai/freja-thoresen/dtu-course/sweeps/o1kyjfhc\" target=\"_blank\">https://wandb.ai/freja-thoresen/dtu-course/sweeps/o1kyjfhc</a><br/>\n\n                "
     },
     "metadata": {},
     "output_type": "display_data"
    },
    {
     "name": "stdout",
     "output_type": "stream",
     "text": [
      "training files 80\n",
      "validation files 10\n",
      "test files 10\n"
     ]
    },
    {
     "data": {
      "text/plain": "<IPython.core.display.HTML object>",
      "text/html": "<br/>Waiting for W&B process to finish, PID 29767... <strong style=\"color:green\">(success).</strong>"
     },
     "metadata": {},
     "output_type": "display_data"
    },
    {
     "data": {
      "text/plain": "VBox(children=(Label(value=' 0.00MB of 0.00MB uploaded (0.00MB deduped)\\r'), FloatProgress(value=1.0, max=1.0)…",
      "application/vnd.jupyter.widget-view+json": {
       "version_major": 2,
       "version_minor": 0,
       "model_id": "e879e1ca768142a6954eb43c0dd3847d"
      }
     },
     "metadata": {},
     "output_type": "display_data"
    },
    {
     "data": {
      "text/plain": "<IPython.core.display.HTML object>",
      "text/html": "<style>\n    table.wandb td:nth-child(1) { padding: 0 10px; text-align: right }\n    .wandb-row { display: flex; flex-direction: row; flex-wrap: wrap; width: 100% }\n    .wandb-col { display: flex; flex-direction: column; flex-basis: 100%; flex: 1; padding: 10px; }\n    </style>\n<div class=\"wandb-row\"><div class=\"wandb-col\">\n<h3>Run history:</h3><br/><table class=\"wandb\"><tr><td>epoch</td><td>▁▁▁▂▂▂▂▂▂▃▃▃▃▃▄▄▄▄▄▄▅▅▅▅▅▅▆▆▆▆▆▇▇▇▇▇▇███</td></tr><tr><td>training_acc</td><td>▁▂▅▆▆▆▆▇▇▇▇▇▇▇▇█████████████████████████</td></tr><tr><td>training_loss</td><td>█▆▄▄▃▃▃▃▂▂▂▂▂▂▂▂▂▂▁▁▁▁▁▁▁▁▁▁▁▁▁▁▁▁▁▁▁▁▁▁</td></tr><tr><td>validation_acc</td><td>▁▇██████████████████████████████████████</td></tr><tr><td>validation_loss</td><td>█▄▃▂▂▂▂▂▁▂▁▁▁▁▁▁▁▁▂▂▂▂▂▂▁▂▁▂▂▂▂▁▂▂▁▂▁▂▂▂</td></tr></table><br/></div><div class=\"wandb-col\">\n<h3>Run summary:</h3><br/><table class=\"wandb\"><tr><td>epoch</td><td>39</td></tr><tr><td>training_acc</td><td>0.9485</td></tr><tr><td>training_loss</td><td>0.17301</td></tr><tr><td>validation_acc</td><td>0.93375</td></tr><tr><td>validation_loss</td><td>0.24919</td></tr></table>\n</div></div>\nSynced 6 W&B file(s), 0 media file(s), 0 artifact file(s) and 0 other file(s)\n<br/>Synced <strong style=\"color:#cdcd00\">lively-sweep-14</strong>: <a href=\"https://wandb.ai/freja-thoresen/dtu-course/runs/veso5yqg\" target=\"_blank\">https://wandb.ai/freja-thoresen/dtu-course/runs/veso5yqg</a><br/>\nFind logs at: <code>./wandb/run-20211227_092417-veso5yqg/logs</code><br/>\n"
     },
     "metadata": {},
     "output_type": "display_data"
    },
    {
     "name": "stderr",
     "output_type": "stream",
     "text": [
      "\u001B[34m\u001B[1mwandb\u001B[0m: Agent Starting Run: de3p561e with config:\n",
      "\u001B[34m\u001B[1mwandb\u001B[0m: \tepochs: 40\n",
      "\u001B[34m\u001B[1mwandb\u001B[0m: \tinput_size: 1\n",
      "\u001B[34m\u001B[1mwandb\u001B[0m: \tlearning_rate: 0.0002\n",
      "\u001B[34m\u001B[1mwandb\u001B[0m: \tlinear_dropout: 0.2\n",
      "\u001B[34m\u001B[1mwandb\u001B[0m: \tlinear_hidden_size: 40\n",
      "\u001B[34m\u001B[1mwandb\u001B[0m: \tlstm_dropbout: 0.2\n",
      "\u001B[34m\u001B[1mwandb\u001B[0m: \tlstm_hidden_size: 40\n",
      "\u001B[34m\u001B[1mwandb\u001B[0m: \tno_batches: 100\n",
      "\u001B[34m\u001B[1mwandb\u001B[0m: \tno_files: 100\n",
      "\u001B[34m\u001B[1mwandb\u001B[0m: \tnum_classes: 1\n",
      "\u001B[34m\u001B[1mwandb\u001B[0m: \tnum_layers: 2\n",
      "\u001B[34m\u001B[1mwandb\u001B[0m: \tsequence_length: 10\n"
     ]
    },
    {
     "data": {
      "text/plain": "<IPython.core.display.HTML object>",
      "text/html": "\n                    Syncing run <strong><a href=\"https://wandb.ai/freja-thoresen/dtu-course/runs/de3p561e\" target=\"_blank\">hopeful-sweep-15</a></strong> to <a href=\"https://wandb.ai/freja-thoresen/dtu-course\" target=\"_blank\">Weights & Biases</a> (<a href=\"https://docs.wandb.com/integrations/jupyter.html\" target=\"_blank\">docs</a>).<br/>\nSweep page: <a href=\"https://wandb.ai/freja-thoresen/dtu-course/sweeps/o1kyjfhc\" target=\"_blank\">https://wandb.ai/freja-thoresen/dtu-course/sweeps/o1kyjfhc</a><br/>\n\n                "
     },
     "metadata": {},
     "output_type": "display_data"
    },
    {
     "name": "stdout",
     "output_type": "stream",
     "text": [
      "training files 80\n",
      "validation files 10\n",
      "test files 10\n"
     ]
    },
    {
     "data": {
      "text/plain": "<IPython.core.display.HTML object>",
      "text/html": "<br/>Waiting for W&B process to finish, PID 30367... <strong style=\"color:green\">(success).</strong>"
     },
     "metadata": {},
     "output_type": "display_data"
    },
    {
     "data": {
      "text/plain": "VBox(children=(Label(value=' 0.00MB of 0.00MB uploaded (0.00MB deduped)\\r'), FloatProgress(value=1.0, max=1.0)…",
      "application/vnd.jupyter.widget-view+json": {
       "version_major": 2,
       "version_minor": 0,
       "model_id": "48cfabce4d7d42ae90bd50c5db0b3d57"
      }
     },
     "metadata": {},
     "output_type": "display_data"
    },
    {
     "data": {
      "text/plain": "<IPython.core.display.HTML object>",
      "text/html": "<style>\n    table.wandb td:nth-child(1) { padding: 0 10px; text-align: right }\n    .wandb-row { display: flex; flex-direction: row; flex-wrap: wrap; width: 100% }\n    .wandb-col { display: flex; flex-direction: column; flex-basis: 100%; flex: 1; padding: 10px; }\n    </style>\n<div class=\"wandb-row\"><div class=\"wandb-col\">\n<h3>Run history:</h3><br/><table class=\"wandb\"><tr><td>epoch</td><td>▁▁▁▂▂▂▂▂▂▃▃▃▃▃▄▄▄▄▄▄▅▅▅▅▅▅▆▆▆▆▆▇▇▇▇▇▇███</td></tr><tr><td>training_acc</td><td>▁▄▅▆▆▆▇▇▇▇▇▇▇▇▇█████████████████████████</td></tr><tr><td>training_loss</td><td>█▅▄▄▃▃▃▂▂▂▂▂▂▂▂▂▂▂▁▁▁▁▁▁▁▁▁▁▁▁▁▁▁▁▁▁▁▁▁▁</td></tr><tr><td>validation_acc</td><td>▁███████████████████████████████████████</td></tr><tr><td>validation_loss</td><td>█▂▂▂▁▁▁▁▁▁▁▁▁▁▁▁▁▁▁▁▁▁▁▁▁▁▁▁▁▁▁▁▁▁▁▁▁▁▁▁</td></tr></table><br/></div><div class=\"wandb-col\">\n<h3>Run summary:</h3><br/><table class=\"wandb\"><tr><td>epoch</td><td>39</td></tr><tr><td>training_acc</td><td>0.95273</td></tr><tr><td>training_loss</td><td>0.15592</td></tr><tr><td>validation_acc</td><td>0.95901</td></tr><tr><td>validation_loss</td><td>0.17297</td></tr></table>\n</div></div>\nSynced 6 W&B file(s), 0 media file(s), 0 artifact file(s) and 0 other file(s)\n<br/>Synced <strong style=\"color:#cdcd00\">hopeful-sweep-15</strong>: <a href=\"https://wandb.ai/freja-thoresen/dtu-course/runs/de3p561e\" target=\"_blank\">https://wandb.ai/freja-thoresen/dtu-course/runs/de3p561e</a><br/>\nFind logs at: <code>./wandb/run-20211227_101612-de3p561e/logs</code><br/>\n"
     },
     "metadata": {},
     "output_type": "display_data"
    },
    {
     "name": "stderr",
     "output_type": "stream",
     "text": [
      "\u001B[34m\u001B[1mwandb\u001B[0m: Agent Starting Run: ldfryr5z with config:\n",
      "\u001B[34m\u001B[1mwandb\u001B[0m: \tepochs: 40\n",
      "\u001B[34m\u001B[1mwandb\u001B[0m: \tinput_size: 1\n",
      "\u001B[34m\u001B[1mwandb\u001B[0m: \tlearning_rate: 0.0002\n",
      "\u001B[34m\u001B[1mwandb\u001B[0m: \tlinear_dropout: 0.2\n",
      "\u001B[34m\u001B[1mwandb\u001B[0m: \tlinear_hidden_size: 40\n",
      "\u001B[34m\u001B[1mwandb\u001B[0m: \tlstm_dropbout: 0.2\n",
      "\u001B[34m\u001B[1mwandb\u001B[0m: \tlstm_hidden_size: 40\n",
      "\u001B[34m\u001B[1mwandb\u001B[0m: \tno_batches: 100\n",
      "\u001B[34m\u001B[1mwandb\u001B[0m: \tno_files: 100\n",
      "\u001B[34m\u001B[1mwandb\u001B[0m: \tnum_classes: 1\n",
      "\u001B[34m\u001B[1mwandb\u001B[0m: \tnum_layers: 3\n",
      "\u001B[34m\u001B[1mwandb\u001B[0m: \tsequence_length: 10\n"
     ]
    },
    {
     "data": {
      "text/plain": "<IPython.core.display.HTML object>",
      "text/html": "\n                    Syncing run <strong><a href=\"https://wandb.ai/freja-thoresen/dtu-course/runs/ldfryr5z\" target=\"_blank\">classic-sweep-16</a></strong> to <a href=\"https://wandb.ai/freja-thoresen/dtu-course\" target=\"_blank\">Weights & Biases</a> (<a href=\"https://docs.wandb.com/integrations/jupyter.html\" target=\"_blank\">docs</a>).<br/>\nSweep page: <a href=\"https://wandb.ai/freja-thoresen/dtu-course/sweeps/o1kyjfhc\" target=\"_blank\">https://wandb.ai/freja-thoresen/dtu-course/sweeps/o1kyjfhc</a><br/>\n\n                "
     },
     "metadata": {},
     "output_type": "display_data"
    },
    {
     "name": "stdout",
     "output_type": "stream",
     "text": [
      "training files 80\n",
      "validation files 10\n",
      "test files 10\n"
     ]
    },
    {
     "data": {
      "text/plain": "<IPython.core.display.HTML object>",
      "text/html": "<br/>Waiting for W&B process to finish, PID 31085... <strong style=\"color:green\">(success).</strong>"
     },
     "metadata": {},
     "output_type": "display_data"
    },
    {
     "data": {
      "text/plain": "VBox(children=(Label(value=' 0.00MB of 0.00MB uploaded (0.00MB deduped)\\r'), FloatProgress(value=1.0, max=1.0)…",
      "application/vnd.jupyter.widget-view+json": {
       "version_major": 2,
       "version_minor": 0,
       "model_id": "ac37e1d33a82472c8e7354036c27f1cc"
      }
     },
     "metadata": {},
     "output_type": "display_data"
    },
    {
     "data": {
      "text/plain": "<IPython.core.display.HTML object>",
      "text/html": "<style>\n    table.wandb td:nth-child(1) { padding: 0 10px; text-align: right }\n    .wandb-row { display: flex; flex-direction: row; flex-wrap: wrap; width: 100% }\n    .wandb-col { display: flex; flex-direction: column; flex-basis: 100%; flex: 1; padding: 10px; }\n    </style>\n<div class=\"wandb-row\"><div class=\"wandb-col\">\n<h3>Run history:</h3><br/><table class=\"wandb\"><tr><td>epoch</td><td>▁▁▁▂▂▂▂▂▂▃▃▃▃▃▄▄▄▄▄▄▅▅▅▅▅▅▆▆▆▆▆▇▇▇▇▇▇███</td></tr><tr><td>training_acc</td><td>▁▅▅▆▆▇▇▇▇▇▇▇▇███████████████████████████</td></tr><tr><td>training_loss</td><td>█▅▄▄▃▃▃▂▂▂▂▂▂▁▁▁▁▁▁▁▁▁▁▁▁▁▁▁▁▁▁▁▁▁▁▁▁▁▁▁</td></tr><tr><td>validation_acc</td><td>▅▇▇▄▇█▂▅██▆▅▇▁▃▅▄▆▇█▃▄▆▅▅▇▅▆▇▆▇▆█▅▇▇█▆▆▇</td></tr><tr><td>validation_loss</td><td>█▃▂▃▂▁▄▃▁▁▃▃▂▄▄▃▄▃▃▁▄▄▃▄▄▃▄▃▃▃▃▄▂▄▃▃▃▃▃▃</td></tr></table><br/></div><div class=\"wandb-col\">\n<h3>Run summary:</h3><br/><table class=\"wandb\"><tr><td>epoch</td><td>39</td></tr><tr><td>training_acc</td><td>0.95128</td></tr><tr><td>training_loss</td><td>0.15912</td></tr><tr><td>validation_acc</td><td>0.91222</td></tr><tr><td>validation_loss</td><td>0.34005</td></tr></table>\n</div></div>\nSynced 6 W&B file(s), 0 media file(s), 0 artifact file(s) and 0 other file(s)\n<br/>Synced <strong style=\"color:#cdcd00\">classic-sweep-16</strong>: <a href=\"https://wandb.ai/freja-thoresen/dtu-course/runs/ldfryr5z\" target=\"_blank\">https://wandb.ai/freja-thoresen/dtu-course/runs/ldfryr5z</a><br/>\nFind logs at: <code>./wandb/run-20211227_111407-ldfryr5z/logs</code><br/>\n"
     },
     "metadata": {},
     "output_type": "display_data"
    },
    {
     "name": "stderr",
     "output_type": "stream",
     "text": [
      "\u001B[34m\u001B[1mwandb\u001B[0m: Agent Starting Run: eqijg4w5 with config:\n",
      "\u001B[34m\u001B[1mwandb\u001B[0m: \tepochs: 40\n",
      "\u001B[34m\u001B[1mwandb\u001B[0m: \tinput_size: 1\n",
      "\u001B[34m\u001B[1mwandb\u001B[0m: \tlearning_rate: 0.0002\n",
      "\u001B[34m\u001B[1mwandb\u001B[0m: \tlinear_dropout: 0.2\n",
      "\u001B[34m\u001B[1mwandb\u001B[0m: \tlinear_hidden_size: 40\n",
      "\u001B[34m\u001B[1mwandb\u001B[0m: \tlstm_dropbout: 0.2\n",
      "\u001B[34m\u001B[1mwandb\u001B[0m: \tlstm_hidden_size: 60\n",
      "\u001B[34m\u001B[1mwandb\u001B[0m: \tno_batches: 100\n",
      "\u001B[34m\u001B[1mwandb\u001B[0m: \tno_files: 100\n",
      "\u001B[34m\u001B[1mwandb\u001B[0m: \tnum_classes: 1\n",
      "\u001B[34m\u001B[1mwandb\u001B[0m: \tnum_layers: 2\n",
      "\u001B[34m\u001B[1mwandb\u001B[0m: \tsequence_length: 10\n"
     ]
    },
    {
     "data": {
      "text/plain": "<IPython.core.display.HTML object>",
      "text/html": "\n                    Syncing run <strong><a href=\"https://wandb.ai/freja-thoresen/dtu-course/runs/eqijg4w5\" target=\"_blank\">breezy-sweep-17</a></strong> to <a href=\"https://wandb.ai/freja-thoresen/dtu-course\" target=\"_blank\">Weights & Biases</a> (<a href=\"https://docs.wandb.com/integrations/jupyter.html\" target=\"_blank\">docs</a>).<br/>\nSweep page: <a href=\"https://wandb.ai/freja-thoresen/dtu-course/sweeps/o1kyjfhc\" target=\"_blank\">https://wandb.ai/freja-thoresen/dtu-course/sweeps/o1kyjfhc</a><br/>\n\n                "
     },
     "metadata": {},
     "output_type": "display_data"
    },
    {
     "name": "stdout",
     "output_type": "stream",
     "text": [
      "training files 80\n",
      "validation files 10\n",
      "test files 10\n"
     ]
    },
    {
     "data": {
      "text/plain": "<IPython.core.display.HTML object>",
      "text/html": "<br/>Waiting for W&B process to finish, PID 32125... <strong style=\"color:green\">(success).</strong>"
     },
     "metadata": {},
     "output_type": "display_data"
    },
    {
     "data": {
      "text/plain": "VBox(children=(Label(value=' 0.00MB of 0.00MB uploaded (0.00MB deduped)\\r'), FloatProgress(value=1.0, max=1.0)…",
      "application/vnd.jupyter.widget-view+json": {
       "version_major": 2,
       "version_minor": 0,
       "model_id": "51eda5dbd0404cfb929070a7e54af238"
      }
     },
     "metadata": {},
     "output_type": "display_data"
    },
    {
     "data": {
      "text/plain": "<IPython.core.display.HTML object>",
      "text/html": "<style>\n    table.wandb td:nth-child(1) { padding: 0 10px; text-align: right }\n    .wandb-row { display: flex; flex-direction: row; flex-wrap: wrap; width: 100% }\n    .wandb-col { display: flex; flex-direction: column; flex-basis: 100%; flex: 1; padding: 10px; }\n    </style>\n<div class=\"wandb-row\"><div class=\"wandb-col\">\n<h3>Run history:</h3><br/><table class=\"wandb\"><tr><td>epoch</td><td>▁▁▁▂▂▂▂▂▂▃▃▃▃▃▄▄▄▄▄▄▅▅▅▅▅▅▆▆▆▆▆▇▇▇▇▇▇███</td></tr><tr><td>training_acc</td><td>▁▁▃▅▅▆▆▆▆▆▆▇▇▇▇▇▇▇▇▇▇▇▇▇▇▇▇█████████████</td></tr><tr><td>training_loss</td><td>█▇▅▄▄▃▃▃▃▃▃▂▂▂▂▂▂▂▂▂▂▁▂▂▂▂▂▁▁▁▁▁▁▁▁▁▁▁▁▁</td></tr><tr><td>validation_acc</td><td>▁▁▁▄▆▅▅▇▇▆▆▇▇▇█▇▅▇▇▇▇▆▇█▇███████████████</td></tr><tr><td>validation_loss</td><td>█▄▄▃▂▂▃▂▂▂▂▁▁▁▁▁▃▁▁▂▁▂▁▁▁▁▁▁▁▁▁▁▁▁▁▁▁▁▁▁</td></tr></table><br/></div><div class=\"wandb-col\">\n<h3>Run summary:</h3><br/><table class=\"wandb\"><tr><td>epoch</td><td>39</td></tr><tr><td>training_acc</td><td>0.94462</td></tr><tr><td>training_loss</td><td>0.18481</td></tr><tr><td>validation_acc</td><td>0.93652</td></tr><tr><td>validation_loss</td><td>0.22224</td></tr></table>\n</div></div>\nSynced 6 W&B file(s), 0 media file(s), 0 artifact file(s) and 0 other file(s)\n<br/>Synced <strong style=\"color:#cdcd00\">breezy-sweep-17</strong>: <a href=\"https://wandb.ai/freja-thoresen/dtu-course/runs/eqijg4w5\" target=\"_blank\">https://wandb.ai/freja-thoresen/dtu-course/runs/eqijg4w5</a><br/>\nFind logs at: <code>./wandb/run-20211227_123915-eqijg4w5/logs</code><br/>\n"
     },
     "metadata": {},
     "output_type": "display_data"
    },
    {
     "name": "stderr",
     "output_type": "stream",
     "text": [
      "\u001B[34m\u001B[1mwandb\u001B[0m: Agent Starting Run: 5qkegz61 with config:\n",
      "\u001B[34m\u001B[1mwandb\u001B[0m: \tepochs: 40\n",
      "\u001B[34m\u001B[1mwandb\u001B[0m: \tinput_size: 1\n",
      "\u001B[34m\u001B[1mwandb\u001B[0m: \tlearning_rate: 0.0002\n",
      "\u001B[34m\u001B[1mwandb\u001B[0m: \tlinear_dropout: 0.2\n",
      "\u001B[34m\u001B[1mwandb\u001B[0m: \tlinear_hidden_size: 40\n",
      "\u001B[34m\u001B[1mwandb\u001B[0m: \tlstm_dropbout: 0.2\n",
      "\u001B[34m\u001B[1mwandb\u001B[0m: \tlstm_hidden_size: 60\n",
      "\u001B[34m\u001B[1mwandb\u001B[0m: \tno_batches: 100\n",
      "\u001B[34m\u001B[1mwandb\u001B[0m: \tno_files: 100\n",
      "\u001B[34m\u001B[1mwandb\u001B[0m: \tnum_classes: 1\n",
      "\u001B[34m\u001B[1mwandb\u001B[0m: \tnum_layers: 3\n",
      "\u001B[34m\u001B[1mwandb\u001B[0m: \tsequence_length: 10\n"
     ]
    },
    {
     "data": {
      "text/plain": "<IPython.core.display.HTML object>",
      "text/html": "\n                    Syncing run <strong><a href=\"https://wandb.ai/freja-thoresen/dtu-course/runs/5qkegz61\" target=\"_blank\">neat-sweep-18</a></strong> to <a href=\"https://wandb.ai/freja-thoresen/dtu-course\" target=\"_blank\">Weights & Biases</a> (<a href=\"https://docs.wandb.com/integrations/jupyter.html\" target=\"_blank\">docs</a>).<br/>\nSweep page: <a href=\"https://wandb.ai/freja-thoresen/dtu-course/sweeps/o1kyjfhc\" target=\"_blank\">https://wandb.ai/freja-thoresen/dtu-course/sweeps/o1kyjfhc</a><br/>\n\n                "
     },
     "metadata": {},
     "output_type": "display_data"
    },
    {
     "name": "stdout",
     "output_type": "stream",
     "text": [
      "training files 80\n",
      "validation files 10\n",
      "test files 10\n"
     ]
    },
    {
     "data": {
      "text/plain": "<IPython.core.display.HTML object>",
      "text/html": "<br/>Waiting for W&B process to finish, PID 32862... <strong style=\"color:green\">(success).</strong>"
     },
     "metadata": {},
     "output_type": "display_data"
    },
    {
     "data": {
      "text/plain": "VBox(children=(Label(value=' 0.00MB of 0.00MB uploaded (0.00MB deduped)\\r'), FloatProgress(value=1.0, max=1.0)…",
      "application/vnd.jupyter.widget-view+json": {
       "version_major": 2,
       "version_minor": 0,
       "model_id": "af0845e9f7bd46fc8e4edad6e8dbcc2a"
      }
     },
     "metadata": {},
     "output_type": "display_data"
    },
    {
     "data": {
      "text/plain": "<IPython.core.display.HTML object>",
      "text/html": "<style>\n    table.wandb td:nth-child(1) { padding: 0 10px; text-align: right }\n    .wandb-row { display: flex; flex-direction: row; flex-wrap: wrap; width: 100% }\n    .wandb-col { display: flex; flex-direction: column; flex-basis: 100%; flex: 1; padding: 10px; }\n    </style>\n<div class=\"wandb-row\"><div class=\"wandb-col\">\n<h3>Run history:</h3><br/><table class=\"wandb\"><tr><td>epoch</td><td>▁▁▁▂▂▂▂▂▂▃▃▃▃▃▄▄▄▄▄▄▅▅▅▅▅▅▆▆▆▆▆▇▇▇▇▇▇███</td></tr><tr><td>training_acc</td><td>▁▄▅▆▆▆▆▇▇▇▇▇▇▇▇█████████████████████████</td></tr><tr><td>training_loss</td><td>█▅▄▃▃▃▃▂▂▂▂▂▂▂▂▂▂▂▁▁▁▁▁▁▁▁▁▁▁▁▁▁▁▁▁▁▁▁▁▁</td></tr><tr><td>validation_acc</td><td>▁▅▄▆▇▇▇▇▇▇▇▇▇▇█▇████████████████████████</td></tr><tr><td>validation_loss</td><td>█▃▄▂▂▂▂▂▂▁▂▁▁▁▁▁▁▁▁▁▁▁▁▁▁▁▁▁▁▁▁▁▁▁▁▁▁▁▁▁</td></tr></table><br/></div><div class=\"wandb-col\">\n<h3>Run summary:</h3><br/><table class=\"wandb\"><tr><td>epoch</td><td>39</td></tr><tr><td>training_acc</td><td>0.94999</td></tr><tr><td>training_loss</td><td>0.16951</td></tr><tr><td>validation_acc</td><td>0.96366</td></tr><tr><td>validation_loss</td><td>0.12858</td></tr></table>\n</div></div>\nSynced 6 W&B file(s), 0 media file(s), 0 artifact file(s) and 0 other file(s)\n<br/>Synced <strong style=\"color:#cdcd00\">neat-sweep-18</strong>: <a href=\"https://wandb.ai/freja-thoresen/dtu-course/runs/5qkegz61\" target=\"_blank\">https://wandb.ai/freja-thoresen/dtu-course/runs/5qkegz61</a><br/>\nFind logs at: <code>./wandb/run-20211227_133656-5qkegz61/logs</code><br/>\n"
     },
     "metadata": {},
     "output_type": "display_data"
    },
    {
     "name": "stderr",
     "output_type": "stream",
     "text": [
      "\u001B[34m\u001B[1mwandb\u001B[0m: Agent Starting Run: pimhx6lx with config:\n",
      "\u001B[34m\u001B[1mwandb\u001B[0m: \tepochs: 40\n",
      "\u001B[34m\u001B[1mwandb\u001B[0m: \tinput_size: 1\n",
      "\u001B[34m\u001B[1mwandb\u001B[0m: \tlearning_rate: 0.0002\n",
      "\u001B[34m\u001B[1mwandb\u001B[0m: \tlinear_dropout: 0.2\n",
      "\u001B[34m\u001B[1mwandb\u001B[0m: \tlinear_hidden_size: 40\n",
      "\u001B[34m\u001B[1mwandb\u001B[0m: \tlstm_dropbout: 0.4\n",
      "\u001B[34m\u001B[1mwandb\u001B[0m: \tlstm_hidden_size: 20\n",
      "\u001B[34m\u001B[1mwandb\u001B[0m: \tno_batches: 100\n",
      "\u001B[34m\u001B[1mwandb\u001B[0m: \tno_files: 100\n",
      "\u001B[34m\u001B[1mwandb\u001B[0m: \tnum_classes: 1\n",
      "\u001B[34m\u001B[1mwandb\u001B[0m: \tnum_layers: 2\n",
      "\u001B[34m\u001B[1mwandb\u001B[0m: \tsequence_length: 10\n"
     ]
    },
    {
     "data": {
      "text/plain": "<IPython.core.display.HTML object>",
      "text/html": "\n                    Syncing run <strong><a href=\"https://wandb.ai/freja-thoresen/dtu-course/runs/pimhx6lx\" target=\"_blank\">unique-sweep-19</a></strong> to <a href=\"https://wandb.ai/freja-thoresen/dtu-course\" target=\"_blank\">Weights & Biases</a> (<a href=\"https://docs.wandb.com/integrations/jupyter.html\" target=\"_blank\">docs</a>).<br/>\nSweep page: <a href=\"https://wandb.ai/freja-thoresen/dtu-course/sweeps/o1kyjfhc\" target=\"_blank\">https://wandb.ai/freja-thoresen/dtu-course/sweeps/o1kyjfhc</a><br/>\n\n                "
     },
     "metadata": {},
     "output_type": "display_data"
    },
    {
     "name": "stdout",
     "output_type": "stream",
     "text": [
      "training files 80\n",
      "validation files 10\n",
      "test files 10\n"
     ]
    },
    {
     "data": {
      "text/plain": "<IPython.core.display.HTML object>",
      "text/html": "<br/>Waiting for W&B process to finish, PID 34135... <strong style=\"color:green\">(success).</strong>"
     },
     "metadata": {},
     "output_type": "display_data"
    },
    {
     "data": {
      "text/plain": "VBox(children=(Label(value=' 0.00MB of 0.00MB uploaded (0.00MB deduped)\\r'), FloatProgress(value=1.0, max=1.0)…",
      "application/vnd.jupyter.widget-view+json": {
       "version_major": 2,
       "version_minor": 0,
       "model_id": "e3f3365fdb46497e8a4d8f09e5d2760e"
      }
     },
     "metadata": {},
     "output_type": "display_data"
    },
    {
     "data": {
      "text/plain": "<IPython.core.display.HTML object>",
      "text/html": "<style>\n    table.wandb td:nth-child(1) { padding: 0 10px; text-align: right }\n    .wandb-row { display: flex; flex-direction: row; flex-wrap: wrap; width: 100% }\n    .wandb-col { display: flex; flex-direction: column; flex-basis: 100%; flex: 1; padding: 10px; }\n    </style>\n<div class=\"wandb-row\"><div class=\"wandb-col\">\n<h3>Run history:</h3><br/><table class=\"wandb\"><tr><td>epoch</td><td>▁▁▁▂▂▂▂▂▂▃▃▃▃▃▄▄▄▄▄▄▅▅▅▅▅▅▆▆▆▆▆▇▇▇▇▇▇███</td></tr><tr><td>training_acc</td><td>▁▅▅▆▆▇▇▇▇▇▇▇▇█████████████████▇█████▇███</td></tr><tr><td>training_loss</td><td>█▅▄▄▃▃▃▂▂▂▂▂▂▂▂▂▂▂▁▁▁▁▁▁▁▁▁▁▁▁▂▁▁▁▁▁▂▂▁▁</td></tr><tr><td>validation_acc</td><td>▁▇██████████████████████████████████████</td></tr><tr><td>validation_loss</td><td>█▄▃▃▂▃▂▂▁▁▁▃▂▂▁▂▂▂▁▂▁▁▁▁▁▁▁▁▁▁▁▁▁▁▁▁▂▃▁▁</td></tr></table><br/></div><div class=\"wandb-col\">\n<h3>Run summary:</h3><br/><table class=\"wandb\"><tr><td>epoch</td><td>39</td></tr><tr><td>training_acc</td><td>0.9486</td></tr><tr><td>training_loss</td><td>0.16805</td></tr><tr><td>validation_acc</td><td>0.958</td></tr><tr><td>validation_loss</td><td>0.12479</td></tr></table>\n</div></div>\nSynced 6 W&B file(s), 0 media file(s), 0 artifact file(s) and 0 other file(s)\n<br/>Synced <strong style=\"color:#cdcd00\">unique-sweep-19</strong>: <a href=\"https://wandb.ai/freja-thoresen/dtu-course/runs/pimhx6lx\" target=\"_blank\">https://wandb.ai/freja-thoresen/dtu-course/runs/pimhx6lx</a><br/>\nFind logs at: <code>./wandb/run-20211227_151754-pimhx6lx/logs</code><br/>\n"
     },
     "metadata": {},
     "output_type": "display_data"
    },
    {
     "name": "stderr",
     "output_type": "stream",
     "text": [
      "\u001B[34m\u001B[1mwandb\u001B[0m: Sweep Agent: Waiting for job.\n",
      "\u001B[34m\u001B[1mwandb\u001B[0m: Job received.\n",
      "\u001B[34m\u001B[1mwandb\u001B[0m: Agent Starting Run: 1pmi04na with config:\n",
      "\u001B[34m\u001B[1mwandb\u001B[0m: \tepochs: 40\n",
      "\u001B[34m\u001B[1mwandb\u001B[0m: \tinput_size: 1\n",
      "\u001B[34m\u001B[1mwandb\u001B[0m: \tlearning_rate: 0.0002\n",
      "\u001B[34m\u001B[1mwandb\u001B[0m: \tlinear_dropout: 0.2\n",
      "\u001B[34m\u001B[1mwandb\u001B[0m: \tlinear_hidden_size: 40\n",
      "\u001B[34m\u001B[1mwandb\u001B[0m: \tlstm_dropbout: 0.4\n",
      "\u001B[34m\u001B[1mwandb\u001B[0m: \tlstm_hidden_size: 20\n",
      "\u001B[34m\u001B[1mwandb\u001B[0m: \tno_batches: 100\n",
      "\u001B[34m\u001B[1mwandb\u001B[0m: \tno_files: 100\n",
      "\u001B[34m\u001B[1mwandb\u001B[0m: \tnum_classes: 1\n",
      "\u001B[34m\u001B[1mwandb\u001B[0m: \tnum_layers: 3\n",
      "\u001B[34m\u001B[1mwandb\u001B[0m: \tsequence_length: 10\n"
     ]
    },
    {
     "data": {
      "text/plain": "<IPython.core.display.HTML object>",
      "text/html": "\n                    Syncing run <strong><a href=\"https://wandb.ai/freja-thoresen/dtu-course/runs/1pmi04na\" target=\"_blank\">hardy-sweep-20</a></strong> to <a href=\"https://wandb.ai/freja-thoresen/dtu-course\" target=\"_blank\">Weights & Biases</a> (<a href=\"https://docs.wandb.com/integrations/jupyter.html\" target=\"_blank\">docs</a>).<br/>\nSweep page: <a href=\"https://wandb.ai/freja-thoresen/dtu-course/sweeps/o1kyjfhc\" target=\"_blank\">https://wandb.ai/freja-thoresen/dtu-course/sweeps/o1kyjfhc</a><br/>\n\n                "
     },
     "metadata": {},
     "output_type": "display_data"
    },
    {
     "name": "stdout",
     "output_type": "stream",
     "text": [
      "training files 80\n",
      "validation files 10\n",
      "test files 10\n"
     ]
    },
    {
     "data": {
      "text/plain": "<IPython.core.display.HTML object>",
      "text/html": "<br/>Waiting for W&B process to finish, PID 34669... <strong style=\"color:green\">(success).</strong>"
     },
     "metadata": {},
     "output_type": "display_data"
    },
    {
     "data": {
      "text/plain": "VBox(children=(Label(value=' 0.00MB of 0.00MB uploaded (0.00MB deduped)\\r'), FloatProgress(value=1.0, max=1.0)…",
      "application/vnd.jupyter.widget-view+json": {
       "version_major": 2,
       "version_minor": 0,
       "model_id": "97ddf605058345109f46dc89f2e73503"
      }
     },
     "metadata": {},
     "output_type": "display_data"
    },
    {
     "data": {
      "text/plain": "<IPython.core.display.HTML object>",
      "text/html": "<style>\n    table.wandb td:nth-child(1) { padding: 0 10px; text-align: right }\n    .wandb-row { display: flex; flex-direction: row; flex-wrap: wrap; width: 100% }\n    .wandb-col { display: flex; flex-direction: column; flex-basis: 100%; flex: 1; padding: 10px; }\n    </style>\n<div class=\"wandb-row\"><div class=\"wandb-col\">\n<h3>Run history:</h3><br/><table class=\"wandb\"><tr><td>epoch</td><td>▁▁▁▂▂▂▂▂▂▃▃▃▃▃▄▄▄▄▄▄▅▅▅▅▅▅▆▆▆▆▆▇▇▇▇▇▇███</td></tr><tr><td>training_acc</td><td>▁▄▆▆▇▇▇▇▇▇▇▇▇▇▇███▇█████████████████████</td></tr><tr><td>training_loss</td><td>█▅▄▃▃▃▃▂▂▂▂▂▂▂▂▂▂▂▂▂▁▁▁▁▁▁▁▁▁▁▁▁▁▁▁▁▁▁▁▁</td></tr><tr><td>validation_acc</td><td>▁▇██████████████████████████████████████</td></tr><tr><td>validation_loss</td><td>█▄▂▂▂▁▁▁▁▂▂▂▁▁▂▂▂▂▂▂▂▂▂▂▂▂▂▂▂▂▂▂▂▂▂▂▂▂▂▂</td></tr></table><br/></div><div class=\"wandb-col\">\n<h3>Run summary:</h3><br/><table class=\"wandb\"><tr><td>epoch</td><td>39</td></tr><tr><td>training_acc</td><td>0.94145</td></tr><tr><td>training_loss</td><td>0.18824</td></tr><tr><td>validation_acc</td><td>0.93187</td></tr><tr><td>validation_loss</td><td>0.24685</td></tr></table>\n</div></div>\nSynced 6 W&B file(s), 0 media file(s), 0 artifact file(s) and 0 other file(s)\n<br/>Synced <strong style=\"color:#cdcd00\">hardy-sweep-20</strong>: <a href=\"https://wandb.ai/freja-thoresen/dtu-course/runs/1pmi04na\" target=\"_blank\">https://wandb.ai/freja-thoresen/dtu-course/runs/1pmi04na</a><br/>\nFind logs at: <code>./wandb/run-20211227_160233-1pmi04na/logs</code><br/>\n"
     },
     "metadata": {},
     "output_type": "display_data"
    },
    {
     "name": "stderr",
     "output_type": "stream",
     "text": [
      "\u001B[34m\u001B[1mwandb\u001B[0m: Agent Starting Run: 4xht0wu6 with config:\n",
      "\u001B[34m\u001B[1mwandb\u001B[0m: \tepochs: 40\n",
      "\u001B[34m\u001B[1mwandb\u001B[0m: \tinput_size: 1\n",
      "\u001B[34m\u001B[1mwandb\u001B[0m: \tlearning_rate: 0.0002\n",
      "\u001B[34m\u001B[1mwandb\u001B[0m: \tlinear_dropout: 0.2\n",
      "\u001B[34m\u001B[1mwandb\u001B[0m: \tlinear_hidden_size: 40\n",
      "\u001B[34m\u001B[1mwandb\u001B[0m: \tlstm_dropbout: 0.4\n",
      "\u001B[34m\u001B[1mwandb\u001B[0m: \tlstm_hidden_size: 40\n",
      "\u001B[34m\u001B[1mwandb\u001B[0m: \tno_batches: 100\n",
      "\u001B[34m\u001B[1mwandb\u001B[0m: \tno_files: 100\n",
      "\u001B[34m\u001B[1mwandb\u001B[0m: \tnum_classes: 1\n",
      "\u001B[34m\u001B[1mwandb\u001B[0m: \tnum_layers: 2\n",
      "\u001B[34m\u001B[1mwandb\u001B[0m: \tsequence_length: 10\n"
     ]
    },
    {
     "data": {
      "text/plain": "<IPython.core.display.HTML object>",
      "text/html": "\n                    Syncing run <strong><a href=\"https://wandb.ai/freja-thoresen/dtu-course/runs/4xht0wu6\" target=\"_blank\">wise-sweep-21</a></strong> to <a href=\"https://wandb.ai/freja-thoresen/dtu-course\" target=\"_blank\">Weights & Biases</a> (<a href=\"https://docs.wandb.com/integrations/jupyter.html\" target=\"_blank\">docs</a>).<br/>\nSweep page: <a href=\"https://wandb.ai/freja-thoresen/dtu-course/sweeps/o1kyjfhc\" target=\"_blank\">https://wandb.ai/freja-thoresen/dtu-course/sweeps/o1kyjfhc</a><br/>\n\n                "
     },
     "metadata": {},
     "output_type": "display_data"
    },
    {
     "name": "stdout",
     "output_type": "stream",
     "text": [
      "training files 80\n",
      "validation files 10\n",
      "test files 10\n"
     ]
    },
    {
     "data": {
      "text/plain": "<IPython.core.display.HTML object>",
      "text/html": "<br/>Waiting for W&B process to finish, PID 35963... <strong style=\"color:green\">(success).</strong>"
     },
     "metadata": {},
     "output_type": "display_data"
    },
    {
     "data": {
      "text/plain": "VBox(children=(Label(value=' 0.00MB of 0.00MB uploaded (0.00MB deduped)\\r'), FloatProgress(value=1.0, max=1.0)…",
      "application/vnd.jupyter.widget-view+json": {
       "version_major": 2,
       "version_minor": 0,
       "model_id": "a76c76aa012246999b9b9d6ccae6a923"
      }
     },
     "metadata": {},
     "output_type": "display_data"
    },
    {
     "data": {
      "text/plain": "<IPython.core.display.HTML object>",
      "text/html": "<style>\n    table.wandb td:nth-child(1) { padding: 0 10px; text-align: right }\n    .wandb-row { display: flex; flex-direction: row; flex-wrap: wrap; width: 100% }\n    .wandb-col { display: flex; flex-direction: column; flex-basis: 100%; flex: 1; padding: 10px; }\n    </style>\n<div class=\"wandb-row\"><div class=\"wandb-col\">\n<h3>Run history:</h3><br/><table class=\"wandb\"><tr><td>epoch</td><td>▁▁▁▂▂▂▂▂▂▃▃▃▃▃▄▄▄▄▄▄▅▅▅▅▅▅▆▆▆▆▆▇▇▇▇▇▇███</td></tr><tr><td>training_acc</td><td>▁▅▅▆▆▆▆▆▇▇▇▇▇▇▇██▇█▇████████████████████</td></tr><tr><td>training_loss</td><td>█▅▄▄▄▃▃▃▃▂▂▂▂▂▂▂▂▂▂▂▂▁▁▁▁▁▁▁▁▁▁▁▁▁▁▁▁▁▁▁</td></tr><tr><td>validation_acc</td><td>▁▄▄▄▃▃▄▄▄▄▅█████▇▆▆▅▅▅▅▅▅▅▅▅▅▅▅▅▅▅▅▅▅▅▅▅</td></tr><tr><td>validation_loss</td><td>█▃▂▂▂▂▂▂▁▁▁▁▁▁▁▁▁▁▁▁▁▁▁▁▁▁▁▁▁▁▁▁▁▁▁▁▁▁▁▁</td></tr></table><br/></div><div class=\"wandb-col\">\n<h3>Run summary:</h3><br/><table class=\"wandb\"><tr><td>epoch</td><td>39</td></tr><tr><td>training_acc</td><td>0.94578</td></tr><tr><td>training_loss</td><td>0.16354</td></tr><tr><td>validation_acc</td><td>0.88241</td></tr><tr><td>validation_loss</td><td>0.32879</td></tr></table>\n</div></div>\nSynced 6 W&B file(s), 0 media file(s), 0 artifact file(s) and 0 other file(s)\n<br/>Synced <strong style=\"color:#cdcd00\">wise-sweep-21</strong>: <a href=\"https://wandb.ai/freja-thoresen/dtu-course/runs/4xht0wu6\" target=\"_blank\">https://wandb.ai/freja-thoresen/dtu-course/runs/4xht0wu6</a><br/>\nFind logs at: <code>./wandb/run-20211227_171048-4xht0wu6/logs</code><br/>\n"
     },
     "metadata": {},
     "output_type": "display_data"
    },
    {
     "name": "stderr",
     "output_type": "stream",
     "text": [
      "\u001B[34m\u001B[1mwandb\u001B[0m: Sweep Agent: Waiting for job.\n",
      "\u001B[34m\u001B[1mwandb\u001B[0m: Job received.\n",
      "\u001B[34m\u001B[1mwandb\u001B[0m: Agent Starting Run: g9goi2vc with config:\n",
      "\u001B[34m\u001B[1mwandb\u001B[0m: \tepochs: 40\n",
      "\u001B[34m\u001B[1mwandb\u001B[0m: \tinput_size: 1\n",
      "\u001B[34m\u001B[1mwandb\u001B[0m: \tlearning_rate: 0.0002\n",
      "\u001B[34m\u001B[1mwandb\u001B[0m: \tlinear_dropout: 0.2\n",
      "\u001B[34m\u001B[1mwandb\u001B[0m: \tlinear_hidden_size: 40\n",
      "\u001B[34m\u001B[1mwandb\u001B[0m: \tlstm_dropbout: 0.4\n",
      "\u001B[34m\u001B[1mwandb\u001B[0m: \tlstm_hidden_size: 40\n",
      "\u001B[34m\u001B[1mwandb\u001B[0m: \tno_batches: 100\n",
      "\u001B[34m\u001B[1mwandb\u001B[0m: \tno_files: 100\n",
      "\u001B[34m\u001B[1mwandb\u001B[0m: \tnum_classes: 1\n",
      "\u001B[34m\u001B[1mwandb\u001B[0m: \tnum_layers: 3\n",
      "\u001B[34m\u001B[1mwandb\u001B[0m: \tsequence_length: 10\n"
     ]
    },
    {
     "data": {
      "text/plain": "<IPython.core.display.HTML object>",
      "text/html": "\n                    Syncing run <strong><a href=\"https://wandb.ai/freja-thoresen/dtu-course/runs/g9goi2vc\" target=\"_blank\">swept-sweep-22</a></strong> to <a href=\"https://wandb.ai/freja-thoresen/dtu-course\" target=\"_blank\">Weights & Biases</a> (<a href=\"https://docs.wandb.com/integrations/jupyter.html\" target=\"_blank\">docs</a>).<br/>\nSweep page: <a href=\"https://wandb.ai/freja-thoresen/dtu-course/sweeps/o1kyjfhc\" target=\"_blank\">https://wandb.ai/freja-thoresen/dtu-course/sweeps/o1kyjfhc</a><br/>\n\n                "
     },
     "metadata": {},
     "output_type": "display_data"
    },
    {
     "name": "stdout",
     "output_type": "stream",
     "text": [
      "training files 80\n",
      "validation files 10\n",
      "test files 10\n"
     ]
    },
    {
     "data": {
      "text/plain": "<IPython.core.display.HTML object>",
      "text/html": "<br/>Waiting for W&B process to finish, PID 36438... <strong style=\"color:green\">(success).</strong>"
     },
     "metadata": {},
     "output_type": "display_data"
    },
    {
     "data": {
      "text/plain": "VBox(children=(Label(value=' 0.00MB of 0.00MB uploaded (0.00MB deduped)\\r'), FloatProgress(value=1.0, max=1.0)…",
      "application/vnd.jupyter.widget-view+json": {
       "version_major": 2,
       "version_minor": 0,
       "model_id": "756927723a324cbfab139e4fddfc565f"
      }
     },
     "metadata": {},
     "output_type": "display_data"
    },
    {
     "data": {
      "text/plain": "<IPython.core.display.HTML object>",
      "text/html": "<style>\n    table.wandb td:nth-child(1) { padding: 0 10px; text-align: right }\n    .wandb-row { display: flex; flex-direction: row; flex-wrap: wrap; width: 100% }\n    .wandb-col { display: flex; flex-direction: column; flex-basis: 100%; flex: 1; padding: 10px; }\n    </style>\n<div class=\"wandb-row\"><div class=\"wandb-col\">\n<h3>Run history:</h3><br/><table class=\"wandb\"><tr><td>epoch</td><td>▁▁▁▂▂▂▂▂▂▃▃▃▃▃▄▄▄▄▄▄▅▅▅▅▅▅▆▆▆▆▆▇▇▇▇▇▇███</td></tr><tr><td>training_acc</td><td>▁▅▅▆▆▆▆▇▇▇▇▇▇▇▇▇▇▇▇▇▇▇▇▇▇▇▇▇████████████</td></tr><tr><td>training_loss</td><td>█▅▄▄▃▃▃▃▃▂▂▂▂▂▂▂▂▂▂▂▂▂▂▂▂▂▂▂▂▁▁▁▁▁▁▁▁▁▁▁</td></tr><tr><td>validation_acc</td><td>▁▅▆▆▇▇▇▇▇▇▇▇▇▇▇▇▇▇▇▇▇▇▇▇▇██▇▇▇█▇████████</td></tr><tr><td>validation_loss</td><td>█▃▂▂▂▂▂▁▁▁▁▂▁▂▁▁▁▂▂▁▂▁▂▂▁▁▁▂▂▂▁▂▁▁▁▁▁▁▁▁</td></tr></table><br/></div><div class=\"wandb-col\">\n<h3>Run summary:</h3><br/><table class=\"wandb\"><tr><td>epoch</td><td>39</td></tr><tr><td>training_acc</td><td>0.95163</td></tr><tr><td>training_loss</td><td>0.16129</td></tr><tr><td>validation_acc</td><td>0.96151</td></tr><tr><td>validation_loss</td><td>0.13802</td></tr></table>\n</div></div>\nSynced 6 W&B file(s), 0 media file(s), 0 artifact file(s) and 0 other file(s)\n<br/>Synced <strong style=\"color:#cdcd00\">swept-sweep-22</strong>: <a href=\"https://wandb.ai/freja-thoresen/dtu-course/runs/g9goi2vc\" target=\"_blank\">https://wandb.ai/freja-thoresen/dtu-course/runs/g9goi2vc</a><br/>\nFind logs at: <code>./wandb/run-20211227_180131-g9goi2vc/logs</code><br/>\n"
     },
     "metadata": {},
     "output_type": "display_data"
    },
    {
     "name": "stderr",
     "output_type": "stream",
     "text": [
      "\u001B[34m\u001B[1mwandb\u001B[0m: Agent Starting Run: v3whuml0 with config:\n",
      "\u001B[34m\u001B[1mwandb\u001B[0m: \tepochs: 40\n",
      "\u001B[34m\u001B[1mwandb\u001B[0m: \tinput_size: 1\n",
      "\u001B[34m\u001B[1mwandb\u001B[0m: \tlearning_rate: 0.0002\n",
      "\u001B[34m\u001B[1mwandb\u001B[0m: \tlinear_dropout: 0.2\n",
      "\u001B[34m\u001B[1mwandb\u001B[0m: \tlinear_hidden_size: 40\n",
      "\u001B[34m\u001B[1mwandb\u001B[0m: \tlstm_dropbout: 0.4\n",
      "\u001B[34m\u001B[1mwandb\u001B[0m: \tlstm_hidden_size: 60\n",
      "\u001B[34m\u001B[1mwandb\u001B[0m: \tno_batches: 100\n",
      "\u001B[34m\u001B[1mwandb\u001B[0m: \tno_files: 100\n",
      "\u001B[34m\u001B[1mwandb\u001B[0m: \tnum_classes: 1\n",
      "\u001B[34m\u001B[1mwandb\u001B[0m: \tnum_layers: 2\n",
      "\u001B[34m\u001B[1mwandb\u001B[0m: \tsequence_length: 10\n"
     ]
    },
    {
     "data": {
      "text/plain": "<IPython.core.display.HTML object>",
      "text/html": "\n                    Syncing run <strong><a href=\"https://wandb.ai/freja-thoresen/dtu-course/runs/v3whuml0\" target=\"_blank\">gallant-sweep-23</a></strong> to <a href=\"https://wandb.ai/freja-thoresen/dtu-course\" target=\"_blank\">Weights & Biases</a> (<a href=\"https://docs.wandb.com/integrations/jupyter.html\" target=\"_blank\">docs</a>).<br/>\nSweep page: <a href=\"https://wandb.ai/freja-thoresen/dtu-course/sweeps/o1kyjfhc\" target=\"_blank\">https://wandb.ai/freja-thoresen/dtu-course/sweeps/o1kyjfhc</a><br/>\n\n                "
     },
     "metadata": {},
     "output_type": "display_data"
    },
    {
     "name": "stdout",
     "output_type": "stream",
     "text": [
      "training files 80\n",
      "validation files 10\n",
      "test files 10\n"
     ]
    },
    {
     "data": {
      "text/plain": "<IPython.core.display.HTML object>",
      "text/html": "<br/>Waiting for W&B process to finish, PID 37429... <strong style=\"color:green\">(success).</strong>"
     },
     "metadata": {},
     "output_type": "display_data"
    },
    {
     "data": {
      "text/plain": "VBox(children=(Label(value=' 0.00MB of 0.00MB uploaded (0.00MB deduped)\\r'), FloatProgress(value=1.0, max=1.0)…",
      "application/vnd.jupyter.widget-view+json": {
       "version_major": 2,
       "version_minor": 0,
       "model_id": "1417378f2a9749018ec19fcd31dd5db0"
      }
     },
     "metadata": {},
     "output_type": "display_data"
    },
    {
     "data": {
      "text/plain": "<IPython.core.display.HTML object>",
      "text/html": "<style>\n    table.wandb td:nth-child(1) { padding: 0 10px; text-align: right }\n    .wandb-row { display: flex; flex-direction: row; flex-wrap: wrap; width: 100% }\n    .wandb-col { display: flex; flex-direction: column; flex-basis: 100%; flex: 1; padding: 10px; }\n    </style>\n<div class=\"wandb-row\"><div class=\"wandb-col\">\n<h3>Run history:</h3><br/><table class=\"wandb\"><tr><td>epoch</td><td>▁▁▁▂▂▂▂▂▂▃▃▃▃▃▄▄▄▄▄▄▅▅▅▅▅▅▆▆▆▆▆▇▇▇▇▇▇███</td></tr><tr><td>training_acc</td><td>▁▄▅▄▆▆▆▆▆▇▇▇▇▇▇▆▇▇▇▇▇▇▇██▇██████████████</td></tr><tr><td>training_loss</td><td>█▅▅▅▄▄▃▃▃▃▃▂▃▂▂▃▂▂▂▂▂▂▂▂▂▂▂▁▂▁▁▁▁▁▁▁▁▁▁▁</td></tr><tr><td>validation_acc</td><td>▇█▆▄██▄█▂▂██▂▂▁▂▃▂▁▁▁▁▁▁▁▁▁▁▁▂▂▂▂▁▂▂▂▂▂▁</td></tr><tr><td>validation_loss</td><td>▃▁▃▅▁▁▄▁█▇▁▁▇▆█▅▇▆▇▇████▇▇▇▇▇▆▇▇▇▇▆▇▅▆▆▆</td></tr></table><br/></div><div class=\"wandb-col\">\n<h3>Run summary:</h3><br/><table class=\"wandb\"><tr><td>epoch</td><td>39</td></tr><tr><td>training_acc</td><td>0.94552</td></tr><tr><td>training_loss</td><td>0.17114</td></tr><tr><td>validation_acc</td><td>0.27727</td></tr><tr><td>validation_loss</td><td>1.5089</td></tr></table>\n</div></div>\nSynced 6 W&B file(s), 0 media file(s), 0 artifact file(s) and 0 other file(s)\n<br/>Synced <strong style=\"color:#cdcd00\">gallant-sweep-23</strong>: <a href=\"https://wandb.ai/freja-thoresen/dtu-course/runs/v3whuml0\" target=\"_blank\">https://wandb.ai/freja-thoresen/dtu-course/runs/v3whuml0</a><br/>\nFind logs at: <code>./wandb/run-20211227_192039-v3whuml0/logs</code><br/>\n"
     },
     "metadata": {},
     "output_type": "display_data"
    },
    {
     "name": "stderr",
     "output_type": "stream",
     "text": [
      "\u001B[34m\u001B[1mwandb\u001B[0m: Sweep Agent: Waiting for job.\n",
      "\u001B[34m\u001B[1mwandb\u001B[0m: Job received.\n",
      "\u001B[34m\u001B[1mwandb\u001B[0m: Agent Starting Run: v9raxchr with config:\n",
      "\u001B[34m\u001B[1mwandb\u001B[0m: \tepochs: 40\n",
      "\u001B[34m\u001B[1mwandb\u001B[0m: \tinput_size: 1\n",
      "\u001B[34m\u001B[1mwandb\u001B[0m: \tlearning_rate: 0.0002\n",
      "\u001B[34m\u001B[1mwandb\u001B[0m: \tlinear_dropout: 0.2\n",
      "\u001B[34m\u001B[1mwandb\u001B[0m: \tlinear_hidden_size: 40\n",
      "\u001B[34m\u001B[1mwandb\u001B[0m: \tlstm_dropbout: 0.4\n",
      "\u001B[34m\u001B[1mwandb\u001B[0m: \tlstm_hidden_size: 60\n",
      "\u001B[34m\u001B[1mwandb\u001B[0m: \tno_batches: 100\n",
      "\u001B[34m\u001B[1mwandb\u001B[0m: \tno_files: 100\n",
      "\u001B[34m\u001B[1mwandb\u001B[0m: \tnum_classes: 1\n",
      "\u001B[34m\u001B[1mwandb\u001B[0m: \tnum_layers: 3\n",
      "\u001B[34m\u001B[1mwandb\u001B[0m: \tsequence_length: 10\n"
     ]
    },
    {
     "data": {
      "text/plain": "<IPython.core.display.HTML object>",
      "text/html": "\n                    Syncing run <strong><a href=\"https://wandb.ai/freja-thoresen/dtu-course/runs/v9raxchr\" target=\"_blank\">worthy-sweep-24</a></strong> to <a href=\"https://wandb.ai/freja-thoresen/dtu-course\" target=\"_blank\">Weights & Biases</a> (<a href=\"https://docs.wandb.com/integrations/jupyter.html\" target=\"_blank\">docs</a>).<br/>\nSweep page: <a href=\"https://wandb.ai/freja-thoresen/dtu-course/sweeps/o1kyjfhc\" target=\"_blank\">https://wandb.ai/freja-thoresen/dtu-course/sweeps/o1kyjfhc</a><br/>\n\n                "
     },
     "metadata": {},
     "output_type": "display_data"
    },
    {
     "name": "stdout",
     "output_type": "stream",
     "text": [
      "training files 80\n",
      "validation files 10\n",
      "test files 10\n"
     ]
    },
    {
     "data": {
      "text/plain": "<IPython.core.display.HTML object>",
      "text/html": "<br/>Waiting for W&B process to finish, PID 38292... <strong style=\"color:green\">(success).</strong>"
     },
     "metadata": {},
     "output_type": "display_data"
    },
    {
     "data": {
      "text/plain": "VBox(children=(Label(value=' 0.00MB of 0.00MB uploaded (0.00MB deduped)\\r'), FloatProgress(value=1.0, max=1.0)…",
      "application/vnd.jupyter.widget-view+json": {
       "version_major": 2,
       "version_minor": 0,
       "model_id": "dfc4fc3885c74dbb8fbcab50d9e75df4"
      }
     },
     "metadata": {},
     "output_type": "display_data"
    },
    {
     "data": {
      "text/plain": "<IPython.core.display.HTML object>",
      "text/html": "<style>\n    table.wandb td:nth-child(1) { padding: 0 10px; text-align: right }\n    .wandb-row { display: flex; flex-direction: row; flex-wrap: wrap; width: 100% }\n    .wandb-col { display: flex; flex-direction: column; flex-basis: 100%; flex: 1; padding: 10px; }\n    </style>\n<div class=\"wandb-row\"><div class=\"wandb-col\">\n<h3>Run history:</h3><br/><table class=\"wandb\"><tr><td>epoch</td><td>▁▁▁▂▂▂▂▂▂▃▃▃▃▃▄▄▄▄▄▄▅▅▅▅▅▅▆▆▆▆▆▇▇▇▇▇▇███</td></tr><tr><td>training_acc</td><td>▁▃▄▅▅▆▆▇▇▇▇▇▇▇▇▇▇▇▇▇▇▇▇▇▇███████████████</td></tr><tr><td>training_loss</td><td>█▆▅▄▄▃▃▃▃▂▂▂▂▂▂▂▂▂▂▂▂▂▂▂▂▂▂▁▁▁▁▁▁▁▁▁▁▁▁▁</td></tr><tr><td>validation_acc</td><td>▁▁▄▄▄▇▇▇▅▆▇▇▇▇███▇███▇▇▇▇███▇▇████████▇█</td></tr><tr><td>validation_loss</td><td>█▅▄▄▃▂▁▁▃▂▁▁▁▁▁▁▁▁▁▁▁▂▁▁▁▁▁▁▂▂▁▁▁▁▁▁▂▁▂▂</td></tr></table><br/></div><div class=\"wandb-col\">\n<h3>Run summary:</h3><br/><table class=\"wandb\"><tr><td>epoch</td><td>39</td></tr><tr><td>training_acc</td><td>0.95235</td></tr><tr><td>training_loss</td><td>0.16639</td></tr><tr><td>validation_acc</td><td>0.94378</td></tr><tr><td>validation_loss</td><td>0.2223</td></tr></table>\n</div></div>\nSynced 6 W&B file(s), 0 media file(s), 0 artifact file(s) and 0 other file(s)\n<br/>Synced <strong style=\"color:#cdcd00\">worthy-sweep-24</strong>: <a href=\"https://wandb.ai/freja-thoresen/dtu-course/runs/v9raxchr\" target=\"_blank\">https://wandb.ai/freja-thoresen/dtu-course/runs/v9raxchr</a><br/>\nFind logs at: <code>./wandb/run-20211227_203224-v9raxchr/logs</code><br/>\n"
     },
     "metadata": {},
     "output_type": "display_data"
    },
    {
     "name": "stderr",
     "output_type": "stream",
     "text": [
      "\u001B[34m\u001B[1mwandb\u001B[0m: Agent Starting Run: 5dh2e7dv with config:\n",
      "\u001B[34m\u001B[1mwandb\u001B[0m: \tepochs: 40\n",
      "\u001B[34m\u001B[1mwandb\u001B[0m: \tinput_size: 1\n",
      "\u001B[34m\u001B[1mwandb\u001B[0m: \tlearning_rate: 0.0002\n",
      "\u001B[34m\u001B[1mwandb\u001B[0m: \tlinear_dropout: 0.2\n",
      "\u001B[34m\u001B[1mwandb\u001B[0m: \tlinear_hidden_size: 60\n",
      "\u001B[34m\u001B[1mwandb\u001B[0m: \tlstm_dropbout: 0.2\n",
      "\u001B[34m\u001B[1mwandb\u001B[0m: \tlstm_hidden_size: 20\n",
      "\u001B[34m\u001B[1mwandb\u001B[0m: \tno_batches: 100\n",
      "\u001B[34m\u001B[1mwandb\u001B[0m: \tno_files: 100\n",
      "\u001B[34m\u001B[1mwandb\u001B[0m: \tnum_classes: 1\n",
      "\u001B[34m\u001B[1mwandb\u001B[0m: \tnum_layers: 2\n",
      "\u001B[34m\u001B[1mwandb\u001B[0m: \tsequence_length: 10\n"
     ]
    },
    {
     "data": {
      "text/plain": "<IPython.core.display.HTML object>",
      "text/html": "\n                    Syncing run <strong><a href=\"https://wandb.ai/freja-thoresen/dtu-course/runs/5dh2e7dv\" target=\"_blank\">snowy-sweep-25</a></strong> to <a href=\"https://wandb.ai/freja-thoresen/dtu-course\" target=\"_blank\">Weights & Biases</a> (<a href=\"https://docs.wandb.com/integrations/jupyter.html\" target=\"_blank\">docs</a>).<br/>\nSweep page: <a href=\"https://wandb.ai/freja-thoresen/dtu-course/sweeps/o1kyjfhc\" target=\"_blank\">https://wandb.ai/freja-thoresen/dtu-course/sweeps/o1kyjfhc</a><br/>\n\n                "
     },
     "metadata": {},
     "output_type": "display_data"
    },
    {
     "name": "stdout",
     "output_type": "stream",
     "text": [
      "training files 80\n",
      "validation files 10\n",
      "test files 10\n"
     ]
    },
    {
     "data": {
      "text/plain": "<IPython.core.display.HTML object>",
      "text/html": "<br/>Waiting for W&B process to finish, PID 39563... <strong style=\"color:green\">(success).</strong>"
     },
     "metadata": {},
     "output_type": "display_data"
    },
    {
     "data": {
      "text/plain": "VBox(children=(Label(value=' 0.00MB of 0.00MB uploaded (0.00MB deduped)\\r'), FloatProgress(value=1.0, max=1.0)…",
      "application/vnd.jupyter.widget-view+json": {
       "version_major": 2,
       "version_minor": 0,
       "model_id": "77c6bc540bbb4c26bf2b94c0bc2006e9"
      }
     },
     "metadata": {},
     "output_type": "display_data"
    },
    {
     "data": {
      "text/plain": "<IPython.core.display.HTML object>",
      "text/html": "<style>\n    table.wandb td:nth-child(1) { padding: 0 10px; text-align: right }\n    .wandb-row { display: flex; flex-direction: row; flex-wrap: wrap; width: 100% }\n    .wandb-col { display: flex; flex-direction: column; flex-basis: 100%; flex: 1; padding: 10px; }\n    </style>\n<div class=\"wandb-row\"><div class=\"wandb-col\">\n<h3>Run history:</h3><br/><table class=\"wandb\"><tr><td>epoch</td><td>▁▁▁▂▂▂▂▂▂▃▃▃▃▃▄▄▄▄▄▄▅▅▅▅▅▅▆▆▆▆▆▇▇▇▇▇▇███</td></tr><tr><td>training_acc</td><td>▁▅▆▆▇▇▇▇▇▇▇▇▇███████████████████████████</td></tr><tr><td>training_loss</td><td>█▄▄▃▃▂▂▂▂▂▂▂▂▂▂▂▁▁▁▁▁▁▁▁▁▁▁▁▁▁▁▁▁▁▁▁▁▁▁▁</td></tr><tr><td>validation_acc</td><td>▁▅▆▆▇▇▇▇▇▇▇▇▇███████████████████████████</td></tr><tr><td>validation_loss</td><td>█▃▂▂▂▂▁▁▁▁▁▁▁▁▁▁▁▁▁▁▁▁▁▁▁▁▁▁▁▁▁▁▁▁▁▁▁▁▁▁</td></tr></table><br/></div><div class=\"wandb-col\">\n<h3>Run summary:</h3><br/><table class=\"wandb\"><tr><td>epoch</td><td>39</td></tr><tr><td>training_acc</td><td>0.95257</td></tr><tr><td>training_loss</td><td>0.15612</td></tr><tr><td>validation_acc</td><td>0.96615</td></tr><tr><td>validation_loss</td><td>0.12603</td></tr></table>\n</div></div>\nSynced 6 W&B file(s), 0 media file(s), 0 artifact file(s) and 0 other file(s)\n<br/>Synced <strong style=\"color:#cdcd00\">snowy-sweep-25</strong>: <a href=\"https://wandb.ai/freja-thoresen/dtu-course/runs/5dh2e7dv\" target=\"_blank\">https://wandb.ai/freja-thoresen/dtu-course/runs/5dh2e7dv</a><br/>\nFind logs at: <code>./wandb/run-20211227_222037-5dh2e7dv/logs</code><br/>\n"
     },
     "metadata": {},
     "output_type": "display_data"
    },
    {
     "name": "stderr",
     "output_type": "stream",
     "text": [
      "\u001B[34m\u001B[1mwandb\u001B[0m: Agent Starting Run: xp18s3sg with config:\n",
      "\u001B[34m\u001B[1mwandb\u001B[0m: \tepochs: 40\n",
      "\u001B[34m\u001B[1mwandb\u001B[0m: \tinput_size: 1\n",
      "\u001B[34m\u001B[1mwandb\u001B[0m: \tlearning_rate: 0.0002\n",
      "\u001B[34m\u001B[1mwandb\u001B[0m: \tlinear_dropout: 0.2\n",
      "\u001B[34m\u001B[1mwandb\u001B[0m: \tlinear_hidden_size: 60\n",
      "\u001B[34m\u001B[1mwandb\u001B[0m: \tlstm_dropbout: 0.2\n",
      "\u001B[34m\u001B[1mwandb\u001B[0m: \tlstm_hidden_size: 20\n",
      "\u001B[34m\u001B[1mwandb\u001B[0m: \tno_batches: 100\n",
      "\u001B[34m\u001B[1mwandb\u001B[0m: \tno_files: 100\n",
      "\u001B[34m\u001B[1mwandb\u001B[0m: \tnum_classes: 1\n",
      "\u001B[34m\u001B[1mwandb\u001B[0m: \tnum_layers: 3\n",
      "\u001B[34m\u001B[1mwandb\u001B[0m: \tsequence_length: 10\n"
     ]
    },
    {
     "data": {
      "text/plain": "<IPython.core.display.HTML object>",
      "text/html": "\n                    Syncing run <strong><a href=\"https://wandb.ai/freja-thoresen/dtu-course/runs/xp18s3sg\" target=\"_blank\">wandering-sweep-26</a></strong> to <a href=\"https://wandb.ai/freja-thoresen/dtu-course\" target=\"_blank\">Weights & Biases</a> (<a href=\"https://docs.wandb.com/integrations/jupyter.html\" target=\"_blank\">docs</a>).<br/>\nSweep page: <a href=\"https://wandb.ai/freja-thoresen/dtu-course/sweeps/o1kyjfhc\" target=\"_blank\">https://wandb.ai/freja-thoresen/dtu-course/sweeps/o1kyjfhc</a><br/>\n\n                "
     },
     "metadata": {},
     "output_type": "display_data"
    },
    {
     "name": "stdout",
     "output_type": "stream",
     "text": [
      "training files 80\n",
      "validation files 10\n",
      "test files 10\n"
     ]
    },
    {
     "data": {
      "text/plain": "<IPython.core.display.HTML object>",
      "text/html": "<br/>Waiting for W&B process to finish, PID 39945... <strong style=\"color:green\">(success).</strong>"
     },
     "metadata": {},
     "output_type": "display_data"
    },
    {
     "data": {
      "text/plain": "VBox(children=(Label(value=' 0.00MB of 0.00MB uploaded (0.00MB deduped)\\r'), FloatProgress(value=1.0, max=1.0)…",
      "application/vnd.jupyter.widget-view+json": {
       "version_major": 2,
       "version_minor": 0,
       "model_id": "e587843afa014d5bb2509e1abaf95afa"
      }
     },
     "metadata": {},
     "output_type": "display_data"
    },
    {
     "data": {
      "text/plain": "<IPython.core.display.HTML object>",
      "text/html": "<style>\n    table.wandb td:nth-child(1) { padding: 0 10px; text-align: right }\n    .wandb-row { display: flex; flex-direction: row; flex-wrap: wrap; width: 100% }\n    .wandb-col { display: flex; flex-direction: column; flex-basis: 100%; flex: 1; padding: 10px; }\n    </style>\n<div class=\"wandb-row\"><div class=\"wandb-col\">\n<h3>Run history:</h3><br/><table class=\"wandb\"><tr><td>epoch</td><td>▁▁▁▂▂▂▂▂▂▃▃▃▃▃▄▄▄▄▄▄▅▅▅▅▅▅▆▆▆▆▆▇▇▇▇▇▇███</td></tr><tr><td>training_acc</td><td>▁▄▆▆▆▇▇▇▇▇▇▇▇▇▇█████████████████████████</td></tr><tr><td>training_loss</td><td>█▅▄▄▃▃▃▃▃▂▂▂▂▂▂▂▂▂▂▂▂▂▂▂▂▂▁▁▁▁▁▁▁▁▁▁▁▁▁▁</td></tr><tr><td>validation_acc</td><td>▁▇██████████████████████████████████████</td></tr><tr><td>validation_loss</td><td>█▃▃▂▂▂▂▂▂▂▂▂▁▁▁▁▂▂▁▂▂▁▁▁▁▁▁▁▁▁▁▁▁▁▁▁▁▁▁▁</td></tr></table><br/></div><div class=\"wandb-col\">\n<h3>Run summary:</h3><br/><table class=\"wandb\"><tr><td>epoch</td><td>39</td></tr><tr><td>training_acc</td><td>0.94408</td></tr><tr><td>training_loss</td><td>0.17239</td></tr><tr><td>validation_acc</td><td>0.92628</td></tr><tr><td>validation_loss</td><td>0.28075</td></tr></table>\n</div></div>\nSynced 6 W&B file(s), 0 media file(s), 0 artifact file(s) and 0 other file(s)\n<br/>Synced <strong style=\"color:#cdcd00\">wandering-sweep-26</strong>: <a href=\"https://wandb.ai/freja-thoresen/dtu-course/runs/xp18s3sg\" target=\"_blank\">https://wandb.ai/freja-thoresen/dtu-course/runs/xp18s3sg</a><br/>\nFind logs at: <code>./wandb/run-20211227_230330-xp18s3sg/logs</code><br/>\n"
     },
     "metadata": {},
     "output_type": "display_data"
    },
    {
     "name": "stderr",
     "output_type": "stream",
     "text": [
      "\u001B[34m\u001B[1mwandb\u001B[0m: Agent Starting Run: dn4zhnki with config:\n",
      "\u001B[34m\u001B[1mwandb\u001B[0m: \tepochs: 40\n",
      "\u001B[34m\u001B[1mwandb\u001B[0m: \tinput_size: 1\n",
      "\u001B[34m\u001B[1mwandb\u001B[0m: \tlearning_rate: 0.0002\n",
      "\u001B[34m\u001B[1mwandb\u001B[0m: \tlinear_dropout: 0.2\n",
      "\u001B[34m\u001B[1mwandb\u001B[0m: \tlinear_hidden_size: 60\n",
      "\u001B[34m\u001B[1mwandb\u001B[0m: \tlstm_dropbout: 0.2\n",
      "\u001B[34m\u001B[1mwandb\u001B[0m: \tlstm_hidden_size: 40\n",
      "\u001B[34m\u001B[1mwandb\u001B[0m: \tno_batches: 100\n",
      "\u001B[34m\u001B[1mwandb\u001B[0m: \tno_files: 100\n",
      "\u001B[34m\u001B[1mwandb\u001B[0m: \tnum_classes: 1\n",
      "\u001B[34m\u001B[1mwandb\u001B[0m: \tnum_layers: 2\n",
      "\u001B[34m\u001B[1mwandb\u001B[0m: \tsequence_length: 10\n"
     ]
    },
    {
     "data": {
      "text/plain": "<IPython.core.display.HTML object>",
      "text/html": "\n                    Syncing run <strong><a href=\"https://wandb.ai/freja-thoresen/dtu-course/runs/dn4zhnki\" target=\"_blank\">serene-sweep-27</a></strong> to <a href=\"https://wandb.ai/freja-thoresen/dtu-course\" target=\"_blank\">Weights & Biases</a> (<a href=\"https://docs.wandb.com/integrations/jupyter.html\" target=\"_blank\">docs</a>).<br/>\nSweep page: <a href=\"https://wandb.ai/freja-thoresen/dtu-course/sweeps/o1kyjfhc\" target=\"_blank\">https://wandb.ai/freja-thoresen/dtu-course/sweeps/o1kyjfhc</a><br/>\n\n                "
     },
     "metadata": {},
     "output_type": "display_data"
    },
    {
     "name": "stdout",
     "output_type": "stream",
     "text": [
      "training files 80\n",
      "validation files 10\n",
      "test files 10\n"
     ]
    },
    {
     "data": {
      "text/plain": "<IPython.core.display.HTML object>",
      "text/html": "<br/>Waiting for W&B process to finish, PID 40968... <strong style=\"color:green\">(success).</strong>"
     },
     "metadata": {},
     "output_type": "display_data"
    },
    {
     "data": {
      "text/plain": "VBox(children=(Label(value=' 0.00MB of 0.00MB uploaded (0.00MB deduped)\\r'), FloatProgress(value=1.0, max=1.0)…",
      "application/vnd.jupyter.widget-view+json": {
       "version_major": 2,
       "version_minor": 0,
       "model_id": "4d23bf54958c4b389c76cfe1a1c681a0"
      }
     },
     "metadata": {},
     "output_type": "display_data"
    },
    {
     "data": {
      "text/plain": "<IPython.core.display.HTML object>",
      "text/html": "<style>\n    table.wandb td:nth-child(1) { padding: 0 10px; text-align: right }\n    .wandb-row { display: flex; flex-direction: row; flex-wrap: wrap; width: 100% }\n    .wandb-col { display: flex; flex-direction: column; flex-basis: 100%; flex: 1; padding: 10px; }\n    </style>\n<div class=\"wandb-row\"><div class=\"wandb-col\">\n<h3>Run history:</h3><br/><table class=\"wandb\"><tr><td>epoch</td><td>▁▁▁▂▂▂▂▂▂▃▃▃▃▃▄▄▄▄▄▄▅▅▅▅▅▅▆▆▆▆▆▇▇▇▇▇▇███</td></tr><tr><td>training_acc</td><td>▁▄▅▆▆▆▇▇▇▇▇▇▇███████████████████████████</td></tr><tr><td>training_loss</td><td>█▅▄▄▃▃▃▂▂▂▂▂▂▂▂▂▂▁▁▁▁▁▁▁▁▁▁▁▁▁▁▁▁▁▁▁▁▁▁▁</td></tr><tr><td>validation_acc</td><td>▁▄▅▆▇▇▇▇▇▇▇█████████████████████████████</td></tr><tr><td>validation_loss</td><td>█▃▂▂▂▂▂▁▁▁▁▁▁▁▁▁▁▁▁▁▁▁▁▁▁▁▁▁▁▁▁▁▁▁▁▁▁▁▁▁</td></tr></table><br/></div><div class=\"wandb-col\">\n<h3>Run summary:</h3><br/><table class=\"wandb\"><tr><td>epoch</td><td>39</td></tr><tr><td>training_acc</td><td>0.953</td></tr><tr><td>training_loss</td><td>0.14842</td></tr><tr><td>validation_acc</td><td>0.96587</td></tr><tr><td>validation_loss</td><td>0.13487</td></tr></table>\n</div></div>\nSynced 6 W&B file(s), 0 media file(s), 0 artifact file(s) and 0 other file(s)\n<br/>Synced <strong style=\"color:#cdcd00\">serene-sweep-27</strong>: <a href=\"https://wandb.ai/freja-thoresen/dtu-course/runs/dn4zhnki\" target=\"_blank\">https://wandb.ai/freja-thoresen/dtu-course/runs/dn4zhnki</a><br/>\nFind logs at: <code>./wandb/run-20211228_000521-dn4zhnki/logs</code><br/>\n"
     },
     "metadata": {},
     "output_type": "display_data"
    },
    {
     "name": "stderr",
     "output_type": "stream",
     "text": [
      "\u001B[34m\u001B[1mwandb\u001B[0m: Agent Starting Run: llv1t6rv with config:\n",
      "\u001B[34m\u001B[1mwandb\u001B[0m: \tepochs: 40\n",
      "\u001B[34m\u001B[1mwandb\u001B[0m: \tinput_size: 1\n",
      "\u001B[34m\u001B[1mwandb\u001B[0m: \tlearning_rate: 0.0002\n",
      "\u001B[34m\u001B[1mwandb\u001B[0m: \tlinear_dropout: 0.2\n",
      "\u001B[34m\u001B[1mwandb\u001B[0m: \tlinear_hidden_size: 60\n",
      "\u001B[34m\u001B[1mwandb\u001B[0m: \tlstm_dropbout: 0.2\n",
      "\u001B[34m\u001B[1mwandb\u001B[0m: \tlstm_hidden_size: 40\n",
      "\u001B[34m\u001B[1mwandb\u001B[0m: \tno_batches: 100\n",
      "\u001B[34m\u001B[1mwandb\u001B[0m: \tno_files: 100\n",
      "\u001B[34m\u001B[1mwandb\u001B[0m: \tnum_classes: 1\n",
      "\u001B[34m\u001B[1mwandb\u001B[0m: \tnum_layers: 3\n",
      "\u001B[34m\u001B[1mwandb\u001B[0m: \tsequence_length: 10\n"
     ]
    },
    {
     "data": {
      "text/plain": "<IPython.core.display.HTML object>",
      "text/html": "\n                    Syncing run <strong><a href=\"https://wandb.ai/freja-thoresen/dtu-course/runs/llv1t6rv\" target=\"_blank\">efficient-sweep-28</a></strong> to <a href=\"https://wandb.ai/freja-thoresen/dtu-course\" target=\"_blank\">Weights & Biases</a> (<a href=\"https://docs.wandb.com/integrations/jupyter.html\" target=\"_blank\">docs</a>).<br/>\nSweep page: <a href=\"https://wandb.ai/freja-thoresen/dtu-course/sweeps/o1kyjfhc\" target=\"_blank\">https://wandb.ai/freja-thoresen/dtu-course/sweeps/o1kyjfhc</a><br/>\n\n                "
     },
     "metadata": {},
     "output_type": "display_data"
    },
    {
     "name": "stdout",
     "output_type": "stream",
     "text": [
      "training files 80\n",
      "validation files 10\n",
      "test files 10\n"
     ]
    },
    {
     "data": {
      "text/plain": "<IPython.core.display.HTML object>",
      "text/html": "<br/>Waiting for W&B process to finish, PID 41610... <strong style=\"color:green\">(success).</strong>"
     },
     "metadata": {},
     "output_type": "display_data"
    },
    {
     "data": {
      "text/plain": "VBox(children=(Label(value=' 0.00MB of 0.00MB uploaded (0.00MB deduped)\\r'), FloatProgress(value=1.0, max=1.0)…",
      "application/vnd.jupyter.widget-view+json": {
       "version_major": 2,
       "version_minor": 0,
       "model_id": "cb7ae2df8c934e988a28f310f21a455d"
      }
     },
     "metadata": {},
     "output_type": "display_data"
    },
    {
     "data": {
      "text/plain": "<IPython.core.display.HTML object>",
      "text/html": "<style>\n    table.wandb td:nth-child(1) { padding: 0 10px; text-align: right }\n    .wandb-row { display: flex; flex-direction: row; flex-wrap: wrap; width: 100% }\n    .wandb-col { display: flex; flex-direction: column; flex-basis: 100%; flex: 1; padding: 10px; }\n    </style>\n<div class=\"wandb-row\"><div class=\"wandb-col\">\n<h3>Run history:</h3><br/><table class=\"wandb\"><tr><td>epoch</td><td>▁▁▁▂▂▂▂▂▂▃▃▃▃▃▄▄▄▄▄▄▅▅▅▅▅▅▆▆▆▆▆▇▇▇▇▇▇███</td></tr><tr><td>training_acc</td><td>▁▅▅▆▆▆▆▇▇▇▇▇▇▇▇▇█▇██████████████████████</td></tr><tr><td>training_loss</td><td>█▅▄▄▃▃▃▃▃▂▂▂▂▂▂▂▂▂▂▂▂▁▁▁▁▁▁▁▁▁▁▁▁▁▁▁▁▁▁▁</td></tr><tr><td>validation_acc</td><td>▁███████████████████████████████████████</td></tr><tr><td>validation_loss</td><td>█▃▃▂▂▂▂▂▂▂▂▂▂▂▁▂▁▁▁▁▁▁▁▁▁▁▁▁▁▁▁▁▁▁▁▁▁▁▁▁</td></tr></table><br/></div><div class=\"wandb-col\">\n<h3>Run summary:</h3><br/><table class=\"wandb\"><tr><td>epoch</td><td>39</td></tr><tr><td>training_acc</td><td>0.94842</td></tr><tr><td>training_loss</td><td>0.16513</td></tr><tr><td>validation_acc</td><td>0.93946</td></tr><tr><td>validation_loss</td><td>0.22462</td></tr></table>\n</div></div>\nSynced 6 W&B file(s), 0 media file(s), 0 artifact file(s) and 0 other file(s)\n<br/>Synced <strong style=\"color:#cdcd00\">efficient-sweep-28</strong>: <a href=\"https://wandb.ai/freja-thoresen/dtu-course/runs/llv1t6rv\" target=\"_blank\">https://wandb.ai/freja-thoresen/dtu-course/runs/llv1t6rv</a><br/>\nFind logs at: <code>./wandb/run-20211228_005729-llv1t6rv/logs</code><br/>\n"
     },
     "metadata": {},
     "output_type": "display_data"
    },
    {
     "name": "stderr",
     "output_type": "stream",
     "text": [
      "\u001B[34m\u001B[1mwandb\u001B[0m: Agent Starting Run: 96lt6dsj with config:\n",
      "\u001B[34m\u001B[1mwandb\u001B[0m: \tepochs: 40\n",
      "\u001B[34m\u001B[1mwandb\u001B[0m: \tinput_size: 1\n",
      "\u001B[34m\u001B[1mwandb\u001B[0m: \tlearning_rate: 0.0002\n",
      "\u001B[34m\u001B[1mwandb\u001B[0m: \tlinear_dropout: 0.2\n",
      "\u001B[34m\u001B[1mwandb\u001B[0m: \tlinear_hidden_size: 60\n",
      "\u001B[34m\u001B[1mwandb\u001B[0m: \tlstm_dropbout: 0.2\n",
      "\u001B[34m\u001B[1mwandb\u001B[0m: \tlstm_hidden_size: 60\n",
      "\u001B[34m\u001B[1mwandb\u001B[0m: \tno_batches: 100\n",
      "\u001B[34m\u001B[1mwandb\u001B[0m: \tno_files: 100\n",
      "\u001B[34m\u001B[1mwandb\u001B[0m: \tnum_classes: 1\n",
      "\u001B[34m\u001B[1mwandb\u001B[0m: \tnum_layers: 2\n",
      "\u001B[34m\u001B[1mwandb\u001B[0m: \tsequence_length: 10\n"
     ]
    },
    {
     "data": {
      "text/plain": "<IPython.core.display.HTML object>",
      "text/html": "\n                    Syncing run <strong><a href=\"https://wandb.ai/freja-thoresen/dtu-course/runs/96lt6dsj\" target=\"_blank\">laced-sweep-29</a></strong> to <a href=\"https://wandb.ai/freja-thoresen/dtu-course\" target=\"_blank\">Weights & Biases</a> (<a href=\"https://docs.wandb.com/integrations/jupyter.html\" target=\"_blank\">docs</a>).<br/>\nSweep page: <a href=\"https://wandb.ai/freja-thoresen/dtu-course/sweeps/o1kyjfhc\" target=\"_blank\">https://wandb.ai/freja-thoresen/dtu-course/sweeps/o1kyjfhc</a><br/>\n\n                "
     },
     "metadata": {},
     "output_type": "display_data"
    },
    {
     "name": "stdout",
     "output_type": "stream",
     "text": [
      "training files 80\n",
      "validation files 10\n",
      "test files 10\n"
     ]
    },
    {
     "data": {
      "text/plain": "<IPython.core.display.HTML object>",
      "text/html": "<br/>Waiting for W&B process to finish, PID 42511... <strong style=\"color:green\">(success).</strong>"
     },
     "metadata": {},
     "output_type": "display_data"
    },
    {
     "data": {
      "text/plain": "VBox(children=(Label(value=' 0.00MB of 0.00MB uploaded (0.00MB deduped)\\r'), FloatProgress(value=1.0, max=1.0)…",
      "application/vnd.jupyter.widget-view+json": {
       "version_major": 2,
       "version_minor": 0,
       "model_id": "36a93ecc7628435088d1610eb8ad5d5b"
      }
     },
     "metadata": {},
     "output_type": "display_data"
    },
    {
     "data": {
      "text/plain": "<IPython.core.display.HTML object>",
      "text/html": "<style>\n    table.wandb td:nth-child(1) { padding: 0 10px; text-align: right }\n    .wandb-row { display: flex; flex-direction: row; flex-wrap: wrap; width: 100% }\n    .wandb-col { display: flex; flex-direction: column; flex-basis: 100%; flex: 1; padding: 10px; }\n    </style>\n<div class=\"wandb-row\"><div class=\"wandb-col\">\n<h3>Run history:</h3><br/><table class=\"wandb\"><tr><td>epoch</td><td>▁▁▁▂▂▂▂▂▂▃▃▃▃▃▄▄▄▄▄▄▅▅▅▅▅▅▆▆▆▆▆▇▇▇▇▇▇███</td></tr><tr><td>training_acc</td><td>▁▄▆▆▇▇▇▇▇▇▇▇▇█████▇███▇██▇██████████████</td></tr><tr><td>training_loss</td><td>█▅▃▃▃▂▂▂▂▂▂▂▂▁▁▁▁▁▁▁▁▁▁▁▁▁▁▁▁▁▁▁▁▁▁▁▁▁▁▁</td></tr><tr><td>validation_acc</td><td>▁▆▇▁▇▇██████████████████████████████████</td></tr><tr><td>validation_loss</td><td>█▂▂▃▂▂▂▁▁▁▁▁▁▂▁▁▁▁▁▁▁▁▁▁▁▁▁▁▁▁▁▁▁▁▁▁▁▁▁▁</td></tr></table><br/></div><div class=\"wandb-col\">\n<h3>Run summary:</h3><br/><table class=\"wandb\"><tr><td>epoch</td><td>39</td></tr><tr><td>training_acc</td><td>0.94899</td></tr><tr><td>training_loss</td><td>0.16618</td></tr><tr><td>validation_acc</td><td>0.95818</td></tr><tr><td>validation_loss</td><td>0.18557</td></tr></table>\n</div></div>\nSynced 6 W&B file(s), 0 media file(s), 0 artifact file(s) and 0 other file(s)\n<br/>Synced <strong style=\"color:#cdcd00\">laced-sweep-29</strong>: <a href=\"https://wandb.ai/freja-thoresen/dtu-course/runs/96lt6dsj\" target=\"_blank\">https://wandb.ai/freja-thoresen/dtu-course/runs/96lt6dsj</a><br/>\nFind logs at: <code>./wandb/run-20211228_022159-96lt6dsj/logs</code><br/>\n"
     },
     "metadata": {},
     "output_type": "display_data"
    },
    {
     "name": "stderr",
     "output_type": "stream",
     "text": [
      "\u001B[34m\u001B[1mwandb\u001B[0m: Agent Starting Run: ea3ospn2 with config:\n",
      "\u001B[34m\u001B[1mwandb\u001B[0m: \tepochs: 40\n",
      "\u001B[34m\u001B[1mwandb\u001B[0m: \tinput_size: 1\n",
      "\u001B[34m\u001B[1mwandb\u001B[0m: \tlearning_rate: 0.0002\n",
      "\u001B[34m\u001B[1mwandb\u001B[0m: \tlinear_dropout: 0.2\n",
      "\u001B[34m\u001B[1mwandb\u001B[0m: \tlinear_hidden_size: 60\n",
      "\u001B[34m\u001B[1mwandb\u001B[0m: \tlstm_dropbout: 0.2\n",
      "\u001B[34m\u001B[1mwandb\u001B[0m: \tlstm_hidden_size: 60\n",
      "\u001B[34m\u001B[1mwandb\u001B[0m: \tno_batches: 100\n",
      "\u001B[34m\u001B[1mwandb\u001B[0m: \tno_files: 100\n",
      "\u001B[34m\u001B[1mwandb\u001B[0m: \tnum_classes: 1\n",
      "\u001B[34m\u001B[1mwandb\u001B[0m: \tnum_layers: 3\n",
      "\u001B[34m\u001B[1mwandb\u001B[0m: \tsequence_length: 10\n"
     ]
    },
    {
     "data": {
      "text/plain": "<IPython.core.display.HTML object>",
      "text/html": "\n                    Syncing run <strong><a href=\"https://wandb.ai/freja-thoresen/dtu-course/runs/ea3ospn2\" target=\"_blank\">sage-sweep-30</a></strong> to <a href=\"https://wandb.ai/freja-thoresen/dtu-course\" target=\"_blank\">Weights & Biases</a> (<a href=\"https://docs.wandb.com/integrations/jupyter.html\" target=\"_blank\">docs</a>).<br/>\nSweep page: <a href=\"https://wandb.ai/freja-thoresen/dtu-course/sweeps/o1kyjfhc\" target=\"_blank\">https://wandb.ai/freja-thoresen/dtu-course/sweeps/o1kyjfhc</a><br/>\n\n                "
     },
     "metadata": {},
     "output_type": "display_data"
    },
    {
     "name": "stdout",
     "output_type": "stream",
     "text": [
      "training files 80\n",
      "validation files 10\n",
      "test files 10\n"
     ]
    },
    {
     "data": {
      "text/plain": "<IPython.core.display.HTML object>",
      "text/html": "<br/>Waiting for W&B process to finish, PID 43316... <strong style=\"color:green\">(success).</strong>"
     },
     "metadata": {},
     "output_type": "display_data"
    },
    {
     "data": {
      "text/plain": "VBox(children=(Label(value=' 0.00MB of 0.00MB uploaded (0.00MB deduped)\\r'), FloatProgress(value=1.0, max=1.0)…",
      "application/vnd.jupyter.widget-view+json": {
       "version_major": 2,
       "version_minor": 0,
       "model_id": "c9ff679456944f798309d61a8e1cd187"
      }
     },
     "metadata": {},
     "output_type": "display_data"
    },
    {
     "data": {
      "text/plain": "<IPython.core.display.HTML object>",
      "text/html": "<style>\n    table.wandb td:nth-child(1) { padding: 0 10px; text-align: right }\n    .wandb-row { display: flex; flex-direction: row; flex-wrap: wrap; width: 100% }\n    .wandb-col { display: flex; flex-direction: column; flex-basis: 100%; flex: 1; padding: 10px; }\n    </style>\n<div class=\"wandb-row\"><div class=\"wandb-col\">\n<h3>Run history:</h3><br/><table class=\"wandb\"><tr><td>epoch</td><td>▁▁▁▂▂▂▂▂▂▃▃▃▃▃▄▄▄▄▄▄▅▅▅▅▅▅▆▆▆▆▆▇▇▇▇▇▇███</td></tr><tr><td>training_acc</td><td>▁▄▅▅▆▆▆▇▇▇▇▇▇▇▇▇▇▇▇▇████████████████████</td></tr><tr><td>training_loss</td><td>█▅▄▄▄▃▃▃▃▃▂▂▂▂▂▂▂▂▂▂▂▂▂▁▁▁▁▁▁▁▁▁▁▁▁▁▁▁▁▁</td></tr><tr><td>validation_acc</td><td>▁▇██████████████████████████████████████</td></tr><tr><td>validation_loss</td><td>█▃▃▂▂▃▂▂▂▂▂▂▂▂▁▂▁▁▁▁▁▁▁▁▁▁▁▁▁▁▁▁▁▁▁▁▁▁▁▁</td></tr></table><br/></div><div class=\"wandb-col\">\n<h3>Run summary:</h3><br/><table class=\"wandb\"><tr><td>epoch</td><td>39</td></tr><tr><td>training_acc</td><td>0.95458</td></tr><tr><td>training_loss</td><td>0.15583</td></tr><tr><td>validation_acc</td><td>0.95785</td></tr><tr><td>validation_loss</td><td>0.1354</td></tr></table>\n</div></div>\nSynced 6 W&B file(s), 0 media file(s), 0 artifact file(s) and 0 other file(s)\n<br/>Synced <strong style=\"color:#cdcd00\">sage-sweep-30</strong>: <a href=\"https://wandb.ai/freja-thoresen/dtu-course/runs/ea3ospn2\" target=\"_blank\">https://wandb.ai/freja-thoresen/dtu-course/runs/ea3ospn2</a><br/>\nFind logs at: <code>./wandb/run-20211228_034320-ea3ospn2/logs</code><br/>\n"
     },
     "metadata": {},
     "output_type": "display_data"
    },
    {
     "name": "stderr",
     "output_type": "stream",
     "text": [
      "\u001B[34m\u001B[1mwandb\u001B[0m: Agent Starting Run: lgef2uq8 with config:\n",
      "\u001B[34m\u001B[1mwandb\u001B[0m: \tepochs: 40\n",
      "\u001B[34m\u001B[1mwandb\u001B[0m: \tinput_size: 1\n",
      "\u001B[34m\u001B[1mwandb\u001B[0m: \tlearning_rate: 0.0002\n",
      "\u001B[34m\u001B[1mwandb\u001B[0m: \tlinear_dropout: 0.2\n",
      "\u001B[34m\u001B[1mwandb\u001B[0m: \tlinear_hidden_size: 60\n",
      "\u001B[34m\u001B[1mwandb\u001B[0m: \tlstm_dropbout: 0.4\n",
      "\u001B[34m\u001B[1mwandb\u001B[0m: \tlstm_hidden_size: 20\n",
      "\u001B[34m\u001B[1mwandb\u001B[0m: \tno_batches: 100\n",
      "\u001B[34m\u001B[1mwandb\u001B[0m: \tno_files: 100\n",
      "\u001B[34m\u001B[1mwandb\u001B[0m: \tnum_classes: 1\n",
      "\u001B[34m\u001B[1mwandb\u001B[0m: \tnum_layers: 2\n",
      "\u001B[34m\u001B[1mwandb\u001B[0m: \tsequence_length: 10\n"
     ]
    },
    {
     "data": {
      "text/plain": "<IPython.core.display.HTML object>",
      "text/html": "\n                    Syncing run <strong><a href=\"https://wandb.ai/freja-thoresen/dtu-course/runs/lgef2uq8\" target=\"_blank\">wise-sweep-31</a></strong> to <a href=\"https://wandb.ai/freja-thoresen/dtu-course\" target=\"_blank\">Weights & Biases</a> (<a href=\"https://docs.wandb.com/integrations/jupyter.html\" target=\"_blank\">docs</a>).<br/>\nSweep page: <a href=\"https://wandb.ai/freja-thoresen/dtu-course/sweeps/o1kyjfhc\" target=\"_blank\">https://wandb.ai/freja-thoresen/dtu-course/sweeps/o1kyjfhc</a><br/>\n\n                "
     },
     "metadata": {},
     "output_type": "display_data"
    },
    {
     "name": "stdout",
     "output_type": "stream",
     "text": [
      "training files 80\n",
      "validation files 10\n",
      "test files 10\n"
     ]
    },
    {
     "data": {
      "text/plain": "<IPython.core.display.HTML object>",
      "text/html": "<br/>Waiting for W&B process to finish, PID 44396... <strong style=\"color:green\">(success).</strong>"
     },
     "metadata": {},
     "output_type": "display_data"
    },
    {
     "data": {
      "text/plain": "VBox(children=(Label(value=' 0.00MB of 0.00MB uploaded (0.00MB deduped)\\r'), FloatProgress(value=1.0, max=1.0)…",
      "application/vnd.jupyter.widget-view+json": {
       "version_major": 2,
       "version_minor": 0,
       "model_id": "3d2fe2c347454363bccad654734a6d41"
      }
     },
     "metadata": {},
     "output_type": "display_data"
    },
    {
     "data": {
      "text/plain": "<IPython.core.display.HTML object>",
      "text/html": "<style>\n    table.wandb td:nth-child(1) { padding: 0 10px; text-align: right }\n    .wandb-row { display: flex; flex-direction: row; flex-wrap: wrap; width: 100% }\n    .wandb-col { display: flex; flex-direction: column; flex-basis: 100%; flex: 1; padding: 10px; }\n    </style>\n<div class=\"wandb-row\"><div class=\"wandb-col\">\n<h3>Run history:</h3><br/><table class=\"wandb\"><tr><td>epoch</td><td>▁▁▁▂▂▂▂▂▂▃▃▃▃▃▄▄▄▄▄▄▅▅▅▅▅▅▆▆▆▆▆▇▇▇▇▇▇███</td></tr><tr><td>training_acc</td><td>▁▅▆▆▆▇▇▇▇▇██████████████████████████████</td></tr><tr><td>training_loss</td><td>█▄▄▃▃▃▂▂▂▂▂▂▁▁▁▁▁▁▁▁▁▁▁▁▁▁▁▁▁▁▁▁▁▁▁▁▁▁▁▁</td></tr><tr><td>validation_acc</td><td>▁▇██████████████████████████████████████</td></tr><tr><td>validation_loss</td><td>█▃▂▂▂▂▂▁▁▁▁▁▁▁▁▁▁▁▁▁▁▁▁▁▁▁▁▁▁▁▁▁▁▁▁▁▁▁▁▁</td></tr></table><br/></div><div class=\"wandb-col\">\n<h3>Run summary:</h3><br/><table class=\"wandb\"><tr><td>epoch</td><td>39</td></tr><tr><td>training_acc</td><td>0.9531</td></tr><tr><td>training_loss</td><td>0.15671</td></tr><tr><td>validation_acc</td><td>0.95615</td></tr><tr><td>validation_loss</td><td>0.15211</td></tr></table>\n</div></div>\nSynced 6 W&B file(s), 0 media file(s), 0 artifact file(s) and 0 other file(s)\n<br/>Synced <strong style=\"color:#cdcd00\">wise-sweep-31</strong>: <a href=\"https://wandb.ai/freja-thoresen/dtu-course/runs/lgef2uq8\" target=\"_blank\">https://wandb.ai/freja-thoresen/dtu-course/runs/lgef2uq8</a><br/>\nFind logs at: <code>./wandb/run-20211228_052202-lgef2uq8/logs</code><br/>\n"
     },
     "metadata": {},
     "output_type": "display_data"
    },
    {
     "name": "stderr",
     "output_type": "stream",
     "text": [
      "\u001B[34m\u001B[1mwandb\u001B[0m: Agent Starting Run: 82a05lib with config:\n",
      "\u001B[34m\u001B[1mwandb\u001B[0m: \tepochs: 40\n",
      "\u001B[34m\u001B[1mwandb\u001B[0m: \tinput_size: 1\n",
      "\u001B[34m\u001B[1mwandb\u001B[0m: \tlearning_rate: 0.0002\n",
      "\u001B[34m\u001B[1mwandb\u001B[0m: \tlinear_dropout: 0.2\n",
      "\u001B[34m\u001B[1mwandb\u001B[0m: \tlinear_hidden_size: 60\n",
      "\u001B[34m\u001B[1mwandb\u001B[0m: \tlstm_dropbout: 0.4\n",
      "\u001B[34m\u001B[1mwandb\u001B[0m: \tlstm_hidden_size: 20\n",
      "\u001B[34m\u001B[1mwandb\u001B[0m: \tno_batches: 100\n",
      "\u001B[34m\u001B[1mwandb\u001B[0m: \tno_files: 100\n",
      "\u001B[34m\u001B[1mwandb\u001B[0m: \tnum_classes: 1\n",
      "\u001B[34m\u001B[1mwandb\u001B[0m: \tnum_layers: 3\n",
      "\u001B[34m\u001B[1mwandb\u001B[0m: \tsequence_length: 10\n"
     ]
    },
    {
     "data": {
      "text/plain": "<IPython.core.display.HTML object>",
      "text/html": "\n                    Syncing run <strong><a href=\"https://wandb.ai/freja-thoresen/dtu-course/runs/82a05lib\" target=\"_blank\">cosmic-sweep-32</a></strong> to <a href=\"https://wandb.ai/freja-thoresen/dtu-course\" target=\"_blank\">Weights & Biases</a> (<a href=\"https://docs.wandb.com/integrations/jupyter.html\" target=\"_blank\">docs</a>).<br/>\nSweep page: <a href=\"https://wandb.ai/freja-thoresen/dtu-course/sweeps/o1kyjfhc\" target=\"_blank\">https://wandb.ai/freja-thoresen/dtu-course/sweeps/o1kyjfhc</a><br/>\n\n                "
     },
     "metadata": {},
     "output_type": "display_data"
    },
    {
     "name": "stdout",
     "output_type": "stream",
     "text": [
      "training files 80\n",
      "validation files 10\n",
      "test files 10\n"
     ]
    },
    {
     "data": {
      "text/plain": "<IPython.core.display.HTML object>",
      "text/html": "<br/>Waiting for W&B process to finish, PID 46297... <strong style=\"color:green\">(success).</strong>"
     },
     "metadata": {},
     "output_type": "display_data"
    },
    {
     "data": {
      "text/plain": "VBox(children=(Label(value=' 0.00MB of 0.00MB uploaded (0.00MB deduped)\\r'), FloatProgress(value=1.0, max=1.0)…",
      "application/vnd.jupyter.widget-view+json": {
       "version_major": 2,
       "version_minor": 0,
       "model_id": "173e9c09a26849839873ca53f9aaf995"
      }
     },
     "metadata": {},
     "output_type": "display_data"
    },
    {
     "data": {
      "text/plain": "<IPython.core.display.HTML object>",
      "text/html": "<style>\n    table.wandb td:nth-child(1) { padding: 0 10px; text-align: right }\n    .wandb-row { display: flex; flex-direction: row; flex-wrap: wrap; width: 100% }\n    .wandb-col { display: flex; flex-direction: column; flex-basis: 100%; flex: 1; padding: 10px; }\n    </style>\n<div class=\"wandb-row\"><div class=\"wandb-col\">\n<h3>Run history:</h3><br/><table class=\"wandb\"><tr><td>epoch</td><td>▁▁▁▂▂▂▂▂▂▃▃▃▃▃▄▄▄▄▄▄▅▅▅▅▅▅▆▆▆▆▆▇▇▇▇▇▇███</td></tr><tr><td>training_acc</td><td>▁▄▅▆▆▆▆▇▇▇▇▇██████▇█▇▇▇█▆█████▇█▇██▇████</td></tr><tr><td>training_loss</td><td>█▅▄▄▄▃▃▃▂▂▂▂▂▂▂▂▁▂▂▂▂▂▂▁▃▁▁▁▁▁▂▁▂▁▁▁▁▁▁▁</td></tr><tr><td>validation_acc</td><td>▁▃▅▆▆▆▇▇▇▇██▇███████████████████▇███████</td></tr><tr><td>validation_loss</td><td>█▃▂▂▂▂▂▁▁▁▁▁▁▁▁▁▁▁▁▁▁▁▁▁▁▁▁▁▁▁▁▁▂▁▁▁▁▁▁▁</td></tr></table><br/></div><div class=\"wandb-col\">\n<h3>Run summary:</h3><br/><table class=\"wandb\"><tr><td>epoch</td><td>39</td></tr><tr><td>training_acc</td><td>0.94774</td></tr><tr><td>training_loss</td><td>0.16348</td></tr><tr><td>validation_acc</td><td>0.95042</td></tr><tr><td>validation_loss</td><td>0.18044</td></tr></table>\n</div></div>\nSynced 6 W&B file(s), 0 media file(s), 0 artifact file(s) and 0 other file(s)\n<br/>Synced <strong style=\"color:#cdcd00\">cosmic-sweep-32</strong>: <a href=\"https://wandb.ai/freja-thoresen/dtu-course/runs/82a05lib\" target=\"_blank\">https://wandb.ai/freja-thoresen/dtu-course/runs/82a05lib</a><br/>\nFind logs at: <code>./wandb/run-20211228_060206-82a05lib/logs</code><br/>\n"
     },
     "metadata": {},
     "output_type": "display_data"
    },
    {
     "name": "stderr",
     "output_type": "stream",
     "text": [
      "\u001B[34m\u001B[1mwandb\u001B[0m: Agent Starting Run: bla9xerp with config:\n",
      "\u001B[34m\u001B[1mwandb\u001B[0m: \tepochs: 40\n",
      "\u001B[34m\u001B[1mwandb\u001B[0m: \tinput_size: 1\n",
      "\u001B[34m\u001B[1mwandb\u001B[0m: \tlearning_rate: 0.0002\n",
      "\u001B[34m\u001B[1mwandb\u001B[0m: \tlinear_dropout: 0.2\n",
      "\u001B[34m\u001B[1mwandb\u001B[0m: \tlinear_hidden_size: 60\n",
      "\u001B[34m\u001B[1mwandb\u001B[0m: \tlstm_dropbout: 0.4\n",
      "\u001B[34m\u001B[1mwandb\u001B[0m: \tlstm_hidden_size: 40\n",
      "\u001B[34m\u001B[1mwandb\u001B[0m: \tno_batches: 100\n",
      "\u001B[34m\u001B[1mwandb\u001B[0m: \tno_files: 100\n",
      "\u001B[34m\u001B[1mwandb\u001B[0m: \tnum_classes: 1\n",
      "\u001B[34m\u001B[1mwandb\u001B[0m: \tnum_layers: 2\n",
      "\u001B[34m\u001B[1mwandb\u001B[0m: \tsequence_length: 10\n"
     ]
    },
    {
     "data": {
      "text/plain": "<IPython.core.display.HTML object>",
      "text/html": "\n                    Syncing run <strong><a href=\"https://wandb.ai/freja-thoresen/dtu-course/runs/bla9xerp\" target=\"_blank\">sandy-sweep-33</a></strong> to <a href=\"https://wandb.ai/freja-thoresen/dtu-course\" target=\"_blank\">Weights & Biases</a> (<a href=\"https://docs.wandb.com/integrations/jupyter.html\" target=\"_blank\">docs</a>).<br/>\nSweep page: <a href=\"https://wandb.ai/freja-thoresen/dtu-course/sweeps/o1kyjfhc\" target=\"_blank\">https://wandb.ai/freja-thoresen/dtu-course/sweeps/o1kyjfhc</a><br/>\n\n                "
     },
     "metadata": {},
     "output_type": "display_data"
    },
    {
     "name": "stdout",
     "output_type": "stream",
     "text": [
      "training files 80\n",
      "validation files 10\n",
      "test files 10\n"
     ]
    },
    {
     "data": {
      "text/plain": "<IPython.core.display.HTML object>",
      "text/html": "<br/>Waiting for W&B process to finish, PID 46971... <strong style=\"color:green\">(success).</strong>"
     },
     "metadata": {},
     "output_type": "display_data"
    },
    {
     "data": {
      "text/plain": "VBox(children=(Label(value=' 0.00MB of 0.00MB uploaded (0.00MB deduped)\\r'), FloatProgress(value=1.0, max=1.0)…",
      "application/vnd.jupyter.widget-view+json": {
       "version_major": 2,
       "version_minor": 0,
       "model_id": "39906b760e9a48a49a120ed4aa02ee33"
      }
     },
     "metadata": {},
     "output_type": "display_data"
    },
    {
     "data": {
      "text/plain": "<IPython.core.display.HTML object>",
      "text/html": "<style>\n    table.wandb td:nth-child(1) { padding: 0 10px; text-align: right }\n    .wandb-row { display: flex; flex-direction: row; flex-wrap: wrap; width: 100% }\n    .wandb-col { display: flex; flex-direction: column; flex-basis: 100%; flex: 1; padding: 10px; }\n    </style>\n<div class=\"wandb-row\"><div class=\"wandb-col\">\n<h3>Run history:</h3><br/><table class=\"wandb\"><tr><td>epoch</td><td>▁▁▁▂▂▂▂▂▂▃▃▃▃▃▄▄▄▄▄▄▅▅▅▅▅▅▆▆▆▆▆▇▇▇▇▇▇███</td></tr><tr><td>training_acc</td><td>▁▅▅▆▆▇▇▇▇▇▇█▇███████████████████████████</td></tr><tr><td>training_loss</td><td>█▅▄▄▃▃▃▂▂▂▂▂▂▂▂▁▁▁▁▁▁▁▁▁▁▁▁▁▁▁▁▁▁▁▁▁▁▁▁▁</td></tr><tr><td>validation_acc</td><td>▁███████████████████████████████████████</td></tr><tr><td>validation_loss</td><td>█▂▂▂▁▂▂▂▂▂▂▂▂▂▂▂▂▂▂▂▂▂▂▂▂▂▁▂▂▂▂▁▂▂▂▂▂▂▂▂</td></tr></table><br/></div><div class=\"wandb-col\">\n<h3>Run summary:</h3><br/><table class=\"wandb\"><tr><td>epoch</td><td>39</td></tr><tr><td>training_acc</td><td>0.95145</td></tr><tr><td>training_loss</td><td>0.15939</td></tr><tr><td>validation_acc</td><td>0.93172</td></tr><tr><td>validation_loss</td><td>0.32254</td></tr></table>\n</div></div>\nSynced 6 W&B file(s), 0 media file(s), 0 artifact file(s) and 0 other file(s)\n<br/>Synced <strong style=\"color:#cdcd00\">sandy-sweep-33</strong>: <a href=\"https://wandb.ai/freja-thoresen/dtu-course/runs/bla9xerp\" target=\"_blank\">https://wandb.ai/freja-thoresen/dtu-course/runs/bla9xerp</a><br/>\nFind logs at: <code>./wandb/run-20211228_065325-bla9xerp/logs</code><br/>\n"
     },
     "metadata": {},
     "output_type": "display_data"
    },
    {
     "name": "stderr",
     "output_type": "stream",
     "text": [
      "\u001B[34m\u001B[1mwandb\u001B[0m: Agent Starting Run: dm0dumst with config:\n",
      "\u001B[34m\u001B[1mwandb\u001B[0m: \tepochs: 40\n",
      "\u001B[34m\u001B[1mwandb\u001B[0m: \tinput_size: 1\n",
      "\u001B[34m\u001B[1mwandb\u001B[0m: \tlearning_rate: 0.0002\n",
      "\u001B[34m\u001B[1mwandb\u001B[0m: \tlinear_dropout: 0.2\n",
      "\u001B[34m\u001B[1mwandb\u001B[0m: \tlinear_hidden_size: 60\n",
      "\u001B[34m\u001B[1mwandb\u001B[0m: \tlstm_dropbout: 0.4\n",
      "\u001B[34m\u001B[1mwandb\u001B[0m: \tlstm_hidden_size: 40\n",
      "\u001B[34m\u001B[1mwandb\u001B[0m: \tno_batches: 100\n",
      "\u001B[34m\u001B[1mwandb\u001B[0m: \tno_files: 100\n",
      "\u001B[34m\u001B[1mwandb\u001B[0m: \tnum_classes: 1\n",
      "\u001B[34m\u001B[1mwandb\u001B[0m: \tnum_layers: 3\n",
      "\u001B[34m\u001B[1mwandb\u001B[0m: \tsequence_length: 10\n"
     ]
    },
    {
     "data": {
      "text/plain": "<IPython.core.display.HTML object>",
      "text/html": "\n                    Syncing run <strong><a href=\"https://wandb.ai/freja-thoresen/dtu-course/runs/dm0dumst\" target=\"_blank\">glorious-sweep-34</a></strong> to <a href=\"https://wandb.ai/freja-thoresen/dtu-course\" target=\"_blank\">Weights & Biases</a> (<a href=\"https://docs.wandb.com/integrations/jupyter.html\" target=\"_blank\">docs</a>).<br/>\nSweep page: <a href=\"https://wandb.ai/freja-thoresen/dtu-course/sweeps/o1kyjfhc\" target=\"_blank\">https://wandb.ai/freja-thoresen/dtu-course/sweeps/o1kyjfhc</a><br/>\n\n                "
     },
     "metadata": {},
     "output_type": "display_data"
    },
    {
     "name": "stdout",
     "output_type": "stream",
     "text": [
      "training files 80\n",
      "validation files 10\n",
      "test files 10\n"
     ]
    },
    {
     "data": {
      "text/plain": "<IPython.core.display.HTML object>",
      "text/html": "<br/>Waiting for W&B process to finish, PID 47835... <strong style=\"color:green\">(success).</strong>"
     },
     "metadata": {},
     "output_type": "display_data"
    },
    {
     "data": {
      "text/plain": "VBox(children=(Label(value=' 0.00MB of 0.00MB uploaded (0.00MB deduped)\\r'), FloatProgress(value=1.0, max=1.0)…",
      "application/vnd.jupyter.widget-view+json": {
       "version_major": 2,
       "version_minor": 0,
       "model_id": "16e3c25290104e5cae4422e5b973e536"
      }
     },
     "metadata": {},
     "output_type": "display_data"
    },
    {
     "data": {
      "text/plain": "<IPython.core.display.HTML object>",
      "text/html": "<style>\n    table.wandb td:nth-child(1) { padding: 0 10px; text-align: right }\n    .wandb-row { display: flex; flex-direction: row; flex-wrap: wrap; width: 100% }\n    .wandb-col { display: flex; flex-direction: column; flex-basis: 100%; flex: 1; padding: 10px; }\n    </style>\n<div class=\"wandb-row\"><div class=\"wandb-col\">\n<h3>Run history:</h3><br/><table class=\"wandb\"><tr><td>epoch</td><td>▁▁▁▂▂▂▂▂▂▃▃▃▃▃▄▄▄▄▄▄▅▅▅▅▅▅▆▆▆▆▆▇▇▇▇▇▇███</td></tr><tr><td>training_acc</td><td>▁▅▅▆▆▇▇▇▇███████████████████████████████</td></tr><tr><td>training_loss</td><td>█▅▄▃▃▃▂▂▂▂▂▂▁▁▁▁▁▁▁▁▁▁▁▁▁▁▁▁▁▁▁▁▁▁▁▁▁▁▁▁</td></tr><tr><td>validation_acc</td><td>▁██▇███▇█▇███████████████████▇██████████</td></tr><tr><td>validation_loss</td><td>█▂▂▄▁▁▁▃▃▄▂▂▁▂▂▂▂▂▂▂▃▂▁▂▂▂▂▂▂▃▂▂▂▁▂▁▂▂▁▂</td></tr></table><br/></div><div class=\"wandb-col\">\n<h3>Run summary:</h3><br/><table class=\"wandb\"><tr><td>epoch</td><td>39</td></tr><tr><td>training_acc</td><td>0.95303</td></tr><tr><td>training_loss</td><td>0.16</td></tr><tr><td>validation_acc</td><td>0.93673</td></tr><tr><td>validation_loss</td><td>0.22126</td></tr></table>\n</div></div>\nSynced 6 W&B file(s), 0 media file(s), 0 artifact file(s) and 0 other file(s)\n<br/>Synced <strong style=\"color:#cdcd00\">glorious-sweep-34</strong>: <a href=\"https://wandb.ai/freja-thoresen/dtu-course/runs/dm0dumst\" target=\"_blank\">https://wandb.ai/freja-thoresen/dtu-course/runs/dm0dumst</a><br/>\nFind logs at: <code>./wandb/run-20211228_074643-dm0dumst/logs</code><br/>\n"
     },
     "metadata": {},
     "output_type": "display_data"
    },
    {
     "name": "stderr",
     "output_type": "stream",
     "text": [
      "\u001B[34m\u001B[1mwandb\u001B[0m: Agent Starting Run: hrod4ix9 with config:\n",
      "\u001B[34m\u001B[1mwandb\u001B[0m: \tepochs: 40\n",
      "\u001B[34m\u001B[1mwandb\u001B[0m: \tinput_size: 1\n",
      "\u001B[34m\u001B[1mwandb\u001B[0m: \tlearning_rate: 0.0002\n",
      "\u001B[34m\u001B[1mwandb\u001B[0m: \tlinear_dropout: 0.2\n",
      "\u001B[34m\u001B[1mwandb\u001B[0m: \tlinear_hidden_size: 60\n",
      "\u001B[34m\u001B[1mwandb\u001B[0m: \tlstm_dropbout: 0.4\n",
      "\u001B[34m\u001B[1mwandb\u001B[0m: \tlstm_hidden_size: 60\n",
      "\u001B[34m\u001B[1mwandb\u001B[0m: \tno_batches: 100\n",
      "\u001B[34m\u001B[1mwandb\u001B[0m: \tno_files: 100\n",
      "\u001B[34m\u001B[1mwandb\u001B[0m: \tnum_classes: 1\n",
      "\u001B[34m\u001B[1mwandb\u001B[0m: \tnum_layers: 2\n",
      "\u001B[34m\u001B[1mwandb\u001B[0m: \tsequence_length: 10\n"
     ]
    },
    {
     "data": {
      "text/plain": "<IPython.core.display.HTML object>",
      "text/html": "\n                    Syncing run <strong><a href=\"https://wandb.ai/freja-thoresen/dtu-course/runs/hrod4ix9\" target=\"_blank\">genial-sweep-35</a></strong> to <a href=\"https://wandb.ai/freja-thoresen/dtu-course\" target=\"_blank\">Weights & Biases</a> (<a href=\"https://docs.wandb.com/integrations/jupyter.html\" target=\"_blank\">docs</a>).<br/>\nSweep page: <a href=\"https://wandb.ai/freja-thoresen/dtu-course/sweeps/o1kyjfhc\" target=\"_blank\">https://wandb.ai/freja-thoresen/dtu-course/sweeps/o1kyjfhc</a><br/>\n\n                "
     },
     "metadata": {},
     "output_type": "display_data"
    },
    {
     "name": "stdout",
     "output_type": "stream",
     "text": [
      "training files 80\n",
      "validation files 10\n",
      "test files 10\n"
     ]
    },
    {
     "data": {
      "text/plain": "<IPython.core.display.HTML object>",
      "text/html": "<br/>Waiting for W&B process to finish, PID 48874... <strong style=\"color:green\">(success).</strong>"
     },
     "metadata": {},
     "output_type": "display_data"
    },
    {
     "data": {
      "text/plain": "VBox(children=(Label(value=' 0.00MB of 0.00MB uploaded (0.00MB deduped)\\r'), FloatProgress(value=1.0, max=1.0)…",
      "application/vnd.jupyter.widget-view+json": {
       "version_major": 2,
       "version_minor": 0,
       "model_id": "154a39c98fc64fbc8039eae73a9e5f0a"
      }
     },
     "metadata": {},
     "output_type": "display_data"
    },
    {
     "data": {
      "text/plain": "<IPython.core.display.HTML object>",
      "text/html": "<style>\n    table.wandb td:nth-child(1) { padding: 0 10px; text-align: right }\n    .wandb-row { display: flex; flex-direction: row; flex-wrap: wrap; width: 100% }\n    .wandb-col { display: flex; flex-direction: column; flex-basis: 100%; flex: 1; padding: 10px; }\n    </style>\n<div class=\"wandb-row\"><div class=\"wandb-col\">\n<h3>Run history:</h3><br/><table class=\"wandb\"><tr><td>epoch</td><td>▁▁▁▂▂▂▂▂▂▃▃▃▃▃▄▄▄▄▄▄▅▅▅▅▅▅▆▆▆▆▆▇▇▇▇▇▇███</td></tr><tr><td>training_acc</td><td>▁▅▅▆▆▆▇▇▇▇▇▇▇▇▇▇▇▇▇▇▇███████████████████</td></tr><tr><td>training_loss</td><td>█▅▄▃▃▃▃▃▃▂▂▂▂▂▂▂▂▂▂▂▂▂▂▂▁▁▁▁▁▁▁▁▁▁▁▁▁▁▁▁</td></tr><tr><td>validation_acc</td><td>▁███████████████████████████████████████</td></tr><tr><td>validation_loss</td><td>█▂▁▂▁▂▁▁▁▁▁▁▁▁▁▁▁▁▁▁▁▁▁▁▁▁▁▂▂▂▂▂▂▂▂▁▁▁▁▁</td></tr></table><br/></div><div class=\"wandb-col\">\n<h3>Run summary:</h3><br/><table class=\"wandb\"><tr><td>epoch</td><td>39</td></tr><tr><td>training_acc</td><td>0.95542</td></tr><tr><td>training_loss</td><td>0.15301</td></tr><tr><td>validation_acc</td><td>0.93555</td></tr><tr><td>validation_loss</td><td>0.29204</td></tr></table>\n</div></div>\nSynced 6 W&B file(s), 0 media file(s), 0 artifact file(s) and 0 other file(s)\n<br/>Synced <strong style=\"color:#cdcd00\">genial-sweep-35</strong>: <a href=\"https://wandb.ai/freja-thoresen/dtu-course/runs/hrod4ix9\" target=\"_blank\">https://wandb.ai/freja-thoresen/dtu-course/runs/hrod4ix9</a><br/>\nFind logs at: <code>./wandb/run-20211228_090922-hrod4ix9/logs</code><br/>\n"
     },
     "metadata": {},
     "output_type": "display_data"
    },
    {
     "name": "stderr",
     "output_type": "stream",
     "text": [
      "\u001B[34m\u001B[1mwandb\u001B[0m: Agent Starting Run: v0lbg243 with config:\n",
      "\u001B[34m\u001B[1mwandb\u001B[0m: \tepochs: 40\n",
      "\u001B[34m\u001B[1mwandb\u001B[0m: \tinput_size: 1\n",
      "\u001B[34m\u001B[1mwandb\u001B[0m: \tlearning_rate: 0.0002\n",
      "\u001B[34m\u001B[1mwandb\u001B[0m: \tlinear_dropout: 0.2\n",
      "\u001B[34m\u001B[1mwandb\u001B[0m: \tlinear_hidden_size: 60\n",
      "\u001B[34m\u001B[1mwandb\u001B[0m: \tlstm_dropbout: 0.4\n",
      "\u001B[34m\u001B[1mwandb\u001B[0m: \tlstm_hidden_size: 60\n",
      "\u001B[34m\u001B[1mwandb\u001B[0m: \tno_batches: 100\n",
      "\u001B[34m\u001B[1mwandb\u001B[0m: \tno_files: 100\n",
      "\u001B[34m\u001B[1mwandb\u001B[0m: \tnum_classes: 1\n",
      "\u001B[34m\u001B[1mwandb\u001B[0m: \tnum_layers: 3\n",
      "\u001B[34m\u001B[1mwandb\u001B[0m: \tsequence_length: 10\n"
     ]
    },
    {
     "data": {
      "text/plain": "<IPython.core.display.HTML object>",
      "text/html": "\n                    Syncing run <strong><a href=\"https://wandb.ai/freja-thoresen/dtu-course/runs/v0lbg243\" target=\"_blank\">worthy-sweep-36</a></strong> to <a href=\"https://wandb.ai/freja-thoresen/dtu-course\" target=\"_blank\">Weights & Biases</a> (<a href=\"https://docs.wandb.com/integrations/jupyter.html\" target=\"_blank\">docs</a>).<br/>\nSweep page: <a href=\"https://wandb.ai/freja-thoresen/dtu-course/sweeps/o1kyjfhc\" target=\"_blank\">https://wandb.ai/freja-thoresen/dtu-course/sweeps/o1kyjfhc</a><br/>\n\n                "
     },
     "metadata": {},
     "output_type": "display_data"
    },
    {
     "name": "stdout",
     "output_type": "stream",
     "text": [
      "training files 80\n",
      "validation files 10\n",
      "test files 10\n"
     ]
    },
    {
     "data": {
      "text/plain": "<IPython.core.display.HTML object>",
      "text/html": "<br/>Waiting for W&B process to finish, PID 49710... <strong style=\"color:green\">(success).</strong>"
     },
     "metadata": {},
     "output_type": "display_data"
    },
    {
     "data": {
      "text/plain": "VBox(children=(Label(value=' 0.00MB of 0.00MB uploaded (0.00MB deduped)\\r'), FloatProgress(value=1.0, max=1.0)…",
      "application/vnd.jupyter.widget-view+json": {
       "version_major": 2,
       "version_minor": 0,
       "model_id": "f6e4aec165884891b250d0907d8768bf"
      }
     },
     "metadata": {},
     "output_type": "display_data"
    },
    {
     "data": {
      "text/plain": "<IPython.core.display.HTML object>",
      "text/html": "<style>\n    table.wandb td:nth-child(1) { padding: 0 10px; text-align: right }\n    .wandb-row { display: flex; flex-direction: row; flex-wrap: wrap; width: 100% }\n    .wandb-col { display: flex; flex-direction: column; flex-basis: 100%; flex: 1; padding: 10px; }\n    </style>\n<div class=\"wandb-row\"><div class=\"wandb-col\">\n<h3>Run history:</h3><br/><table class=\"wandb\"><tr><td>epoch</td><td>▁▁▁▂▂▂▂▂▂▃▃▃▃▃▄▄▄▄▄▄▅▅▅▅▅▅▆▆▆▆▆▇▇▇▇▇▇███</td></tr><tr><td>training_acc</td><td>▁▄▅▆▆▆▇▇▇▇▇▇▇▇▇▇▇▇▇█████████████████████</td></tr><tr><td>training_loss</td><td>█▆▄▄▃▃▃▃▃▂▂▂▂▂▂▂▂▂▂▂▂▁▁▁▁▁▁▁▁▁▁▁▁▁▁▁▁▁▁▁</td></tr><tr><td>validation_acc</td><td>▁▇██████████████████████████████████████</td></tr><tr><td>validation_loss</td><td>█▄▃▂▃▂▂▃▂▃▂▂▂▁▁▁▁▁▁▁▁▁▁▁▁▁▁▁▁▁▁▁▁▁▁▁▁▁▁▁</td></tr></table><br/></div><div class=\"wandb-col\">\n<h3>Run summary:</h3><br/><table class=\"wandb\"><tr><td>epoch</td><td>39</td></tr><tr><td>training_acc</td><td>0.95676</td></tr><tr><td>training_loss</td><td>0.14699</td></tr><tr><td>validation_acc</td><td>0.95134</td></tr><tr><td>validation_loss</td><td>0.16926</td></tr></table>\n</div></div>\nSynced 6 W&B file(s), 0 media file(s), 0 artifact file(s) and 0 other file(s)\n<br/>Synced <strong style=\"color:#cdcd00\">worthy-sweep-36</strong>: <a href=\"https://wandb.ai/freja-thoresen/dtu-course/runs/v0lbg243\" target=\"_blank\">https://wandb.ai/freja-thoresen/dtu-course/runs/v0lbg243</a><br/>\nFind logs at: <code>./wandb/run-20211228_102132-v0lbg243/logs</code><br/>\n"
     },
     "metadata": {},
     "output_type": "display_data"
    },
    {
     "name": "stderr",
     "output_type": "stream",
     "text": [
      "\u001B[34m\u001B[1mwandb\u001B[0m: Agent Starting Run: 54pod082 with config:\n",
      "\u001B[34m\u001B[1mwandb\u001B[0m: \tepochs: 40\n",
      "\u001B[34m\u001B[1mwandb\u001B[0m: \tinput_size: 1\n",
      "\u001B[34m\u001B[1mwandb\u001B[0m: \tlearning_rate: 0.0002\n",
      "\u001B[34m\u001B[1mwandb\u001B[0m: \tlinear_dropout: 0.4\n",
      "\u001B[34m\u001B[1mwandb\u001B[0m: \tlinear_hidden_size: 20\n",
      "\u001B[34m\u001B[1mwandb\u001B[0m: \tlstm_dropbout: 0.2\n",
      "\u001B[34m\u001B[1mwandb\u001B[0m: \tlstm_hidden_size: 20\n",
      "\u001B[34m\u001B[1mwandb\u001B[0m: \tno_batches: 100\n",
      "\u001B[34m\u001B[1mwandb\u001B[0m: \tno_files: 100\n",
      "\u001B[34m\u001B[1mwandb\u001B[0m: \tnum_classes: 1\n",
      "\u001B[34m\u001B[1mwandb\u001B[0m: \tnum_layers: 2\n",
      "\u001B[34m\u001B[1mwandb\u001B[0m: \tsequence_length: 10\n"
     ]
    },
    {
     "data": {
      "text/plain": "<IPython.core.display.HTML object>",
      "text/html": "\n                    Syncing run <strong><a href=\"https://wandb.ai/freja-thoresen/dtu-course/runs/54pod082\" target=\"_blank\">lyric-sweep-37</a></strong> to <a href=\"https://wandb.ai/freja-thoresen/dtu-course\" target=\"_blank\">Weights & Biases</a> (<a href=\"https://docs.wandb.com/integrations/jupyter.html\" target=\"_blank\">docs</a>).<br/>\nSweep page: <a href=\"https://wandb.ai/freja-thoresen/dtu-course/sweeps/o1kyjfhc\" target=\"_blank\">https://wandb.ai/freja-thoresen/dtu-course/sweeps/o1kyjfhc</a><br/>\n\n                "
     },
     "metadata": {},
     "output_type": "display_data"
    },
    {
     "name": "stdout",
     "output_type": "stream",
     "text": [
      "training files 80\n",
      "validation files 10\n",
      "test files 10\n"
     ]
    },
    {
     "data": {
      "text/plain": "<IPython.core.display.HTML object>",
      "text/html": "<br/>Waiting for W&B process to finish, PID 50972... <strong style=\"color:green\">(success).</strong>"
     },
     "metadata": {},
     "output_type": "display_data"
    },
    {
     "data": {
      "text/plain": "VBox(children=(Label(value=' 0.00MB of 0.00MB uploaded (0.00MB deduped)\\r'), FloatProgress(value=1.0, max=1.0)…",
      "application/vnd.jupyter.widget-view+json": {
       "version_major": 2,
       "version_minor": 0,
       "model_id": "3e717f513c844611aed33df62b63ba7d"
      }
     },
     "metadata": {},
     "output_type": "display_data"
    },
    {
     "data": {
      "text/plain": "<IPython.core.display.HTML object>",
      "text/html": "<style>\n    table.wandb td:nth-child(1) { padding: 0 10px; text-align: right }\n    .wandb-row { display: flex; flex-direction: row; flex-wrap: wrap; width: 100% }\n    .wandb-col { display: flex; flex-direction: column; flex-basis: 100%; flex: 1; padding: 10px; }\n    </style>\n<div class=\"wandb-row\"><div class=\"wandb-col\">\n<h3>Run history:</h3><br/><table class=\"wandb\"><tr><td>epoch</td><td>▁▁▁▂▂▂▂▂▂▃▃▃▃▃▄▄▄▄▄▄▅▅▅▅▅▅▆▆▆▆▆▇▇▇▇▇▇███</td></tr><tr><td>training_acc</td><td>▁▄▅▆▆▆▇▇▇▇▇▇▇▇▇█████████████████████████</td></tr><tr><td>training_loss</td><td>█▅▄▃▃▃▃▂▂▂▂▂▂▂▂▂▂▂▁▁▁▁▁▁▁▁▁▁▁▁▁▁▁▁▁▁▁▁▁▁</td></tr><tr><td>validation_acc</td><td>▁▃▆▇▇▇▇▇▇█████████████████████████████▇█</td></tr><tr><td>validation_loss</td><td>█▃▁▁▁▁▁▁▁▁▁▁▁▁▁▁▁▁▁▁▁▁▁▁▁▁▁▁▁▂▁▁▁▂▁▁▂▁▂▂</td></tr></table><br/></div><div class=\"wandb-col\">\n<h3>Run summary:</h3><br/><table class=\"wandb\"><tr><td>epoch</td><td>39</td></tr><tr><td>training_acc</td><td>0.95408</td></tr><tr><td>training_loss</td><td>0.15434</td></tr><tr><td>validation_acc</td><td>0.94185</td></tr><tr><td>validation_loss</td><td>0.26763</td></tr></table>\n</div></div>\nSynced 6 W&B file(s), 0 media file(s), 0 artifact file(s) and 0 other file(s)\n<br/>Synced <strong style=\"color:#cdcd00\">lyric-sweep-37</strong>: <a href=\"https://wandb.ai/freja-thoresen/dtu-course/runs/54pod082\" target=\"_blank\">https://wandb.ai/freja-thoresen/dtu-course/runs/54pod082</a><br/>\nFind logs at: <code>./wandb/run-20211228_120126-54pod082/logs</code><br/>\n"
     },
     "metadata": {},
     "output_type": "display_data"
    },
    {
     "name": "stderr",
     "output_type": "stream",
     "text": [
      "\u001B[34m\u001B[1mwandb\u001B[0m: Agent Starting Run: eicppmjz with config:\n",
      "\u001B[34m\u001B[1mwandb\u001B[0m: \tepochs: 40\n",
      "\u001B[34m\u001B[1mwandb\u001B[0m: \tinput_size: 1\n",
      "\u001B[34m\u001B[1mwandb\u001B[0m: \tlearning_rate: 0.0002\n",
      "\u001B[34m\u001B[1mwandb\u001B[0m: \tlinear_dropout: 0.4\n",
      "\u001B[34m\u001B[1mwandb\u001B[0m: \tlinear_hidden_size: 20\n",
      "\u001B[34m\u001B[1mwandb\u001B[0m: \tlstm_dropbout: 0.2\n",
      "\u001B[34m\u001B[1mwandb\u001B[0m: \tlstm_hidden_size: 20\n",
      "\u001B[34m\u001B[1mwandb\u001B[0m: \tno_batches: 100\n",
      "\u001B[34m\u001B[1mwandb\u001B[0m: \tno_files: 100\n",
      "\u001B[34m\u001B[1mwandb\u001B[0m: \tnum_classes: 1\n",
      "\u001B[34m\u001B[1mwandb\u001B[0m: \tnum_layers: 3\n",
      "\u001B[34m\u001B[1mwandb\u001B[0m: \tsequence_length: 10\n"
     ]
    },
    {
     "data": {
      "text/plain": "<IPython.core.display.HTML object>",
      "text/html": "\n                    Syncing run <strong><a href=\"https://wandb.ai/freja-thoresen/dtu-course/runs/eicppmjz\" target=\"_blank\">golden-sweep-38</a></strong> to <a href=\"https://wandb.ai/freja-thoresen/dtu-course\" target=\"_blank\">Weights & Biases</a> (<a href=\"https://docs.wandb.com/integrations/jupyter.html\" target=\"_blank\">docs</a>).<br/>\nSweep page: <a href=\"https://wandb.ai/freja-thoresen/dtu-course/sweeps/o1kyjfhc\" target=\"_blank\">https://wandb.ai/freja-thoresen/dtu-course/sweeps/o1kyjfhc</a><br/>\n\n                "
     },
     "metadata": {},
     "output_type": "display_data"
    },
    {
     "name": "stdout",
     "output_type": "stream",
     "text": [
      "training files 80\n",
      "validation files 10\n",
      "test files 10\n"
     ]
    },
    {
     "data": {
      "text/plain": "<IPython.core.display.HTML object>",
      "text/html": "<br/>Waiting for W&B process to finish, PID 51540... <strong style=\"color:green\">(success).</strong>"
     },
     "metadata": {},
     "output_type": "display_data"
    },
    {
     "data": {
      "text/plain": "VBox(children=(Label(value=' 0.00MB of 0.00MB uploaded (0.00MB deduped)\\r'), FloatProgress(value=1.0, max=1.0)…",
      "application/vnd.jupyter.widget-view+json": {
       "version_major": 2,
       "version_minor": 0,
       "model_id": "a45555d9e76f4f6ab147dba9af1243fa"
      }
     },
     "metadata": {},
     "output_type": "display_data"
    },
    {
     "data": {
      "text/plain": "<IPython.core.display.HTML object>",
      "text/html": "<style>\n    table.wandb td:nth-child(1) { padding: 0 10px; text-align: right }\n    .wandb-row { display: flex; flex-direction: row; flex-wrap: wrap; width: 100% }\n    .wandb-col { display: flex; flex-direction: column; flex-basis: 100%; flex: 1; padding: 10px; }\n    </style>\n<div class=\"wandb-row\"><div class=\"wandb-col\">\n<h3>Run history:</h3><br/><table class=\"wandb\"><tr><td>epoch</td><td>▁▁▁▂▂▂▂▂▂▃▃▃▃▃▄▄▄▄▄▄▅▅▅▅▅▅▆▆▆▆▆▇▇▇▇▇▇███</td></tr><tr><td>training_acc</td><td>▁▂▂▆▆▆▆▆▇▇▇▇▇▇▇▇▇▇██████████████████████</td></tr><tr><td>training_loss</td><td>██▇▄▄▃▃▃▃▃▃▂▂▂▂▂▂▂▂▂▂▂▂▂▁▁▁▁▁▁▁▁▁▁▁▁▁▁▁▁</td></tr><tr><td>validation_acc</td><td>▁▇▇█████████████████████████████████████</td></tr><tr><td>validation_loss</td><td>█▄▄▂▂▂▁▁▁▁▁▁▁▁▁▁▁▁▂▂▁▁▁▁▁▁▁▁▁▁▁▁▁▁▁▁▁▁▁▁</td></tr></table><br/></div><div class=\"wandb-col\">\n<h3>Run summary:</h3><br/><table class=\"wandb\"><tr><td>epoch</td><td>39</td></tr><tr><td>training_acc</td><td>0.94244</td></tr><tr><td>training_loss</td><td>0.19138</td></tr><tr><td>validation_acc</td><td>0.93364</td></tr><tr><td>validation_loss</td><td>0.22619</td></tr></table>\n</div></div>\nSynced 6 W&B file(s), 0 media file(s), 0 artifact file(s) and 0 other file(s)\n<br/>Synced <strong style=\"color:#cdcd00\">golden-sweep-38</strong>: <a href=\"https://wandb.ai/freja-thoresen/dtu-course/runs/eicppmjz\" target=\"_blank\">https://wandb.ai/freja-thoresen/dtu-course/runs/eicppmjz</a><br/>\nFind logs at: <code>./wandb/run-20211228_124052-eicppmjz/logs</code><br/>\n"
     },
     "metadata": {},
     "output_type": "display_data"
    },
    {
     "name": "stderr",
     "output_type": "stream",
     "text": [
      "\u001B[34m\u001B[1mwandb\u001B[0m: Agent Starting Run: 4jjv26uc with config:\n",
      "\u001B[34m\u001B[1mwandb\u001B[0m: \tepochs: 40\n",
      "\u001B[34m\u001B[1mwandb\u001B[0m: \tinput_size: 1\n",
      "\u001B[34m\u001B[1mwandb\u001B[0m: \tlearning_rate: 0.0002\n",
      "\u001B[34m\u001B[1mwandb\u001B[0m: \tlinear_dropout: 0.4\n",
      "\u001B[34m\u001B[1mwandb\u001B[0m: \tlinear_hidden_size: 20\n",
      "\u001B[34m\u001B[1mwandb\u001B[0m: \tlstm_dropbout: 0.2\n",
      "\u001B[34m\u001B[1mwandb\u001B[0m: \tlstm_hidden_size: 40\n",
      "\u001B[34m\u001B[1mwandb\u001B[0m: \tno_batches: 100\n",
      "\u001B[34m\u001B[1mwandb\u001B[0m: \tno_files: 100\n",
      "\u001B[34m\u001B[1mwandb\u001B[0m: \tnum_classes: 1\n",
      "\u001B[34m\u001B[1mwandb\u001B[0m: \tnum_layers: 2\n",
      "\u001B[34m\u001B[1mwandb\u001B[0m: \tsequence_length: 10\n"
     ]
    },
    {
     "data": {
      "text/plain": "<IPython.core.display.HTML object>",
      "text/html": "\n                    Syncing run <strong><a href=\"https://wandb.ai/freja-thoresen/dtu-course/runs/4jjv26uc\" target=\"_blank\">colorful-sweep-39</a></strong> to <a href=\"https://wandb.ai/freja-thoresen/dtu-course\" target=\"_blank\">Weights & Biases</a> (<a href=\"https://docs.wandb.com/integrations/jupyter.html\" target=\"_blank\">docs</a>).<br/>\nSweep page: <a href=\"https://wandb.ai/freja-thoresen/dtu-course/sweeps/o1kyjfhc\" target=\"_blank\">https://wandb.ai/freja-thoresen/dtu-course/sweeps/o1kyjfhc</a><br/>\n\n                "
     },
     "metadata": {},
     "output_type": "display_data"
    },
    {
     "name": "stdout",
     "output_type": "stream",
     "text": [
      "training files 80\n",
      "validation files 10\n",
      "test files 10\n"
     ]
    },
    {
     "name": "stderr",
     "output_type": "stream",
     "text": [
      "Exception in thread ChkStopThr:\n",
      "Traceback (most recent call last):\n",
      "  File \"/home/thoresen/anaconda3/envs/ml/lib/python3.8/threading.py\", line 932, in _bootstrap_inner\n",
      "    self.run()\n",
      "  File \"/home/thoresen/anaconda3/envs/ml/lib/python3.8/threading.py\", line 870, in run\n",
      "    self._target(*self._args, **self._kwargs)\n",
      "  File \"/home/thoresen/anaconda3/envs/ml/lib/python3.8/site-packages/wandb/sdk/wandb_run.py\", line 170, in check_status\n",
      "    status_response = self._interface.communicate_stop_status()\n",
      "  File \"/home/thoresen/anaconda3/envs/ml/lib/python3.8/site-packages/wandb/sdk/interface/interface.py\", line 114, in communicate_stop_status\n",
      "    resp = self._communicate_stop_status(status)\n",
      "  File \"/home/thoresen/anaconda3/envs/ml/lib/python3.8/site-packages/wandb/sdk/interface/interface_shared.py\", line 378, in _communicate_stop_status\n",
      "    resp = self._communicate(req, local=True)\n",
      "  File \"/home/thoresen/anaconda3/envs/ml/lib/python3.8/site-packages/wandb/sdk/interface/interface_shared.py\", line 213, in _communicate\n",
      "    return self._communicate_async(rec, local=local).get(timeout=timeout)\n",
      "  File \"/home/thoresen/anaconda3/envs/ml/lib/python3.8/site-packages/wandb/sdk/interface/interface_shared.py\", line 218, in _communicate_async\n",
      "    raise Exception(\"The wandb backend process has shutdown\")\n",
      "Exception: The wandb backend process has shutdown\n",
      "Exception in thread NetStatThr:\n",
      "Traceback (most recent call last):\n",
      "  File \"/home/thoresen/anaconda3/envs/ml/lib/python3.8/threading.py\", line 932, in _bootstrap_inner\n",
      "    self.run()\n",
      "  File \"/home/thoresen/anaconda3/envs/ml/lib/python3.8/threading.py\", line 870, in run\n",
      "    self._target(*self._args, **self._kwargs)\n",
      "  File \"/home/thoresen/anaconda3/envs/ml/lib/python3.8/site-packages/wandb/sdk/wandb_run.py\", line 152, in check_network_status\n",
      "    status_response = self._interface.communicate_network_status()\n",
      "  File \"/home/thoresen/anaconda3/envs/ml/lib/python3.8/site-packages/wandb/sdk/interface/interface.py\", line 125, in communicate_network_status\n",
      "    resp = self._communicate_network_status(status)\n",
      "  File \"/home/thoresen/anaconda3/envs/ml/lib/python3.8/site-packages/wandb/sdk/interface/interface_shared.py\", line 388, in _communicate_network_status\n",
      "    resp = self._communicate(req, local=True)\n",
      "  File \"/home/thoresen/anaconda3/envs/ml/lib/python3.8/site-packages/wandb/sdk/interface/interface_shared.py\", line 213, in _communicate\n",
      "    return self._communicate_async(rec, local=local).get(timeout=timeout)\n",
      "  File \"/home/thoresen/anaconda3/envs/ml/lib/python3.8/site-packages/wandb/sdk/interface/interface_shared.py\", line 218, in _communicate_async\n",
      "    raise Exception(\"The wandb backend process has shutdown\")\n",
      "Exception: The wandb backend process has shutdown\n",
      "\u001B[34m\u001B[1mwandb\u001B[0m: \u001B[32m\u001B[41mERROR\u001B[0m Run 4jjv26uc errored: Exception('The wandb backend process has shutdown')\n",
      "\u001B[34m\u001B[1mwandb\u001B[0m: Agent Starting Run: bsecmsy7 with config:\n",
      "\u001B[34m\u001B[1mwandb\u001B[0m: \tepochs: 40\n",
      "\u001B[34m\u001B[1mwandb\u001B[0m: \tinput_size: 1\n",
      "\u001B[34m\u001B[1mwandb\u001B[0m: \tlearning_rate: 0.0002\n",
      "\u001B[34m\u001B[1mwandb\u001B[0m: \tlinear_dropout: 0.4\n",
      "\u001B[34m\u001B[1mwandb\u001B[0m: \tlinear_hidden_size: 20\n",
      "\u001B[34m\u001B[1mwandb\u001B[0m: \tlstm_dropbout: 0.2\n",
      "\u001B[34m\u001B[1mwandb\u001B[0m: \tlstm_hidden_size: 40\n",
      "\u001B[34m\u001B[1mwandb\u001B[0m: \tno_batches: 100\n",
      "\u001B[34m\u001B[1mwandb\u001B[0m: \tno_files: 100\n",
      "\u001B[34m\u001B[1mwandb\u001B[0m: \tnum_classes: 1\n",
      "\u001B[34m\u001B[1mwandb\u001B[0m: \tnum_layers: 3\n",
      "\u001B[34m\u001B[1mwandb\u001B[0m: \tsequence_length: 10\n"
     ]
    },
    {
     "data": {
      "text/plain": "<IPython.core.display.HTML object>",
      "text/html": "\n                    Syncing run <strong><a href=\"https://wandb.ai/freja-thoresen/dtu-course/runs/bsecmsy7\" target=\"_blank\">morning-sweep-40</a></strong> to <a href=\"https://wandb.ai/freja-thoresen/dtu-course\" target=\"_blank\">Weights & Biases</a> (<a href=\"https://docs.wandb.com/integrations/jupyter.html\" target=\"_blank\">docs</a>).<br/>\nSweep page: <a href=\"https://wandb.ai/freja-thoresen/dtu-course/sweeps/o1kyjfhc\" target=\"_blank\">https://wandb.ai/freja-thoresen/dtu-course/sweeps/o1kyjfhc</a><br/>\n\n                "
     },
     "metadata": {},
     "output_type": "display_data"
    },
    {
     "name": "stdout",
     "output_type": "stream",
     "text": [
      "training files 80\n",
      "validation files 10\n",
      "test files 10\n"
     ]
    }
   ],
   "source": [
    "from model.make_model import *\n",
    "\n",
    "wandb.init(project=\"dtu-course\", entity=\"freja-thoresen\")\n",
    "\n",
    "figure_path = '../figures/'\n",
    "\n",
    "use_cuda=False\n",
    "\n",
    "cuda=False\n",
    "if torch.cuda.is_available():\n",
    "  dev = \"cuda:0\"\n",
    "  cuda=True\n",
    "else:\n",
    "  dev = \"cpu\"\n",
    "device = torch.device(dev)\n",
    "\n",
    "sequence_length = 10\n",
    "epochs = 5 # 1000 epochs\n",
    "learning_rate = 0.002\n",
    "lstm_dropbout = 0.2\n",
    "linear_dropout = 0.2\n",
    "input_size = 1 # number of features\n",
    "lstm_hidden_size = 20 # number of features in hidden state\n",
    "linear_hidden_size = 40 # number of features in hidden state\n",
    "num_layers = 2 # number of stacked lstm layers\n",
    "num_classes = 1 # number of output classes\n",
    "no_batches = 100\n",
    "no_files = 100 # no. data files\n",
    "\n",
    "wandb.config = {\n",
    "    \"learning_rate\": learning_rate,\n",
    "    \"sequence_length\": sequence_length,\n",
    "    \"epochs\": epochs,\n",
    "    \"input_size\": input_size,\n",
    "    \"lstm_hidden_size\": lstm_hidden_size,\n",
    "    \"linear_hidden_size\": linear_hidden_size,\n",
    "    \"num_layers\": num_layers,\n",
    "    \"no_batches\": no_batches,\n",
    "    \"no_files\": no_files,\n",
    "    \"lstm_dropbout\": lstm_dropbout,\n",
    "    \"linear_dropout\": linear_dropout,\n",
    "    \"num_classes\": num_classes,\n",
    "    \"input_size\": input_size\n",
    "}\n",
    "\n",
    "sweep_config = {\n",
    "    'name': 'model-sweep',\n",
    "    'method': 'grid',\n",
    "    'metric': {\n",
    "        'name': 'training_loss',\n",
    "        'goal': 'minimize'\n",
    "    }\n",
    "}\n",
    "parameters_dict = {\n",
    "    'learning_rate': {\n",
    "        'value': 0.0002\n",
    "    },\n",
    "    'sequence_length': {\n",
    "        'value': 10\n",
    "    },\n",
    "    'epochs': {\n",
    "        'value': 40\n",
    "    },\n",
    "    'input_size': {\n",
    "        'value': input_size\n",
    "    },\n",
    "    'lstm_hidden_size': {\n",
    "        'values': [20, 40, 60]\n",
    "    },\n",
    "    'linear_hidden_size': {\n",
    "        'values': [20, 40, 60]\n",
    "    },\n",
    "    'num_layers': {\n",
    "        'values': [2, 3]\n",
    "    },\n",
    "    'no_batches': {\n",
    "        'value': 100\n",
    "    },\n",
    "    'no_files': {\n",
    "        'value': no_files\n",
    "    },\n",
    "    'lstm_dropbout': {\n",
    "        'values': [0.2, 0.4]\n",
    "    },\n",
    "    'linear_dropout': {\n",
    "        'values': [0.2, 0.4]\n",
    "    },\n",
    "    'num_classes': {\n",
    "        'value': num_classes\n",
    "    }\n",
    "}\n",
    "\n",
    "sweep_config['parameters'] = parameters_dict\n",
    "sweep_id = wandb.sweep(sweep_config, project=\"dtu-course\")\n",
    "\n",
    "def sweep():\n",
    "    with wandb.init() as run:\n",
    "        config = wandb.config\n",
    "        lstm, criterion, optimizer = make_model(config)\n",
    "        train_model(lstm, criterion, optimizer, config)\n",
    "wandb.agent(sweep_id, function=sweep)"
   ]
  }
 ],
 "metadata": {
  "kernelspec": {
   "name": "ml",
   "language": "python",
   "display_name": "ml"
  },
  "language_info": {
   "codemirror_mode": {
    "name": "ipython",
    "version": 2
   },
   "file_extension": ".py",
   "mimetype": "text/x-python",
   "name": "python",
   "nbconvert_exporter": "python",
   "pygments_lexer": "ipython2",
   "version": "2.7.6"
  }
 },
 "nbformat": 4,
 "nbformat_minor": 0
}