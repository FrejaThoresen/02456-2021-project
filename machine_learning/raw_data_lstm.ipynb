{
 "cells": [
  {
   "cell_type": "markdown",
   "id": "e17b0a6d-76f3-4e3d-aa0b-92c2d65b0fee",
   "metadata": {
    "tags": []
   },
   "source": [
    "# LSTM using raw data"
   ]
  },
  {
   "cell_type": "markdown",
   "id": "d011c513-97d6-4fcf-a197-66afdf9a2081",
   "metadata": {
    "jp-MarkdownHeadingCollapsed": true,
    "tags": []
   },
   "source": [
    "# Import"
   ]
  },
  {
   "cell_type": "code",
   "execution_count": null,
   "id": "afd7da1e-110d-41ce-824a-db83e46c5a13",
   "metadata": {},
   "outputs": [],
   "source": [
    "import os\n",
    "import numpy as np\n",
    "import matplotlib.pyplot as plt\n",
    "import torch #pytorch\n",
    "import torch.nn as nn\n",
    "from torch.autograd import Variable\n",
    "import fpmodules.tools as tools\n",
    "from torch.nn.functional import softmax, sigmoid\n",
    "from labelled_data.tools.constants import *\n",
    "from labelled_data.tools.data_loader import data_loader"
   ]
  },
  {
   "cell_type": "markdown",
   "id": "e522b47c-4d54-4804-aca9-975fde0dcc5b",
   "metadata": {},
   "source": [
    "# Define data loader"
   ]
  },
  {
   "cell_type": "code",
   "execution_count": null,
   "outputs": [],
   "source": [
    "data_generator = data_loader(chunks=False)"
   ],
   "metadata": {
    "collapsed": false,
    "pycharm": {
     "name": "#%%\n"
    }
   }
  },
  {
   "cell_type": "code",
   "execution_count": null,
   "outputs": [],
   "source": [
    "data = data_generator.__next__()"
   ],
   "metadata": {
    "collapsed": false,
    "pycharm": {
     "name": "#%%\n"
    }
   }
  },
  {
   "cell_type": "code",
   "execution_count": null,
   "id": "65fccdd6-41bb-43df-bd61-486fbf82e039",
   "metadata": {},
   "outputs": [],
   "source": [
    "for d in data.keys():\n",
    "    print(d, data[d].shape)"
   ]
  },
  {
   "cell_type": "markdown",
   "id": "db0ec1d0-7d18-49c4-b535-1cf5bd710ab3",
   "metadata": {},
   "source": [
    "# Define model"
   ]
  },
  {
   "cell_type": "code",
   "execution_count": null,
   "outputs": [],
   "source": [
    "class LSTM(nn.Module):\n",
    "    def __init__(self, num_classes, input_size, hidden_size, num_layers):\n",
    "        super(LSTM, self).__init__()\n",
    "        self.num_classes = num_classes #number of classes\n",
    "        self.num_layers = num_layers #number of layers\n",
    "        self.input_size = input_size #input size\n",
    "        self.hidden_size = hidden_size #hidden state\n",
    "\n",
    "        self.lstm = nn.LSTM(input_size=input_size, hidden_size=hidden_size,\n",
    "                          num_layers=num_layers, batch_first=True) #lstm\n",
    "\n",
    "        self.linear_out = nn.Linear(hidden_size, num_classes) #fully connected last layer\n",
    "\n",
    "    def forward(self,x):\n",
    "        # Propagate input through LSTM\n",
    "        x, (h, c) = self.lstm(x) #lstm with input, hidden, and internal state\n",
    "        x = x.view(-1, self.hidden_size) #reshaping the data for Dense layer next\n",
    "        x = self.linear_out(x) #first Dense\n",
    "        out = sigmoid(x) #Final Output\n",
    "        return out"
   ],
   "metadata": {
    "collapsed": false,
    "pycharm": {
     "name": "#%%\n"
    }
   }
  },
  {
   "cell_type": "markdown",
   "id": "a9acabf4-99dc-4b4c-a65b-834f9ae9e4f7",
   "metadata": {},
   "source": [
    "## Hyper parameters"
   ]
  },
  {
   "cell_type": "code",
   "execution_count": null,
   "id": "a45ec70d-622a-46b6-8252-99c60249d309",
   "metadata": {},
   "outputs": [],
   "source": [
    "num_epochs = 100 # 1000 epochs\n",
    "learning_rate = 0.1 # 0.001 lr\n",
    "\n",
    "input_size = 1 # number of features\n",
    "hidden_size = 10 # number of features in hidden state\n",
    "num_layers = 2 # number of stacked lstm layers\n",
    "\n",
    "num_classes = 1 # number of output classes\n",
    "\n",
    "chunks = False # raw or event\n",
    "no_files = 10 # no. data files"
   ]
  },
  {
   "cell_type": "markdown",
   "id": "97753243-616e-4c55-be2d-ef0586931a85",
   "metadata": {},
   "source": [
    " ## Initialize"
   ]
  },
  {
   "cell_type": "code",
   "execution_count": null,
   "id": "ae8f9f2d-388d-4cf9-91a7-bd20c0577926",
   "metadata": {},
   "outputs": [],
   "source": [
    "lstm = LSTM(num_classes, input_size, hidden_size, num_layers) #our lstm class"
   ]
  },
  {
   "cell_type": "markdown",
   "id": "38b1105e-b80e-4d22-8f84-52082347205b",
   "metadata": {},
   "source": [
    "## Loss function and optimizer"
   ]
  },
  {
   "cell_type": "code",
   "execution_count": null,
   "id": "64a8e622-4d88-49b3-ae37-2e231d8b32fa",
   "metadata": {},
   "outputs": [],
   "source": [
    "criterion = torch.nn.MSELoss() # mean-squared error for regression\n",
    "optimizer = torch.optim.Adam(lstm.parameters(), lr=learning_rate)"
   ]
  },
  {
   "cell_type": "markdown",
   "id": "60b2df0a-ea50-47e3-9f11-4a9ddeb35953",
   "metadata": {},
   "source": [
    "# Train the model"
   ]
  },
  {
   "cell_type": "code",
   "execution_count": null,
   "outputs": [],
   "source": [
    "def evaluate_result(output):\n",
    "    output[output > 0.5] = 1\n",
    "    output[output < 0.5] = 0\n",
    "    return output"
   ],
   "metadata": {
    "collapsed": false,
    "pycharm": {
     "name": "#%%\n"
    }
   }
  },
  {
   "cell_type": "code",
   "execution_count": null,
   "id": "6ab454a5-1235-4504-92f0-04632aaae55c",
   "metadata": {},
   "outputs": [],
   "source": [
    "epoch_training_loss = []\n",
    "epoch_validation_loss = []\n",
    "epoch_training_acc = []\n",
    "epoch_validation_acc = []\n",
    "\n",
    "for epoch in range(num_epochs):\n",
    "  training_loss = 0\n",
    "  validation_loss = 0\n",
    "  training_correct = 0\n",
    "  training_all = 0\n",
    "  validation_correct = 0\n",
    "  validation_all = 0\n",
    "\n",
    "  data_generator = data_loader(chunks=chunks)\n",
    "\n",
    "  for file in range(no_files):\n",
    "      data = data_generator.__next__()\n",
    "\n",
    "      lstm.eval()\n",
    "      outputs = lstm.forward(data['X_valid']) #forward pass\n",
    "      loss = criterion(outputs, data['y_valid'])\n",
    "      loss.backward() #calculates the loss of the loss function\n",
    "      validation_loss += loss.item()\n",
    "\n",
    "      validation_correct += (evaluate_result(outputs) == data['y_valid']).float().sum()\n",
    "      validation_all += len(data['y_valid'])\n",
    "\n",
    "      lstm.train()\n",
    "      outputs = lstm.forward(data['X_train']) #forward pass\n",
    "\n",
    "      # obtain the loss function\n",
    "      loss = criterion(outputs, data['y_train'])\n",
    "      loss.backward() #calculates the loss of the loss function\n",
    "      training_loss += loss.item()\n",
    "      training_correct += (evaluate_result(outputs) == data['y_train']).float().sum()\n",
    "      training_all += len(data['y_train'])\n",
    "\n",
    "      optimizer.step() #improve from loss, i.e backprop\n",
    "      optimizer.zero_grad() #caluclate the gradient, manually setting to 0\n",
    "  validation_acc = 100 * validation_correct / validation_all\n",
    "  training_acc = 100 * training_correct / training_all\n",
    "  #if epoch % 10 == 0:\n",
    "  print(\"Epoch: %d, training loss: %1.5f, validation loss: %1.5f, , training acc: %1.5f, , validation acc: %1.5f\" % (epoch, training_loss, validation_loss, training_acc, validation_acc))\n",
    "\n",
    "  epoch_validation_loss.append(validation_loss)\n",
    "  epoch_validation_acc.append(validation_acc)\n",
    "  epoch_training_loss.append(training_loss)\n",
    "  epoch_training_acc.append(training_acc)"
   ]
  },
  {
   "cell_type": "code",
   "execution_count": null,
   "outputs": [],
   "source": [
    "plt.plot(np.linspace(0, num_epochs-1, num_epochs), epoch_validation_loss, label='validation loss')\n",
    "plt.plot(np.linspace(0, num_epochs-1, num_epochs), epoch_training_loss, label='training loss')\n",
    "plt.legend()\n",
    "plt.show()"
   ],
   "metadata": {
    "collapsed": false,
    "pycharm": {
     "name": "#%%\n"
    }
   }
  },
  {
   "cell_type": "markdown",
   "id": "197123a2-9898-448a-9f63-798481c0a298",
   "metadata": {},
   "source": [
    "# Run the model"
   ]
  },
  {
   "cell_type": "code",
   "execution_count": null,
   "id": "09449e88-217c-491c-965d-a785019172e7",
   "metadata": {
    "pycharm": {
     "name": "#%%\n"
    }
   },
   "outputs": [],
   "source": [
    "train_predict = lstm(data['X_test'])#forward pass\n",
    "data_predict = train_predict.data.numpy() #numpy conversion\n",
    "data_predict[data_predict > 0.5] = 1\n",
    "data_predict[data_predict < 0.5] = 0\n",
    "\n",
    "dataY_plot = data['y_test']\n",
    "\n",
    "plt.figure(figsize=(10,6)) #plotting\n",
    "#plt.axvline(x=40000, c='r', linestyle='--') #size of the training set\n",
    "\n",
    "plt.plot(dataY_plot, label='Actual Data') #actual plot\n",
    "plt.plot(data_predict, label='Predicted Data') #predicted plot\n",
    "plt.title('Time-Series Prediction')\n",
    "plt.legend()\n",
    "plt.show()"
   ]
  }
 ],
 "metadata": {
  "kernelspec": {
   "name": "python385jvsc74a57bd04082b4c0ff6287cfc869426458e61daf0f96e72318d7dae093de8e29c11fa2fe",
   "language": "python",
   "display_name": "Python 3.8.5 64-bit ('fp_env': conda)"
  },
  "language_info": {
   "codemirror_mode": {
    "name": "ipython",
    "version": 3
   },
   "file_extension": ".py",
   "mimetype": "text/x-python",
   "name": "python",
   "nbconvert_exporter": "python",
   "pygments_lexer": "ipython3",
   "version": "3.7.10"
  }
 },
 "nbformat": 4,
 "nbformat_minor": 5
}