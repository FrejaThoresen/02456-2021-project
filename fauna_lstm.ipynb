{
 "cells": [
  {
   "cell_type": "markdown",
   "id": "e17b0a6d-76f3-4e3d-aa0b-92c2d65b0fee",
   "metadata": {
    "tags": []
   },
   "source": [
    "# Fauna data LSTM"
   ]
  },
  {
   "cell_type": "markdown",
   "id": "d011c513-97d6-4fcf-a197-66afdf9a2081",
   "metadata": {
    "jp-MarkdownHeadingCollapsed": true,
    "tags": []
   },
   "source": [
    "Import"
   ]
  },
  {
   "cell_type": "code",
   "execution_count": null,
   "id": "afd7da1e-110d-41ce-824a-db83e46c5a13",
   "metadata": {},
   "outputs": [],
   "source": [
    "import os\n",
    "import numpy as np\n",
    "import matplotlib.pyplot as plt"
   ]
  },
  {
   "cell_type": "markdown",
   "id": "e522b47c-4d54-4804-aca9-975fde0dcc5b",
   "metadata": {},
   "source": [
    "Load data"
   ]
  },
  {
   "cell_type": "code",
   "execution_count": null,
   "id": "4b1735d3-535d-4e01-bd41-75e15e039724",
   "metadata": {},
   "outputs": [],
   "source": [
    "EVENTS_CACHE_PATH = os.path.expanduser(\"~/EventCache\")\n",
    "filename_data = os.path.join(EVENTS_CACHE_PATH, 'RawLabelledData/dca6327d8fa8_20210330_raw_20210330T152242Z_ds_5_data.npy')\n",
    "filename_labels = os.path.join(EVENTS_CACHE_PATH, 'RawLabelledData/dca6327d8fa8_20210330_raw_20210330T152242Z_ds_5_labels.npy')\n",
    "\n",
    "data = np.load(filename_data)\n",
    "labels = np.load(filename_labels)"
   ]
  },
  {
   "cell_type": "code",
   "execution_count": null,
   "id": "e333295e-b69d-448b-9fb0-a78980233a2d",
   "metadata": {},
   "outputs": [],
   "source": [
    "# create artificial training data\n",
    "channel = 4\n",
    "event1 = data[582400:583200,channel]\n",
    "event2 = data[909000:910500,channel]\n",
    "event3 = data[1801000:1802000,channel]\n",
    "noise = data[979000:990000,channel]\n",
    "data_chunk = np.concatenate((noise, event1, noise, event2, noise, event3, noise, event2, noise))\n",
    "labels_chunk = np.zeros(data_chunk.size)\n",
    "labels_chunk[11300:11600] = 1\n",
    "labels_chunk[23500:23800] = 1\n",
    "labels_chunk[35600:36000] = 1\n",
    "labels_chunk[47800:48400] = 1"
   ]
  },
  {
   "cell_type": "code",
   "execution_count": null,
   "id": "de4b5a90-e640-425f-95e2-93984f355b10",
   "metadata": {},
   "outputs": [],
   "source": [
    "# plot\n",
    "fig, ax1 = plt.subplots()\n",
    "color = 'tab:blue'\n",
    "ax1.set_ylabel('data', color=color)\n",
    "ax1.plot(data_chunk, color=color)\n",
    "ax1.tick_params(axis='y', color=color)\n",
    "ax2 = ax1.twinx()\n",
    "color = 'tab:red'\n",
    "ax2.set_ylabel('labelled', color=color)\n",
    "ax2.plot(labels_chunk, color=color)\n",
    "ax2.tick_params(axis='y', color=color)\n",
    "plt.show()"
   ]
  },
  {
   "cell_type": "markdown",
   "id": "a7e08d06-85df-42e2-90f7-62c43f7dfd09",
   "metadata": {},
   "source": [
    "Data-preprocessing. Get the data and the labels separate from a single dataframe."
   ]
  },
  {
   "cell_type": "markdown",
   "id": "5a543f24-acfd-455e-bda8-2ba050248b8d",
   "metadata": {},
   "source": [
    "Transform and scale output"
   ]
  },
  {
   "cell_type": "code",
   "execution_count": null,
   "id": "ef4c094b-01c8-4b7d-a007-f1a3511ba97d",
   "metadata": {},
   "outputs": [],
   "source": [
    "#from sklearn.preprocessing import StandardScaler, MinMaxScaler\n",
    "#mm = MinMaxScaler()\n",
    "#ss = StandardScaler()\n",
    "\n",
    "#X_ss = ss.fit_transform(X)\n",
    "#y_mm = mm.fit_transform(y)"
   ]
  },
  {
   "cell_type": "markdown",
   "id": "1a76b3fe-de85-425e-a5f0-edd82f80d1a3",
   "metadata": {},
   "source": [
    "Define training and test data"
   ]
  },
  {
   "cell_type": "code",
   "execution_count": null,
   "id": "a9728e5b-fa90-4c9b-9816-3c08bf7ce2c9",
   "metadata": {},
   "outputs": [],
   "source": [
    "#first 200 for training\n",
    "\n",
    "X_train = data_chunk[:40000]\n",
    "X_test = data_chunk[40000:]\n",
    "\n",
    "y_train = labels_chunk[:40000]\n",
    "y_test = labels_chunk[40000:]"
   ]
  },
  {
   "cell_type": "code",
   "execution_count": null,
   "id": "d508232b-3886-4091-a8b7-e466bd53d466",
   "metadata": {},
   "outputs": [],
   "source": [
    "plt.plot(X_train)"
   ]
  },
  {
   "cell_type": "code",
   "execution_count": null,
   "id": "6db43d00-51eb-4a05-aba3-5fe14c255522",
   "metadata": {},
   "outputs": [],
   "source": [
    "plt.plot(X_test)"
   ]
  },
  {
   "cell_type": "code",
   "execution_count": null,
   "id": "e340f0d9-db5c-413b-95e0-2bbca34745af",
   "metadata": {},
   "outputs": [],
   "source": [
    "plt.plot(y_train)"
   ]
  },
  {
   "cell_type": "code",
   "execution_count": null,
   "id": "32959d8c-3e7d-47a1-8b86-2faa0204484f",
   "metadata": {},
   "outputs": [],
   "source": [
    "plt.plot(y_test)"
   ]
  },
  {
   "cell_type": "code",
   "execution_count": null,
   "id": "8bd07b27-90fe-4ba4-86a3-ca748ab24098",
   "metadata": {},
   "outputs": [],
   "source": [
    "X_train = np.reshape(X_train,(X_train.size,1))\n",
    "X_test = np.reshape(X_test,(X_test.size,1))\n",
    "y_train = np.reshape(y_train,(y_train.size,1))\n",
    "y_test = np.reshape(y_test,(y_test.size,1))"
   ]
  },
  {
   "cell_type": "code",
   "execution_count": null,
   "id": "65fccdd6-41bb-43df-bd61-486fbf82e039",
   "metadata": {},
   "outputs": [],
   "source": [
    "print(\"Training Shape\", X_train.shape, y_train.shape)\n",
    "print(\"Testing Shape\", X_test.shape, y_test.shape) "
   ]
  },
  {
   "cell_type": "markdown",
   "id": "3a7654aa-71bf-48a7-a726-ac6fb03a0d73",
   "metadata": {},
   "source": [
    "Import pytorch"
   ]
  },
  {
   "cell_type": "code",
   "execution_count": null,
   "id": "561a5713-2572-4d9b-b786-478a054a2009",
   "metadata": {},
   "outputs": [],
   "source": [
    "import torch #pytorch\n",
    "import torch.nn as nn\n",
    "from torch.autograd import Variable"
   ]
  },
  {
   "cell_type": "markdown",
   "id": "cf79c269-825f-4ea9-9585-ccfcbf9a07d3",
   "metadata": {},
   "source": [
    "Convert numpy arrays to tensors and variables"
   ]
  },
  {
   "cell_type": "code",
   "execution_count": null,
   "id": "1058abec-16b0-4258-84c7-89335051e795",
   "metadata": {},
   "outputs": [],
   "source": [
    "X_train = X_train.astype(np.int32)\n",
    "X_test = X_test.astype(np.int32)\n",
    "\n",
    "X_train_tensors = Variable(torch.Tensor(X_train))\n",
    "X_test_tensors = Variable(torch.Tensor(X_test))\n",
    "\n",
    "y_train_tensors = Variable(torch.Tensor(y_train))\n",
    "y_test_tensors = Variable(torch.Tensor(y_test))"
   ]
  },
  {
   "cell_type": "markdown",
   "id": "109a3ce7-9014-48ad-b61d-b5814f026089",
   "metadata": {},
   "source": [
    "Prepare input for LSTM"
   ]
  },
  {
   "cell_type": "code",
   "execution_count": null,
   "id": "3c8a2c16-98a2-4570-be9f-5ff3aab7c04d",
   "metadata": {},
   "outputs": [],
   "source": [
    "#reshaping to rows, timestamps, features\n",
    "X_train_tensors_final = torch.reshape(X_train_tensors,   (X_train_tensors.shape[0], 1, X_train_tensors.shape[1]))\n",
    "X_test_tensors_final = torch.reshape(X_test_tensors,  (X_test_tensors.shape[0], 1, X_test_tensors.shape[1]))"
   ]
  },
  {
   "cell_type": "code",
   "execution_count": null,
   "id": "bd697ed9-f224-4e78-a8bc-9da88c90bae3",
   "metadata": {},
   "outputs": [],
   "source": [
    "print(\"Training Shape\", X_train_tensors_final.shape, y_train_tensors.shape)\n",
    "print(\"Testing Shape\", X_test_tensors_final.shape, y_test_tensors.shape)"
   ]
  },
  {
   "cell_type": "markdown",
   "id": "db0ec1d0-7d18-49c4-b535-1cf5bd710ab3",
   "metadata": {},
   "source": [
    "# Define model"
   ]
  },
  {
   "cell_type": "code",
   "execution_count": null,
   "id": "8305b386-a235-4030-9b49-cd36959768cc",
   "metadata": {},
   "outputs": [],
   "source": [
    "class LSTM1(nn.Module):\n",
    "    def __init__(self, num_classes, input_size, hidden_size, num_layers, seq_length):\n",
    "        super(LSTM1, self).__init__()\n",
    "        self.num_classes = num_classes #number of classes\n",
    "        self.num_layers = num_layers #number of layers\n",
    "        self.input_size = input_size #input size\n",
    "        self.hidden_size = hidden_size #hidden state\n",
    "        self.seq_length = seq_length #sequence length\n",
    "\n",
    "        self.lstm = nn.LSTM(input_size=input_size, hidden_size=hidden_size,\n",
    "                          num_layers=num_layers, batch_first=True) #lstm\n",
    "        self.fc_1 =  nn.Linear(hidden_size, 128) #fully connected 1\n",
    "        self.fc = nn.Linear(128, num_classes) #fully connected last layer\n",
    "\n",
    "        self.relu = nn.ReLU()\n",
    "    \n",
    "    def forward(self,x):\n",
    "        h_0 = Variable(torch.zeros(self.num_layers, x.size(0), self.hidden_size)) #hidden state\n",
    "        c_0 = Variable(torch.zeros(self.num_layers, x.size(0), self.hidden_size)) #internal state\n",
    "        # Propagate input through LSTM\n",
    "        output, (hn, cn) = self.lstm(x, (h_0, c_0)) #lstm with input, hidden, and internal state\n",
    "        hn = hn.view(-1, self.hidden_size) #reshaping the data for Dense layer next\n",
    "        out = self.relu(hn)\n",
    "        out = self.fc_1(out) #first Dense\n",
    "        out = self.relu(out) #relu\n",
    "        out = self.fc(out) #Final Output\n",
    "        return out"
   ]
  },
  {
   "cell_type": "markdown",
   "id": "a9acabf4-99dc-4b4c-a65b-834f9ae9e4f7",
   "metadata": {},
   "source": [
    "Hyper parameters"
   ]
  },
  {
   "cell_type": "code",
   "execution_count": null,
   "id": "a45ec70d-622a-46b6-8252-99c60249d309",
   "metadata": {},
   "outputs": [],
   "source": [
    "num_epochs = 1000 #1000 epochs\n",
    "learning_rate = 0.001 #0.001 lr\n",
    "\n",
    "input_size = 1 #number of features\n",
    "hidden_size = 2 #number of features in hidden state\n",
    "num_layers = 1 #number of stacked lstm layers\n",
    "\n",
    "num_classes = 1 #number of output classes"
   ]
  },
  {
   "cell_type": "markdown",
   "id": "97753243-616e-4c55-be2d-ef0586931a85",
   "metadata": {},
   "source": [
    " Instantiate the class LSTM1 object"
   ]
  },
  {
   "cell_type": "code",
   "execution_count": null,
   "id": "ae8f9f2d-388d-4cf9-91a7-bd20c0577926",
   "metadata": {},
   "outputs": [],
   "source": [
    "lstm1 = LSTM1(num_classes, input_size, hidden_size, num_layers, X_train_tensors_final.shape[1]) #our lstm class "
   ]
  },
  {
   "cell_type": "code",
   "execution_count": null,
   "id": "5a7b9a89-02b7-4aba-9a57-e2c45a23e3f6",
   "metadata": {},
   "outputs": [],
   "source": [
    "print(lstm1)"
   ]
  },
  {
   "cell_type": "markdown",
   "id": "38b1105e-b80e-4d22-8f84-52082347205b",
   "metadata": {},
   "source": [
    "Loss function and optimizer"
   ]
  },
  {
   "cell_type": "code",
   "execution_count": null,
   "id": "64a8e622-4d88-49b3-ae37-2e231d8b32fa",
   "metadata": {},
   "outputs": [],
   "source": [
    "criterion = torch.nn.MSELoss()    # mean-squared error for regression\n",
    "optimizer = torch.optim.Adam(lstm1.parameters(), lr=learning_rate)"
   ]
  },
  {
   "cell_type": "markdown",
   "id": "60b2df0a-ea50-47e3-9f11-4a9ddeb35953",
   "metadata": {},
   "source": [
    "# Train the model"
   ]
  },
  {
   "cell_type": "code",
   "execution_count": null,
   "id": "6ab454a5-1235-4504-92f0-04632aaae55c",
   "metadata": {},
   "outputs": [],
   "source": [
    "for epoch in range(num_epochs):\n",
    "  outputs = lstm1.forward(X_train_tensors_final) #forward pass\n",
    "  optimizer.zero_grad() #caluclate the gradient, manually setting to 0\n",
    " \n",
    "  # obtain the loss function\n",
    "  loss = criterion(outputs, y_train_tensors)\n",
    " \n",
    "  loss.backward() #calculates the loss of the loss function\n",
    " \n",
    "  optimizer.step() #improve from loss, i.e backprop\n",
    "  if epoch % 100 == 0:\n",
    "    print(\"Epoch: %d, loss: %1.5f\" % (epoch, loss.item()))"
   ]
  },
  {
   "cell_type": "markdown",
   "id": "197123a2-9898-448a-9f63-798481c0a298",
   "metadata": {},
   "source": [
    "# Run the model"
   ]
  },
  {
   "cell_type": "markdown",
   "id": "0fc7e160-fd51-44bd-a320-fd401a28397a",
   "metadata": {},
   "source": [
    "Convert data"
   ]
  },
  {
   "cell_type": "code",
   "execution_count": null,
   "id": "b2432156-454b-4916-919f-7e13abadc22c",
   "metadata": {},
   "outputs": [],
   "source": [
    "df_X_ss = data_chunk.astype(np.int32)\n",
    "\n",
    "df_X_ss = Variable(torch.Tensor(df_X_ss))\n",
    "\n",
    "#reshaping the dataset\n",
    "df_X_ss = torch.reshape(df_X_ss, (df_X_ss.shape[0], 1, 1))"
   ]
  },
  {
   "cell_type": "markdown",
   "id": "20529b73-6472-4748-a35c-66cc4d3a0a3d",
   "metadata": {},
   "source": [
    "Show predictions"
   ]
  },
  {
   "cell_type": "code",
   "execution_count": null,
   "id": "09449e88-217c-491c-965d-a785019172e7",
   "metadata": {},
   "outputs": [],
   "source": [
    "train_predict = lstm1(df_X_ss)#forward pass\n",
    "data_predict = train_predict.data.numpy() #numpy conversion\n",
    "dataY_plot = labels_chunk\n",
    "\n",
    "plt.figure(figsize=(10,6)) #plotting\n",
    "plt.axvline(x=40000, c='r', linestyle='--') #size of the training set\n",
    "\n",
    "plt.plot(dataY_plot, label='Actuall Data') #actual plot\n",
    "plt.plot(data_predict, label='Predicted Data') #predicted plot\n",
    "plt.title('Time-Series Prediction')\n",
    "plt.legend()\n",
    "plt.show()"
   ]
  },
  {
   "cell_type": "code",
   "execution_count": null,
   "id": "6efb9405-23b9-4f3a-9f7d-bbfeed89e99d",
   "metadata": {},
   "outputs": [],
   "source": []
  }
 ],
 "metadata": {
  "kernelspec": {
   "display_name": "Python 3 (ipykernel)",
   "language": "python",
   "name": "python3"
  },
  "language_info": {
   "codemirror_mode": {
    "name": "ipython",
    "version": 3
   },
   "file_extension": ".py",
   "mimetype": "text/x-python",
   "name": "python",
   "nbconvert_exporter": "python",
   "pygments_lexer": "ipython3",
   "version": "3.7.10"
  }
 },
 "nbformat": 4,
 "nbformat_minor": 5
}
