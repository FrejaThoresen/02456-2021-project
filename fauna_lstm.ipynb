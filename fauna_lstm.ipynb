{
 "cells": [
  {
   "cell_type": "markdown",
   "id": "e17b0a6d-76f3-4e3d-aa0b-92c2d65b0fee",
   "metadata": {
    "tags": []
   },
   "source": [
    "# Fauna data LSTM"
   ]
  },
  {
   "cell_type": "markdown",
   "id": "d011c513-97d6-4fcf-a197-66afdf9a2081",
   "metadata": {
    "jp-MarkdownHeadingCollapsed": true,
    "tags": []
   },
   "source": [
    "# Import"
   ]
  },
  {
   "cell_type": "code",
   "execution_count": 1,
   "id": "afd7da1e-110d-41ce-824a-db83e46c5a13",
   "metadata": {},
   "outputs": [
    {
     "name": "stdout",
     "output_type": "stream",
     "text": [
      "*** FP-modules version 2.10.13 ***\n"
     ]
    }
   ],
   "source": [
    "import os\n",
    "import numpy as np\n",
    "import matplotlib.pyplot as plt\n",
    "import torch #pytorch\n",
    "import torch.nn as nn\n",
    "from torch.autograd import Variable\n",
    "import fpmodules.tools as tools\n",
    "from torch.nn.functional import softmax, sigmoid"
   ]
  },
  {
   "cell_type": "markdown",
   "id": "e522b47c-4d54-4804-aca9-975fde0dcc5b",
   "metadata": {},
   "source": [
    "# Load data"
   ]
  },
  {
   "cell_type": "code",
   "execution_count": 2,
   "id": "4b1735d3-535d-4e01-bd41-75e15e039724",
   "metadata": {},
   "outputs": [],
   "source": [
    "EVENTS_CACHE_PATH = os.path.expanduser(\"~/EventCache\")\n",
    "filename_data = os.path.join(EVENTS_CACHE_PATH, 'RawLabelledData/dca6327d8fa8_20210330_raw_20210330T152242Z_ds_5_data.npy')\n",
    "filename_labels = os.path.join(EVENTS_CACHE_PATH, 'RawLabelledData/dca6327d8fa8_20210330_raw_20210330T152242Z_ds_5_labels.npy')\n",
    "\n",
    "data = np.load(filename_data)[:,1]\n",
    "labels = np.load(filename_labels)[:,1]"
   ]
  },
  {
   "cell_type": "code",
   "execution_count": 3,
   "outputs": [
    {
     "data": {
      "text/plain": "<Figure size 1800x288 with 2 Axes>",
      "image/png": "[encoded data removed]"
     },
     "metadata": {
      "needs_background": "light"
     },
     "output_type": "display_data"
    }
   ],
   "source": [
    "# plot\n",
    "fig, ax1 = plt.subplots()\n",
    "fig.set_figwidth(25)\n",
    "color = 'tab:blue'\n",
    "ax1.set_ylabel('data', color=color)\n",
    "ax1.plot(data[800000:900000], color=color)\n",
    "ax1.tick_params(axis='y', color=color)\n",
    "ax2 = ax1.twinx()\n",
    "color = 'tab:red'\n",
    "ax2.set_ylabel('labelled', color=color)\n",
    "ax2.plot(labels[800000:900000], color=color)\n",
    "ax2.tick_params(axis='y', color=color)\n",
    "plt.show()"
   ],
   "metadata": {
    "collapsed": false,
    "pycharm": {
     "name": "#%%\n"
    }
   }
  },
  {
   "cell_type": "markdown",
   "id": "a7e08d06-85df-42e2-90f7-62c43f7dfd09",
   "metadata": {},
   "source": [
    "Data-preprocessing. Get the data and the labels separate from a single dataframe."
   ]
  },
  {
   "cell_type": "markdown",
   "id": "5a543f24-acfd-455e-bda8-2ba050248b8d",
   "metadata": {},
   "source": [
    "Transform and scale output"
   ]
  },
  {
   "cell_type": "code",
   "execution_count": null,
   "id": "ef4c094b-01c8-4b7d-a007-f1a3511ba97d",
   "metadata": {
    "pycharm": {
     "is_executing": true
    }
   },
   "outputs": [],
   "source": [
    "#from sklearn.preprocessing import StandardScaler, MinMaxScaler\n",
    "#mm = MinMaxScaler()\n",
    "#ss = StandardScaler()\n",
    "\n",
    "#X_ss = ss.fit_transform(X)\n",
    "#y_mm = mm.fit_transform(y)"
   ]
  },
  {
   "cell_type": "code",
   "execution_count": null,
   "outputs": [],
   "source": [
    "def split_datasets(data, labels):\n",
    "    # 80 % for training, 10 % for validation, 10 % for testing\n",
    "    train_index = int(len(data)*0.8)\n",
    "    valid_index = train_index + int(len(data)*0.1)\n",
    "\n",
    "    X_train = data[0:train_index]\n",
    "    X_test = data[train_index:valid_index]\n",
    "    X_valid = data[valid_index:]\n",
    "\n",
    "    y_train = labels[0:train_index]\n",
    "    y_test = labels[train_index:valid_index]\n",
    "    y_valid = labels[valid_index:]\n",
    "\n",
    "    return X_train, X_test, X_valid, y_train, y_test, y_valid\n",
    "\n",
    "def format_datasets(X_train, X_test, X_valid, y_train, y_test, y_valid):\n",
    "    X_train = np.reshape(X_train,(X_train.size,1)).astype(np.int32)\n",
    "    X_test = np.reshape(X_test,(X_test.size,1)).astype(np.int32)\n",
    "    X_valid = np.reshape(X_valid,(X_valid.size,1)).astype(np.int32)\n",
    "    y_train = np.reshape(y_train,(y_train.size,1)).astype(np.int16)\n",
    "    y_test = np.reshape(y_test,(y_test.size,1)).astype(np.int16)\n",
    "    y_valid = np.reshape(y_valid,(y_valid.size,1)).astype(np.int16)\n",
    "\n",
    "    X_train_tensors = Variable(torch.Tensor(X_train))\n",
    "    X_valid_tensors = Variable(torch.Tensor(X_valid))\n",
    "    X_test_tensors = Variable(torch.Tensor(X_test))\n",
    "\n",
    "    y_train_tensors = Variable(torch.Tensor(y_train))\n",
    "    y_valid_tensors = Variable(torch.Tensor(y_valid))\n",
    "    y_test_tensors = Variable(torch.Tensor(y_test))\n",
    "\n",
    "    # shape is (batch size, sequence length, input size)\n",
    "    X_train_tensors_final = torch.reshape(X_train_tensors,   (X_train_tensors.shape[0], 1, X_train_tensors.shape[1]))\n",
    "    X_valid_tensors_final = torch.reshape(X_valid_tensors,   (X_valid_tensors.shape[0], 1, X_valid_tensors.shape[1]))\n",
    "    X_test_tensors_final = torch.reshape(X_test_tensors,  (X_test_tensors.shape[0], 1, X_test_tensors.shape[1]))\n",
    "\n",
    "    return X_train_tensors_final, X_test_tensors_final, X_valid_tensors_final, y_train_tensors, y_test_tensors, y_valid_tensors\n",
    "\n",
    "def data_loader():\n",
    "  insect_files = os.listdir(os.path.join(EVENTS_CACHE_PATH, 'RawLabelledData/insects'))\n",
    "  insect_filename_data = []\n",
    "  insect_filename_labels = []\n",
    "\n",
    "  for file in insect_files:\n",
    "      if file.split('_')[-1] == 'data.npy':\n",
    "        insect_filename_data.append(os.path.join(os.path.join(EVENTS_CACHE_PATH, 'RawLabelledData/insects')), file)\n",
    "        insect_filename_labels.append(os.path.join(os.path.join(EVENTS_CACHE_PATH, 'RawLabelledData/insects')), file[0:-8] + 'labels.npy')\n",
    "\n",
    "  for f in range(0, len(insect_filename_data)):\n",
    "    data = np.load(insect_filename_data[f])[:,1]\n",
    "    labels = np.load(insect_filename_labels[f])[:,1]\n",
    "\n",
    "    X_train, X_test, X_valid, y_train, y_test, y_valid = split_datasets(data, labels)\n",
    "    X_train_tensors_final, X_test_tensors_final, X_valid_tensors_final, y_train_tensors, y_test_tensors, y_valid_tensors = format_datasets(X_train, X_test, X_valid, y_train, y_test, y_valid)\n",
    "    dict = {\n",
    "        'X_train': X_train_tensors_final,\n",
    "        'X_test': X_test_tensors_final,\n",
    "        'X_valid': X_valid_tensors_final,\n",
    "        'y_train': y_train_tensors,\n",
    "        'y_test': y_test_tensors,\n",
    "        'y_valid': y_valid_tensors\n",
    "    }\n",
    "    yield dict"
   ],
   "metadata": {
    "collapsed": false,
    "pycharm": {
     "name": "#%%\n",
     "is_executing": true
    }
   }
  },
  {
   "cell_type": "code",
   "execution_count": 6,
   "outputs": [],
   "source": [
    "a = 'b_a_abd'"
   ],
   "metadata": {
    "collapsed": false,
    "pycharm": {
     "name": "#%%\n"
    }
   }
  },
  {
   "cell_type": "code",
   "execution_count": 7,
   "outputs": [
    {
     "data": {
      "text/plain": "['b', 'a', 'abd']"
     },
     "execution_count": 7,
     "metadata": {},
     "output_type": "execute_result"
    }
   ],
   "source": [
    "a.split('_')"
   ],
   "metadata": {
    "collapsed": false,
    "pycharm": {
     "name": "#%%\n"
    }
   }
  },
  {
   "cell_type": "code",
   "execution_count": 9,
   "outputs": [],
   "source": [
    "files = os.listdir(os.path.join(EVENTS_CACHE_PATH, 'RawLabelledData/insects'))\n"
   ],
   "metadata": {
    "collapsed": false,
    "pycharm": {
     "name": "#%%\n"
    }
   }
  },
  {
   "cell_type": "code",
   "execution_count": 15,
   "outputs": [
    {
     "data": {
      "text/plain": "'dca6327d8fa8_20210330_raw_20210330T152242Z_ds_535419365_'"
     },
     "execution_count": 15,
     "metadata": {},
     "output_type": "execute_result"
    }
   ],
   "source": [
    "files[0][0:-8]"
   ],
   "metadata": {
    "collapsed": false,
    "pycharm": {
     "name": "#%%\n"
    }
   }
  },
  {
   "cell_type": "markdown",
   "source": [
    "Define training and test data"
   ],
   "metadata": {
    "collapsed": false,
    "pycharm": {
     "name": "#%% md\n"
    }
   }
  },
  {
   "cell_type": "code",
   "execution_count": 6,
   "outputs": [],
   "source": [
    "data_generator = data_loader()"
   ],
   "metadata": {
    "collapsed": false,
    "pycharm": {
     "name": "#%%\n"
    }
   }
  },
  {
   "cell_type": "code",
   "execution_count": 7,
   "outputs": [],
   "source": [
    "data = data_generator.__next__()"
   ],
   "metadata": {
    "collapsed": false,
    "pycharm": {
     "name": "#%%\n"
    }
   }
  },
  {
   "cell_type": "code",
   "execution_count": 8,
   "outputs": [
    {
     "data": {
      "text/plain": "dict_keys(['X_train', 'X_test', 'X_valid', 'y_train', 'y_test', 'y_valid'])"
     },
     "execution_count": 8,
     "metadata": {},
     "output_type": "execute_result"
    }
   ],
   "source": [
    "data.keys()"
   ],
   "metadata": {
    "collapsed": false,
    "pycharm": {
     "name": "#%%\n"
    }
   }
  },
  {
   "cell_type": "code",
   "execution_count": 9,
   "id": "65fccdd6-41bb-43df-bd61-486fbf82e039",
   "metadata": {},
   "outputs": [
    {
     "name": "stdout",
     "output_type": "stream",
     "text": [
      "Training Shape torch.Size([1982643, 1, 1]) torch.Size([1982643, 1])\n",
      "Validation Shape torch.Size([247831, 1, 1]) torch.Size([247831, 1])\n",
      "Testing Shape torch.Size([247830, 1, 1]) torch.Size([247830, 1])\n"
     ]
    }
   ],
   "source": [
    "print(\"Training Shape\", data['X_train'].shape, data['y_train'].shape)\n",
    "print(\"Validation Shape\", data['X_valid'].shape, data['y_valid'].shape)\n",
    "print(\"Testing Shape\", data['X_test'].shape, data['y_test'].shape)"
   ]
  },
  {
   "cell_type": "markdown",
   "id": "109a3ce7-9014-48ad-b61d-b5814f026089",
   "metadata": {},
   "source": [
    "Prepare input for LSTM"
   ]
  },
  {
   "cell_type": "markdown",
   "id": "db0ec1d0-7d18-49c4-b535-1cf5bd710ab3",
   "metadata": {},
   "source": [
    "# Define model"
   ]
  },
  {
   "cell_type": "code",
   "execution_count": 10,
   "outputs": [],
   "source": [
    "class LSTM(nn.Module):\n",
    "    def __init__(self, num_classes, input_size, hidden_size, num_layers):\n",
    "        super(LSTM, self).__init__()\n",
    "        self.num_classes = num_classes #number of classes\n",
    "        self.num_layers = num_layers #number of layers\n",
    "        self.input_size = input_size #input size\n",
    "        self.hidden_size = hidden_size #hidden state\n",
    "\n",
    "        self.lstm = nn.LSTM(input_size=input_size, hidden_size=hidden_size,\n",
    "                          num_layers=num_layers, batch_first=True) #lstm\n",
    "\n",
    "        self.linear_out = nn.Linear(hidden_size, num_classes) #fully connected last layer\n",
    "\n",
    "    def forward(self,x):\n",
    "        # Propagate input through LSTM\n",
    "        x, (h, c) = self.lstm(x) #lstm with input, hidden, and internal state\n",
    "        x = x.view(-1, self.hidden_size) #reshaping the data for Dense layer next\n",
    "        x = self.linear_out(x) #first Dense\n",
    "        out = sigmoid(x) #Final Output\n",
    "        return out"
   ],
   "metadata": {
    "collapsed": false,
    "pycharm": {
     "name": "#%%\n"
    }
   }
  },
  {
   "cell_type": "markdown",
   "id": "a9acabf4-99dc-4b4c-a65b-834f9ae9e4f7",
   "metadata": {},
   "source": [
    "Hyper parameters"
   ]
  },
  {
   "cell_type": "code",
   "execution_count": 11,
   "id": "a45ec70d-622a-46b6-8252-99c60249d309",
   "metadata": {},
   "outputs": [],
   "source": [
    "num_epochs = 100 # 1000 epochs\n",
    "learning_rate = 0.1 # 0.001 lr\n",
    "\n",
    "input_size = 1 # number of features\n",
    "hidden_size = 10 # number of features in hidden state\n",
    "num_layers = 2 # number of stacked lstm layers\n",
    "\n",
    "num_classes = 1 # number of output classes"
   ]
  },
  {
   "cell_type": "markdown",
   "id": "97753243-616e-4c55-be2d-ef0586931a85",
   "metadata": {},
   "source": [
    " Instantiate the class LSTM1 object"
   ]
  },
  {
   "cell_type": "code",
   "execution_count": 12,
   "id": "ae8f9f2d-388d-4cf9-91a7-bd20c0577926",
   "metadata": {},
   "outputs": [],
   "source": [
    "lstm = LSTM(num_classes, input_size, hidden_size, num_layers) #our lstm class"
   ]
  },
  {
   "cell_type": "markdown",
   "id": "38b1105e-b80e-4d22-8f84-52082347205b",
   "metadata": {},
   "source": [
    "Loss function and optimizer"
   ]
  },
  {
   "cell_type": "code",
   "execution_count": 13,
   "id": "64a8e622-4d88-49b3-ae37-2e231d8b32fa",
   "metadata": {},
   "outputs": [],
   "source": [
    "criterion = torch.nn.MSELoss()#MSELoss()    # mean-squared error for regression\n",
    "optimizer = torch.optim.Adam(lstm.parameters(), lr=learning_rate)"
   ]
  },
  {
   "cell_type": "code",
   "execution_count": 14,
   "outputs": [
    {
     "name": "stdout",
     "output_type": "stream",
     "text": [
      "X_train torch.Size([1982643, 1, 1])\n",
      "X_test torch.Size([247830, 1, 1])\n",
      "X_valid torch.Size([247831, 1, 1])\n",
      "y_train torch.Size([1982643, 1])\n",
      "y_test torch.Size([247830, 1])\n",
      "y_valid torch.Size([247831, 1])\n"
     ]
    }
   ],
   "source": [
    "for d in data.keys():\n",
    "    print(d, data[d].shape)"
   ],
   "metadata": {
    "collapsed": false,
    "pycharm": {
     "name": "#%%\n"
    }
   }
  },
  {
   "cell_type": "markdown",
   "id": "60b2df0a-ea50-47e3-9f11-4a9ddeb35953",
   "metadata": {},
   "source": [
    "# Train the model"
   ]
  },
  {
   "cell_type": "code",
   "execution_count": 15,
   "outputs": [],
   "source": [
    "def get_result(output):\n",
    "    output[output > 0.5] = 1\n",
    "    output[output < 0.5] = 0\n",
    "    return output"
   ],
   "metadata": {
    "collapsed": false,
    "pycharm": {
     "name": "#%%\n"
    }
   }
  },
  {
   "cell_type": "code",
   "execution_count": 16,
   "outputs": [],
   "source": [
    "# cross"
   ],
   "metadata": {
    "collapsed": false,
    "pycharm": {
     "name": "#%%\n"
    }
   }
  },
  {
   "cell_type": "code",
   "execution_count": null,
   "id": "6ab454a5-1235-4504-92f0-04632aaae55c",
   "metadata": {},
   "outputs": [
    {
     "name": "stderr",
     "output_type": "stream",
     "text": [
      "/home/thoresen/anaconda3/envs/fp_env/lib/python3.8/site-packages/torch/nn/functional.py:1805: UserWarning: nn.functional.sigmoid is deprecated. Use torch.sigmoid instead.\n",
      "  warnings.warn(\"nn.functional.sigmoid is deprecated. Use torch.sigmoid instead.\")\n"
     ]
    },
    {
     "name": "stdout",
     "output_type": "stream",
     "text": [
      "Epoch: 0, training loss: 0.52222, validation loss: 0.70746, , training acc: 98.92401, , validation acc: 96.40319\n",
      "Epoch: 1, training loss: 0.10738, validation loss: 0.35892, , training acc: 98.92401, , validation acc: 96.40319\n",
      "Epoch: 2, training loss: 0.10754, validation loss: 0.35947, , training acc: 98.92401, , validation acc: 96.40319\n",
      "Epoch: 3, training loss: 0.10756, validation loss: 0.35955, , training acc: 98.92401, , validation acc: 96.40319\n",
      "Epoch: 4, training loss: 0.10757, validation loss: 0.35957, , training acc: 98.92401, , validation acc: 96.40319\n",
      "Epoch: 5, training loss: 0.10757, validation loss: 0.35958, , training acc: 98.92401, , validation acc: 96.40319\n",
      "Epoch: 6, training loss: 0.10757, validation loss: 0.35958, , training acc: 98.92401, , validation acc: 96.40319\n",
      "Epoch: 7, training loss: 0.10757, validation loss: 0.35958, , training acc: 98.92401, , validation acc: 96.40319\n",
      "Epoch: 8, training loss: 0.10757, validation loss: 0.35957, , training acc: 98.92401, , validation acc: 96.40319\n",
      "Epoch: 9, training loss: 0.10757, validation loss: 0.35957, , training acc: 98.92401, , validation acc: 96.40319\n",
      "Epoch: 10, training loss: 0.10757, validation loss: 0.35957, , training acc: 98.92401, , validation acc: 96.40319\n",
      "Epoch: 11, training loss: 0.10757, validation loss: 0.35957, , training acc: 98.92401, , validation acc: 96.40319\n",
      "Epoch: 12, training loss: 0.10756, validation loss: 0.35956, , training acc: 98.92401, , validation acc: 96.40319\n"
     ]
    }
   ],
   "source": [
    "epoch_training_loss = []\n",
    "epoch_validation_loss = []\n",
    "epoch_training_acc = []\n",
    "epoch_validation_acc = []\n",
    "no_files = 10\n",
    "for epoch in range(num_epochs):\n",
    "  training_loss = 0\n",
    "  validation_loss = 0\n",
    "  training_correct = 0\n",
    "  training_all = 0\n",
    "  validation_correct = 0\n",
    "  validation_all = 0\n",
    "\n",
    "  data_generator = data_loader()\n",
    "\n",
    "  for file in range(no_files):\n",
    "      data = data_generator.__next__()\n",
    "\n",
    "      lstm.eval()\n",
    "      outputs = lstm.forward(data['X_valid']) #forward pass\n",
    "      loss = criterion(outputs, data['y_valid'])\n",
    "      loss.backward() #calculates the loss of the loss function\n",
    "      validation_loss += loss.item()\n",
    "\n",
    "      validation_correct += (get_result(outputs) == data['y_valid']).float().sum()\n",
    "      validation_all += len(data['y_valid'])\n",
    "\n",
    "      lstm.train()\n",
    "      outputs = lstm.forward(data['X_train']) #forward pass\n",
    "\n",
    "      # obtain the loss function\n",
    "      loss = criterion(outputs, data['y_train'])\n",
    "      loss.backward() #calculates the loss of the loss function\n",
    "      training_loss += loss.item()\n",
    "      training_correct += (get_result(outputs) == data['y_train']).float().sum()\n",
    "      training_all += len(data['y_train'])\n",
    "\n",
    "      optimizer.step() #improve from loss, i.e backprop\n",
    "      optimizer.zero_grad() #caluclate the gradient, manually setting to 0\n",
    "  validation_acc = 100 * validation_correct / validation_all\n",
    "  training_acc = 100 * training_correct / training_all\n",
    "  #if epoch % 10 == 0:\n",
    "  print(\"Epoch: %d, training loss: %1.5f, validation loss: %1.5f, , training acc: %1.5f, , validation acc: %1.5f\" % (epoch, training_loss, validation_loss, training_acc, validation_acc))\n",
    "\n",
    "  epoch_validation_loss.append(validation_loss)\n",
    "  epoch_validation_acc.append(validation_acc)\n",
    "  epoch_training_loss.append(training_loss)\n",
    "  epoch_training_acc.append(training_acc)"
   ]
  },
  {
   "cell_type": "code",
   "execution_count": null,
   "outputs": [],
   "source": [
    "plt.plot(np.linspace(0, num_epochs-1, num_epochs), epoch_validation_loss, label='validation loss')\n",
    "plt.plot(np.linspace(0, num_epochs-1, num_epochs), epoch_training_loss, label='training loss')\n",
    "plt.legend()\n",
    "plt.show()"
   ],
   "metadata": {
    "collapsed": false,
    "pycharm": {
     "name": "#%%\n"
    }
   }
  },
  {
   "cell_type": "markdown",
   "id": "197123a2-9898-448a-9f63-798481c0a298",
   "metadata": {},
   "source": [
    "# Run the model"
   ]
  },
  {
   "cell_type": "markdown",
   "id": "0fc7e160-fd51-44bd-a320-fd401a28397a",
   "metadata": {},
   "source": [
    "Convert data"
   ]
  },
  {
   "cell_type": "code",
   "execution_count": null,
   "id": "b2432156-454b-4916-919f-7e13abadc22c",
   "metadata": {},
   "outputs": [],
   "source": [
    "df_X_ss = data['X_test']#data.astype(np.int32)\n",
    "\n",
    "df_X_ss = Variable(torch.Tensor(df_X_ss))\n",
    "\n",
    "#reshaping the dataset\n",
    "df_X_ss = torch.reshape(df_X_ss, (df_X_ss.shape[0], 1, 1))"
   ]
  },
  {
   "cell_type": "markdown",
   "id": "20529b73-6472-4748-a35c-66cc4d3a0a3d",
   "metadata": {},
   "source": [
    "Show predictions"
   ]
  },
  {
   "cell_type": "code",
   "execution_count": null,
   "id": "09449e88-217c-491c-965d-a785019172e7",
   "metadata": {
    "pycharm": {
     "name": "#%%\n"
    }
   },
   "outputs": [],
   "source": [
    "train_predict = lstm(df_X_ss)#forward pass\n",
    "data_predict = train_predict.data.numpy() #numpy conversion\n",
    "data_predict[data_predict > 0.5] = 1\n",
    "data_predict[data_predict < 0.5] = 0\n",
    "\n",
    "dataY_plot = data['y_test']\n",
    "\n",
    "plt.figure(figsize=(10,6)) #plotting\n",
    "#plt.axvline(x=40000, c='r', linestyle='--') #size of the training set\n",
    "\n",
    "plt.plot(dataY_plot, label='Actual Data') #actual plot\n",
    "plt.plot(data_predict, label='Predicted Data') #predicted plot\n",
    "plt.title('Time-Series Prediction')\n",
    "plt.legend()\n",
    "plt.show()"
   ]
  }
 ],
 "metadata": {
  "kernelspec": {
   "name": "python385jvsc74a57bd04082b4c0ff6287cfc869426458e61daf0f96e72318d7dae093de8e29c11fa2fe",
   "language": "python",
   "display_name": "Python 3.8.5 64-bit ('fp_env': conda)"
  },
  "language_info": {
   "codemirror_mode": {
    "name": "ipython",
    "version": 3
   },
   "file_extension": ".py",
   "mimetype": "text/x-python",
   "name": "python",
   "nbconvert_exporter": "python",
   "pygments_lexer": "ipython3",
   "version": "3.7.10"
  }
 },
 "nbformat": 4,
 "nbformat_minor": 5
}