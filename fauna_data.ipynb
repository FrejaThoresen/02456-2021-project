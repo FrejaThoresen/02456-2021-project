{
 "cells": [
  {
   "cell_type": "markdown",
   "id": "e17b0a6d-76f3-4e3d-aa0b-92c2d65b0fee",
   "metadata": {
    "tags": []
   },
   "source": [
    "# Fauna data LSTM"
   ]
  },
  {
   "cell_type": "markdown",
   "id": "d011c513-97d6-4fcf-a197-66afdf9a2081",
   "metadata": {
    "jp-MarkdownHeadingCollapsed": true,
    "tags": []
   },
   "source": [
    "Import"
   ]
  },
  {
   "cell_type": "code",
   "execution_count": 1,
   "id": "afd7da1e-110d-41ce-824a-db83e46c5a13",
   "metadata": {},
   "outputs": [],
   "source": [
    "import os\n",
    "import numpy as np\n",
    "import matplotlib.pyplot as plt"
   ]
  },
  {
   "cell_type": "markdown",
   "id": "e522b47c-4d54-4804-aca9-975fde0dcc5b",
   "metadata": {},
   "source": [
    "Load data"
   ]
  },
  {
   "cell_type": "code",
   "execution_count": 2,
   "id": "4b1735d3-535d-4e01-bd41-75e15e039724",
   "metadata": {},
   "outputs": [],
   "source": [
    "EVENTS_CACHE_PATH = os.path.expanduser(\"~/EventCache\")\n",
    "filename_data = os.path.join(EVENTS_CACHE_PATH, 'RawLabelledData/dca6327d8fa8_20210330_raw_20210330T152242Z_ds_5_data.npy')\n",
    "filename_labels = os.path.join(EVENTS_CACHE_PATH, 'RawLabelledData/dca6327d8fa8_20210330_raw_20210330T152242Z_ds_5_labels.npy')\n",
    "\n",
    "data = np.load(filename_data)\n",
    "labels = np.load(filename_labels)"
   ]
  },
  {
   "cell_type": "code",
   "execution_count": 3,
   "id": "e333295e-b69d-448b-9fb0-a78980233a2d",
   "metadata": {},
   "outputs": [],
   "source": [
    "# create artificial training data\n",
    "channel = 4\n",
    "event1 = data[582400:583200,channel]\n",
    "event2 = data[909000:910500,channel]\n",
    "event3 = data[1801000:1802000,channel]\n",
    "event_fake = np.concatenate((np.linspace(1444, 3000, num=300).astype(int), np.linspace(3000, 1444, num=300).astype(int)))\n",
    "noise = data[979000:990000,channel]\n",
    "data_chunk = np.concatenate((noise, event1, noise, event2, noise, event_fake, noise, event3, noise, event2, noise, event_fake, noise))\n",
    "labels_chunk = np.zeros(data_chunk.size)\n",
    "labels_chunk[11300:11600] = 1\n",
    "labels_chunk[23500:23800] = 1\n",
    "labels_chunk[47200:47600] = 1\n",
    "labels_chunk[59500:60100] = 1"
   ]
  },
  {
   "cell_type": "code",
   "execution_count": 10,
   "id": "72191fd7-2609-4c6c-83c7-e5d9b3b2292e",
   "metadata": {},
   "outputs": [
    {
     "data": {
      "text/plain": [
       "[<matplotlib.lines.Line2D at 0x7f82005838b0>]"
      ]
     },
     "execution_count": 10,
     "metadata": {},
     "output_type": "execute_result"
    },
    {
     "data": {
      "image/png": "[encoded data removed]",
      "text/plain": [
       "<Figure size 432x288 with 1 Axes>"
      ]
     },
     "metadata": {
      "needs_background": "light"
     },
     "output_type": "display_data"
    }
   ],
   "source": [
    "plt.plot(event_fake)\n",
    "#fig, (ax1, ax2, ax3, ax4, ax5) = plt.subplots(1,5)\n",
    "plt.plot(event1)\n",
    "plt.plot(event2)\n",
    "plt.plot(event3)\n",
    "plt.plot(event_fake)\n",
    "#plt.plot(noise)"
   ]
  },
  {
   "cell_type": "code",
   "execution_count": null,
   "id": "bc10f750-2335-4b9d-b01a-c34ae461904e",
   "metadata": {},
   "outputs": [],
   "source": [
    "data_chunk = np.reshape(data_chunk, (-1, 1))\n",
    "labels_chunk = np.reshape(labels_chunk, (-1, 1))"
   ]
  },
  {
   "cell_type": "code",
   "execution_count": null,
   "id": "48f29c94-b367-44f5-abef-5bc4c8bab160",
   "metadata": {},
   "outputs": [],
   "source": [
    "combined = np.concatenate((data_chunk, labels_chunk), axis=1).astype(int)"
   ]
  },
  {
   "cell_type": "code",
   "execution_count": null,
   "id": "d212bf86-acfc-4fe7-93f8-e0614f571ad5",
   "metadata": {},
   "outputs": [],
   "source": [
    "np.savetxt(\"insect_data.csv\", combined, delimiter=\",\", fmt='%d', header=\"Sensor,Insect\")"
   ]
  },
  {
   "cell_type": "code",
   "execution_count": null,
   "id": "de4b5a90-e640-425f-95e2-93984f355b10",
   "metadata": {},
   "outputs": [],
   "source": [
    "# plot\n",
    "fig, ax1 = plt.subplots()\n",
    "color = 'tab:blue'\n",
    "ax1.set_ylabel('data', color=color)\n",
    "ax1.plot(data_chunk, color=color)\n",
    "ax1.tick_params(axis='y', color=color)\n",
    "ax2 = ax1.twinx()\n",
    "color = 'tab:red'\n",
    "ax2.set_ylabel('labelled', color=color)\n",
    "ax2.plot(labels_chunk, color=color)\n",
    "ax2.tick_params(axis='y', color=color)\n",
    "plt.show()"
   ]
  },
  {
   "cell_type": "code",
   "execution_count": null,
   "id": "e55b81f2-217f-4532-89cc-6cb22c5245d1",
   "metadata": {},
   "outputs": [],
   "source": []
  }
 ],
 "metadata": {
  "kernelspec": {
   "display_name": "Python 3 (ipykernel)",
   "language": "python",
   "name": "python3"
  },
  "language_info": {
   "codemirror_mode": {
    "name": "ipython",
    "version": 3
   },
   "file_extension": ".py",
   "mimetype": "text/x-python",
   "name": "python",
   "nbconvert_exporter": "python",
   "pygments_lexer": "ipython3",
   "version": "3.9.7"
  }
 },
 "nbformat": 4,
 "nbformat_minor": 5
}
