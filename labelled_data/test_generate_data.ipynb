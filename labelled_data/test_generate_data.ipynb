{
 "cells": [
  {
   "cell_type": "code",
   "execution_count": null,
   "metadata": {
    "collapsed": true
   },
   "outputs": [],
   "source": [
    "import matplotlib.pyplot as plt\n",
    "figure_path = '/home/thoresen/Code/deep_learning/02456-2021-project/figures/'\n",
    "import fpmodules as fp\n",
    "from fpmodules import BlobManager\n",
    "import os\n",
    "from tools.constants import *\n",
    "from fpmodules.fpio.raw_data import load_data_from_files\n",
    "from tools.evex_scout import *\n",
    "from tools.evex_calc import *\n",
    "from tools.generate_data import *\n",
    "from tools.load_data import *\n",
    "import datetime\n",
    "from tools.generate_data import create_labelled_data"
   ]
  },
  {
   "cell_type": "code",
   "execution_count": null,
   "metadata": {
    "collapsed": false,
    "pycharm": {
     "name": "#%%\n"
    }
   },
   "outputs": [],
   "source": [
    "chunks = False\n",
    "mac = 'dca6327d8fa8'\n",
    "\n",
    "measurements = fp.dbquery('select * from measurement where sessionid=686')\n",
    "dates = measurements['DateId'].sort_values().unique().tolist()\n",
    "delete_files = False\n",
    "\n",
    "date = dates[0]\n",
    "blob_mgr = BlobManager(configuration='rclone')\n",
    "blob_list = blob_mgr.list_blobs(container='scouts', subdir=f\"{mac}/{str(date)}/raw/\")\n",
    "blob_list = [b for b in blob_list if b.endswith(\".raw.gz\")]\n",
    "blob = blob_list[78]\n",
    "print('Number of raw data files:', len(blob_list))\n",
    "file_list = blob_mgr.download_blobs([blob], RAWDATA_CACHE_PATH, container='scouts')\n",
    "data, times = load_data_from_files(file_list, RAWDATA_CACHE_PATH)\n",
    "\n",
    "raw_start = pd.Timestamp(datetime.datetime.utcfromtimestamp(int(times[0])))\n",
    "raw_end = pd.Timestamp(datetime.datetime.utcfromtimestamp(int(times[-1])))\n",
    "measurements, insects = get_insects_and_measurements(0)\n",
    "\n",
    "in_range = (measurements['Datetime'] >= raw_start) & (measurements['Datetime'] <= raw_end)\n",
    "_meas = measurements[in_range]\n",
    "_meas = _meas.rename(columns={'Id': 'MeasurementId'})\n",
    "_meas = _meas.sort_values('MeasurementId')"
   ]
  },
  {
   "cell_type": "code",
   "execution_count": null,
   "metadata": {},
   "outputs": [],
   "source": [
    "start_inds, stop_inds = get_start_and_stop(data, times)\n",
    "tight_start = start_inds.copy()\n",
    "tight_end = stop_inds.copy()"
   ]
  },
  {
   "cell_type": "code",
   "execution_count": null,
   "metadata": {},
   "outputs": [],
   "source": [
    "for i in range(0, len(start_inds)):\n",
    "    tight_start[i], tight_end[i] = tight_cut(data, start_inds[i], stop_inds[i])"
   ]
  },
  {
   "cell_type": "code",
   "execution_count": null,
   "metadata": {},
   "outputs": [],
   "source": [
    "plt.figure(figsize=(30,5))\n",
    "plt.plot(data[0:900000,7])\n",
    "for s in start_inds:\n",
    "    if s < 900000:\n",
    "        plt.axvline(s, c='C1')\n",
    "for e in stop_inds:\n",
    "    if e < 900000:\n",
    "        plt.axvline(e, c='C2')\n",
    "plt.show()"
   ]
  },
  {
   "cell_type": "code",
   "execution_count": null,
   "metadata": {},
   "outputs": [],
   "source": [
    "plt.figure(figsize=(30,5))\n",
    "plt.plot(data[0:900000,7])\n",
    "for s in tight_start:\n",
    "    if s < 900000:\n",
    "        plt.axvline(s, c='C1')\n",
    "for e in tight_end:\n",
    "    if e < 900000:\n",
    "        plt.axvline(e, c='C2')\n",
    "plt.show()"
   ]
  },
  {
   "cell_type": "code",
   "execution_count": null,
   "metadata": {},
   "outputs": [],
   "source": [
    "_meas = _meas.sort_values(['Datetime','MeasurementId'])\n"
   ]
  },
  {
   "cell_type": "code",
   "execution_count": null,
   "metadata": {},
   "outputs": [],
   "source": [
    "channel=7\n",
    "segment=4\n",
    "labels = np.zeros_like(data)\n",
    "for i, dt in enumerate(_meas['Datetime'].tolist()[0:11]):\n",
    "    insect_measurement = insects[(insects['Datetime'] == dt) & (insects['SegmentId'] == segment)]\n",
    "\n",
    "    if len(insect_measurement['MeasurementId'].unique()) > 1:\n",
    "        print('found double')\n",
    "        print(dt)\n",
    "    #if channel in insect_measurement['SegmentId'].tolist():\n",
    "        \n",
    "    #    labels[tight_start[i]:tight_end[i], 7] = 1\n",
    "        #ev = fp.Event(m_id).fill().plot()\n",
    "        #plt.show()"
   ]
  },
  {
   "cell_type": "code",
   "execution_count": null,
   "metadata": {},
   "outputs": [],
   "source": [
    "channel=4\n",
    "\n",
    "labels = np.zeros_like(data)\n",
    "for i, m_id in enumerate(_meas['MeasurementId'].tolist()[0:11]):\n",
    "    insect_measurement = insects[insects['MeasurementId'] == m_id]\n",
    "\n",
    "    if channel in insect_measurement['SegmentId'].tolist():\n",
    "        labels[tight_start[i]:tight_end[i], 7] = 1\n",
    "        ev = fp.Event(m_id).fill().plot()\n",
    "        plt.show()"
   ]
  },
  {
   "cell_type": "code",
   "execution_count": null,
   "metadata": {},
   "outputs": [],
   "source": [
    "plt.figure(figsize=(30,5))\n",
    "limit = 900000\n",
    "plt.plot(data[0:limit,7],label='7')\n",
    "plt.plot(labels[0:limit,7]*10000)\n",
    "plt.legend()\n",
    "plt.show()"
   ]
  },
  {
   "cell_type": "code",
   "execution_count": null,
   "metadata": {},
   "outputs": [],
   "source": []
  },
  {
   "cell_type": "code",
   "execution_count": null,
   "metadata": {},
   "outputs": [],
   "source": [
    "for m in _meas['Id'].tolist()[0:11]:#35421179\n",
    "    ev = fp.Event(m).fill().plot()\n",
    "    plt.show()"
   ]
  },
  {
   "cell_type": "code",
   "execution_count": null,
   "metadata": {
    "collapsed": false,
    "pycharm": {
     "name": "#%%\n"
    }
   },
   "outputs": [],
   "source": [
    "f = 'dca6327d8fa8_20210330_raw_20210330T160022Z'\n",
    "file = '/home/frth/EventCache/RawLabelledData/'+f+'_ds_10_data.npy'\n",
    "file_label = '/home/frth/EventCache/RawLabelledData/'+f+'_ds_10_labels.npy'"
   ]
  },
  {
   "cell_type": "code",
   "execution_count": null,
   "metadata": {
    "collapsed": false,
    "pycharm": {
     "name": "#%%\n"
    }
   },
   "outputs": [],
   "source": [
    "data_channel = np.load(file)\n",
    "label_channel = np.load(file_label)"
   ]
  },
  {
   "cell_type": "code",
   "execution_count": null,
   "metadata": {},
   "outputs": [],
   "source": [
    "label_channel.dtype"
   ]
  },
  {
   "cell_type": "code",
   "execution_count": null,
   "metadata": {},
   "outputs": [],
   "source": [
    "plt.figure(figsize=(30,5))\n",
    "\n",
    "plt.plot(data_channel[0:(90000)])\n",
    "plt.plot(label_channel[0:(90000)]*0.001)\n",
    "plt.show()"
   ]
  },
  {
   "cell_type": "code",
   "execution_count": null,
   "metadata": {
    "collapsed": false,
    "pycharm": {
     "name": "#%%\n"
    }
   },
   "outputs": [],
   "source": [
    "for i in range(0,len(data_channel),50000):\n",
    "    plt.figure(figsize=(30,5))\n",
    "\n",
    "    plt.plot(data_channel[i:(i+50000)])\n",
    "    plt.plot(label_channel[i:(i+50000)]*0.001)\n",
    "    plt.show()"
   ]
  },
  {
   "cell_type": "code",
   "execution_count": null,
   "metadata": {},
   "outputs": [],
   "source": [
    "plt.figure(figsize=(30,5))\n",
    "\n",
    "plt.plot(data_channel[(i+10000):(i+20000)])\n",
    "plt.plot(label_channel[(i+10000):(i+20000)]*0.001)\n",
    "plt.gca().set_ylim([0.00026,0.0003])\n",
    "plt.show()"
   ]
  }
 ],
 "metadata": {
  "interpreter": {
   "hash": "1f4aab342266c55a5f356d03dbdb6a3962f7972b11ff589a1da546ab1d11a116"
  },
  "kernelspec": {
   "display_name": "Python 3.8.5 64-bit ('fp_env': conda)",
   "language": "python",
   "name": "python3"
  },
  "language_info": {
   "codemirror_mode": {
    "name": "ipython",
    "version": 3
   },
   "file_extension": ".py",
   "mimetype": "text/x-python",
   "name": "python",
   "nbconvert_exporter": "python",
   "pygments_lexer": "ipython3",
   "version": "3.8.8"
  }
 },
 "nbformat": 4,
 "nbformat_minor": 0
}
