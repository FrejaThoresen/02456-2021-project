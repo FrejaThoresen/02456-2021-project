{
 "cells": [
  {
   "cell_type": "code",
   "execution_count": 1,
   "metadata": {
    "collapsed": true
   },
   "outputs": [
    {
     "name": "stdout",
     "output_type": "stream",
     "text": [
      "*** FP-modules version 2.10.13 ***\n",
      "if you have fpmodules < 2.10.13, use the import line below instead - check the code\n"
     ]
    }
   ],
   "source": [
    "import matplotlib.pyplot as plt\n",
    "figure_path = '/home/thoresen/Code/deep_learning/02456-2021-project/figures/'\n",
    "import fpmodules as fp\n",
    "from fpmodules import BlobManager\n",
    "import os\n",
    "from tools.constants import *\n",
    "from fpmodules.fpio.raw_data import load_data_from_files\n",
    "from tools.evex_scout import *\n",
    "from tools.evex_calc import *\n",
    "from tools.generate_data import *\n",
    "from tools.load_data import *\n",
    "import datetime\n"
   ]
  },
  {
   "cell_type": "code",
   "execution_count": 2,
   "outputs": [
    {
     "name": "stdout",
     "output_type": "stream",
     "text": [
      "Authenticating using browser...\n"
     ]
    }
   ],
   "source": [
    "chunks = False\n",
    "mac = 'dca6324634b1'\n",
    "\n",
    "measurements = fp.dbquery('select * from measurement where sessionid=1307')\n",
    "dates = measurements['DateId'].sort_values().unique().tolist()\n",
    "delete_files = False"
   ],
   "metadata": {
    "collapsed": false,
    "pycharm": {
     "name": "#%%\n"
    }
   }
  },
  {
   "cell_type": "code",
   "execution_count": 18,
   "outputs": [
    {
     "name": "stdout",
     "output_type": "stream",
     "text": [
      "Number of raw data files: 118\n",
      "100% complete      [==================================================]\n",
      "\n",
      "Reading dca6324634b1_20211016_raw_20211016T105117Z.raw.gz 1 of 1\n",
      "Raw data start time: 2021-10-16 10:51:44\n",
      "Raw data end time: 2021-10-16 11:01:40\n",
      "Found 1 measurements\n",
      "Running event extraction\n",
      "Saving files\n",
      "1241174\n",
      "(1241174,)\n",
      "0.0002847986179116257\n",
      "found small slice\n",
      "10000\n",
      "2.0\n",
      "0.00028437322789234024\n",
      "found small slice\n",
      "10000\n",
      "2.0\n",
      "0.00028437322789234024\n",
      "found small slice\n",
      "10000\n",
      "2.0\n",
      "0.000284585922901983\n",
      "found small slice\n",
      "10000\n",
      "2.0\n",
      "0.00028437322789234024\n",
      "found small slice\n",
      "10000\n",
      "2.0\n",
      "0.000284585922901983\n",
      "found small slice\n",
      "10000\n",
      "2.0\n",
      "0.000284585922901983\n",
      "found small slice\n",
      "10000\n",
      "2.0\n",
      "0.00028437322789234024\n",
      "found small slice\n",
      "10000\n",
      "2.0\n",
      "0.00028437322789234024\n",
      "found small slice\n",
      "10000\n",
      "2.0\n",
      "0.000284585922901983\n",
      "found small slice\n",
      "10000\n",
      "2.0\n",
      "0.00028437322789234024\n",
      "found small slice\n",
      "10000\n",
      "2.0\n",
      "0.00028437322789234024\n",
      "found small slice\n",
      "10000\n",
      "2.0\n",
      "0.00028437322789234024\n",
      "found small slice\n",
      "10000\n",
      "2.0\n",
      "0.00028437322789234024\n",
      "found small slice\n",
      "10000\n",
      "2.0\n",
      "0.00028437322789234024\n",
      "found small slice\n",
      "10000\n",
      "2.0\n",
      "0.00028437322789234024\n",
      "found small slice\n",
      "10000\n",
      "2.0\n",
      "0.0002852240079309112\n",
      "found small slice\n",
      "10000\n",
      "2.0\n",
      "0.00028437322789234024\n",
      "found small slice\n",
      "10000\n",
      "2.0\n",
      "0.000284585922901983\n",
      "found small slice\n",
      "10000\n",
      "2.0\n",
      "0.000284585922901983\n",
      "found small slice\n",
      "10000\n",
      "2.0\n",
      "0.0002847986179116257\n",
      "found small slice\n",
      "10000\n",
      "2.0\n",
      "0.00028437322789234024\n",
      "found small slice\n",
      "10000\n",
      "2.0\n",
      "0.000284585922901983\n",
      "found small slice\n",
      "10000\n",
      "2.0\n",
      "0.00028437322789234024\n",
      "found small slice\n",
      "10000\n",
      "2.0\n",
      "0.000284585922901983\n",
      "found small slice\n",
      "10000\n",
      "2.0\n",
      "0.00028437322789234024\n",
      "found small slice\n",
      "10000\n",
      "2.0\n",
      "0.00028543670294055393\n",
      "found small slice\n",
      "10000\n",
      "2.0\n",
      "0.00028564939795019663\n",
      "found small slice\n",
      "10000\n",
      "2.0\n",
      "0.00028543670294055393\n",
      "found small slice\n",
      "10000\n",
      "2.0\n",
      "0.00028543670294055393\n",
      "found small slice\n",
      "10000\n",
      "2.0\n",
      "0.00028543670294055393\n",
      "found small slice\n",
      "10000\n",
      "2.0\n",
      "0.00028564939795019663\n",
      "found small slice\n",
      "10000\n",
      "2.0\n",
      "0.00028543670294055393\n",
      "found small slice\n",
      "10000\n",
      "2.0\n",
      "0.00028543670294055393\n",
      "found small slice\n",
      "10000\n",
      "2.0\n",
      "0.0002852240079309112\n",
      "found small slice\n",
      "10000\n",
      "2.0\n",
      "0.00028564939795019663\n",
      "found small slice\n",
      "10000\n",
      "2.0\n",
      "0.00028564939795019663\n",
      "found small slice\n",
      "10000\n",
      "2.0\n",
      "0.00028564939795019663\n",
      "found small slice\n",
      "10000\n",
      "2.0\n",
      "0.00028564939795019663\n",
      "found small slice\n",
      "10000\n",
      "2.0\n",
      "0.0002858620929598394\n",
      "found small slice\n",
      "10000\n",
      "2.0\n",
      "0.0002858620929598394\n",
      "found small slice\n",
      "10000\n",
      "2.0\n",
      "0.0016341357590851533\n",
      "0.0002858620929598394\n",
      "found small slice\n",
      "10000\n",
      "2.0\n",
      "0.00028564939795019663\n",
      "found small slice\n",
      "10000\n",
      "2.0\n",
      "0.0002858620929598394\n",
      "found small slice\n",
      "10000\n",
      "2.0\n",
      "0.0002858620929598394\n",
      "found small slice\n",
      "10000\n",
      "2.0\n",
      "0.0002858620929598394\n",
      "found small slice\n",
      "10000\n",
      "2.0\n",
      "0.00028607478796948213\n",
      "found small slice\n",
      "10000\n",
      "2.0\n",
      "0.0002858620929598394\n",
      "found small slice\n",
      "10000\n",
      "2.0\n",
      "0.0002858620929598394\n",
      "found small slice\n",
      "10000\n",
      "2.0\n",
      "0.0002858620929598394\n",
      "found small slice\n",
      "10000\n",
      "2.0\n",
      "0.0002858620929598394\n",
      "found small slice\n",
      "10000\n",
      "2.0\n",
      "0.00028607478796948213\n",
      "found small slice\n",
      "10000\n",
      "2.0\n",
      "0.0002858620929598394\n",
      "found small slice\n",
      "10000\n",
      "2.0\n",
      "0.00028607478796948213\n",
      "found small slice\n",
      "10000\n",
      "2.0\n",
      "0.00028607478796948213\n",
      "found small slice\n",
      "10000\n",
      "2.0\n",
      "0.0002858620929598394\n",
      "found small slice\n",
      "10000\n",
      "2.0\n",
      "0.0002858620929598394\n",
      "found small slice\n",
      "10000\n",
      "2.0\n",
      "0.00028607478796948213\n",
      "found small slice\n",
      "10000\n",
      "2.0\n",
      "0.0002858620929598394\n",
      "found small slice\n",
      "10000\n",
      "2.0\n",
      "0.0002858620929598394\n",
      "found small slice\n",
      "10000\n",
      "2.0\n",
      "0.00028607478796948213\n",
      "found small slice\n",
      "10000\n",
      "2.0\n",
      "0.00028607478796948213\n",
      "found small slice\n",
      "10000\n",
      "2.0\n",
      "0.00028607478796948213\n",
      "found small slice\n",
      "10000\n",
      "2.0\n",
      "0.00028607478796948213\n",
      "found small slice\n",
      "10000\n",
      "2.0\n",
      "0.0002858620929598394\n",
      "found small slice\n",
      "10000\n",
      "2.0\n",
      "0.00028607478796948213\n",
      "found small slice\n",
      "10000\n",
      "2.0\n",
      "0.0002858620929598394\n",
      "found small slice\n",
      "10000\n",
      "2.0\n",
      "0.0002858620929598394\n",
      "found small slice\n",
      "10000\n",
      "2.0\n",
      "0.0002858620929598394\n",
      "found small slice\n",
      "10000\n",
      "2.0\n",
      "0.00028607478796948213\n",
      "found small slice\n",
      "10000\n",
      "2.0\n",
      "0.00028607478796948213\n",
      "found small slice\n",
      "10000\n",
      "2.0\n",
      "0.00028607478796948213\n",
      "found small slice\n",
      "10000\n",
      "2.0\n",
      "0.00028607478796948213\n",
      "found small slice\n",
      "10000\n",
      "2.0\n",
      "0.00028607478796948213\n",
      "found small slice\n",
      "10000\n",
      "2.0\n",
      "0.00028607478796948213\n",
      "found small slice\n",
      "10000\n",
      "2.0\n",
      "0.0002858620929598394\n",
      "found small slice\n",
      "10000\n",
      "2.0\n",
      "0.00028607478796948213\n",
      "found small slice\n",
      "10000\n",
      "2.0\n",
      "0.00028607478796948213\n",
      "found small slice\n",
      "10000\n",
      "2.0\n",
      "0.0002858620929598394\n",
      "found small slice\n",
      "10000\n",
      "2.0\n",
      "0.0002862874829791249\n",
      "found small slice\n",
      "10000\n",
      "2.0\n",
      "0.0002858620929598394\n",
      "found small slice\n",
      "10000\n",
      "2.0\n",
      "0.00028607478796948213\n",
      "found small slice\n",
      "10000\n",
      "2.0\n",
      "0.0002862874829791249\n",
      "found small slice\n",
      "10000\n",
      "2.0\n",
      "0.00028607478796948213\n",
      "found small slice\n",
      "10000\n",
      "2.0\n",
      "0.00028607478796948213\n",
      "found small slice\n",
      "10000\n",
      "2.0\n",
      "0.0002858620929598394\n",
      "found small slice\n",
      "10000\n",
      "2.0\n",
      "0.0002862874829791249\n",
      "found small slice\n",
      "10000\n",
      "2.0\n",
      "0.00028607478796948213\n",
      "found small slice\n",
      "10000\n",
      "2.0\n",
      "0.00028607478796948213\n",
      "found small slice\n",
      "10000\n",
      "2.0\n",
      "0.00028607478796948213\n",
      "found small slice\n",
      "10000\n",
      "2.0\n",
      "0.00028607478796948213\n",
      "found small slice\n",
      "10000\n",
      "2.0\n",
      "0.00028607478796948213\n",
      "found small slice\n",
      "10000\n",
      "2.0\n",
      "0.0002862874829791249\n",
      "found small slice\n",
      "10000\n",
      "2.0\n",
      "0.00028607478796948213\n",
      "found small slice\n",
      "10000\n",
      "2.0\n",
      "0.00028607478796948213\n",
      "found small slice\n",
      "10000\n",
      "2.0\n",
      "0.00028607478796948213\n",
      "found small slice\n",
      "10000\n",
      "2.0\n",
      "0.00028607478796948213\n",
      "found small slice\n",
      "10000\n",
      "2.0\n",
      "0.00028607478796948213\n",
      "found small slice\n",
      "10000\n",
      "2.0\n",
      "0.00028607478796948213\n",
      "found small slice\n",
      "10000\n",
      "2.0\n",
      "0.00028607478796948213\n",
      "found small slice\n",
      "10000\n",
      "2.0\n",
      "0.00028607478796948213\n",
      "found small slice\n",
      "10000\n",
      "2.0\n",
      "0.00028607478796948213\n",
      "found small slice\n",
      "10000\n",
      "2.0\n",
      "0.0002862874829791249\n",
      "found small slice\n",
      "10000\n",
      "2.0\n",
      "0.0002862874829791249\n",
      "found small slice\n",
      "10000\n",
      "2.0\n",
      "0.0002862874829791249\n",
      "found small slice\n",
      "10000\n",
      "2.0\n",
      "0.00028607478796948213\n",
      "found small slice\n",
      "10000\n",
      "2.0\n",
      "0.00028607478796948213\n",
      "found small slice\n",
      "10000\n",
      "2.0\n",
      "0.00028607478796948213\n",
      "found small slice\n",
      "10000\n",
      "2.0\n",
      "0.00028607478796948213\n",
      "found small slice\n",
      "10000\n",
      "2.0\n",
      "0.00028607478796948213\n",
      "found small slice\n",
      "10000\n",
      "2.0\n",
      "0.00028607478796948213\n",
      "found small slice\n",
      "10000\n",
      "2.0\n",
      "0.0002858620929598394\n",
      "found small slice\n",
      "10000\n",
      "2.0\n",
      "0.00028607478796948213\n",
      "found small slice\n",
      "10000\n",
      "2.0\n",
      "0.0002862874829791249\n",
      "found small slice\n",
      "10000\n",
      "2.0\n",
      "0.00028607478796948213\n",
      "found small slice\n",
      "10000\n",
      "2.0\n",
      "0.00028607478796948213\n",
      "found small slice\n",
      "10000\n",
      "2.0\n",
      "0.00028607478796948213\n",
      "found small slice\n",
      "10000\n",
      "2.0\n",
      "0.00028607478796948213\n",
      "found small slice\n",
      "10000\n",
      "2.0\n",
      "0.0002862874829791249\n",
      "found small slice\n",
      "10000\n",
      "2.0\n",
      "0.00028607478796948213\n",
      "found small slice\n",
      "10000\n",
      "2.0\n",
      "0.00028607478796948213\n",
      "found small slice\n",
      "10000\n",
      "2.0\n",
      "0.0002858620929598394\n",
      "found small slice\n",
      "10000\n",
      "2.0\n",
      "0.00028607478796948213\n",
      "found small slice\n",
      "10000\n",
      "2.0\n",
      "0.00028607478796948213\n",
      "found small slice\n",
      "1174\n",
      "2.0\n",
      "10000\n",
      "10000\n"
     ]
    }
   ],
   "source": [
    "from labelled_data.tools.generate_data import create_labelled_data\n",
    "\n",
    "for date in dates[3:4]:\n",
    "    blob_mgr = BlobManager(configuration='rclone')\n",
    "    blob_list = blob_mgr.list_blobs(container='scouts', subdir=f\"{mac}/{str(date)}/raw/\")\n",
    "    blob_list = [b for b in blob_list if b.endswith(\".raw.gz\")]\n",
    "    print('Number of raw data files:', len(blob_list))\n",
    "\n",
    "    for blob in blob_list[51:52]:\n",
    "\n",
    "        dt = blob.split('/')[-1].split('.')[0]\n",
    "        if datetime.datetime.strptime(dt,'%Y%m%dT%H%M%SZ').hour < 8:\n",
    "            continue\n",
    "        text_file = os.path.join(RAWDATA_CACHE_PATH, blob.replace('/', '_').split('.')[0] + '.txt')\n",
    "        # if we ran over the file before, don't do it again. If you want to run it anyway, delete the text file.\n",
    "        if os.path.exists(text_file) and delete_files:\n",
    "            continue\n",
    "\n",
    "        #create_labelled_data(blob, chunks=True, ds=10)\n",
    "        create_labelled_data(blob, chunks=False, ds=10)\n",
    "\n",
    "        if delete_files:\n",
    "            os.remove(os.path.join(RAWDATA_CACHE_PATH, blob.replace('/', '_').split('.')[0] + '.raw.gz'))\n",
    "            with open(text_file,\"w\") as variable_name:\n",
    "                variable_name.write('Test')"
   ],
   "metadata": {
    "collapsed": false,
    "pycharm": {
     "name": "#%%\n"
    }
   }
  },
  {
   "cell_type": "code",
   "execution_count": 20,
   "outputs": [],
   "source": [
    "file = '/home/thoresen/EventCache/RawLabelledData/dca6324634b1_20211016_raw_20211016T105117Z_ds_10_data.npy'\n",
    "file_label = '/home/thoresen/EventCache/RawLabelledData/dca6324634b1_20211016_raw_20211016T105117Z_ds_10_labels.npy'"
   ],
   "metadata": {
    "collapsed": false,
    "pycharm": {
     "name": "#%%\n"
    }
   }
  },
  {
   "cell_type": "code",
   "execution_count": 21,
   "outputs": [],
   "source": [
    "data_channel = np.load(file)\n",
    "label_channel = np.load(file_label)"
   ],
   "metadata": {
    "collapsed": false,
    "pycharm": {
     "name": "#%%\n"
    }
   }
  },
  {
   "cell_type": "code",
   "execution_count": 22,
   "outputs": [
    {
     "data": {
      "text/plain": "[<matplotlib.lines.Line2D at 0x7f9130111a30>]"
     },
     "execution_count": 22,
     "metadata": {},
     "output_type": "execute_result"
    },
    {
     "data": {
      "text/plain": "<Figure size 1440x360 with 1 Axes>",
      "image/png": "[encoded data removed]"
     },
     "metadata": {
      "needs_background": "light"
     },
     "output_type": "display_data"
    }
   ],
   "source": [
    "plt.figure(figsize=(20,5))\n",
    "plt.plot(data_channel)\n",
    "#plt.plot(label_channel)"
   ],
   "metadata": {
    "collapsed": false,
    "pycharm": {
     "name": "#%%\n"
    }
   }
  },
  {
   "cell_type": "code",
   "execution_count": 23,
   "outputs": [
    {
     "data": {
      "text/plain": "[<matplotlib.lines.Line2D at 0x7f91941ed700>]"
     },
     "execution_count": 23,
     "metadata": {},
     "output_type": "execute_result"
    },
    {
     "data": {
      "text/plain": "<Figure size 1440x360 with 1 Axes>",
      "image/png": "[encoded data removed]"
     },
     "metadata": {
      "needs_background": "light"
     },
     "output_type": "display_data"
    }
   ],
   "source": [
    "plt.figure(figsize=(20,5))\n",
    "plt.plot(label_channel)\n",
    "#plt.plot(label_channel)"
   ],
   "metadata": {
    "collapsed": false,
    "pycharm": {
     "name": "#%%\n"
    }
   }
  },
  {
   "cell_type": "code",
   "execution_count": 7,
   "outputs": [
    {
     "data": {
      "text/plain": "array([0.00028375, 0.00028375, 0.00028396, ..., 0.0002846 , 0.00028439,\n       0.0002846 ])"
     },
     "execution_count": 7,
     "metadata": {},
     "output_type": "execute_result"
    }
   ],
   "source": [
    "data_channel"
   ],
   "metadata": {
    "collapsed": false,
    "pycharm": {
     "name": "#%%\n"
    }
   }
  },
  {
   "cell_type": "code",
   "execution_count": 8,
   "outputs": [],
   "source": [
    "meas = measurements[(measurements['TimeId'] >= 630) &  (measurements['TimeId'] <= 1626) & (measurements['DateId'] == 20211015)]"
   ],
   "metadata": {
    "collapsed": false,
    "pycharm": {
     "name": "#%%\n"
    }
   }
  },
  {
   "cell_type": "code",
   "execution_count": 9,
   "outputs": [],
   "source": [
    "filename = blob.replace('/', '_').split('.')[0] + '_ds_' + str(5)"
   ],
   "metadata": {
    "collapsed": false,
    "pycharm": {
     "name": "#%%\n"
    }
   }
  },
  {
   "cell_type": "code",
   "execution_count": 10,
   "outputs": [
    {
     "name": "stdout",
     "output_type": "stream",
     "text": [
      "Some files exist, not downloading again.\n",
      "100% complete      [==================================================]\n",
      "\n",
      "Reading dca6324634b1_20211014_raw_20211014T103516Z.raw.gz 1 of 1\n"
     ]
    }
   ],
   "source": [
    "blob_mgr = BlobManager(configuration='rclone')\n",
    "file_list = blob_mgr.download_blobs([blob], RAWDATA_CACHE_PATH, container='scouts')\n",
    "data, times = load_data_from_files(file_list, RAWDATA_CACHE_PATH)\n",
    "start_inds, stop_inds = get_start_and_stop(data, times)"
   ],
   "metadata": {
    "collapsed": false,
    "pycharm": {
     "name": "#%%\n"
    }
   }
  },
  {
   "cell_type": "code",
   "execution_count": 11,
   "outputs": [],
   "source": [
    "feat = fp.get_features(sessionid=1307, featureid=12)\n",
    "feat = feat[(feat['WavelengthId'] == '810') & (feat['SegmentId'] == 4)]\n",
    "feat = feat[feat['max'] > 30]\n",
    "feat['MeasurementId'] = feat['MeasurementId'].astype(int)\n",
    "insects = fp.get_insects(sessionid=1307, all_segments=True)\n",
    "insects = insects[insects['MeasurementId'].isin(meas['Id'])]\n",
    "insects = insects['MeasurementId'].isin(feat['MeasurementId'])"
   ],
   "metadata": {
    "collapsed": false,
    "pycharm": {
     "name": "#%%\n"
    }
   }
  },
  {
   "cell_type": "code",
   "execution_count": 12,
   "outputs": [],
   "source": [
    "def tight_cut(data, start_inds, stop_inds):\n",
    "    start_index = None\n",
    "    stop_index = None\n",
    "    for j in range(start_inds, stop_inds):\n",
    "        if start_index is not None:\n",
    "            break\n",
    "        if (int(np.max(data[j:j+100,7])) - int(data[j,7]) > 20) and start_index is None:\n",
    "            start_index = j\n",
    "\n",
    "    for j in range(stop_inds, start_inds,-1):\n",
    "        if stop_index is not None:\n",
    "            break\n",
    "        if (int(np.max(data[j-100:j,7])) - int(data[j,7]) > 20) and stop_index is None:\n",
    "            stop_index = j\n",
    "    if np.fabs(stop_index - start_index) > 20000:\n",
    "        return start_inds, stop_inds\n",
    "    return start_index, stop_index"
   ],
   "metadata": {
    "collapsed": false,
    "pycharm": {
     "name": "#%%\n"
    }
   }
  },
  {
   "cell_type": "code",
   "execution_count": 13,
   "outputs": [
    {
     "data": {
      "text/plain": "<Figure size 432x288 with 1 Axes>",
      "image/png": "[encoded data removed]"
     },
     "metadata": {
      "needs_background": "light"
     },
     "output_type": "display_data"
    }
   ],
   "source": [
    "start_index, stop_index = tight_cut(data, start_inds[0], stop_inds[0])\n",
    "\n",
    "plt.plot(data[start_index:stop_index,7])\n",
    "plt.show()"
   ],
   "metadata": {
    "collapsed": false,
    "pycharm": {
     "name": "#%%\n"
    }
   }
  },
  {
   "cell_type": "code",
   "execution_count": 14,
   "outputs": [
    {
     "ename": "IndexError",
     "evalue": "too many indices for array: array is 1-dimensional, but 2 were indexed",
     "output_type": "error",
     "traceback": [
      "\u001B[0;31m---------------------------------------------------------------------------\u001B[0m",
      "\u001B[0;31mIndexError\u001B[0m                                Traceback (most recent call last)",
      "\u001B[0;32m<ipython-input-14-6e5b8540c934>\u001B[0m in \u001B[0;36m<module>\u001B[0;34m\u001B[0m\n\u001B[1;32m      1\u001B[0m \u001B[0mstart_index\u001B[0m\u001B[0;34m,\u001B[0m \u001B[0mstop_index\u001B[0m \u001B[0;34m=\u001B[0m \u001B[0mtight_cut\u001B[0m\u001B[0;34m(\u001B[0m\u001B[0mdata\u001B[0m\u001B[0;34m,\u001B[0m \u001B[0mstart_inds\u001B[0m\u001B[0;34m[\u001B[0m\u001B[0;36m0\u001B[0m\u001B[0;34m]\u001B[0m\u001B[0;34m,\u001B[0m \u001B[0mstop_inds\u001B[0m\u001B[0;34m[\u001B[0m\u001B[0;36m0\u001B[0m\u001B[0;34m]\u001B[0m\u001B[0;34m)\u001B[0m\u001B[0;34m\u001B[0m\u001B[0;34m\u001B[0m\u001B[0m\n\u001B[1;32m      2\u001B[0m \u001B[0;34m\u001B[0m\u001B[0m\n\u001B[0;32m----> 3\u001B[0;31m \u001B[0mplt\u001B[0m\u001B[0;34m.\u001B[0m\u001B[0mplot\u001B[0m\u001B[0;34m(\u001B[0m\u001B[0mdata_channel\u001B[0m\u001B[0;34m[\u001B[0m\u001B[0mstart_index\u001B[0m\u001B[0;34m:\u001B[0m\u001B[0mstop_index\u001B[0m\u001B[0;34m,\u001B[0m\u001B[0;36m7\u001B[0m\u001B[0;34m]\u001B[0m\u001B[0;34m)\u001B[0m\u001B[0;34m\u001B[0m\u001B[0;34m\u001B[0m\u001B[0m\n\u001B[0m\u001B[1;32m      4\u001B[0m \u001B[0mplt\u001B[0m\u001B[0;34m.\u001B[0m\u001B[0mshow\u001B[0m\u001B[0;34m(\u001B[0m\u001B[0;34m)\u001B[0m\u001B[0;34m\u001B[0m\u001B[0;34m\u001B[0m\u001B[0m\n",
      "\u001B[0;31mIndexError\u001B[0m: too many indices for array: array is 1-dimensional, but 2 were indexed"
     ]
    }
   ],
   "source": [
    "start_index, stop_index = tight_cut(data, start_inds[0], stop_inds[0])\n",
    "\n",
    "plt.plot(data_channel[start_index:stop_index,7])\n",
    "plt.show()"
   ],
   "metadata": {
    "collapsed": false,
    "pycharm": {
     "name": "#%%\n"
    }
   }
  },
  {
   "cell_type": "code",
   "execution_count": null,
   "outputs": [],
   "source": [
    "for i, m_id in enumerate(meas['Id'].tolist()):\n",
    "    ev = fp.Event(m_id).fill()\n",
    "    ev.plot()\n",
    "    plt.show()"
   ],
   "metadata": {
    "collapsed": false,
    "pycharm": {
     "name": "#%%\n"
    }
   }
  },
  {
   "cell_type": "code",
   "execution_count": null,
   "outputs": [],
   "source": [
    "for i, m_id in enumerate(meas['Id'].tolist()):\n",
    "    start, stop = tight_cut(data, start_inds[i], stop_inds[i])\n",
    "    plt.plot(data[start:stop,7])\n",
    "    plt.show()"
   ],
   "metadata": {
    "collapsed": false,
    "pycharm": {
     "name": "#%%\n"
    }
   }
  },
  {
   "cell_type": "code",
   "execution_count": null,
   "outputs": [],
   "source": [
    "meas_id = [213082027,\n",
    "           213082028,\n",
    "           213082022,\n",
    "           213082023,\n",
    "           213082018,\n",
    "           213082020,\n",
    "           213082019,\n",
    "           213082035]"
   ],
   "metadata": {
    "collapsed": false,
    "pycharm": {
     "name": "#%%\n"
    }
   }
  },
  {
   "cell_type": "code",
   "execution_count": null,
   "outputs": [],
   "source": [
    "for m_id in meas_id:\n",
    "    ev = fp.Event(m_id).fill()\n",
    "    plt.plot(ev.data[7,:])\n",
    "    plt.show()"
   ],
   "metadata": {
    "collapsed": false,
    "pycharm": {
     "name": "#%%\n"
    }
   }
  }
 ],
 "metadata": {
  "kernelspec": {
   "name": "python385jvsc74a57bd04082b4c0ff6287cfc869426458e61daf0f96e72318d7dae093de8e29c11fa2fe",
   "language": "python",
   "display_name": "Python 3.8.5 64-bit ('fp_env': conda)"
  },
  "language_info": {
   "codemirror_mode": {
    "name": "ipython",
    "version": 2
   },
   "file_extension": ".py",
   "mimetype": "text/x-python",
   "name": "python",
   "nbconvert_exporter": "python",
   "pygments_lexer": "ipython2",
   "version": "2.7.6"
  }
 },
 "nbformat": 4,
 "nbformat_minor": 0
}